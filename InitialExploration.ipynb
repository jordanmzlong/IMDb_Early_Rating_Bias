{
 "cells": [
  {
   "cell_type": "code",
   "execution_count": 2,
   "id": "japanese-address",
   "metadata": {},
   "outputs": [],
   "source": [
    "import pandas as pd\n",
    "import numpy as np\n",
    "from matplotlib import pyplot as plt\n",
    "import seaborn as sns"
   ]
  },
  {
   "cell_type": "markdown",
   "id": "spatial-rebate",
   "metadata": {},
   "source": [
    "# Summary\n",
    "This notebook contains my initial data exploration. \n",
    "\n",
    "This includes basic visualizations of the main rating dataset, as well as joining this information to other IMDb datasets that may prove useful. These datasets include information on various titles for each movie (probably not useful), basic information on each movie (useful), and ratings for each movie (useful). \n",
    "\n",
    "The final output of this notebook is a smaller, cleaned and augmented csv file to be used for the actual prediction."
   ]
  },
  {
   "cell_type": "markdown",
   "id": "rough-evening",
   "metadata": {},
   "source": [
    "# Data"
   ]
  },
  {
   "cell_type": "markdown",
   "id": "collected-apparatus",
   "metadata": {},
   "source": [
    "We have a dataset of users, movie titles, ratings, and review dates. Each entry comes from a different review that the user posted. Note that there's a lot of selection there - some people are much more likely to post reviews than others."
   ]
  },
  {
   "cell_type": "code",
   "execution_count": 3,
   "id": "under-childhood",
   "metadata": {},
   "outputs": [],
   "source": [
    "raw_data = np.load(\"Dataset.npy\")"
   ]
  },
  {
   "cell_type": "code",
   "execution_count": 4,
   "id": "likely-hollywood",
   "metadata": {},
   "outputs": [
    {
     "data": {
      "text/plain": [
       "array(['ur4592644,tt0120884,10,16 January 2005',\n",
       "       'ur3174947,tt0118688,3,16 January 2005',\n",
       "       'ur3780035,tt0387887,8,16 January 2005', ...,\n",
       "       'ur4592639,tt0107423,9,16 January 2005',\n",
       "       'ur4581944,tt0102614,8,16 January 2005',\n",
       "       'ur1162550,tt0325596,7,16 January 2005'], dtype='<U43')"
      ]
     },
     "execution_count": 4,
     "metadata": {},
     "output_type": "execute_result"
    }
   ],
   "source": [
    "raw_data"
   ]
  },
  {
   "cell_type": "code",
   "execution_count": 5,
   "id": "loaded-valentine",
   "metadata": {},
   "outputs": [],
   "source": [
    "df = pd.DataFrame(raw_data)"
   ]
  },
  {
   "cell_type": "code",
   "execution_count": 6,
   "id": "gentle-communication",
   "metadata": {},
   "outputs": [
    {
     "data": {
      "text/html": [
       "<div>\n",
       "<style scoped>\n",
       "    .dataframe tbody tr th:only-of-type {\n",
       "        vertical-align: middle;\n",
       "    }\n",
       "\n",
       "    .dataframe tbody tr th {\n",
       "        vertical-align: top;\n",
       "    }\n",
       "\n",
       "    .dataframe thead th {\n",
       "        text-align: right;\n",
       "    }\n",
       "</style>\n",
       "<table border=\"1\" class=\"dataframe\">\n",
       "  <thead>\n",
       "    <tr style=\"text-align: right;\">\n",
       "      <th></th>\n",
       "      <th>0</th>\n",
       "    </tr>\n",
       "  </thead>\n",
       "  <tbody>\n",
       "    <tr>\n",
       "      <th>0</th>\n",
       "      <td>ur4592644,tt0120884,10,16 January 2005</td>\n",
       "    </tr>\n",
       "    <tr>\n",
       "      <th>1</th>\n",
       "      <td>ur3174947,tt0118688,3,16 January 2005</td>\n",
       "    </tr>\n",
       "    <tr>\n",
       "      <th>2</th>\n",
       "      <td>ur3780035,tt0387887,8,16 January 2005</td>\n",
       "    </tr>\n",
       "    <tr>\n",
       "      <th>3</th>\n",
       "      <td>ur4592628,tt0346491,1,16 January 2005</td>\n",
       "    </tr>\n",
       "    <tr>\n",
       "      <th>4</th>\n",
       "      <td>ur3174947,tt0094721,8,16 January 2005</td>\n",
       "    </tr>\n",
       "    <tr>\n",
       "      <th>...</th>\n",
       "      <td>...</td>\n",
       "    </tr>\n",
       "    <tr>\n",
       "      <th>4669815</th>\n",
       "      <td>ur0581842,tt0107977,6,16 January 2005</td>\n",
       "    </tr>\n",
       "    <tr>\n",
       "      <th>4669816</th>\n",
       "      <td>ur3174947,tt0103776,8,16 January 2005</td>\n",
       "    </tr>\n",
       "    <tr>\n",
       "      <th>4669817</th>\n",
       "      <td>ur4592639,tt0107423,9,16 January 2005</td>\n",
       "    </tr>\n",
       "    <tr>\n",
       "      <th>4669818</th>\n",
       "      <td>ur4581944,tt0102614,8,16 January 2005</td>\n",
       "    </tr>\n",
       "    <tr>\n",
       "      <th>4669819</th>\n",
       "      <td>ur1162550,tt0325596,7,16 January 2005</td>\n",
       "    </tr>\n",
       "  </tbody>\n",
       "</table>\n",
       "<p>4669820 rows × 1 columns</p>\n",
       "</div>"
      ],
      "text/plain": [
       "                                              0\n",
       "0        ur4592644,tt0120884,10,16 January 2005\n",
       "1         ur3174947,tt0118688,3,16 January 2005\n",
       "2         ur3780035,tt0387887,8,16 January 2005\n",
       "3         ur4592628,tt0346491,1,16 January 2005\n",
       "4         ur3174947,tt0094721,8,16 January 2005\n",
       "...                                         ...\n",
       "4669815   ur0581842,tt0107977,6,16 January 2005\n",
       "4669816   ur3174947,tt0103776,8,16 January 2005\n",
       "4669817   ur4592639,tt0107423,9,16 January 2005\n",
       "4669818   ur4581944,tt0102614,8,16 January 2005\n",
       "4669819   ur1162550,tt0325596,7,16 January 2005\n",
       "\n",
       "[4669820 rows x 1 columns]"
      ]
     },
     "execution_count": 6,
     "metadata": {},
     "output_type": "execute_result"
    }
   ],
   "source": [
    "df"
   ]
  },
  {
   "cell_type": "code",
   "execution_count": 7,
   "id": "educational-james",
   "metadata": {},
   "outputs": [],
   "source": [
    "split_df = df[0].str.split(',')"
   ]
  },
  {
   "cell_type": "code",
   "execution_count": 8,
   "id": "floating-motorcycle",
   "metadata": {},
   "outputs": [
    {
     "data": {
      "text/plain": [
       "0          [ur4592644, tt0120884, 10, 16 January 2005]\n",
       "1           [ur3174947, tt0118688, 3, 16 January 2005]\n",
       "2           [ur3780035, tt0387887, 8, 16 January 2005]\n",
       "3           [ur4592628, tt0346491, 1, 16 January 2005]\n",
       "4           [ur3174947, tt0094721, 8, 16 January 2005]\n",
       "                              ...                     \n",
       "4669815     [ur0581842, tt0107977, 6, 16 January 2005]\n",
       "4669816     [ur3174947, tt0103776, 8, 16 January 2005]\n",
       "4669817     [ur4592639, tt0107423, 9, 16 January 2005]\n",
       "4669818     [ur4581944, tt0102614, 8, 16 January 2005]\n",
       "4669819     [ur1162550, tt0325596, 7, 16 January 2005]\n",
       "Name: 0, Length: 4669820, dtype: object"
      ]
     },
     "execution_count": 8,
     "metadata": {},
     "output_type": "execute_result"
    }
   ],
   "source": [
    "split_df"
   ]
  },
  {
   "cell_type": "code",
   "execution_count": 9,
   "id": "adjustable-adjustment",
   "metadata": {},
   "outputs": [],
   "source": [
    "users = split_df.str.get(0)\n",
    "movies = split_df.str.get(1)\n",
    "rating = split_df.str.get(2)\n",
    "date = split_df.str.get(3)"
   ]
  },
  {
   "cell_type": "code",
   "execution_count": 10,
   "id": "nervous-passing",
   "metadata": {},
   "outputs": [],
   "source": [
    "clean_data = pd.concat([users, movies, rating, date], axis=1)"
   ]
  },
  {
   "cell_type": "code",
   "execution_count": 11,
   "id": "faced-analyst",
   "metadata": {},
   "outputs": [
    {
     "data": {
      "text/html": [
       "<div>\n",
       "<style scoped>\n",
       "    .dataframe tbody tr th:only-of-type {\n",
       "        vertical-align: middle;\n",
       "    }\n",
       "\n",
       "    .dataframe tbody tr th {\n",
       "        vertical-align: top;\n",
       "    }\n",
       "\n",
       "    .dataframe thead th {\n",
       "        text-align: right;\n",
       "    }\n",
       "</style>\n",
       "<table border=\"1\" class=\"dataframe\">\n",
       "  <thead>\n",
       "    <tr style=\"text-align: right;\">\n",
       "      <th></th>\n",
       "      <th>0</th>\n",
       "      <th>0</th>\n",
       "      <th>0</th>\n",
       "      <th>0</th>\n",
       "    </tr>\n",
       "  </thead>\n",
       "  <tbody>\n",
       "    <tr>\n",
       "      <th>0</th>\n",
       "      <td>ur4592644</td>\n",
       "      <td>tt0120884</td>\n",
       "      <td>10</td>\n",
       "      <td>16 January 2005</td>\n",
       "    </tr>\n",
       "    <tr>\n",
       "      <th>1</th>\n",
       "      <td>ur3174947</td>\n",
       "      <td>tt0118688</td>\n",
       "      <td>3</td>\n",
       "      <td>16 January 2005</td>\n",
       "    </tr>\n",
       "    <tr>\n",
       "      <th>2</th>\n",
       "      <td>ur3780035</td>\n",
       "      <td>tt0387887</td>\n",
       "      <td>8</td>\n",
       "      <td>16 January 2005</td>\n",
       "    </tr>\n",
       "    <tr>\n",
       "      <th>3</th>\n",
       "      <td>ur4592628</td>\n",
       "      <td>tt0346491</td>\n",
       "      <td>1</td>\n",
       "      <td>16 January 2005</td>\n",
       "    </tr>\n",
       "    <tr>\n",
       "      <th>4</th>\n",
       "      <td>ur3174947</td>\n",
       "      <td>tt0094721</td>\n",
       "      <td>8</td>\n",
       "      <td>16 January 2005</td>\n",
       "    </tr>\n",
       "    <tr>\n",
       "      <th>...</th>\n",
       "      <td>...</td>\n",
       "      <td>...</td>\n",
       "      <td>...</td>\n",
       "      <td>...</td>\n",
       "    </tr>\n",
       "    <tr>\n",
       "      <th>4669815</th>\n",
       "      <td>ur0581842</td>\n",
       "      <td>tt0107977</td>\n",
       "      <td>6</td>\n",
       "      <td>16 January 2005</td>\n",
       "    </tr>\n",
       "    <tr>\n",
       "      <th>4669816</th>\n",
       "      <td>ur3174947</td>\n",
       "      <td>tt0103776</td>\n",
       "      <td>8</td>\n",
       "      <td>16 January 2005</td>\n",
       "    </tr>\n",
       "    <tr>\n",
       "      <th>4669817</th>\n",
       "      <td>ur4592639</td>\n",
       "      <td>tt0107423</td>\n",
       "      <td>9</td>\n",
       "      <td>16 January 2005</td>\n",
       "    </tr>\n",
       "    <tr>\n",
       "      <th>4669818</th>\n",
       "      <td>ur4581944</td>\n",
       "      <td>tt0102614</td>\n",
       "      <td>8</td>\n",
       "      <td>16 January 2005</td>\n",
       "    </tr>\n",
       "    <tr>\n",
       "      <th>4669819</th>\n",
       "      <td>ur1162550</td>\n",
       "      <td>tt0325596</td>\n",
       "      <td>7</td>\n",
       "      <td>16 January 2005</td>\n",
       "    </tr>\n",
       "  </tbody>\n",
       "</table>\n",
       "<p>4669820 rows × 4 columns</p>\n",
       "</div>"
      ],
      "text/plain": [
       "                 0          0   0                0\n",
       "0        ur4592644  tt0120884  10  16 January 2005\n",
       "1        ur3174947  tt0118688   3  16 January 2005\n",
       "2        ur3780035  tt0387887   8  16 January 2005\n",
       "3        ur4592628  tt0346491   1  16 January 2005\n",
       "4        ur3174947  tt0094721   8  16 January 2005\n",
       "...            ...        ...  ..              ...\n",
       "4669815  ur0581842  tt0107977   6  16 January 2005\n",
       "4669816  ur3174947  tt0103776   8  16 January 2005\n",
       "4669817  ur4592639  tt0107423   9  16 January 2005\n",
       "4669818  ur4581944  tt0102614   8  16 January 2005\n",
       "4669819  ur1162550  tt0325596   7  16 January 2005\n",
       "\n",
       "[4669820 rows x 4 columns]"
      ]
     },
     "execution_count": 11,
     "metadata": {},
     "output_type": "execute_result"
    }
   ],
   "source": [
    "clean_data"
   ]
  },
  {
   "cell_type": "code",
   "execution_count": 12,
   "id": "unavailable-nitrogen",
   "metadata": {},
   "outputs": [],
   "source": [
    "clean_data.columns = [\"user\", \"movie\", \"rating\", \"date\"]"
   ]
  },
  {
   "cell_type": "code",
   "execution_count": 13,
   "id": "apart-clause",
   "metadata": {},
   "outputs": [
    {
     "data": {
      "text/html": [
       "<div>\n",
       "<style scoped>\n",
       "    .dataframe tbody tr th:only-of-type {\n",
       "        vertical-align: middle;\n",
       "    }\n",
       "\n",
       "    .dataframe tbody tr th {\n",
       "        vertical-align: top;\n",
       "    }\n",
       "\n",
       "    .dataframe thead th {\n",
       "        text-align: right;\n",
       "    }\n",
       "</style>\n",
       "<table border=\"1\" class=\"dataframe\">\n",
       "  <thead>\n",
       "    <tr style=\"text-align: right;\">\n",
       "      <th></th>\n",
       "      <th>user</th>\n",
       "      <th>movie</th>\n",
       "      <th>rating</th>\n",
       "      <th>date</th>\n",
       "    </tr>\n",
       "  </thead>\n",
       "  <tbody>\n",
       "    <tr>\n",
       "      <th>0</th>\n",
       "      <td>ur4592644</td>\n",
       "      <td>tt0120884</td>\n",
       "      <td>10</td>\n",
       "      <td>16 January 2005</td>\n",
       "    </tr>\n",
       "    <tr>\n",
       "      <th>1</th>\n",
       "      <td>ur3174947</td>\n",
       "      <td>tt0118688</td>\n",
       "      <td>3</td>\n",
       "      <td>16 January 2005</td>\n",
       "    </tr>\n",
       "    <tr>\n",
       "      <th>2</th>\n",
       "      <td>ur3780035</td>\n",
       "      <td>tt0387887</td>\n",
       "      <td>8</td>\n",
       "      <td>16 January 2005</td>\n",
       "    </tr>\n",
       "    <tr>\n",
       "      <th>3</th>\n",
       "      <td>ur4592628</td>\n",
       "      <td>tt0346491</td>\n",
       "      <td>1</td>\n",
       "      <td>16 January 2005</td>\n",
       "    </tr>\n",
       "    <tr>\n",
       "      <th>4</th>\n",
       "      <td>ur3174947</td>\n",
       "      <td>tt0094721</td>\n",
       "      <td>8</td>\n",
       "      <td>16 January 2005</td>\n",
       "    </tr>\n",
       "    <tr>\n",
       "      <th>...</th>\n",
       "      <td>...</td>\n",
       "      <td>...</td>\n",
       "      <td>...</td>\n",
       "      <td>...</td>\n",
       "    </tr>\n",
       "    <tr>\n",
       "      <th>4669815</th>\n",
       "      <td>ur0581842</td>\n",
       "      <td>tt0107977</td>\n",
       "      <td>6</td>\n",
       "      <td>16 January 2005</td>\n",
       "    </tr>\n",
       "    <tr>\n",
       "      <th>4669816</th>\n",
       "      <td>ur3174947</td>\n",
       "      <td>tt0103776</td>\n",
       "      <td>8</td>\n",
       "      <td>16 January 2005</td>\n",
       "    </tr>\n",
       "    <tr>\n",
       "      <th>4669817</th>\n",
       "      <td>ur4592639</td>\n",
       "      <td>tt0107423</td>\n",
       "      <td>9</td>\n",
       "      <td>16 January 2005</td>\n",
       "    </tr>\n",
       "    <tr>\n",
       "      <th>4669818</th>\n",
       "      <td>ur4581944</td>\n",
       "      <td>tt0102614</td>\n",
       "      <td>8</td>\n",
       "      <td>16 January 2005</td>\n",
       "    </tr>\n",
       "    <tr>\n",
       "      <th>4669819</th>\n",
       "      <td>ur1162550</td>\n",
       "      <td>tt0325596</td>\n",
       "      <td>7</td>\n",
       "      <td>16 January 2005</td>\n",
       "    </tr>\n",
       "  </tbody>\n",
       "</table>\n",
       "<p>4669820 rows × 4 columns</p>\n",
       "</div>"
      ],
      "text/plain": [
       "              user      movie rating             date\n",
       "0        ur4592644  tt0120884     10  16 January 2005\n",
       "1        ur3174947  tt0118688      3  16 January 2005\n",
       "2        ur3780035  tt0387887      8  16 January 2005\n",
       "3        ur4592628  tt0346491      1  16 January 2005\n",
       "4        ur3174947  tt0094721      8  16 January 2005\n",
       "...            ...        ...    ...              ...\n",
       "4669815  ur0581842  tt0107977      6  16 January 2005\n",
       "4669816  ur3174947  tt0103776      8  16 January 2005\n",
       "4669817  ur4592639  tt0107423      9  16 January 2005\n",
       "4669818  ur4581944  tt0102614      8  16 January 2005\n",
       "4669819  ur1162550  tt0325596      7  16 January 2005\n",
       "\n",
       "[4669820 rows x 4 columns]"
      ]
     },
     "execution_count": 13,
     "metadata": {},
     "output_type": "execute_result"
    }
   ],
   "source": [
    "clean_data"
   ]
  },
  {
   "cell_type": "markdown",
   "id": "visible-compromise",
   "metadata": {},
   "source": [
    "Data is formatted and ready to go!"
   ]
  },
  {
   "cell_type": "code",
   "execution_count": 14,
   "id": "flexible-racing",
   "metadata": {},
   "outputs": [],
   "source": [
    "d = clean_data # quick name for reference"
   ]
  },
  {
   "cell_type": "markdown",
   "id": "gorgeous-necessity",
   "metadata": {},
   "source": [
    "# EDA on User"
   ]
  },
  {
   "cell_type": "code",
   "execution_count": 15,
   "id": "arabic-return",
   "metadata": {},
   "outputs": [
    {
     "data": {
      "text/html": [
       "<div>\n",
       "<style scoped>\n",
       "    .dataframe tbody tr th:only-of-type {\n",
       "        vertical-align: middle;\n",
       "    }\n",
       "\n",
       "    .dataframe tbody tr th {\n",
       "        vertical-align: top;\n",
       "    }\n",
       "\n",
       "    .dataframe thead th {\n",
       "        text-align: right;\n",
       "    }\n",
       "</style>\n",
       "<table border=\"1\" class=\"dataframe\">\n",
       "  <thead>\n",
       "    <tr style=\"text-align: right;\">\n",
       "      <th></th>\n",
       "      <th>user</th>\n",
       "      <th>movie</th>\n",
       "      <th>rating</th>\n",
       "      <th>date</th>\n",
       "    </tr>\n",
       "  </thead>\n",
       "  <tbody>\n",
       "    <tr>\n",
       "      <th>count</th>\n",
       "      <td>4669820</td>\n",
       "      <td>4669820</td>\n",
       "      <td>4669820</td>\n",
       "      <td>4669820</td>\n",
       "    </tr>\n",
       "    <tr>\n",
       "      <th>unique</th>\n",
       "      <td>1499238</td>\n",
       "      <td>351109</td>\n",
       "      <td>10</td>\n",
       "      <td>8028</td>\n",
       "    </tr>\n",
       "    <tr>\n",
       "      <th>top</th>\n",
       "      <td>ur2467618</td>\n",
       "      <td>tt7286456</td>\n",
       "      <td>10</td>\n",
       "      <td>20 May 2019</td>\n",
       "    </tr>\n",
       "    <tr>\n",
       "      <th>freq</th>\n",
       "      <td>24145</td>\n",
       "      <td>10534</td>\n",
       "      <td>1122764</td>\n",
       "      <td>7291</td>\n",
       "    </tr>\n",
       "  </tbody>\n",
       "</table>\n",
       "</div>"
      ],
      "text/plain": [
       "             user      movie   rating         date\n",
       "count     4669820    4669820  4669820      4669820\n",
       "unique    1499238     351109       10         8028\n",
       "top     ur2467618  tt7286456       10  20 May 2019\n",
       "freq        24145      10534  1122764         7291"
      ]
     },
     "execution_count": 15,
     "metadata": {},
     "output_type": "execute_result"
    }
   ],
   "source": [
    "clean_data.describe()"
   ]
  },
  {
   "cell_type": "markdown",
   "id": "inclusive-vancouver",
   "metadata": {},
   "source": [
    "We have 4.6 million observations"
   ]
  },
  {
   "cell_type": "markdown",
   "id": "limited-silver",
   "metadata": {},
   "source": [
    "So we have about 1.5 million unique users - that's an average of 3 ratings per user"
   ]
  },
  {
   "cell_type": "markdown",
   "id": "bored-permit",
   "metadata": {},
   "source": [
    "What's the distribution of ratings per user?"
   ]
  },
  {
   "cell_type": "code",
   "execution_count": 15,
   "id": "three-month",
   "metadata": {},
   "outputs": [],
   "source": [
    "user_review_counts = d.groupby(\"user\")[\"rating\"].count().sort_values(ascending=False)"
   ]
  },
  {
   "cell_type": "code",
   "execution_count": 16,
   "id": "cross-accessory",
   "metadata": {},
   "outputs": [
    {
     "data": {
      "text/plain": [
       "user\n",
       "ur2467618     24145\n",
       "ur20552756    16817\n",
       "ur2483625     16715\n",
       "ur0482513     13213\n",
       "ur2898520     12677\n",
       "              ...  \n",
       "ur22600516        1\n",
       "ur22600495        1\n",
       "ur22600464        1\n",
       "ur22600217        1\n",
       "ur9999988         1\n",
       "Name: rating, Length: 1499238, dtype: int64"
      ]
     },
     "execution_count": 16,
     "metadata": {},
     "output_type": "execute_result"
    }
   ],
   "source": [
    "user_review_counts"
   ]
  },
  {
   "cell_type": "code",
   "execution_count": 17,
   "id": "arranged-myrtle",
   "metadata": {},
   "outputs": [
    {
     "data": {
      "text/plain": [
       "count    1.499238e+06\n",
       "mean     3.114796e+00\n",
       "std      4.934654e+01\n",
       "min      1.000000e+00\n",
       "25%      1.000000e+00\n",
       "50%      1.000000e+00\n",
       "75%      2.000000e+00\n",
       "max      2.414500e+04\n",
       "Name: rating, dtype: float64"
      ]
     },
     "execution_count": 17,
     "metadata": {},
     "output_type": "execute_result"
    }
   ],
   "source": [
    "user_review_counts.describe()"
   ]
  },
  {
   "cell_type": "markdown",
   "id": "level-attendance",
   "metadata": {},
   "source": [
    "So 3 quarters of our users leave 2 or fewer reviews"
   ]
  },
  {
   "cell_type": "code",
   "execution_count": 18,
   "id": "studied-liability",
   "metadata": {},
   "outputs": [
    {
     "data": {
      "text/plain": [
       "49505"
      ]
     },
     "execution_count": 18,
     "metadata": {},
     "output_type": "execute_result"
    }
   ],
   "source": [
    "(user_review_counts >= 10).sum()"
   ]
  },
  {
   "cell_type": "markdown",
   "id": "muslim-species",
   "metadata": {},
   "source": [
    "Only 50,000 users leave 10 or more reviews"
   ]
  },
  {
   "cell_type": "markdown",
   "id": "fleet-migration",
   "metadata": {},
   "source": [
    "How do these users differ from the norm?"
   ]
  },
  {
   "cell_type": "code",
   "execution_count": 19,
   "id": "stupid-therapy",
   "metadata": {},
   "outputs": [
    {
     "data": {
      "text/plain": [
       "user\n",
       "ur2467618     24145\n",
       "ur20552756    16817\n",
       "ur2483625     16715\n",
       "ur0482513     13213\n",
       "ur2898520     12677\n",
       "ur0278527      9738\n",
       "ur3914439      9715\n",
       "ur2488512      8885\n",
       "ur1617546      8845\n",
       "ur0968789      7454\n",
       "ur4569900      7025\n",
       "ur77881167     6805\n",
       "ur5876717      6263\n",
       "ur1234929      6212\n",
       "ur4445210      5976\n",
       "ur4248714      5895\n",
       "ur8239592      5775\n",
       "ur4888011      5708\n",
       "ur2707735      5661\n",
       "ur13977076     5653\n",
       "Name: rating, dtype: int64"
      ]
     },
     "execution_count": 19,
     "metadata": {},
     "output_type": "execute_result"
    }
   ],
   "source": [
    "user_review_counts.head(20) # wow. Imagine leaving more than 1000 reviews"
   ]
  },
  {
   "cell_type": "code",
   "execution_count": 20,
   "id": "ultimate-union",
   "metadata": {},
   "outputs": [
    {
     "data": {
      "text/plain": [
       "235"
      ]
     },
     "execution_count": 20,
     "metadata": {},
     "output_type": "execute_result"
    }
   ],
   "source": [
    "(user_review_counts > 1000).sum()"
   ]
  },
  {
   "cell_type": "code",
   "execution_count": 29,
   "id": "assured-spiritual",
   "metadata": {},
   "outputs": [
    {
     "data": {
      "text/plain": [
       "3153"
      ]
     },
     "execution_count": 29,
     "metadata": {},
     "output_type": "execute_result"
    }
   ],
   "source": [
    "(user_review_counts > 100).sum()"
   ]
  },
  {
   "cell_type": "markdown",
   "id": "australian-desperate",
   "metadata": {},
   "source": [
    "So in summary, we have 235 ppl with over 1000 reviews, 3k ppl with over 100 reviews, 50k ppl with over 10 reviews, and 1.6 million reviewers in total"
   ]
  },
  {
   "cell_type": "markdown",
   "id": "extensive-correspondence",
   "metadata": {},
   "source": [
    "Zooming in on one user"
   ]
  },
  {
   "cell_type": "code",
   "execution_count": 21,
   "id": "forbidden-fundamental",
   "metadata": {},
   "outputs": [],
   "source": [
    "superuser = clean_data[clean_data[\"user\"] == \"ur2467618\"]"
   ]
  },
  {
   "cell_type": "code",
   "execution_count": 359,
   "id": "apart-demographic",
   "metadata": {},
   "outputs": [],
   "source": [
    "superuser_dates = pd.to_datetime(superuser[\"date\"])#.groupby(\"date\").count().plot()"
   ]
  },
  {
   "cell_type": "code",
   "execution_count": 362,
   "id": "polished-filter",
   "metadata": {},
   "outputs": [
    {
     "data": {
      "text/plain": [
       "<AxesSubplot:>"
      ]
     },
     "execution_count": 362,
     "metadata": {},
     "output_type": "execute_result"
    },
    {
     "data": {
      "image/png": "[encoded data removed]",
      "text/plain": [
       "<Figure size 432x288 with 1 Axes>"
      ]
     },
     "metadata": {
      "needs_background": "light"
     },
     "output_type": "display_data"
    }
   ],
   "source": [
    "superuser_dates.value_counts().plot()"
   ]
  },
  {
   "cell_type": "markdown",
   "id": "romantic-proof",
   "metadata": {},
   "source": [
    "Looked at their imdb profile - wow, this person seems legit\n",
    "\n",
    "Edit: same with the person in second place, I'm guessing imdb does their own bot detection which is nice"
   ]
  },
  {
   "cell_type": "markdown",
   "id": "thermal-trout",
   "metadata": {},
   "source": [
    "How many ratings would they have had to do a day?"
   ]
  },
  {
   "cell_type": "code",
   "execution_count": 23,
   "id": "portuguese-trade",
   "metadata": {},
   "outputs": [
    {
     "data": {
      "text/plain": [
       "count    4560.000000\n",
       "mean        5.294956\n",
       "std         4.362100\n",
       "min         1.000000\n",
       "25%         2.000000\n",
       "50%         4.000000\n",
       "75%         7.000000\n",
       "max        46.000000\n",
       "Name: rating, dtype: float64"
      ]
     },
     "execution_count": 23,
     "metadata": {},
     "output_type": "execute_result"
    }
   ],
   "source": [
    "superuser.groupby(\"date\").count()[\"rating\"].describe()"
   ]
  },
  {
   "cell_type": "code",
   "execution_count": 24,
   "id": "unknown-willow",
   "metadata": {},
   "outputs": [
    {
     "data": {
      "text/plain": [
       "user      5.294956\n",
       "movie     5.294956\n",
       "rating    5.294956\n",
       "date      5.294956\n",
       "dtype: float64"
      ]
     },
     "execution_count": 24,
     "metadata": {},
     "output_type": "execute_result"
    }
   ],
   "source": [
    "superuser.groupby(date).count().mean()"
   ]
  },
  {
   "cell_type": "markdown",
   "id": "trying-mozambique",
   "metadata": {},
   "source": [
    "So in summary, we've got a skewed distribution of users leaving ratings. That's all fine."
   ]
  },
  {
   "cell_type": "markdown",
   "id": "opening-queens",
   "metadata": {},
   "source": [
    "What about users who rate a lot of movies on the same day?"
   ]
  },
  {
   "cell_type": "code",
   "execution_count": 52,
   "id": "british-civilization",
   "metadata": {},
   "outputs": [],
   "source": [
    "user_day_ratings = d.groupby(\"userdate\")[\"rating\"].count()"
   ]
  },
  {
   "cell_type": "code",
   "execution_count": 54,
   "id": "bacterial-ending",
   "metadata": {},
   "outputs": [
    {
     "data": {
      "text/plain": [
       "userdate\n",
       "ur4394928820 July 2019        442\n",
       "ur7606257331 March 2020       245\n",
       "ur161610134 March 2008        236\n",
       "ur6266043118 February 2019    231\n",
       "ur7606257314 June 2020        230\n",
       "                             ... \n",
       "ur198009226 April 2004          1\n",
       "ur198009226 April 2016          1\n",
       "ur198009226 August 2014         1\n",
       "ur198009226 August 2019         1\n",
       "ur999998817 October 2008        1\n",
       "Name: rating, Length: 3726437, dtype: int64"
      ]
     },
     "execution_count": 54,
     "metadata": {},
     "output_type": "execute_result"
    }
   ],
   "source": [
    "user_day_ratings.sort_values(ascending=False)"
   ]
  },
  {
   "cell_type": "markdown",
   "id": "later-surgery",
   "metadata": {},
   "source": [
    "Looked into the first one - they seem to be legit ratings, probably just a dump of this person's opinions"
   ]
  },
  {
   "cell_type": "code",
   "execution_count": 56,
   "id": "reported-northern",
   "metadata": {},
   "outputs": [
    {
     "data": {
      "text/plain": [
       "54"
      ]
     },
     "execution_count": 56,
     "metadata": {},
     "output_type": "execute_result"
    }
   ],
   "source": [
    "(user_day_ratings > 100).sum()"
   ]
  },
  {
   "cell_type": "code",
   "execution_count": 58,
   "id": "functioning-conversation",
   "metadata": {},
   "outputs": [
    {
     "data": {
      "text/plain": [
       "8574"
      ]
     },
     "execution_count": 58,
     "metadata": {},
     "output_type": "execute_result"
    }
   ],
   "source": [
    "(user_day_ratings > 10).sum()"
   ]
  },
  {
   "cell_type": "code",
   "execution_count": 59,
   "id": "capable-mapping",
   "metadata": {},
   "outputs": [
    {
     "data": {
      "text/plain": [
       "count    3.726437e+06\n",
       "mean     1.253160e+00\n",
       "std      1.358310e+00\n",
       "min      1.000000e+00\n",
       "25%      1.000000e+00\n",
       "50%      1.000000e+00\n",
       "75%      1.000000e+00\n",
       "max      4.420000e+02\n",
       "Name: rating, dtype: float64"
      ]
     },
     "execution_count": 59,
     "metadata": {},
     "output_type": "execute_result"
    }
   ],
   "source": [
    "user_day_ratings.describe()"
   ]
  },
  {
   "cell_type": "markdown",
   "id": "resident-metropolitan",
   "metadata": {},
   "source": [
    "What do mean ratings tend to be?"
   ]
  },
  {
   "cell_type": "code",
   "execution_count": 66,
   "id": "hawaiian-measure",
   "metadata": {},
   "outputs": [],
   "source": [
    "d[\"rating\"] = d[\"rating\"].astype(int)"
   ]
  },
  {
   "cell_type": "code",
   "execution_count": 67,
   "id": "widespread-hartford",
   "metadata": {},
   "outputs": [],
   "source": [
    "user_ratings = d.groupby(\"user\")[\"rating\"].mean()"
   ]
  },
  {
   "cell_type": "code",
   "execution_count": 69,
   "id": "outside-cream",
   "metadata": {},
   "outputs": [],
   "source": [
    "user_ratings.sort_values(ascending=False, inplace=True)"
   ]
  },
  {
   "cell_type": "code",
   "execution_count": 71,
   "id": "certified-gathering",
   "metadata": {},
   "outputs": [
    {
     "data": {
      "text/plain": [
       "<AxesSubplot:xlabel='user'>"
      ]
     },
     "execution_count": 71,
     "metadata": {},
     "output_type": "execute_result"
    },
    {
     "data": {
      "image/png": "[encoded data removed]",
      "text/plain": [
       "<Figure size 432x288 with 1 Axes>"
      ]
     },
     "metadata": {
      "needs_background": "light"
     },
     "output_type": "display_data"
    }
   ],
   "source": [
    "user_ratings.plot()"
   ]
  },
  {
   "cell_type": "code",
   "execution_count": 72,
   "id": "strategic-analyst",
   "metadata": {},
   "outputs": [
    {
     "data": {
      "text/plain": [
       "count    1.499238e+06\n",
       "mean     6.961151e+00\n",
       "std      3.189579e+00\n",
       "min      1.000000e+00\n",
       "25%      5.000000e+00\n",
       "50%      8.000000e+00\n",
       "75%      1.000000e+01\n",
       "max      1.000000e+01\n",
       "Name: rating, dtype: float64"
      ]
     },
     "execution_count": 72,
     "metadata": {},
     "output_type": "execute_result"
    }
   ],
   "source": [
    "user_ratings.describe()"
   ]
  },
  {
   "cell_type": "markdown",
   "id": "assisted-reputation",
   "metadata": {},
   "source": [
    "So a quarter of people give an average rating of 10, the median is 8, and a quarter give ratings of 5 or less"
   ]
  },
  {
   "cell_type": "markdown",
   "id": "instrumental-newman",
   "metadata": {},
   "source": [
    "That's actually surprising, considering scores on imdb are typically a lot lower than 8 - definitely some selection bias"
   ]
  },
  {
   "cell_type": "markdown",
   "id": "comic-steps",
   "metadata": {},
   "source": [
    "What's the rating distribution like for people who leave a lot of ratings?"
   ]
  },
  {
   "cell_type": "code",
   "execution_count": 364,
   "id": "finnish-indianapolis",
   "metadata": {},
   "outputs": [
    {
     "data": {
      "text/plain": [
       "user\n",
       "ur68326527    10.0\n",
       "ur90801764    10.0\n",
       "ur52234690    10.0\n",
       "ur1673306     10.0\n",
       "ur1653550     10.0\n",
       "              ... \n",
       "ur48973212     1.0\n",
       "ur47732822     1.0\n",
       "ur19489421     1.0\n",
       "ur19925240     1.0\n",
       "ur22666585     1.0\n",
       "Name: rating, Length: 43725, dtype: float64"
      ]
     },
     "execution_count": 364,
     "metadata": {},
     "output_type": "execute_result"
    }
   ],
   "source": [
    "user_ratings[user_review_counts > 10].describe()"
   ]
  },
  {
   "cell_type": "code",
   "execution_count": 365,
   "id": "continuing-tonight",
   "metadata": {},
   "outputs": [
    {
     "data": {
      "text/plain": [
       "count    43725.000000\n",
       "mean         6.656350\n",
       "std          1.637083\n",
       "min          1.000000\n",
       "25%          5.650000\n",
       "50%          6.800000\n",
       "75%          7.800000\n",
       "max         10.000000\n",
       "Name: rating, dtype: float64"
      ]
     },
     "execution_count": 365,
     "metadata": {},
     "output_type": "execute_result"
    }
   ],
   "source": [
    "user_ratings[user_review_counts > 10].describe()"
   ]
  },
  {
   "cell_type": "code",
   "execution_count": 74,
   "id": "rolled-declaration",
   "metadata": {},
   "outputs": [
    {
     "data": {
      "text/plain": [
       "count    4.669820e+06\n",
       "mean     6.758660e+00\n",
       "std      2.978028e+00\n",
       "min      1.000000e+00\n",
       "25%      5.000000e+00\n",
       "50%      8.000000e+00\n",
       "75%      9.000000e+00\n",
       "max      1.000000e+01\n",
       "Name: rating, dtype: float64"
      ]
     },
     "execution_count": 74,
     "metadata": {},
     "output_type": "execute_result"
    }
   ],
   "source": [
    "d[\"rating\"].describe()"
   ]
  },
  {
   "cell_type": "markdown",
   "id": "right-contrast",
   "metadata": {},
   "source": [
    "So the ratings distribution is kind of similar"
   ]
  },
  {
   "cell_type": "markdown",
   "id": "partial-shock",
   "metadata": {},
   "source": [
    "How many duplicated movies per user?"
   ]
  },
  {
   "cell_type": "code",
   "execution_count": 16,
   "id": "resistant-royalty",
   "metadata": {},
   "outputs": [],
   "source": [
    "duped_user_movie = (d.groupby(\"user\")[\"movie\"].count() - d.groupby(\"user\")[\"movie\"].nunique())"
   ]
  },
  {
   "cell_type": "code",
   "execution_count": 145,
   "id": "ready-background",
   "metadata": {},
   "outputs": [
    {
     "data": {
      "text/plain": [
       "16216"
      ]
     },
     "execution_count": 145,
     "metadata": {},
     "output_type": "execute_result"
    }
   ],
   "source": [
    "(duped_user_movie > 0).sum()"
   ]
  },
  {
   "cell_type": "code",
   "execution_count": 19,
   "id": "constant-arctic",
   "metadata": {},
   "outputs": [
    {
     "data": {
      "text/plain": [
       "2552"
      ]
     },
     "execution_count": 19,
     "metadata": {},
     "output_type": "execute_result"
    }
   ],
   "source": [
    "(duped_user_movie > 1).sum()"
   ]
  },
  {
   "cell_type": "code",
   "execution_count": 18,
   "id": "appointed-christmas",
   "metadata": {},
   "outputs": [
    {
     "data": {
      "text/plain": [
       "0.010816161276595177"
      ]
     },
     "execution_count": 18,
     "metadata": {},
     "output_type": "execute_result"
    }
   ],
   "source": [
    "16216 / len(duped_user_movie)"
   ]
  },
  {
   "cell_type": "markdown",
   "id": "numerous-azerbaijan",
   "metadata": {},
   "source": [
    "So 1% of users leave multiple reviews on the same movie"
   ]
  },
  {
   "cell_type": "code",
   "execution_count": null,
   "id": "raised-education",
   "metadata": {},
   "outputs": [],
   "source": [
    "duped_user_movie.describe()"
   ]
  },
  {
   "cell_type": "markdown",
   "id": "brown-powder",
   "metadata": {},
   "source": [
    "seems like it's not too big a deal, no more than 6 reviews for a film"
   ]
  },
  {
   "cell_type": "markdown",
   "id": "collective-strip",
   "metadata": {},
   "source": [
    "# That's enough of users - let's talk about dates!"
   ]
  },
  {
   "cell_type": "code",
   "execution_count": 78,
   "id": "opponent-trainer",
   "metadata": {},
   "outputs": [],
   "source": [
    "d[\"date\"] = d[\"date\"].astype(np.datetime64)"
   ]
  },
  {
   "cell_type": "code",
   "execution_count": 79,
   "id": "signed-darkness",
   "metadata": {},
   "outputs": [
    {
     "name": "stderr",
     "output_type": "stream",
     "text": [
      "<ipython-input-79-23d96a13a73f>:1: FutureWarning: Treating datetime data as categorical rather than numeric in `.describe` is deprecated and will be removed in a future version of pandas. Specify `datetime_is_numeric=True` to silence this warning and adopt the future behavior now.\n",
      "  d[\"date\"].describe()\n"
     ]
    },
    {
     "data": {
      "text/plain": [
       "count                 4669820\n",
       "unique                   8028\n",
       "top       2019-05-20 00:00:00\n",
       "freq                     7291\n",
       "first     1998-07-27 00:00:00\n",
       "last      2020-12-03 00:00:00\n",
       "Name: date, dtype: object"
      ]
     },
     "execution_count": 79,
     "metadata": {},
     "output_type": "execute_result"
    }
   ],
   "source": [
    "d[\"date\"].describe()"
   ]
  },
  {
   "cell_type": "markdown",
   "id": "incorporate-cabinet",
   "metadata": {},
   "source": [
    "So we have observations spanning from July 1998 to December 3 2020"
   ]
  },
  {
   "cell_type": "code",
   "execution_count": 82,
   "id": "billion-klein",
   "metadata": {},
   "outputs": [
    {
     "data": {
      "text/plain": [
       "8030"
      ]
     },
     "execution_count": 82,
     "metadata": {},
     "output_type": "execute_result"
    }
   ],
   "source": [
    "22*365 # days between December 3 1998 and December 3 2020 roughly"
   ]
  },
  {
   "cell_type": "markdown",
   "id": "delayed-raising",
   "metadata": {},
   "source": [
    "So we have pretty much every day represented"
   ]
  },
  {
   "cell_type": "code",
   "execution_count": 369,
   "id": "golden-vancouver",
   "metadata": {},
   "outputs": [],
   "source": [
    "import matplotlib.pyplot as plt\n",
    "plt.rcParams['figure.figsize'] = [10, 10]"
   ]
  },
  {
   "cell_type": "code",
   "execution_count": 372,
   "id": "supported-remark",
   "metadata": {},
   "outputs": [
    {
     "data": {
      "text/plain": [
       "<AxesSubplot:title={'center':'Number of Ratings over Time'}, xlabel='date', ylabel='num_ratings'>"
      ]
     },
     "execution_count": 372,
     "metadata": {},
     "output_type": "execute_result"
    },
    {
     "data": {
      "image/png": "[encoded data removed]",
      "text/plain": [
       "<Figure size 720x720 with 1 Axes>"
      ]
     },
     "metadata": {
      "needs_background": "light"
     },
     "output_type": "display_data"
    }
   ],
   "source": [
    "d.groupby(\"date\")[\"rating\"].count().plot(ylabel=\"num_ratings\", title=\"Number of Ratings over Time\")"
   ]
  },
  {
   "cell_type": "markdown",
   "id": "reasonable-tomato",
   "metadata": {},
   "source": [
    "So we have way more ratings 2018 onwards, and another boost in 2005, and a couple crazy days in 2020"
   ]
  },
  {
   "cell_type": "code",
   "execution_count": 86,
   "id": "noticed-burning",
   "metadata": {},
   "outputs": [
    {
     "data": {
      "text/plain": [
       "<AxesSubplot:xlabel='date'>"
      ]
     },
     "execution_count": 86,
     "metadata": {},
     "output_type": "execute_result"
    },
    {
     "data": {
      "image/png": "[encoded data removed]",
      "text/plain": [
       "<Figure size 432x288 with 1 Axes>"
      ]
     },
     "metadata": {
      "needs_background": "light"
     },
     "output_type": "display_data"
    }
   ],
   "source": [
    "d.groupby(\"date\")[\"rating\"].count().rolling(10).mean().plot()"
   ]
  },
  {
   "cell_type": "code",
   "execution_count": 92,
   "id": "aging-distance",
   "metadata": {},
   "outputs": [],
   "source": [
    "from datetime import datetime"
   ]
  },
  {
   "cell_type": "code",
   "execution_count": 109,
   "id": "classical-karaoke",
   "metadata": {},
   "outputs": [
    {
     "data": {
      "text/plain": [
       "799864"
      ]
     },
     "execution_count": 109,
     "metadata": {},
     "output_type": "execute_result"
    }
   ],
   "source": [
    "(d[\"date\"] > datetime(2020,1,1)).sum()"
   ]
  },
  {
   "cell_type": "markdown",
   "id": "brown-lemon",
   "metadata": {},
   "source": [
    "I wonder how the distribution is by year"
   ]
  },
  {
   "cell_type": "code",
   "execution_count": 114,
   "id": "median-arlington",
   "metadata": {},
   "outputs": [
    {
     "data": {
      "text/plain": [
       "0     2005\n",
       "1     2005\n",
       "2     2005\n",
       "3     2005\n",
       "4     2005\n",
       "      ... \n",
       "95    2005\n",
       "96    2005\n",
       "97    2005\n",
       "98    2005\n",
       "99    2005\n",
       "Name: date, Length: 100, dtype: int64"
      ]
     },
     "execution_count": 114,
     "metadata": {},
     "output_type": "execute_result"
    }
   ],
   "source": [
    "d[\"date\"][:100].dt.year"
   ]
  },
  {
   "cell_type": "code",
   "execution_count": 115,
   "id": "fancy-french",
   "metadata": {},
   "outputs": [],
   "source": [
    "d[\"year\"] = d[\"date\"].dt.year"
   ]
  },
  {
   "cell_type": "code",
   "execution_count": 116,
   "id": "advanced-dream",
   "metadata": {},
   "outputs": [],
   "source": [
    "d[\"month\"] = d[\"date\"].dt.month"
   ]
  },
  {
   "cell_type": "code",
   "execution_count": 130,
   "id": "introductory-netherlands",
   "metadata": {},
   "outputs": [
    {
     "data": {
      "text/plain": [
       "<seaborn.axisgrid.FacetGrid at 0x1c23e1220>"
      ]
     },
     "execution_count": 130,
     "metadata": {},
     "output_type": "execute_result"
    },
    {
     "data": {
      "image/png": "[encoded data removed]",
      "text/plain": [
       "<Figure size 360x360 with 1 Axes>"
      ]
     },
     "metadata": {
      "needs_background": "light"
     },
     "output_type": "display_data"
    }
   ],
   "source": [
    "sns.displot(d[\"year\"])"
   ]
  },
  {
   "cell_type": "markdown",
   "id": "military-major",
   "metadata": {},
   "source": [
    "Huge bump in popularity in 2019, 2020 (like 2x previous years)"
   ]
  },
  {
   "cell_type": "markdown",
   "id": "geological-transparency",
   "metadata": {},
   "source": [
    "Also a 2x jump from 2004 to 2005, where popularity was similar for the following decade"
   ]
  },
  {
   "cell_type": "code",
   "execution_count": 127,
   "id": "green-customs",
   "metadata": {},
   "outputs": [
    {
     "data": {
      "text/plain": [
       "<seaborn.axisgrid.FacetGrid at 0x1c2275490>"
      ]
     },
     "execution_count": 127,
     "metadata": {},
     "output_type": "execute_result"
    },
    {
     "data": {
      "image/png": "[encoded data removed]",
      "text/plain": [
       "<Figure size 360x360 with 1 Axes>"
      ]
     },
     "metadata": {
      "needs_background": "light"
     },
     "output_type": "display_data"
    }
   ],
   "source": [
    "sns.displot(d[\"month\"])"
   ]
  },
  {
   "cell_type": "code",
   "execution_count": 133,
   "id": "noble-newsletter",
   "metadata": {},
   "outputs": [
    {
     "data": {
      "text/plain": [
       "<AxesSubplot:xlabel='year,month'>"
      ]
     },
     "execution_count": 133,
     "metadata": {},
     "output_type": "execute_result"
    },
    {
     "data": {
      "image/png": "[encoded data removed]",
      "text/plain": [
       "<Figure size 432x288 with 1 Axes>"
      ]
     },
     "metadata": {
      "needs_background": "light"
     },
     "output_type": "display_data"
    }
   ],
   "source": [
    "d.groupby([\"year\", \"month\"])[\"rating\"].count().plot()"
   ]
  },
  {
   "cell_type": "markdown",
   "id": "noticed-uganda",
   "metadata": {},
   "source": [
    "very little seasonality"
   ]
  },
  {
   "cell_type": "markdown",
   "id": "incident-method",
   "metadata": {},
   "source": [
    "What's this dip in like 2018?"
   ]
  },
  {
   "cell_type": "code",
   "execution_count": 137,
   "id": "strategic-green",
   "metadata": {},
   "outputs": [
    {
     "data": {
      "text/plain": [
       "<AxesSubplot:xlabel='month'>"
      ]
     },
     "execution_count": 137,
     "metadata": {},
     "output_type": "execute_result"
    },
    {
     "data": {
      "image/png": "[encoded data removed]",
      "text/plain": [
       "<Figure size 432x288 with 1 Axes>"
      ]
     },
     "metadata": {
      "needs_background": "light"
     },
     "output_type": "display_data"
    }
   ],
   "source": [
    "d[d[\"year\"] == 2018].groupby(\"month\")[\"rating\"].count().plot()"
   ]
  },
  {
   "cell_type": "markdown",
   "id": "interesting-sweden",
   "metadata": {},
   "source": [
    "So the dip is like first three months of 2018"
   ]
  },
  {
   "cell_type": "markdown",
   "id": "hindu-chocolate",
   "metadata": {},
   "source": [
    "Couldn't figure out why"
   ]
  },
  {
   "cell_type": "markdown",
   "id": "buried-penetration",
   "metadata": {},
   "source": [
    "What happened in 2005 to get more reviews?"
   ]
  },
  {
   "cell_type": "code",
   "execution_count": 386,
   "id": "promotional-provincial",
   "metadata": {},
   "outputs": [
    {
     "data": {
      "text/plain": [
       "<AxesSubplot:xlabel='date'>"
      ]
     },
     "execution_count": 386,
     "metadata": {},
     "output_type": "execute_result"
    },
    {
     "data": {
      "image/png": "[encoded data removed]",
      "text/plain": [
       "<Figure size 720x720 with 1 Axes>"
      ]
     },
     "metadata": {
      "needs_background": "light"
     },
     "output_type": "display_data"
    }
   ],
   "source": [
    "d[(d[\"year\"] == 2005) | (d[\"year\"] == 2004)].groupby(\"date\")[\"rating\"].count().plot()"
   ]
  },
  {
   "cell_type": "markdown",
   "id": "swedish-variety",
   "metadata": {},
   "source": [
    "Not sure, but it seems to have started right in 2005"
   ]
  },
  {
   "cell_type": "markdown",
   "id": "eastern-scenario",
   "metadata": {},
   "source": [
    "How many unique films being reviewed over time?"
   ]
  },
  {
   "cell_type": "code",
   "execution_count": 139,
   "id": "becoming-nickel",
   "metadata": {},
   "outputs": [
    {
     "data": {
      "text/plain": [
       "<AxesSubplot:xlabel='date'>"
      ]
     },
     "execution_count": 139,
     "metadata": {},
     "output_type": "execute_result"
    },
    {
     "data": {
      "image/png": "[encoded data removed]",
      "text/plain": [
       "<Figure size 432x288 with 1 Axes>"
      ]
     },
     "metadata": {
      "needs_background": "light"
     },
     "output_type": "display_data"
    }
   ],
   "source": [
    "d.groupby(\"date\")[\"movie\"].nunique().plot()"
   ]
  },
  {
   "cell_type": "markdown",
   "id": "greenhouse-bowling",
   "metadata": {},
   "source": [
    "Similar situation to num reviews"
   ]
  },
  {
   "cell_type": "markdown",
   "id": "innovative-fantasy",
   "metadata": {},
   "source": [
    "What if we look at specific outliers?"
   ]
  },
  {
   "cell_type": "code",
   "execution_count": 63,
   "id": "harmful-iraqi",
   "metadata": {},
   "outputs": [
    {
     "data": {
      "text/plain": [
       "20 May 2019         7291\n",
       "25 July 2020        5773\n",
       "24 July 2020        4542\n",
       "21 November 2020    4045\n",
       "13 May 2019         3788\n",
       "                    ... \n",
       "25 August 1998         7\n",
       "27 August 1998         6\n",
       "27 July 1998           3\n",
       "1 January 2002         2\n",
       "30 April 2018          1\n",
       "Name: date, Length: 8028, dtype: int64"
      ]
     },
     "execution_count": 63,
     "metadata": {},
     "output_type": "execute_result"
    }
   ],
   "source": [
    "d[\"date\"].value_counts()"
   ]
  },
  {
   "cell_type": "markdown",
   "id": "settled-database",
   "metadata": {},
   "source": [
    "What's special about 20 May 2019?"
   ]
  },
  {
   "cell_type": "code",
   "execution_count": 153,
   "id": "exact-thursday",
   "metadata": {},
   "outputs": [
    {
     "data": {
      "text/plain": [
       "tt6027920    5145\n",
       "tt0944947     432\n",
       "tt6146586      63\n",
       "tt4154796      51\n",
       "tt6027916      41\n",
       "             ... \n",
       "tt2537176       1\n",
       "tt1095018       1\n",
       "tt9700916       1\n",
       "tt5427194       1\n",
       "tt0081383       1\n",
       "Name: movie, Length: 1060, dtype: int64"
      ]
     },
     "execution_count": 153,
     "metadata": {},
     "output_type": "execute_result"
    }
   ],
   "source": [
    "d[d[\"date\"] == \"20 May 2019\"][\"movie\"].value_counts()"
   ]
  },
  {
   "cell_type": "markdown",
   "id": "collect-garden",
   "metadata": {},
   "source": [
    "top title is the last Game of Thrones episode"
   ]
  },
  {
   "cell_type": "code",
   "execution_count": 154,
   "id": "marine-bracket",
   "metadata": {},
   "outputs": [
    {
     "data": {
      "text/plain": [
       "tt8110330     3389\n",
       "tt10230426      69\n",
       "tt9784456       63\n",
       "tt8210856       52\n",
       "tt10003008      26\n",
       "              ... \n",
       "tt5963066        1\n",
       "tt5695316        1\n",
       "tt11230868       1\n",
       "tt8435344        1\n",
       "tt0898266        1\n",
       "Name: movie, Length: 1621, dtype: int64"
      ]
     },
     "execution_count": 154,
     "metadata": {},
     "output_type": "execute_result"
    }
   ],
   "source": [
    "d[d[\"date\"] == \"25 July 2020\"][\"movie\"].value_counts()"
   ]
  },
  {
   "cell_type": "code",
   "execution_count": 155,
   "id": "reported-evans",
   "metadata": {},
   "outputs": [
    {
     "data": {
      "text/plain": [
       "tt8110330     2468\n",
       "tt9784456      127\n",
       "tt11730940      88\n",
       "tt8210856       51\n",
       "tt12344410      36\n",
       "              ... \n",
       "tt1266020        1\n",
       "tt8466562        1\n",
       "tt5027774        1\n",
       "tt2283336        1\n",
       "tt0081873        1\n",
       "Name: movie, Length: 1408, dtype: int64"
      ]
     },
     "execution_count": 155,
     "metadata": {},
     "output_type": "execute_result"
    }
   ],
   "source": [
    "d[d[\"date\"] == \"24 July 2020\"][\"movie\"].value_counts()"
   ]
  },
  {
   "cell_type": "markdown",
   "id": "ethical-taiwan",
   "metadata": {},
   "source": [
    "A bollywood fault in our stars thing for both"
   ]
  },
  {
   "cell_type": "code",
   "execution_count": 156,
   "id": "ranking-peripheral",
   "metadata": {},
   "outputs": [
    {
     "data": {
      "text/plain": [
       "tt10073984    1226\n",
       "tt10717930      60\n",
       "tt13411840      59\n",
       "tt12987728      50\n",
       "tt8633478       49\n",
       "              ... \n",
       "tt7263154        1\n",
       "tt0059087        1\n",
       "tt11199310       1\n",
       "tt0713846        1\n",
       "tt0400761        1\n",
       "Name: movie, Length: 1769, dtype: int64"
      ]
     },
     "execution_count": 156,
     "metadata": {},
     "output_type": "execute_result"
    }
   ],
   "source": [
    "d[d[\"date\"] == \"21 November 2020\"][\"movie\"].value_counts()"
   ]
  },
  {
   "cell_type": "markdown",
   "id": "three-macedonia",
   "metadata": {},
   "source": [
    "Supernatural finale"
   ]
  },
  {
   "cell_type": "markdown",
   "id": "comparable-cologne",
   "metadata": {},
   "source": [
    "# That's enough about dates, let's talk about ratings!"
   ]
  },
  {
   "cell_type": "code",
   "execution_count": 147,
   "id": "guided-outreach",
   "metadata": {},
   "outputs": [
    {
     "data": {
      "text/plain": [
       "1922130"
      ]
     },
     "execution_count": 147,
     "metadata": {},
     "output_type": "execute_result"
    }
   ],
   "source": [
    "import gc\n",
    "gc.collect()"
   ]
  },
  {
   "cell_type": "markdown",
   "id": "champion-infection",
   "metadata": {},
   "source": [
    "How are the ratings distributed overall?"
   ]
  },
  {
   "cell_type": "code",
   "execution_count": 148,
   "id": "native-architect",
   "metadata": {},
   "outputs": [],
   "source": [
    "d[\"rating\"] = d[\"rating\"].astype(int)"
   ]
  },
  {
   "cell_type": "code",
   "execution_count": 149,
   "id": "appreciated-theta",
   "metadata": {},
   "outputs": [
    {
     "data": {
      "text/plain": [
       "10    1122764\n",
       "8      654826\n",
       "9      565159\n",
       "7      541806\n",
       "1      466498\n",
       "6      390113\n",
       "5      297814\n",
       "4      223336\n",
       "3      211807\n",
       "2      195697\n",
       "Name: rating, dtype: int64"
      ]
     },
     "execution_count": 149,
     "metadata": {},
     "output_type": "execute_result"
    }
   ],
   "source": [
    "d[\"rating\"].value_counts()"
   ]
  },
  {
   "cell_type": "code",
   "execution_count": 150,
   "id": "contemporary-phase",
   "metadata": {},
   "outputs": [
    {
     "data": {
      "text/plain": [
       "[<matplotlib.lines.Line2D at 0x1c1eb1b20>]"
      ]
     },
     "execution_count": 150,
     "metadata": {},
     "output_type": "execute_result"
    },
    {
     "data": {
      "image/png": "[encoded data removed]",
      "text/plain": [
       "<Figure size 432x288 with 1 Axes>"
      ]
     },
     "metadata": {
      "needs_background": "light"
     },
     "output_type": "display_data"
    }
   ],
   "source": [
    "plt.plot(d[\"rating\"].value_counts().index, d[\"rating\"].value_counts().values, 'o')"
   ]
  },
  {
   "cell_type": "markdown",
   "id": "robust-chance",
   "metadata": {},
   "source": [
    "So we have a lot of people giving out 1s, then 7s, 9s, 8s, and then a heck ton of 10s."
   ]
  },
  {
   "cell_type": "markdown",
   "id": "defensive-chosen",
   "metadata": {},
   "source": [
    "How do we summarize user ratings distributions? We want to cluster users by rating habit similarity, but need to parametrize their distributions in order to do that effectively."
   ]
  },
  {
   "cell_type": "markdown",
   "id": "according-specialist",
   "metadata": {},
   "source": [
    "Let's first look at the rating distribution for a few random users"
   ]
  },
  {
   "cell_type": "code",
   "execution_count": 77,
   "id": "inappropriate-granny",
   "metadata": {},
   "outputs": [
    {
     "data": {
      "text/plain": [
       "user                ur2526636\n",
       "movie               tt0069732\n",
       "rating                     10\n",
       "date      2009-07-10 00:00:00\n",
       "Name: 953085, dtype: object"
      ]
     },
     "execution_count": 77,
     "metadata": {},
     "output_type": "execute_result"
    }
   ],
   "source": [
    "d.iloc[int(np.random.random() * len(d))]"
   ]
  },
  {
   "cell_type": "code",
   "execution_count": 132,
   "id": "marine-touch",
   "metadata": {},
   "outputs": [],
   "source": [
    "username = d['user'][int(np.random.random() * len(d))]"
   ]
  },
  {
   "cell_type": "code",
   "execution_count": 133,
   "id": "missing-conference",
   "metadata": {},
   "outputs": [
    {
     "data": {
      "text/plain": [
       "6    4\n",
       "1    3\n",
       "7    2\n",
       "5    1\n",
       "8    1\n",
       "9    1\n",
       "Name: rating, dtype: int64"
      ]
     },
     "execution_count": 133,
     "metadata": {},
     "output_type": "execute_result"
    }
   ],
   "source": [
    "d[d['user'] == username][\"rating\"].value_counts()"
   ]
  },
  {
   "cell_type": "code",
   "execution_count": 134,
   "id": "architectural-friday",
   "metadata": {},
   "outputs": [
    {
     "data": {
      "text/plain": [
       "[<matplotlib.lines.Line2D at 0x29a6b74f0>]"
      ]
     },
     "execution_count": 134,
     "metadata": {},
     "output_type": "execute_result"
    },
    {
     "data": {
      "image/png": "[encoded data removed]",
      "text/plain": [
       "<Figure size 432x288 with 1 Axes>"
      ]
     },
     "metadata": {
      "needs_background": "light"
     },
     "output_type": "display_data"
    }
   ],
   "source": [
    "plt.plot(d[d['user'] == username][\"rating\"].value_counts().index, d[d['user'] == username][\"rating\"].value_counts().values, 'o')"
   ]
  },
  {
   "cell_type": "markdown",
   "id": "separated-atlantic",
   "metadata": {},
   "source": [
    "So it seems like people are pretty random, though I think that if they rate fewer movies, they're more likely to have more 10s."
   ]
  },
  {
   "cell_type": "code",
   "execution_count": 170,
   "id": "american-turkey",
   "metadata": {},
   "outputs": [
    {
     "data": {
      "text/plain": [
       "count    351109.000000\n",
       "mean          6.968787\n",
       "std           2.174290\n",
       "min           1.000000\n",
       "25%           5.800000\n",
       "50%           7.000000\n",
       "75%           8.552941\n",
       "max          10.000000\n",
       "Name: rating, dtype: float64"
      ]
     },
     "execution_count": 170,
     "metadata": {},
     "output_type": "execute_result"
    }
   ],
   "source": [
    "d.groupby(\"movie\")[\"rating\"].mean().describe()"
   ]
  },
  {
   "cell_type": "markdown",
   "id": "boring-maximum",
   "metadata": {},
   "source": [
    "# Titles"
   ]
  },
  {
   "cell_type": "code",
   "execution_count": 161,
   "id": "universal-grade",
   "metadata": {},
   "outputs": [
    {
     "data": {
      "text/plain": [
       "count       4669820\n",
       "unique       351109\n",
       "top       tt7286456\n",
       "freq          10534\n",
       "Name: movie, dtype: object"
      ]
     },
     "execution_count": 161,
     "metadata": {},
     "output_type": "execute_result"
    }
   ],
   "source": [
    "d[\"movie\"].describe()"
   ]
  },
  {
   "cell_type": "markdown",
   "id": "wireless-health",
   "metadata": {},
   "source": [
    "We've got 351K movies"
   ]
  },
  {
   "cell_type": "markdown",
   "id": "elegant-mistress",
   "metadata": {},
   "source": [
    "What's the titles distribution?"
   ]
  },
  {
   "cell_type": "code",
   "execution_count": 144,
   "id": "elegant-balance",
   "metadata": {},
   "outputs": [
    {
     "data": {
      "text/plain": [
       "<AxesSubplot:>"
      ]
     },
     "execution_count": 144,
     "metadata": {},
     "output_type": "execute_result"
    },
    {
     "data": {
      "image/png": "[encoded data removed]",
      "text/plain": [
       "<Figure size 432x288 with 1 Axes>"
      ]
     },
     "metadata": {
      "needs_background": "light"
     },
     "output_type": "display_data"
    }
   ],
   "source": [
    "d[\"movie\"].value_counts()[:100].plot()"
   ]
  },
  {
   "cell_type": "code",
   "execution_count": 145,
   "id": "human-battle",
   "metadata": {},
   "outputs": [
    {
     "data": {
      "text/plain": [
       "<AxesSubplot:>"
      ]
     },
     "execution_count": 145,
     "metadata": {},
     "output_type": "execute_result"
    },
    {
     "data": {
      "image/png": "[encoded data removed]",
      "text/plain": [
       "<Figure size 432x288 with 1 Axes>"
      ]
     },
     "metadata": {
      "needs_background": "light"
     },
     "output_type": "display_data"
    }
   ],
   "source": [
    "d[\"movie\"].value_counts()[100:1000].plot()"
   ]
  },
  {
   "cell_type": "code",
   "execution_count": 146,
   "id": "english-aruba",
   "metadata": {},
   "outputs": [
    {
     "data": {
      "text/plain": [
       "<AxesSubplot:>"
      ]
     },
     "execution_count": 146,
     "metadata": {},
     "output_type": "execute_result"
    },
    {
     "data": {
      "image/png": "[encoded data removed]",
      "text/plain": [
       "<Figure size 432x288 with 1 Axes>"
      ]
     },
     "metadata": {
      "needs_background": "light"
     },
     "output_type": "display_data"
    }
   ],
   "source": [
    "d[\"movie\"].value_counts()[1000:10000].plot()"
   ]
  },
  {
   "cell_type": "markdown",
   "id": "revised-firewall",
   "metadata": {},
   "source": [
    "So it's pretty exponentially distributed"
   ]
  },
  {
   "cell_type": "code",
   "execution_count": 157,
   "id": "supreme-promotion",
   "metadata": {},
   "outputs": [],
   "source": [
    "num_movie_ratings = d[\"movie\"].value_counts()"
   ]
  },
  {
   "cell_type": "code",
   "execution_count": 158,
   "id": "conservative-turtle",
   "metadata": {},
   "outputs": [
    {
     "data": {
      "text/plain": [
       "tt7286456    10534\n",
       "tt4154796     8835\n",
       "tt8110330     7729\n",
       "tt0111161     7568\n",
       "tt2527338     7547\n",
       "             ...  \n",
       "tt0291313        1\n",
       "tt1383938        1\n",
       "tt0000352        1\n",
       "tt5770478        1\n",
       "tt0193731        1\n",
       "Name: movie, Length: 351109, dtype: int64"
      ]
     },
     "execution_count": 158,
     "metadata": {},
     "output_type": "execute_result"
    }
   ],
   "source": [
    "num_movie_ratings"
   ]
  },
  {
   "cell_type": "markdown",
   "id": "rough-berry",
   "metadata": {},
   "source": [
    "Fun fact, the top movie is Joker, then Endgame, then Indian fault in stars"
   ]
  },
  {
   "cell_type": "code",
   "execution_count": 159,
   "id": "funded-result",
   "metadata": {},
   "outputs": [
    {
     "data": {
      "text/plain": [
       "count    351109.000000\n",
       "mean         13.300200\n",
       "std          86.899503\n",
       "min           1.000000\n",
       "25%           1.000000\n",
       "50%           2.000000\n",
       "75%           5.000000\n",
       "max       10534.000000\n",
       "Name: movie, dtype: float64"
      ]
     },
     "execution_count": 159,
     "metadata": {},
     "output_type": "execute_result"
    }
   ],
   "source": [
    "num_movie_ratings.describe()"
   ]
  },
  {
   "cell_type": "markdown",
   "id": "level-walker",
   "metadata": {},
   "source": [
    "So three quarters have less than 5 reviews, the most has 10k reviews"
   ]
  },
  {
   "cell_type": "code",
   "execution_count": 160,
   "id": "technical-chassis",
   "metadata": {},
   "outputs": [
    {
     "data": {
      "text/plain": [
       "7534"
      ]
     },
     "execution_count": 160,
     "metadata": {},
     "output_type": "execute_result"
    }
   ],
   "source": [
    "(num_movie_ratings > 100).sum()"
   ]
  },
  {
   "cell_type": "code",
   "execution_count": 373,
   "id": "declared-christmas",
   "metadata": {},
   "outputs": [
    {
     "data": {
      "text/plain": [
       "52701"
      ]
     },
     "execution_count": 373,
     "metadata": {},
     "output_type": "execute_result"
    }
   ],
   "source": [
    "(num_movie_ratings > 10).sum()"
   ]
  },
  {
   "cell_type": "markdown",
   "id": "structured-holly",
   "metadata": {},
   "source": [
    "Only 7k with over 100 reviews, out of 351k (still a decent sized dataset)"
   ]
  },
  {
   "cell_type": "code",
   "execution_count": 162,
   "id": "employed-black",
   "metadata": {},
   "outputs": [],
   "source": [
    "unique_users = d.groupby(\"movie\")[\"user\"].nunique()"
   ]
  },
  {
   "cell_type": "code",
   "execution_count": 164,
   "id": "verified-encyclopedia",
   "metadata": {},
   "outputs": [
    {
     "data": {
      "text/plain": [
       "movie\n",
       "tt7286456    10407\n",
       "tt4154796     8695\n",
       "tt8110330     7667\n",
       "tt0111161     7499\n",
       "tt2527338     7428\n",
       "             ...  \n",
       "tt1697098        1\n",
       "tt1697100        1\n",
       "tt1697118        1\n",
       "tt0623181        1\n",
       "tt0808500        1\n",
       "Name: user, Length: 351109, dtype: int64"
      ]
     },
     "execution_count": 164,
     "metadata": {},
     "output_type": "execute_result"
    }
   ],
   "source": [
    "unique_users.sort_values(ascending=False)"
   ]
  },
  {
   "cell_type": "markdown",
   "id": "exclusive-thread",
   "metadata": {},
   "source": [
    "Nothing too surprising - we already knew that most users didn't rate multiple movies"
   ]
  },
  {
   "cell_type": "markdown",
   "id": "military-constant",
   "metadata": {},
   "source": [
    "Are there some movies that got more duplicate reviews?"
   ]
  },
  {
   "cell_type": "code",
   "execution_count": 166,
   "id": "hired-swaziland",
   "metadata": {},
   "outputs": [],
   "source": [
    "duped_ratings = d[d[[\"user\",\"movie\",\"rating\"]].duplicated()]"
   ]
  },
  {
   "cell_type": "code",
   "execution_count": 168,
   "id": "enabling-clear",
   "metadata": {},
   "outputs": [
    {
     "data": {
      "text/plain": [
       "tt10350626    379\n",
       "tt7743400     273\n",
       "tt6027920     185\n",
       "tt4154796     140\n",
       "tt7784604     136\n",
       "             ... \n",
       "tt0089111       1\n",
       "tt0067588       1\n",
       "tt0108783       1\n",
       "tt10199586      1\n",
       "tt2332831       1\n",
       "Name: movie, Length: 9075, dtype: int64"
      ]
     },
     "execution_count": 168,
     "metadata": {},
     "output_type": "execute_result"
    }
   ],
   "source": [
    "duped_ratings[\"movie\"].value_counts()"
   ]
  },
  {
   "cell_type": "markdown",
   "id": "republican-washington",
   "metadata": {},
   "source": [
    "Nothing otherworldly here"
   ]
  },
  {
   "cell_type": "markdown",
   "id": "neither-operations",
   "metadata": {},
   "source": [
    "When do these movies get their first review?"
   ]
  },
  {
   "cell_type": "code",
   "execution_count": 176,
   "id": "nervous-version",
   "metadata": {},
   "outputs": [],
   "source": [
    "movie_first_reviews = d.groupby(\"movie\")[\"date\"].first().sort_values(ascending=False)"
   ]
  },
  {
   "cell_type": "code",
   "execution_count": 178,
   "id": "social-wildlife",
   "metadata": {},
   "outputs": [
    {
     "name": "stderr",
     "output_type": "stream",
     "text": [
      "<ipython-input-178-cb7ae59360ab>:1: FutureWarning: Treating datetime data as categorical rather than numeric in `.describe` is deprecated and will be removed in a future version of pandas. Specify `datetime_is_numeric=True` to silence this warning and adopt the future behavior now.\n",
      "  movie_first_reviews.describe()\n"
     ]
    },
    {
     "data": {
      "text/plain": [
       "count                  351109\n",
       "unique                   7996\n",
       "top       2005-01-16 00:00:00\n",
       "freq                      395\n",
       "first     1998-07-29 00:00:00\n",
       "last      2020-12-03 00:00:00\n",
       "Name: date, dtype: object"
      ]
     },
     "execution_count": 178,
     "metadata": {},
     "output_type": "execute_result"
    }
   ],
   "source": [
    "movie_first_reviews.describe()"
   ]
  },
  {
   "cell_type": "code",
   "execution_count": 175,
   "id": "composite-purse",
   "metadata": {},
   "outputs": [
    {
     "data": {
      "text/plain": [
       "<AxesSubplot:xlabel='movie'>"
      ]
     },
     "execution_count": 175,
     "metadata": {},
     "output_type": "execute_result"
    },
    {
     "data": {
      "image/png": "[encoded data removed]",
      "text/plain": [
       "<Figure size 432x288 with 1 Axes>"
      ]
     },
     "metadata": {
      "needs_background": "light"
     },
     "output_type": "display_data"
    }
   ],
   "source": [
    "d.groupby(\"movie\")[\"date\"].first().sort_values(ascending=False).plot()"
   ]
  },
  {
   "cell_type": "code",
   "execution_count": 149,
   "id": "ceramic-patch",
   "metadata": {},
   "outputs": [
    {
     "data": {
      "text/plain": [
       "<AxesSubplot:xlabel='date'>"
      ]
     },
     "execution_count": 149,
     "metadata": {},
     "output_type": "execute_result"
    },
    {
     "data": {
      "image/png": "[encoded data removed]",
      "text/plain": [
       "<Figure size 432x288 with 1 Axes>"
      ]
     },
     "metadata": {
      "needs_background": "light"
     },
     "output_type": "display_data"
    }
   ],
   "source": [
    "d[d[\"movie\"] == \"tt7286456\"].plot(x=\"date\", y=\"rating\")"
   ]
  },
  {
   "cell_type": "code",
   "execution_count": 150,
   "id": "spare-somewhere",
   "metadata": {},
   "outputs": [],
   "source": [
    "joker = d[d[\"movie\"] == \"tt7286456\"]"
   ]
  },
  {
   "cell_type": "code",
   "execution_count": null,
   "id": "controversial-judges",
   "metadata": {},
   "outputs": [],
   "source": [
    "joker[\"cumavg\"] = joker[\"rating\"].()"
   ]
  },
  {
   "cell_type": "markdown",
   "id": "significant-chess",
   "metadata": {},
   "source": [
    "Note that these aren't necessarily by time"
   ]
  },
  {
   "cell_type": "code",
   "execution_count": 154,
   "id": "fabulous-stocks",
   "metadata": {},
   "outputs": [
    {
     "data": {
      "text/plain": [
       "<AxesSubplot:>"
      ]
     },
     "execution_count": 154,
     "metadata": {},
     "output_type": "execute_result"
    },
    {
     "data": {
      "image/png": "[encoded data removed]",
      "text/plain": [
       "<Figure size 432x288 with 1 Axes>"
      ]
     },
     "metadata": {
      "needs_background": "light"
     },
     "output_type": "display_data"
    }
   ],
   "source": [
    "joker[\"rating\"].expanding().mean().plot()"
   ]
  },
  {
   "cell_type": "code",
   "execution_count": 151,
   "id": "facial-stadium",
   "metadata": {},
   "outputs": [
    {
     "data": {
      "text/plain": [
       "8.394816783747864"
      ]
     },
     "execution_count": 151,
     "metadata": {},
     "output_type": "execute_result"
    }
   ],
   "source": [
    "joker[\"rating\"].mean()"
   ]
  },
  {
   "cell_type": "markdown",
   "id": "affiliated-concept",
   "metadata": {},
   "source": [
    "What about a rolling average? Would be less misleading"
   ]
  },
  {
   "cell_type": "code",
   "execution_count": 164,
   "id": "viral-stocks",
   "metadata": {},
   "outputs": [
    {
     "data": {
      "text/plain": [
       "<AxesSubplot:>"
      ]
     },
     "execution_count": 164,
     "metadata": {},
     "output_type": "execute_result"
    },
    {
     "data": {
      "image/png": "[encoded data removed]",
      "text/plain": [
       "<Figure size 432x288 with 1 Axes>"
      ]
     },
     "metadata": {
      "needs_background": "light"
     },
     "output_type": "display_data"
    }
   ],
   "source": [
    "joker[\"rating\"].rolling(100).mean().plot()"
   ]
  },
  {
   "cell_type": "markdown",
   "id": "electric-vegetation",
   "metadata": {},
   "source": [
    "However, this doesn't actually capture rolling average over time... just over number of ratings"
   ]
  },
  {
   "cell_type": "markdown",
   "id": "regulation-summary",
   "metadata": {},
   "source": [
    "What I really want is an average over a few days, or even a daily average would be alright"
   ]
  },
  {
   "cell_type": "markdown",
   "id": "lasting-paraguay",
   "metadata": {},
   "source": [
    "That said, looking at number of ratings isn't so bad - a decent first test of decreasing ratings over time"
   ]
  },
  {
   "cell_type": "code",
   "execution_count": 245,
   "id": "juvenile-british",
   "metadata": {},
   "outputs": [
    {
     "data": {
      "text/plain": [
       "'tt0257044'"
      ]
     },
     "execution_count": 245,
     "metadata": {},
     "output_type": "execute_result"
    }
   ],
   "source": [
    "d[\"movie\"].sample().values[0]"
   ]
  },
  {
   "cell_type": "code",
   "execution_count": 269,
   "id": "comparable-activity",
   "metadata": {},
   "outputs": [
    {
     "data": {
      "text/plain": [
       "<AxesSubplot:>"
      ]
     },
     "execution_count": 269,
     "metadata": {},
     "output_type": "execute_result"
    },
    {
     "data": {
      "image/png": "[encoded data removed]",
      "text/plain": [
       "<Figure size 432x288 with 1 Axes>"
      ]
     },
     "metadata": {
      "needs_background": "light"
     },
     "output_type": "display_data"
    }
   ],
   "source": [
    "curmovie = d[\"movie\"].sample().values[0]\n",
    "d[d[\"movie\"] == curmovie][\"rating\"].rolling(100).mean().plot()"
   ]
  },
  {
   "cell_type": "code",
   "execution_count": 270,
   "id": "acoustic-senegal",
   "metadata": {},
   "outputs": [
    {
     "data": {
      "text/plain": [
       "'tt5827916'"
      ]
     },
     "execution_count": 270,
     "metadata": {},
     "output_type": "execute_result"
    }
   ],
   "source": [
    "curmovie"
   ]
  },
  {
   "cell_type": "code",
   "execution_count": 135,
   "id": "labeled-billion",
   "metadata": {},
   "outputs": [],
   "source": [
    "# estimate the slope of time for each movie - fixed effects!"
   ]
  },
  {
   "cell_type": "markdown",
   "id": "prescribed-delaware",
   "metadata": {},
   "source": [
    "# Bringing in Info on Different Titles for Each Movie (Not Helpful)"
   ]
  },
  {
   "cell_type": "markdown",
   "id": "least-virgin",
   "metadata": {},
   "source": [
    "This has all of the different titles for each titleId, along with regions and language and whether it's a tv show or whatever. Drawback is that it's 30 million rows. Probably not useful? Except perhaps in determining language."
   ]
  },
  {
   "cell_type": "code",
   "execution_count": 180,
   "id": "exciting-auckland",
   "metadata": {},
   "outputs": [
    {
     "name": "stderr",
     "output_type": "stream",
     "text": [
      "/Users/jordanlong/.pyenv/versions/3.8.5/lib/python3.8/site-packages/IPython/core/interactiveshell.py:3165: DtypeWarning: Columns (7) have mixed types.Specify dtype option on import or set low_memory=False.\n",
      "  has_raised = await self.run_ast_nodes(code_ast.body, cell_name,\n"
     ]
    }
   ],
   "source": [
    "#titles = pd.read_csv(\"title.akas.tsv\", sep=\"\\t\")"
   ]
  },
  {
   "cell_type": "code",
   "execution_count": 181,
   "id": "convenient-queens",
   "metadata": {},
   "outputs": [
    {
     "data": {
      "text/html": [
       "<div>\n",
       "<style scoped>\n",
       "    .dataframe tbody tr th:only-of-type {\n",
       "        vertical-align: middle;\n",
       "    }\n",
       "\n",
       "    .dataframe tbody tr th {\n",
       "        vertical-align: top;\n",
       "    }\n",
       "\n",
       "    .dataframe thead th {\n",
       "        text-align: right;\n",
       "    }\n",
       "</style>\n",
       "<table border=\"1\" class=\"dataframe\">\n",
       "  <thead>\n",
       "    <tr style=\"text-align: right;\">\n",
       "      <th></th>\n",
       "      <th>titleId</th>\n",
       "      <th>ordering</th>\n",
       "      <th>title</th>\n",
       "      <th>region</th>\n",
       "      <th>language</th>\n",
       "      <th>types</th>\n",
       "      <th>attributes</th>\n",
       "      <th>isOriginalTitle</th>\n",
       "    </tr>\n",
       "  </thead>\n",
       "  <tbody>\n",
       "    <tr>\n",
       "      <th>0</th>\n",
       "      <td>tt0000001</td>\n",
       "      <td>1</td>\n",
       "      <td>Карменсіта</td>\n",
       "      <td>UA</td>\n",
       "      <td>\\N</td>\n",
       "      <td>imdbDisplay</td>\n",
       "      <td>\\N</td>\n",
       "      <td>0</td>\n",
       "    </tr>\n",
       "    <tr>\n",
       "      <th>1</th>\n",
       "      <td>tt0000001</td>\n",
       "      <td>2</td>\n",
       "      <td>Carmencita</td>\n",
       "      <td>DE</td>\n",
       "      <td>\\N</td>\n",
       "      <td>\\N</td>\n",
       "      <td>literal title</td>\n",
       "      <td>0</td>\n",
       "    </tr>\n",
       "    <tr>\n",
       "      <th>2</th>\n",
       "      <td>tt0000001</td>\n",
       "      <td>3</td>\n",
       "      <td>Carmencita - spanyol tánc</td>\n",
       "      <td>HU</td>\n",
       "      <td>\\N</td>\n",
       "      <td>imdbDisplay</td>\n",
       "      <td>\\N</td>\n",
       "      <td>0</td>\n",
       "    </tr>\n",
       "    <tr>\n",
       "      <th>3</th>\n",
       "      <td>tt0000001</td>\n",
       "      <td>4</td>\n",
       "      <td>Καρμενσίτα</td>\n",
       "      <td>GR</td>\n",
       "      <td>\\N</td>\n",
       "      <td>imdbDisplay</td>\n",
       "      <td>\\N</td>\n",
       "      <td>0</td>\n",
       "    </tr>\n",
       "    <tr>\n",
       "      <th>4</th>\n",
       "      <td>tt0000001</td>\n",
       "      <td>5</td>\n",
       "      <td>Карменсита</td>\n",
       "      <td>RU</td>\n",
       "      <td>\\N</td>\n",
       "      <td>imdbDisplay</td>\n",
       "      <td>\\N</td>\n",
       "      <td>0</td>\n",
       "    </tr>\n",
       "    <tr>\n",
       "      <th>...</th>\n",
       "      <td>...</td>\n",
       "      <td>...</td>\n",
       "      <td>...</td>\n",
       "      <td>...</td>\n",
       "      <td>...</td>\n",
       "      <td>...</td>\n",
       "      <td>...</td>\n",
       "      <td>...</td>\n",
       "    </tr>\n",
       "    <tr>\n",
       "      <th>29824980</th>\n",
       "      <td>tt9916852</td>\n",
       "      <td>5</td>\n",
       "      <td>Episódio #3.20</td>\n",
       "      <td>PT</td>\n",
       "      <td>pt</td>\n",
       "      <td>\\N</td>\n",
       "      <td>\\N</td>\n",
       "      <td>0</td>\n",
       "    </tr>\n",
       "    <tr>\n",
       "      <th>29824981</th>\n",
       "      <td>tt9916852</td>\n",
       "      <td>6</td>\n",
       "      <td>Episodio #3.20</td>\n",
       "      <td>IT</td>\n",
       "      <td>it</td>\n",
       "      <td>\\N</td>\n",
       "      <td>\\N</td>\n",
       "      <td>0</td>\n",
       "    </tr>\n",
       "    <tr>\n",
       "      <th>29824982</th>\n",
       "      <td>tt9916852</td>\n",
       "      <td>7</td>\n",
       "      <td>एपिसोड #3.20</td>\n",
       "      <td>IN</td>\n",
       "      <td>hi</td>\n",
       "      <td>\\N</td>\n",
       "      <td>\\N</td>\n",
       "      <td>0</td>\n",
       "    </tr>\n",
       "    <tr>\n",
       "      <th>29824983</th>\n",
       "      <td>tt9916856</td>\n",
       "      <td>1</td>\n",
       "      <td>The Wind</td>\n",
       "      <td>DE</td>\n",
       "      <td>\\N</td>\n",
       "      <td>imdbDisplay</td>\n",
       "      <td>\\N</td>\n",
       "      <td>0</td>\n",
       "    </tr>\n",
       "    <tr>\n",
       "      <th>29824984</th>\n",
       "      <td>tt9916856</td>\n",
       "      <td>2</td>\n",
       "      <td>The Wind</td>\n",
       "      <td>\\N</td>\n",
       "      <td>\\N</td>\n",
       "      <td>original</td>\n",
       "      <td>\\N</td>\n",
       "      <td>1</td>\n",
       "    </tr>\n",
       "  </tbody>\n",
       "</table>\n",
       "<p>29824985 rows × 8 columns</p>\n",
       "</div>"
      ],
      "text/plain": [
       "            titleId  ordering                      title region language  \\\n",
       "0         tt0000001         1                 Карменсіта     UA       \\N   \n",
       "1         tt0000001         2                 Carmencita     DE       \\N   \n",
       "2         tt0000001         3  Carmencita - spanyol tánc     HU       \\N   \n",
       "3         tt0000001         4                 Καρμενσίτα     GR       \\N   \n",
       "4         tt0000001         5                 Карменсита     RU       \\N   \n",
       "...             ...       ...                        ...    ...      ...   \n",
       "29824980  tt9916852         5             Episódio #3.20     PT       pt   \n",
       "29824981  tt9916852         6             Episodio #3.20     IT       it   \n",
       "29824982  tt9916852         7               एपिसोड #3.20     IN       hi   \n",
       "29824983  tt9916856         1                   The Wind     DE       \\N   \n",
       "29824984  tt9916856         2                   The Wind     \\N       \\N   \n",
       "\n",
       "                types     attributes isOriginalTitle  \n",
       "0         imdbDisplay             \\N               0  \n",
       "1                  \\N  literal title               0  \n",
       "2         imdbDisplay             \\N               0  \n",
       "3         imdbDisplay             \\N               0  \n",
       "4         imdbDisplay             \\N               0  \n",
       "...               ...            ...             ...  \n",
       "29824980           \\N             \\N               0  \n",
       "29824981           \\N             \\N               0  \n",
       "29824982           \\N             \\N               0  \n",
       "29824983  imdbDisplay             \\N               0  \n",
       "29824984     original             \\N               1  \n",
       "\n",
       "[29824985 rows x 8 columns]"
      ]
     },
     "execution_count": 181,
     "metadata": {},
     "output_type": "execute_result"
    }
   ],
   "source": [
    "#titles"
   ]
  },
  {
   "cell_type": "code",
   "execution_count": 182,
   "id": "specific-nepal",
   "metadata": {},
   "outputs": [
    {
     "data": {
      "text/html": [
       "<div>\n",
       "<style scoped>\n",
       "    .dataframe tbody tr th:only-of-type {\n",
       "        vertical-align: middle;\n",
       "    }\n",
       "\n",
       "    .dataframe tbody tr th {\n",
       "        vertical-align: top;\n",
       "    }\n",
       "\n",
       "    .dataframe thead th {\n",
       "        text-align: right;\n",
       "    }\n",
       "</style>\n",
       "<table border=\"1\" class=\"dataframe\">\n",
       "  <thead>\n",
       "    <tr style=\"text-align: right;\">\n",
       "      <th></th>\n",
       "      <th>ordering</th>\n",
       "    </tr>\n",
       "  </thead>\n",
       "  <tbody>\n",
       "    <tr>\n",
       "      <th>count</th>\n",
       "      <td>2.982498e+07</td>\n",
       "    </tr>\n",
       "    <tr>\n",
       "      <th>mean</th>\n",
       "      <td>4.004033e+00</td>\n",
       "    </tr>\n",
       "    <tr>\n",
       "      <th>std</th>\n",
       "      <td>3.438260e+00</td>\n",
       "    </tr>\n",
       "    <tr>\n",
       "      <th>min</th>\n",
       "      <td>1.000000e+00</td>\n",
       "    </tr>\n",
       "    <tr>\n",
       "      <th>25%</th>\n",
       "      <td>2.000000e+00</td>\n",
       "    </tr>\n",
       "    <tr>\n",
       "      <th>50%</th>\n",
       "      <td>3.000000e+00</td>\n",
       "    </tr>\n",
       "    <tr>\n",
       "      <th>75%</th>\n",
       "      <td>6.000000e+00</td>\n",
       "    </tr>\n",
       "    <tr>\n",
       "      <th>max</th>\n",
       "      <td>1.740000e+02</td>\n",
       "    </tr>\n",
       "  </tbody>\n",
       "</table>\n",
       "</div>"
      ],
      "text/plain": [
       "           ordering\n",
       "count  2.982498e+07\n",
       "mean   4.004033e+00\n",
       "std    3.438260e+00\n",
       "min    1.000000e+00\n",
       "25%    2.000000e+00\n",
       "50%    3.000000e+00\n",
       "75%    6.000000e+00\n",
       "max    1.740000e+02"
      ]
     },
     "execution_count": 182,
     "metadata": {},
     "output_type": "execute_result"
    }
   ],
   "source": [
    "#titles.describe()"
   ]
  },
  {
   "cell_type": "markdown",
   "id": "cloudy-conspiracy",
   "metadata": {},
   "source": [
    "Sheesh, 29M rows... let's get rid of the ones we don't need"
   ]
  },
  {
   "cell_type": "code",
   "execution_count": 187,
   "id": "employed-junior",
   "metadata": {},
   "outputs": [],
   "source": [
    "#reduced_titles = titles[titles[\"titleId\"].isin(d[\"movie\"])]"
   ]
  },
  {
   "cell_type": "code",
   "execution_count": 188,
   "id": "bacterial-treaty",
   "metadata": {},
   "outputs": [
    {
     "data": {
      "text/html": [
       "<div>\n",
       "<style scoped>\n",
       "    .dataframe tbody tr th:only-of-type {\n",
       "        vertical-align: middle;\n",
       "    }\n",
       "\n",
       "    .dataframe tbody tr th {\n",
       "        vertical-align: top;\n",
       "    }\n",
       "\n",
       "    .dataframe thead th {\n",
       "        text-align: right;\n",
       "    }\n",
       "</style>\n",
       "<table border=\"1\" class=\"dataframe\">\n",
       "  <thead>\n",
       "    <tr style=\"text-align: right;\">\n",
       "      <th></th>\n",
       "      <th>titleId</th>\n",
       "      <th>ordering</th>\n",
       "      <th>title</th>\n",
       "      <th>region</th>\n",
       "      <th>language</th>\n",
       "      <th>types</th>\n",
       "      <th>attributes</th>\n",
       "      <th>isOriginalTitle</th>\n",
       "    </tr>\n",
       "  </thead>\n",
       "  <tbody>\n",
       "    <tr>\n",
       "      <th>0</th>\n",
       "      <td>tt0000001</td>\n",
       "      <td>1</td>\n",
       "      <td>Карменсіта</td>\n",
       "      <td>UA</td>\n",
       "      <td>\\N</td>\n",
       "      <td>imdbDisplay</td>\n",
       "      <td>\\N</td>\n",
       "      <td>0</td>\n",
       "    </tr>\n",
       "    <tr>\n",
       "      <th>1</th>\n",
       "      <td>tt0000001</td>\n",
       "      <td>2</td>\n",
       "      <td>Carmencita</td>\n",
       "      <td>DE</td>\n",
       "      <td>\\N</td>\n",
       "      <td>\\N</td>\n",
       "      <td>literal title</td>\n",
       "      <td>0</td>\n",
       "    </tr>\n",
       "    <tr>\n",
       "      <th>2</th>\n",
       "      <td>tt0000001</td>\n",
       "      <td>3</td>\n",
       "      <td>Carmencita - spanyol tánc</td>\n",
       "      <td>HU</td>\n",
       "      <td>\\N</td>\n",
       "      <td>imdbDisplay</td>\n",
       "      <td>\\N</td>\n",
       "      <td>0</td>\n",
       "    </tr>\n",
       "    <tr>\n",
       "      <th>3</th>\n",
       "      <td>tt0000001</td>\n",
       "      <td>4</td>\n",
       "      <td>Καρμενσίτα</td>\n",
       "      <td>GR</td>\n",
       "      <td>\\N</td>\n",
       "      <td>imdbDisplay</td>\n",
       "      <td>\\N</td>\n",
       "      <td>0</td>\n",
       "    </tr>\n",
       "    <tr>\n",
       "      <th>4</th>\n",
       "      <td>tt0000001</td>\n",
       "      <td>5</td>\n",
       "      <td>Карменсита</td>\n",
       "      <td>RU</td>\n",
       "      <td>\\N</td>\n",
       "      <td>imdbDisplay</td>\n",
       "      <td>\\N</td>\n",
       "      <td>0</td>\n",
       "    </tr>\n",
       "    <tr>\n",
       "      <th>...</th>\n",
       "      <td>...</td>\n",
       "      <td>...</td>\n",
       "      <td>...</td>\n",
       "      <td>...</td>\n",
       "      <td>...</td>\n",
       "      <td>...</td>\n",
       "      <td>...</td>\n",
       "      <td>...</td>\n",
       "    </tr>\n",
       "    <tr>\n",
       "      <th>29824701</th>\n",
       "      <td>tt9916720</td>\n",
       "      <td>5</td>\n",
       "      <td>The Nun 2</td>\n",
       "      <td>\\N</td>\n",
       "      <td>\\N</td>\n",
       "      <td>original</td>\n",
       "      <td>\\N</td>\n",
       "      <td>1</td>\n",
       "    </tr>\n",
       "    <tr>\n",
       "      <th>29824702</th>\n",
       "      <td>tt9916720</td>\n",
       "      <td>6</td>\n",
       "      <td>La suora 2</td>\n",
       "      <td>IT</td>\n",
       "      <td>\\N</td>\n",
       "      <td>imdbDisplay</td>\n",
       "      <td>\\N</td>\n",
       "      <td>0</td>\n",
       "    </tr>\n",
       "    <tr>\n",
       "      <th>29824703</th>\n",
       "      <td>tt9916720</td>\n",
       "      <td>7</td>\n",
       "      <td>Rahibe 2</td>\n",
       "      <td>TR</td>\n",
       "      <td>tr</td>\n",
       "      <td>imdbDisplay</td>\n",
       "      <td>\\N</td>\n",
       "      <td>0</td>\n",
       "    </tr>\n",
       "    <tr>\n",
       "      <th>29824704</th>\n",
       "      <td>tt9916720</td>\n",
       "      <td>8</td>\n",
       "      <td>The Nun 2</td>\n",
       "      <td>DE</td>\n",
       "      <td>\\N</td>\n",
       "      <td>imdbDisplay</td>\n",
       "      <td>\\N</td>\n",
       "      <td>0</td>\n",
       "    </tr>\n",
       "    <tr>\n",
       "      <th>29824705</th>\n",
       "      <td>tt9916720</td>\n",
       "      <td>9</td>\n",
       "      <td>The Possessed Nun</td>\n",
       "      <td>XEU</td>\n",
       "      <td>en</td>\n",
       "      <td>alternative</td>\n",
       "      <td>\\N</td>\n",
       "      <td>0</td>\n",
       "    </tr>\n",
       "  </tbody>\n",
       "</table>\n",
       "<p>2002196 rows × 8 columns</p>\n",
       "</div>"
      ],
      "text/plain": [
       "            titleId  ordering                      title region language  \\\n",
       "0         tt0000001         1                 Карменсіта     UA       \\N   \n",
       "1         tt0000001         2                 Carmencita     DE       \\N   \n",
       "2         tt0000001         3  Carmencita - spanyol tánc     HU       \\N   \n",
       "3         tt0000001         4                 Καρμενσίτα     GR       \\N   \n",
       "4         tt0000001         5                 Карменсита     RU       \\N   \n",
       "...             ...       ...                        ...    ...      ...   \n",
       "29824701  tt9916720         5                  The Nun 2     \\N       \\N   \n",
       "29824702  tt9916720         6                 La suora 2     IT       \\N   \n",
       "29824703  tt9916720         7                   Rahibe 2     TR       tr   \n",
       "29824704  tt9916720         8                  The Nun 2     DE       \\N   \n",
       "29824705  tt9916720         9          The Possessed Nun    XEU       en   \n",
       "\n",
       "                types     attributes isOriginalTitle  \n",
       "0         imdbDisplay             \\N               0  \n",
       "1                  \\N  literal title               0  \n",
       "2         imdbDisplay             \\N               0  \n",
       "3         imdbDisplay             \\N               0  \n",
       "4         imdbDisplay             \\N               0  \n",
       "...               ...            ...             ...  \n",
       "29824701     original             \\N               1  \n",
       "29824702  imdbDisplay             \\N               0  \n",
       "29824703  imdbDisplay             \\N               0  \n",
       "29824704  imdbDisplay             \\N               0  \n",
       "29824705  alternative             \\N               0  \n",
       "\n",
       "[2002196 rows x 8 columns]"
      ]
     },
     "execution_count": 188,
     "metadata": {},
     "output_type": "execute_result"
    }
   ],
   "source": [
    "#reduced_titles"
   ]
  },
  {
   "cell_type": "markdown",
   "id": "described-archives",
   "metadata": {},
   "source": [
    "Got it down to 2 million rows!"
   ]
  },
  {
   "cell_type": "code",
   "execution_count": 189,
   "id": "primary-power",
   "metadata": {},
   "outputs": [],
   "source": [
    "#titles = reduced_titles"
   ]
  },
  {
   "cell_type": "code",
   "execution_count": 190,
   "id": "refined-boulder",
   "metadata": {},
   "outputs": [
    {
     "data": {
      "text/plain": [
       "\\N    263721\n",
       "US    260581\n",
       "GB    121821\n",
       "FR     77552\n",
       "CA     77164\n",
       "       ...  \n",
       "ER         1\n",
       "MR         1\n",
       "SZ         1\n",
       "LR         1\n",
       "BW         1\n",
       "Name: region, Length: 210, dtype: int64"
      ]
     },
     "execution_count": 190,
     "metadata": {},
     "output_type": "execute_result"
    }
   ],
   "source": [
    "#titles[\"region\"].value_counts()"
   ]
  },
  {
   "cell_type": "code",
   "execution_count": 191,
   "id": "stopped-horizon",
   "metadata": {},
   "outputs": [
    {
     "data": {
      "text/plain": [
       "\\N     1628824\n",
       "en      137908\n",
       "ja       50568\n",
       "fr       42445\n",
       "tr       21965\n",
       "        ...   \n",
       "my           1\n",
       "ne           1\n",
       "fro          1\n",
       "rn           1\n",
       "ku           1\n",
       "Name: language, Length: 98, dtype: int64"
      ]
     },
     "execution_count": 191,
     "metadata": {},
     "output_type": "execute_result"
    }
   ],
   "source": [
    "#titles[\"language\"].value_counts()"
   ]
  },
  {
   "cell_type": "code",
   "execution_count": 192,
   "id": "naval-metropolitan",
   "metadata": {},
   "outputs": [
    {
     "data": {
      "text/plain": [
       "imdbDisplay             1190149\n",
       "\\N                       452198\n",
       "original                 240209\n",
       "alternative               35334\n",
       "working                   25779\n",
       "dvd                       18334\n",
       "video                     17180\n",
       "tv                        14222\n",
       "festival                   8363\n",
       "dvd\u0002imdbDisplay             238\n",
       "imdbDisplay\u0002tv               68\n",
       "festival\u0002imdbDisplay         48\n",
       "imdbDisplay\u0002video            22\n",
       "imdbDisplay\u0002working          10\n",
       "alternative\u0002tv                9\n",
       "tv\u0002video                      7\n",
       "alternative\u0002dvd               6\n",
       "video\u0002working                 5\n",
       "tv\u0002working                    4\n",
       "alternative\u0002working           4\n",
       "dvd\u0002video                     2\n",
       "alternative\u0002festival          2\n",
       "alternative\u0002video             2\n",
       "festival\u0002working              1\n",
       "Name: types, dtype: int64"
      ]
     },
     "execution_count": 192,
     "metadata": {},
     "output_type": "execute_result"
    }
   ],
   "source": [
    "#titles[\"types\"].value_counts()"
   ]
  },
  {
   "cell_type": "code",
   "execution_count": 195,
   "id": "threatened-dragon",
   "metadata": {},
   "outputs": [
    {
     "data": {
      "text/plain": [
       "titleId            object\n",
       "ordering            int64\n",
       "title              object\n",
       "region             object\n",
       "language           object\n",
       "types              object\n",
       "attributes         object\n",
       "isOriginalTitle    object\n",
       "dtype: object"
      ]
     },
     "execution_count": 195,
     "metadata": {},
     "output_type": "execute_result"
    }
   ],
   "source": [
    "#titles.dtypes"
   ]
  },
  {
   "cell_type": "code",
   "execution_count": 196,
   "id": "variable-lunch",
   "metadata": {},
   "outputs": [
    {
     "data": {
      "text/plain": [
       "0    1294845\n",
       "0     467142\n",
       "1     186450\n",
       "1      53759\n",
       "Name: isOriginalTitle, dtype: int64"
      ]
     },
     "execution_count": 196,
     "metadata": {},
     "output_type": "execute_result"
    }
   ],
   "source": [
    "#titles[\"isOriginalTitle\"].value_counts()"
   ]
  },
  {
   "cell_type": "code",
   "execution_count": 197,
   "id": "corrected-activity",
   "metadata": {},
   "outputs": [
    {
     "data": {
      "text/plain": [
       "0    1761987\n",
       "1     240209\n",
       "Name: isOriginalTitle, dtype: int64"
      ]
     },
     "execution_count": 197,
     "metadata": {},
     "output_type": "execute_result"
    }
   ],
   "source": [
    "#titles[\"isOriginalTitle\"].astype(int).value_counts()"
   ]
  },
  {
   "cell_type": "code",
   "execution_count": 198,
   "id": "monetary-resolution",
   "metadata": {},
   "outputs": [
    {
     "name": "stderr",
     "output_type": "stream",
     "text": [
      "<ipython-input-198-100b572a2482>:1: SettingWithCopyWarning: \n",
      "A value is trying to be set on a copy of a slice from a DataFrame.\n",
      "Try using .loc[row_indexer,col_indexer] = value instead\n",
      "\n",
      "See the caveats in the documentation: https://pandas.pydata.org/pandas-docs/stable/user_guide/indexing.html#returning-a-view-versus-a-copy\n",
      "  titles[\"isOriginalTitle\"] = titles[\"isOriginalTitle\"].astype(int)\n"
     ]
    }
   ],
   "source": [
    "#titles[\"isOriginalTitle\"] = titles[\"isOriginalTitle\"].astype(int)"
   ]
  },
  {
   "cell_type": "code",
   "execution_count": 199,
   "id": "charged-iraqi",
   "metadata": {},
   "outputs": [
    {
     "data": {
      "text/plain": [
       "0"
      ]
     },
     "execution_count": 199,
     "metadata": {},
     "output_type": "execute_result"
    }
   ],
   "source": [
    "#titles[\"isOriginalTitle\"].isna().sum()"
   ]
  },
  {
   "cell_type": "code",
   "execution_count": 202,
   "id": "subject-poison",
   "metadata": {},
   "outputs": [
    {
     "data": {
      "text/plain": [
       "73126"
      ]
     },
     "execution_count": 202,
     "metadata": {},
     "output_type": "execute_result"
    }
   ],
   "source": [
    "#(titles.groupby(\"titleId\")[\"isOriginalTitle\"].sum().sort_values() != 1).sum()"
   ]
  },
  {
   "cell_type": "markdown",
   "id": "ideal-demand",
   "metadata": {},
   "source": [
    "A decent portion of our 350k titles don't have a single original title"
   ]
  },
  {
   "cell_type": "markdown",
   "id": "hourly-turner",
   "metadata": {},
   "source": [
    "# Bringing in Title, Format, Genre, Year, Runtime"
   ]
  },
  {
   "cell_type": "code",
   "execution_count": 374,
   "id": "divine-aberdeen",
   "metadata": {},
   "outputs": [
    {
     "data": {
      "text/plain": [
       "31168"
      ]
     },
     "execution_count": 374,
     "metadata": {},
     "output_type": "execute_result"
    }
   ],
   "source": [
    "gc.collect()"
   ]
  },
  {
   "cell_type": "markdown",
   "id": "major-praise",
   "metadata": {},
   "source": [
    "This has the title identifier, the media format (film vs tv show), the title, the original title, the year of origin, the length, whether it's adult, and the genres"
   ]
  },
  {
   "cell_type": "markdown",
   "id": "african-processor",
   "metadata": {},
   "source": [
    "One of the first uses here is going to be in determining which entries are movies."
   ]
  },
  {
   "cell_type": "code",
   "execution_count": 205,
   "id": "incident-concert",
   "metadata": {},
   "outputs": [
    {
     "name": "stderr",
     "output_type": "stream",
     "text": [
      "/Users/jordanlong/.pyenv/versions/3.8.5/lib/python3.8/site-packages/IPython/core/interactiveshell.py:3165: DtypeWarning: Columns (4,5) have mixed types.Specify dtype option on import or set low_memory=False.\n",
      "  has_raised = await self.run_ast_nodes(code_ast.body, cell_name,\n"
     ]
    }
   ],
   "source": [
    "basics = pd.read_csv(\"title.basics.tsv\", sep=\"\\t\")"
   ]
  },
  {
   "cell_type": "code",
   "execution_count": 207,
   "id": "funded-local",
   "metadata": {},
   "outputs": [
    {
     "data": {
      "text/plain": [
       "0"
      ]
     },
     "execution_count": 207,
     "metadata": {},
     "output_type": "execute_result"
    }
   ],
   "source": [
    "basics[\"tconst\"].duplicated().sum()"
   ]
  },
  {
   "cell_type": "markdown",
   "id": "revised-nevada",
   "metadata": {},
   "source": [
    "Getting it down to just the titles we have in our ratings dataset"
   ]
  },
  {
   "cell_type": "code",
   "execution_count": 208,
   "id": "altered-globe",
   "metadata": {},
   "outputs": [],
   "source": [
    "test = basics[basics[\"tconst\"].isin(d[\"movie\"])]"
   ]
  },
  {
   "cell_type": "code",
   "execution_count": 209,
   "id": "tough-shuttle",
   "metadata": {},
   "outputs": [
    {
     "data": {
      "text/html": [
       "<div>\n",
       "<style scoped>\n",
       "    .dataframe tbody tr th:only-of-type {\n",
       "        vertical-align: middle;\n",
       "    }\n",
       "\n",
       "    .dataframe tbody tr th {\n",
       "        vertical-align: top;\n",
       "    }\n",
       "\n",
       "    .dataframe thead th {\n",
       "        text-align: right;\n",
       "    }\n",
       "</style>\n",
       "<table border=\"1\" class=\"dataframe\">\n",
       "  <thead>\n",
       "    <tr style=\"text-align: right;\">\n",
       "      <th></th>\n",
       "      <th>tconst</th>\n",
       "      <th>titleType</th>\n",
       "      <th>primaryTitle</th>\n",
       "      <th>originalTitle</th>\n",
       "      <th>isAdult</th>\n",
       "      <th>startYear</th>\n",
       "      <th>endYear</th>\n",
       "      <th>runtimeMinutes</th>\n",
       "      <th>genres</th>\n",
       "    </tr>\n",
       "  </thead>\n",
       "  <tbody>\n",
       "    <tr>\n",
       "      <th>0</th>\n",
       "      <td>tt0000001</td>\n",
       "      <td>short</td>\n",
       "      <td>Carmencita</td>\n",
       "      <td>Carmencita</td>\n",
       "      <td>0</td>\n",
       "      <td>1894</td>\n",
       "      <td>\\N</td>\n",
       "      <td>1</td>\n",
       "      <td>Documentary,Short</td>\n",
       "    </tr>\n",
       "    <tr>\n",
       "      <th>2</th>\n",
       "      <td>tt0000003</td>\n",
       "      <td>short</td>\n",
       "      <td>Pauvre Pierrot</td>\n",
       "      <td>Pauvre Pierrot</td>\n",
       "      <td>0</td>\n",
       "      <td>1892</td>\n",
       "      <td>\\N</td>\n",
       "      <td>4</td>\n",
       "      <td>Animation,Comedy,Romance</td>\n",
       "    </tr>\n",
       "    <tr>\n",
       "      <th>4</th>\n",
       "      <td>tt0000005</td>\n",
       "      <td>short</td>\n",
       "      <td>Blacksmith Scene</td>\n",
       "      <td>Blacksmith Scene</td>\n",
       "      <td>0</td>\n",
       "      <td>1893</td>\n",
       "      <td>\\N</td>\n",
       "      <td>1</td>\n",
       "      <td>Comedy,Short</td>\n",
       "    </tr>\n",
       "    <tr>\n",
       "      <th>6</th>\n",
       "      <td>tt0000007</td>\n",
       "      <td>short</td>\n",
       "      <td>Corbett and Courtney Before the Kinetograph</td>\n",
       "      <td>Corbett and Courtney Before the Kinetograph</td>\n",
       "      <td>0</td>\n",
       "      <td>1894</td>\n",
       "      <td>\\N</td>\n",
       "      <td>1</td>\n",
       "      <td>Short,Sport</td>\n",
       "    </tr>\n",
       "    <tr>\n",
       "      <th>7</th>\n",
       "      <td>tt0000008</td>\n",
       "      <td>short</td>\n",
       "      <td>Edison Kinetoscopic Record of a Sneeze</td>\n",
       "      <td>Edison Kinetoscopic Record of a Sneeze</td>\n",
       "      <td>0</td>\n",
       "      <td>1894</td>\n",
       "      <td>\\N</td>\n",
       "      <td>1</td>\n",
       "      <td>Documentary,Short</td>\n",
       "    </tr>\n",
       "    <tr>\n",
       "      <th>...</th>\n",
       "      <td>...</td>\n",
       "      <td>...</td>\n",
       "      <td>...</td>\n",
       "      <td>...</td>\n",
       "      <td>...</td>\n",
       "      <td>...</td>\n",
       "      <td>...</td>\n",
       "      <td>...</td>\n",
       "      <td>...</td>\n",
       "    </tr>\n",
       "    <tr>\n",
       "      <th>8468302</th>\n",
       "      <td>tt9916204</td>\n",
       "      <td>tvEpisode</td>\n",
       "      <td>Better Angels</td>\n",
       "      <td>Better Angels</td>\n",
       "      <td>0</td>\n",
       "      <td>2019</td>\n",
       "      <td>\\N</td>\n",
       "      <td>42</td>\n",
       "      <td>Drama,Thriller</td>\n",
       "    </tr>\n",
       "    <tr>\n",
       "      <th>8468335</th>\n",
       "      <td>tt9916270</td>\n",
       "      <td>movie</td>\n",
       "      <td>Il talento del calabrone</td>\n",
       "      <td>Il talento del calabrone</td>\n",
       "      <td>0</td>\n",
       "      <td>2020</td>\n",
       "      <td>\\N</td>\n",
       "      <td>84</td>\n",
       "      <td>Thriller</td>\n",
       "    </tr>\n",
       "    <tr>\n",
       "      <th>8468380</th>\n",
       "      <td>tt9916362</td>\n",
       "      <td>movie</td>\n",
       "      <td>Coven</td>\n",
       "      <td>Akelarre</td>\n",
       "      <td>0</td>\n",
       "      <td>2020</td>\n",
       "      <td>\\N</td>\n",
       "      <td>92</td>\n",
       "      <td>Drama,History</td>\n",
       "    </tr>\n",
       "    <tr>\n",
       "      <th>8468412</th>\n",
       "      <td>tt9916428</td>\n",
       "      <td>movie</td>\n",
       "      <td>The Secret of China</td>\n",
       "      <td>Hong xing zhao yao Zhong guo</td>\n",
       "      <td>0</td>\n",
       "      <td>2019</td>\n",
       "      <td>\\N</td>\n",
       "      <td>\\N</td>\n",
       "      <td>Adventure,History,War</td>\n",
       "    </tr>\n",
       "    <tr>\n",
       "      <th>8468552</th>\n",
       "      <td>tt9916720</td>\n",
       "      <td>short</td>\n",
       "      <td>The Nun 2</td>\n",
       "      <td>The Nun 2</td>\n",
       "      <td>0</td>\n",
       "      <td>2019</td>\n",
       "      <td>\\N</td>\n",
       "      <td>10</td>\n",
       "      <td>Comedy,Horror,Mystery</td>\n",
       "    </tr>\n",
       "  </tbody>\n",
       "</table>\n",
       "<p>350259 rows × 9 columns</p>\n",
       "</div>"
      ],
      "text/plain": [
       "            tconst  titleType                                 primaryTitle  \\\n",
       "0        tt0000001      short                                   Carmencita   \n",
       "2        tt0000003      short                               Pauvre Pierrot   \n",
       "4        tt0000005      short                             Blacksmith Scene   \n",
       "6        tt0000007      short  Corbett and Courtney Before the Kinetograph   \n",
       "7        tt0000008      short       Edison Kinetoscopic Record of a Sneeze   \n",
       "...            ...        ...                                          ...   \n",
       "8468302  tt9916204  tvEpisode                                Better Angels   \n",
       "8468335  tt9916270      movie                     Il talento del calabrone   \n",
       "8468380  tt9916362      movie                                        Coven   \n",
       "8468412  tt9916428      movie                          The Secret of China   \n",
       "8468552  tt9916720      short                                    The Nun 2   \n",
       "\n",
       "                                       originalTitle isAdult startYear  \\\n",
       "0                                         Carmencita       0      1894   \n",
       "2                                     Pauvre Pierrot       0      1892   \n",
       "4                                   Blacksmith Scene       0      1893   \n",
       "6        Corbett and Courtney Before the Kinetograph       0      1894   \n",
       "7             Edison Kinetoscopic Record of a Sneeze       0      1894   \n",
       "...                                              ...     ...       ...   \n",
       "8468302                                Better Angels       0      2019   \n",
       "8468335                     Il talento del calabrone       0      2020   \n",
       "8468380                                     Akelarre       0      2020   \n",
       "8468412                 Hong xing zhao yao Zhong guo       0      2019   \n",
       "8468552                                    The Nun 2       0      2019   \n",
       "\n",
       "        endYear runtimeMinutes                    genres  \n",
       "0            \\N              1         Documentary,Short  \n",
       "2            \\N              4  Animation,Comedy,Romance  \n",
       "4            \\N              1              Comedy,Short  \n",
       "6            \\N              1               Short,Sport  \n",
       "7            \\N              1         Documentary,Short  \n",
       "...         ...            ...                       ...  \n",
       "8468302      \\N             42            Drama,Thriller  \n",
       "8468335      \\N             84                  Thriller  \n",
       "8468380      \\N             92             Drama,History  \n",
       "8468412      \\N             \\N     Adventure,History,War  \n",
       "8468552      \\N             10     Comedy,Horror,Mystery  \n",
       "\n",
       "[350259 rows x 9 columns]"
      ]
     },
     "execution_count": 209,
     "metadata": {},
     "output_type": "execute_result"
    }
   ],
   "source": [
    "test"
   ]
  },
  {
   "cell_type": "code",
   "execution_count": 210,
   "id": "activated-hands",
   "metadata": {},
   "outputs": [],
   "source": [
    "basics = test"
   ]
  },
  {
   "cell_type": "code",
   "execution_count": 212,
   "id": "respective-northeast",
   "metadata": {},
   "outputs": [
    {
     "data": {
      "text/plain": [
       "movie           139631\n",
       "tvEpisode       100281\n",
       "short            35937\n",
       "tvSeries         27340\n",
       "tvMovie          19333\n",
       "video            15085\n",
       "tvMiniSeries      4767\n",
       "videoGame         4099\n",
       "tvSpecial         3071\n",
       "tvShort            715\n",
       "Name: titleType, dtype: int64"
      ]
     },
     "execution_count": 212,
     "metadata": {},
     "output_type": "execute_result"
    }
   ],
   "source": [
    "basics[\"titleType\"].value_counts()"
   ]
  },
  {
   "cell_type": "code",
   "execution_count": 225,
   "id": "deadly-jersey",
   "metadata": {},
   "outputs": [
    {
     "data": {
      "text/plain": [
       "0"
      ]
     },
     "execution_count": 225,
     "metadata": {},
     "output_type": "execute_result"
    }
   ],
   "source": [
    "basics[\"titleType\"].isna().sum()"
   ]
  },
  {
   "cell_type": "code",
   "execution_count": 213,
   "id": "immediate-contribution",
   "metadata": {},
   "outputs": [
    {
     "data": {
      "text/plain": [
       "0    345886\n",
       "1      3871\n",
       "0       497\n",
       "1         5\n",
       "Name: isAdult, dtype: int64"
      ]
     },
     "execution_count": 213,
     "metadata": {},
     "output_type": "execute_result"
    }
   ],
   "source": [
    "basics[\"isAdult\"].value_counts()"
   ]
  },
  {
   "cell_type": "code",
   "execution_count": 214,
   "id": "passing-frederick",
   "metadata": {},
   "outputs": [
    {
     "data": {
      "text/plain": [
       "tconst            0\n",
       "titleType         0\n",
       "primaryTitle      0\n",
       "originalTitle     0\n",
       "isAdult           0\n",
       "startYear         0\n",
       "endYear           0\n",
       "runtimeMinutes    0\n",
       "genres            0\n",
       "dtype: int64"
      ]
     },
     "execution_count": 214,
     "metadata": {},
     "output_type": "execute_result"
    }
   ],
   "source": [
    "basics.isna().sum()"
   ]
  },
  {
   "cell_type": "code",
   "execution_count": 215,
   "id": "protecting-knife",
   "metadata": {},
   "outputs": [
    {
     "name": "stderr",
     "output_type": "stream",
     "text": [
      "<ipython-input-215-3dfbce6bfe8d>:1: SettingWithCopyWarning: \n",
      "A value is trying to be set on a copy of a slice from a DataFrame.\n",
      "Try using .loc[row_indexer,col_indexer] = value instead\n",
      "\n",
      "See the caveats in the documentation: https://pandas.pydata.org/pandas-docs/stable/user_guide/indexing.html#returning-a-view-versus-a-copy\n",
      "  basics[\"isAdult\"] = basics[\"isAdult\"].astype(int)\n"
     ]
    }
   ],
   "source": [
    "basics[\"isAdult\"] = basics[\"isAdult\"].astype(int)"
   ]
  },
  {
   "cell_type": "code",
   "execution_count": 216,
   "id": "french-fetish",
   "metadata": {},
   "outputs": [
    {
     "data": {
      "text/plain": [
       "2019    16149\n",
       "2018    14831\n",
       "2017    14072\n",
       "2016    11603\n",
       "2015    11274\n",
       "        ...  \n",
       "1989        1\n",
       "1983        1\n",
       "1981        1\n",
       "1980        1\n",
       "1883        1\n",
       "Name: startYear, Length: 237, dtype: int64"
      ]
     },
     "execution_count": 216,
     "metadata": {},
     "output_type": "execute_result"
    }
   ],
   "source": [
    "basics[\"startYear\"].value_counts()"
   ]
  },
  {
   "cell_type": "code",
   "execution_count": 218,
   "id": "individual-circulation",
   "metadata": {},
   "outputs": [
    {
     "data": {
      "text/plain": [
       "2019    16149\n",
       "2018    14831\n",
       "2017    14072\n",
       "2016    11603\n",
       "2015    11274\n",
       "2020    11017\n",
       "2014    10773\n",
       "2013    10189\n",
       "2012     9761\n",
       "2011     9420\n",
       "Name: startYear, dtype: int64"
      ]
     },
     "execution_count": 218,
     "metadata": {},
     "output_type": "execute_result"
    }
   ],
   "source": [
    "basics[\"startYear\"].value_counts()[:10]"
   ]
  },
  {
   "cell_type": "code",
   "execution_count": 226,
   "id": "incorporate-motor",
   "metadata": {},
   "outputs": [
    {
     "data": {
      "text/html": [
       "<div>\n",
       "<style scoped>\n",
       "    .dataframe tbody tr th:only-of-type {\n",
       "        vertical-align: middle;\n",
       "    }\n",
       "\n",
       "    .dataframe tbody tr th {\n",
       "        vertical-align: top;\n",
       "    }\n",
       "\n",
       "    .dataframe thead th {\n",
       "        text-align: right;\n",
       "    }\n",
       "</style>\n",
       "<table border=\"1\" class=\"dataframe\">\n",
       "  <thead>\n",
       "    <tr style=\"text-align: right;\">\n",
       "      <th></th>\n",
       "      <th>tconst</th>\n",
       "      <th>titleType</th>\n",
       "      <th>primaryTitle</th>\n",
       "      <th>originalTitle</th>\n",
       "      <th>isAdult</th>\n",
       "      <th>startYear</th>\n",
       "      <th>endYear</th>\n",
       "      <th>runtimeMinutes</th>\n",
       "      <th>genres</th>\n",
       "    </tr>\n",
       "  </thead>\n",
       "  <tbody>\n",
       "    <tr>\n",
       "      <th>570</th>\n",
       "      <td>tt0000574</td>\n",
       "      <td>movie</td>\n",
       "      <td>The Story of the Kelly Gang</td>\n",
       "      <td>The Story of the Kelly Gang</td>\n",
       "      <td>0</td>\n",
       "      <td>1906</td>\n",
       "      <td>\\N</td>\n",
       "      <td>70</td>\n",
       "      <td>Action,Adventure,Biography</td>\n",
       "    </tr>\n",
       "    <tr>\n",
       "      <th>1246</th>\n",
       "      <td>tt0001258</td>\n",
       "      <td>movie</td>\n",
       "      <td>The White Slave Trade</td>\n",
       "      <td>Den hvide slavehandel</td>\n",
       "      <td>0</td>\n",
       "      <td>1910</td>\n",
       "      <td>\\N</td>\n",
       "      <td>45</td>\n",
       "      <td>Drama</td>\n",
       "    </tr>\n",
       "    <tr>\n",
       "      <th>1273</th>\n",
       "      <td>tt0001285</td>\n",
       "      <td>movie</td>\n",
       "      <td>The Life of Moses</td>\n",
       "      <td>The Life of Moses</td>\n",
       "      <td>0</td>\n",
       "      <td>1909</td>\n",
       "      <td>\\N</td>\n",
       "      <td>50</td>\n",
       "      <td>Biography,Drama,Family</td>\n",
       "    </tr>\n",
       "    <tr>\n",
       "      <th>1578</th>\n",
       "      <td>tt0001592</td>\n",
       "      <td>movie</td>\n",
       "      <td>In the Prime of Life</td>\n",
       "      <td>Ekspeditricen</td>\n",
       "      <td>0</td>\n",
       "      <td>1911</td>\n",
       "      <td>\\N</td>\n",
       "      <td>52</td>\n",
       "      <td>Drama</td>\n",
       "    </tr>\n",
       "    <tr>\n",
       "      <th>1872</th>\n",
       "      <td>tt0001892</td>\n",
       "      <td>movie</td>\n",
       "      <td>Den sorte drøm</td>\n",
       "      <td>Den sorte drøm</td>\n",
       "      <td>0</td>\n",
       "      <td>1911</td>\n",
       "      <td>\\N</td>\n",
       "      <td>53</td>\n",
       "      <td>Drama</td>\n",
       "    </tr>\n",
       "    <tr>\n",
       "      <th>...</th>\n",
       "      <td>...</td>\n",
       "      <td>...</td>\n",
       "      <td>...</td>\n",
       "      <td>...</td>\n",
       "      <td>...</td>\n",
       "      <td>...</td>\n",
       "      <td>...</td>\n",
       "      <td>...</td>\n",
       "      <td>...</td>\n",
       "    </tr>\n",
       "    <tr>\n",
       "      <th>8467596</th>\n",
       "      <td>tt9914644</td>\n",
       "      <td>movie</td>\n",
       "      <td>9/11: Escape from the Towers</td>\n",
       "      <td>9/11: Escape from the Towers</td>\n",
       "      <td>0</td>\n",
       "      <td>2018</td>\n",
       "      <td>\\N</td>\n",
       "      <td>120</td>\n",
       "      <td>Documentary</td>\n",
       "    </tr>\n",
       "    <tr>\n",
       "      <th>8468296</th>\n",
       "      <td>tt9916190</td>\n",
       "      <td>movie</td>\n",
       "      <td>Safeguard</td>\n",
       "      <td>Safeguard</td>\n",
       "      <td>0</td>\n",
       "      <td>2020</td>\n",
       "      <td>\\N</td>\n",
       "      <td>90</td>\n",
       "      <td>Action,Adventure,Thriller</td>\n",
       "    </tr>\n",
       "    <tr>\n",
       "      <th>8468335</th>\n",
       "      <td>tt9916270</td>\n",
       "      <td>movie</td>\n",
       "      <td>Il talento del calabrone</td>\n",
       "      <td>Il talento del calabrone</td>\n",
       "      <td>0</td>\n",
       "      <td>2020</td>\n",
       "      <td>\\N</td>\n",
       "      <td>84</td>\n",
       "      <td>Thriller</td>\n",
       "    </tr>\n",
       "    <tr>\n",
       "      <th>8468380</th>\n",
       "      <td>tt9916362</td>\n",
       "      <td>movie</td>\n",
       "      <td>Coven</td>\n",
       "      <td>Akelarre</td>\n",
       "      <td>0</td>\n",
       "      <td>2020</td>\n",
       "      <td>\\N</td>\n",
       "      <td>92</td>\n",
       "      <td>Drama,History</td>\n",
       "    </tr>\n",
       "    <tr>\n",
       "      <th>8468412</th>\n",
       "      <td>tt9916428</td>\n",
       "      <td>movie</td>\n",
       "      <td>The Secret of China</td>\n",
       "      <td>Hong xing zhao yao Zhong guo</td>\n",
       "      <td>0</td>\n",
       "      <td>2019</td>\n",
       "      <td>\\N</td>\n",
       "      <td>\\N</td>\n",
       "      <td>Adventure,History,War</td>\n",
       "    </tr>\n",
       "  </tbody>\n",
       "</table>\n",
       "<p>139631 rows × 9 columns</p>\n",
       "</div>"
      ],
      "text/plain": [
       "            tconst titleType                  primaryTitle  \\\n",
       "570      tt0000574     movie   The Story of the Kelly Gang   \n",
       "1246     tt0001258     movie         The White Slave Trade   \n",
       "1273     tt0001285     movie             The Life of Moses   \n",
       "1578     tt0001592     movie          In the Prime of Life   \n",
       "1872     tt0001892     movie                Den sorte drøm   \n",
       "...            ...       ...                           ...   \n",
       "8467596  tt9914644     movie  9/11: Escape from the Towers   \n",
       "8468296  tt9916190     movie                     Safeguard   \n",
       "8468335  tt9916270     movie      Il talento del calabrone   \n",
       "8468380  tt9916362     movie                         Coven   \n",
       "8468412  tt9916428     movie           The Secret of China   \n",
       "\n",
       "                        originalTitle  isAdult startYear endYear  \\\n",
       "570       The Story of the Kelly Gang        0      1906      \\N   \n",
       "1246            Den hvide slavehandel        0      1910      \\N   \n",
       "1273                The Life of Moses        0      1909      \\N   \n",
       "1578                    Ekspeditricen        0      1911      \\N   \n",
       "1872                   Den sorte drøm        0      1911      \\N   \n",
       "...                               ...      ...       ...     ...   \n",
       "8467596  9/11: Escape from the Towers        0      2018      \\N   \n",
       "8468296                     Safeguard        0      2020      \\N   \n",
       "8468335      Il talento del calabrone        0      2020      \\N   \n",
       "8468380                      Akelarre        0      2020      \\N   \n",
       "8468412  Hong xing zhao yao Zhong guo        0      2019      \\N   \n",
       "\n",
       "        runtimeMinutes                      genres  \n",
       "570                 70  Action,Adventure,Biography  \n",
       "1246                45                       Drama  \n",
       "1273                50      Biography,Drama,Family  \n",
       "1578                52                       Drama  \n",
       "1872                53                       Drama  \n",
       "...                ...                         ...  \n",
       "8467596            120                 Documentary  \n",
       "8468296             90   Action,Adventure,Thriller  \n",
       "8468335             84                    Thriller  \n",
       "8468380             92               Drama,History  \n",
       "8468412             \\N       Adventure,History,War  \n",
       "\n",
       "[139631 rows x 9 columns]"
      ]
     },
     "execution_count": 226,
     "metadata": {},
     "output_type": "execute_result"
    }
   ],
   "source": [
    "basics[basics[\"titleType\"] == \"movie\"]"
   ]
  },
  {
   "cell_type": "markdown",
   "id": "abandoned-spring",
   "metadata": {},
   "source": [
    "Check that there's no dupes"
   ]
  },
  {
   "cell_type": "code",
   "execution_count": 233,
   "id": "southwest-bookmark",
   "metadata": {},
   "outputs": [
    {
     "data": {
      "text/plain": [
       "tt0638252    1\n",
       "tt0170691    1\n",
       "tt0177443    1\n",
       "tt2633894    1\n",
       "tt0127523    1\n",
       "            ..\n",
       "tt0946364    1\n",
       "tt2141875    1\n",
       "tt0205152    1\n",
       "tt0522865    1\n",
       "tt1422477    1\n",
       "Name: tconst, Length: 350259, dtype: int64"
      ]
     },
     "execution_count": 233,
     "metadata": {},
     "output_type": "execute_result"
    }
   ],
   "source": [
    "basics[\"tconst\"].value_counts()"
   ]
  },
  {
   "cell_type": "markdown",
   "id": "incorporated-consumption",
   "metadata": {},
   "source": [
    "We're good."
   ]
  },
  {
   "cell_type": "code",
   "execution_count": 227,
   "id": "maritime-invalid",
   "metadata": {},
   "outputs": [],
   "source": [
    "# what are the movies?\n",
    "sample = pd.merge(left=d,right=basics[basics[\"titleType\"] == \"movie\"], left_on=\"movie\", right_on=\"tconst\")"
   ]
  },
  {
   "cell_type": "code",
   "execution_count": 271,
   "id": "plastic-karma",
   "metadata": {},
   "outputs": [
    {
     "data": {
      "text/html": [
       "<div>\n",
       "<style scoped>\n",
       "    .dataframe tbody tr th:only-of-type {\n",
       "        vertical-align: middle;\n",
       "    }\n",
       "\n",
       "    .dataframe tbody tr th {\n",
       "        vertical-align: top;\n",
       "    }\n",
       "\n",
       "    .dataframe thead th {\n",
       "        text-align: right;\n",
       "    }\n",
       "</style>\n",
       "<table border=\"1\" class=\"dataframe\">\n",
       "  <thead>\n",
       "    <tr style=\"text-align: right;\">\n",
       "      <th></th>\n",
       "      <th>user</th>\n",
       "      <th>movie</th>\n",
       "      <th>rating</th>\n",
       "      <th>date</th>\n",
       "      <th>userdate</th>\n",
       "      <th>year</th>\n",
       "      <th>month</th>\n",
       "    </tr>\n",
       "  </thead>\n",
       "  <tbody>\n",
       "    <tr>\n",
       "      <th>0</th>\n",
       "      <td>ur4592644</td>\n",
       "      <td>tt0120884</td>\n",
       "      <td>10</td>\n",
       "      <td>2005-01-16</td>\n",
       "      <td>ur459264416 January 2005</td>\n",
       "      <td>2005</td>\n",
       "      <td>1</td>\n",
       "    </tr>\n",
       "    <tr>\n",
       "      <th>1</th>\n",
       "      <td>ur3174947</td>\n",
       "      <td>tt0118688</td>\n",
       "      <td>3</td>\n",
       "      <td>2005-01-16</td>\n",
       "      <td>ur317494716 January 2005</td>\n",
       "      <td>2005</td>\n",
       "      <td>1</td>\n",
       "    </tr>\n",
       "    <tr>\n",
       "      <th>2</th>\n",
       "      <td>ur3780035</td>\n",
       "      <td>tt0387887</td>\n",
       "      <td>8</td>\n",
       "      <td>2005-01-16</td>\n",
       "      <td>ur378003516 January 2005</td>\n",
       "      <td>2005</td>\n",
       "      <td>1</td>\n",
       "    </tr>\n",
       "    <tr>\n",
       "      <th>3</th>\n",
       "      <td>ur4592628</td>\n",
       "      <td>tt0346491</td>\n",
       "      <td>1</td>\n",
       "      <td>2005-01-16</td>\n",
       "      <td>ur459262816 January 2005</td>\n",
       "      <td>2005</td>\n",
       "      <td>1</td>\n",
       "    </tr>\n",
       "    <tr>\n",
       "      <th>4</th>\n",
       "      <td>ur3174947</td>\n",
       "      <td>tt0094721</td>\n",
       "      <td>8</td>\n",
       "      <td>2005-01-16</td>\n",
       "      <td>ur317494716 January 2005</td>\n",
       "      <td>2005</td>\n",
       "      <td>1</td>\n",
       "    </tr>\n",
       "    <tr>\n",
       "      <th>...</th>\n",
       "      <td>...</td>\n",
       "      <td>...</td>\n",
       "      <td>...</td>\n",
       "      <td>...</td>\n",
       "      <td>...</td>\n",
       "      <td>...</td>\n",
       "      <td>...</td>\n",
       "    </tr>\n",
       "    <tr>\n",
       "      <th>4669815</th>\n",
       "      <td>ur0581842</td>\n",
       "      <td>tt0107977</td>\n",
       "      <td>6</td>\n",
       "      <td>2005-01-16</td>\n",
       "      <td>ur058184216 January 2005</td>\n",
       "      <td>2005</td>\n",
       "      <td>1</td>\n",
       "    </tr>\n",
       "    <tr>\n",
       "      <th>4669816</th>\n",
       "      <td>ur3174947</td>\n",
       "      <td>tt0103776</td>\n",
       "      <td>8</td>\n",
       "      <td>2005-01-16</td>\n",
       "      <td>ur317494716 January 2005</td>\n",
       "      <td>2005</td>\n",
       "      <td>1</td>\n",
       "    </tr>\n",
       "    <tr>\n",
       "      <th>4669817</th>\n",
       "      <td>ur4592639</td>\n",
       "      <td>tt0107423</td>\n",
       "      <td>9</td>\n",
       "      <td>2005-01-16</td>\n",
       "      <td>ur459263916 January 2005</td>\n",
       "      <td>2005</td>\n",
       "      <td>1</td>\n",
       "    </tr>\n",
       "    <tr>\n",
       "      <th>4669818</th>\n",
       "      <td>ur4581944</td>\n",
       "      <td>tt0102614</td>\n",
       "      <td>8</td>\n",
       "      <td>2005-01-16</td>\n",
       "      <td>ur458194416 January 2005</td>\n",
       "      <td>2005</td>\n",
       "      <td>1</td>\n",
       "    </tr>\n",
       "    <tr>\n",
       "      <th>4669819</th>\n",
       "      <td>ur1162550</td>\n",
       "      <td>tt0325596</td>\n",
       "      <td>7</td>\n",
       "      <td>2005-01-16</td>\n",
       "      <td>ur116255016 January 2005</td>\n",
       "      <td>2005</td>\n",
       "      <td>1</td>\n",
       "    </tr>\n",
       "  </tbody>\n",
       "</table>\n",
       "<p>4669820 rows × 7 columns</p>\n",
       "</div>"
      ],
      "text/plain": [
       "              user      movie  rating       date                  userdate  \\\n",
       "0        ur4592644  tt0120884      10 2005-01-16  ur459264416 January 2005   \n",
       "1        ur3174947  tt0118688       3 2005-01-16  ur317494716 January 2005   \n",
       "2        ur3780035  tt0387887       8 2005-01-16  ur378003516 January 2005   \n",
       "3        ur4592628  tt0346491       1 2005-01-16  ur459262816 January 2005   \n",
       "4        ur3174947  tt0094721       8 2005-01-16  ur317494716 January 2005   \n",
       "...            ...        ...     ...        ...                       ...   \n",
       "4669815  ur0581842  tt0107977       6 2005-01-16  ur058184216 January 2005   \n",
       "4669816  ur3174947  tt0103776       8 2005-01-16  ur317494716 January 2005   \n",
       "4669817  ur4592639  tt0107423       9 2005-01-16  ur459263916 January 2005   \n",
       "4669818  ur4581944  tt0102614       8 2005-01-16  ur458194416 January 2005   \n",
       "4669819  ur1162550  tt0325596       7 2005-01-16  ur116255016 January 2005   \n",
       "\n",
       "         year  month  \n",
       "0        2005      1  \n",
       "1        2005      1  \n",
       "2        2005      1  \n",
       "3        2005      1  \n",
       "4        2005      1  \n",
       "...       ...    ...  \n",
       "4669815  2005      1  \n",
       "4669816  2005      1  \n",
       "4669817  2005      1  \n",
       "4669818  2005      1  \n",
       "4669819  2005      1  \n",
       "\n",
       "[4669820 rows x 7 columns]"
      ]
     },
     "execution_count": 271,
     "metadata": {},
     "output_type": "execute_result"
    }
   ],
   "source": [
    "d"
   ]
  },
  {
   "cell_type": "code",
   "execution_count": 228,
   "id": "fitted-print",
   "metadata": {},
   "outputs": [
    {
     "data": {
      "text/html": [
       "<div>\n",
       "<style scoped>\n",
       "    .dataframe tbody tr th:only-of-type {\n",
       "        vertical-align: middle;\n",
       "    }\n",
       "\n",
       "    .dataframe tbody tr th {\n",
       "        vertical-align: top;\n",
       "    }\n",
       "\n",
       "    .dataframe thead th {\n",
       "        text-align: right;\n",
       "    }\n",
       "</style>\n",
       "<table border=\"1\" class=\"dataframe\">\n",
       "  <thead>\n",
       "    <tr style=\"text-align: right;\">\n",
       "      <th></th>\n",
       "      <th>user</th>\n",
       "      <th>movie</th>\n",
       "      <th>rating</th>\n",
       "      <th>date</th>\n",
       "      <th>userdate</th>\n",
       "      <th>year</th>\n",
       "      <th>month</th>\n",
       "      <th>tconst</th>\n",
       "      <th>titleType</th>\n",
       "      <th>primaryTitle</th>\n",
       "      <th>originalTitle</th>\n",
       "      <th>isAdult</th>\n",
       "      <th>startYear</th>\n",
       "      <th>endYear</th>\n",
       "      <th>runtimeMinutes</th>\n",
       "      <th>genres</th>\n",
       "    </tr>\n",
       "  </thead>\n",
       "  <tbody>\n",
       "    <tr>\n",
       "      <th>0</th>\n",
       "      <td>ur4592644</td>\n",
       "      <td>tt0120884</td>\n",
       "      <td>10</td>\n",
       "      <td>2005-01-16</td>\n",
       "      <td>ur459264416 January 2005</td>\n",
       "      <td>2005</td>\n",
       "      <td>1</td>\n",
       "      <td>tt0120884</td>\n",
       "      <td>movie</td>\n",
       "      <td>When the Light Comes</td>\n",
       "      <td>When the Light Comes</td>\n",
       "      <td>0</td>\n",
       "      <td>1998</td>\n",
       "      <td>\\N</td>\n",
       "      <td>115</td>\n",
       "      <td>Adventure,Drama,Romance</td>\n",
       "    </tr>\n",
       "    <tr>\n",
       "      <th>1</th>\n",
       "      <td>ur9036543</td>\n",
       "      <td>tt0120884</td>\n",
       "      <td>8</td>\n",
       "      <td>2006-01-24</td>\n",
       "      <td>ur903654324 January 2006</td>\n",
       "      <td>2006</td>\n",
       "      <td>1</td>\n",
       "      <td>tt0120884</td>\n",
       "      <td>movie</td>\n",
       "      <td>When the Light Comes</td>\n",
       "      <td>When the Light Comes</td>\n",
       "      <td>0</td>\n",
       "      <td>1998</td>\n",
       "      <td>\\N</td>\n",
       "      <td>115</td>\n",
       "      <td>Adventure,Drama,Romance</td>\n",
       "    </tr>\n",
       "    <tr>\n",
       "      <th>2</th>\n",
       "      <td>ur11167152</td>\n",
       "      <td>tt0120884</td>\n",
       "      <td>8</td>\n",
       "      <td>2011-06-14</td>\n",
       "      <td>ur1116715214 June 2011</td>\n",
       "      <td>2011</td>\n",
       "      <td>6</td>\n",
       "      <td>tt0120884</td>\n",
       "      <td>movie</td>\n",
       "      <td>When the Light Comes</td>\n",
       "      <td>When the Light Comes</td>\n",
       "      <td>0</td>\n",
       "      <td>1998</td>\n",
       "      <td>\\N</td>\n",
       "      <td>115</td>\n",
       "      <td>Adventure,Drama,Romance</td>\n",
       "    </tr>\n",
       "    <tr>\n",
       "      <th>3</th>\n",
       "      <td>ur0055545</td>\n",
       "      <td>tt0120884</td>\n",
       "      <td>8</td>\n",
       "      <td>1999-05-16</td>\n",
       "      <td>ur005554516 May 1999</td>\n",
       "      <td>1999</td>\n",
       "      <td>5</td>\n",
       "      <td>tt0120884</td>\n",
       "      <td>movie</td>\n",
       "      <td>When the Light Comes</td>\n",
       "      <td>When the Light Comes</td>\n",
       "      <td>0</td>\n",
       "      <td>1998</td>\n",
       "      <td>\\N</td>\n",
       "      <td>115</td>\n",
       "      <td>Adventure,Drama,Romance</td>\n",
       "    </tr>\n",
       "    <tr>\n",
       "      <th>4</th>\n",
       "      <td>ur0338514</td>\n",
       "      <td>tt0120884</td>\n",
       "      <td>8</td>\n",
       "      <td>1999-05-22</td>\n",
       "      <td>ur033851422 May 1999</td>\n",
       "      <td>1999</td>\n",
       "      <td>5</td>\n",
       "      <td>tt0120884</td>\n",
       "      <td>movie</td>\n",
       "      <td>When the Light Comes</td>\n",
       "      <td>When the Light Comes</td>\n",
       "      <td>0</td>\n",
       "      <td>1998</td>\n",
       "      <td>\\N</td>\n",
       "      <td>115</td>\n",
       "      <td>Adventure,Drama,Romance</td>\n",
       "    </tr>\n",
       "    <tr>\n",
       "      <th>...</th>\n",
       "      <td>...</td>\n",
       "      <td>...</td>\n",
       "      <td>...</td>\n",
       "      <td>...</td>\n",
       "      <td>...</td>\n",
       "      <td>...</td>\n",
       "      <td>...</td>\n",
       "      <td>...</td>\n",
       "      <td>...</td>\n",
       "      <td>...</td>\n",
       "      <td>...</td>\n",
       "      <td>...</td>\n",
       "      <td>...</td>\n",
       "      <td>...</td>\n",
       "      <td>...</td>\n",
       "      <td>...</td>\n",
       "    </tr>\n",
       "    <tr>\n",
       "      <th>3444436</th>\n",
       "      <td>ur3574726</td>\n",
       "      <td>tt0070507</td>\n",
       "      <td>8</td>\n",
       "      <td>2005-01-12</td>\n",
       "      <td>ur357472612 January 2005</td>\n",
       "      <td>2005</td>\n",
       "      <td>1</td>\n",
       "      <td>tt0070507</td>\n",
       "      <td>movie</td>\n",
       "      <td>Panorama Blue</td>\n",
       "      <td>Panorama Blue</td>\n",
       "      <td>0</td>\n",
       "      <td>1974</td>\n",
       "      <td>\\N</td>\n",
       "      <td>82</td>\n",
       "      <td>Comedy</td>\n",
       "    </tr>\n",
       "    <tr>\n",
       "      <th>3444437</th>\n",
       "      <td>ur3513503</td>\n",
       "      <td>tt0432965</td>\n",
       "      <td>6</td>\n",
       "      <td>2005-01-12</td>\n",
       "      <td>ur351350312 January 2005</td>\n",
       "      <td>2005</td>\n",
       "      <td>1</td>\n",
       "      <td>tt0432965</td>\n",
       "      <td>movie</td>\n",
       "      <td>Mr. Patterns</td>\n",
       "      <td>Mr. Patterns</td>\n",
       "      <td>0</td>\n",
       "      <td>2004</td>\n",
       "      <td>\\N</td>\n",
       "      <td>54</td>\n",
       "      <td>Documentary</td>\n",
       "    </tr>\n",
       "    <tr>\n",
       "      <th>3444438</th>\n",
       "      <td>ur1219578</td>\n",
       "      <td>tt0287448</td>\n",
       "      <td>3</td>\n",
       "      <td>2005-01-12</td>\n",
       "      <td>ur121957812 January 2005</td>\n",
       "      <td>2005</td>\n",
       "      <td>1</td>\n",
       "      <td>tt0287448</td>\n",
       "      <td>movie</td>\n",
       "      <td>The Warrior's Brother</td>\n",
       "      <td>Le frère du guerrier</td>\n",
       "      <td>0</td>\n",
       "      <td>2002</td>\n",
       "      <td>\\N</td>\n",
       "      <td>115</td>\n",
       "      <td>Drama,History</td>\n",
       "    </tr>\n",
       "    <tr>\n",
       "      <th>3444439</th>\n",
       "      <td>ur4573074</td>\n",
       "      <td>tt0091926</td>\n",
       "      <td>10</td>\n",
       "      <td>2005-01-13</td>\n",
       "      <td>ur457307413 January 2005</td>\n",
       "      <td>2005</td>\n",
       "      <td>1</td>\n",
       "      <td>tt0091926</td>\n",
       "      <td>movie</td>\n",
       "      <td>The 17th Bride</td>\n",
       "      <td>Ha-Kala</td>\n",
       "      <td>0</td>\n",
       "      <td>1985</td>\n",
       "      <td>\\N</td>\n",
       "      <td>95</td>\n",
       "      <td>Drama</td>\n",
       "    </tr>\n",
       "    <tr>\n",
       "      <th>3444440</th>\n",
       "      <td>ur2368601</td>\n",
       "      <td>tt0074960</td>\n",
       "      <td>6</td>\n",
       "      <td>2005-01-13</td>\n",
       "      <td>ur236860113 January 2005</td>\n",
       "      <td>2005</td>\n",
       "      <td>1</td>\n",
       "      <td>tt0074960</td>\n",
       "      <td>movie</td>\n",
       "      <td>The Bride with the Most Beautiful Eyes</td>\n",
       "      <td>Nevesta s nejkrásnejsíma ocima</td>\n",
       "      <td>0</td>\n",
       "      <td>1976</td>\n",
       "      <td>\\N</td>\n",
       "      <td>82</td>\n",
       "      <td>Family,Fantasy</td>\n",
       "    </tr>\n",
       "  </tbody>\n",
       "</table>\n",
       "<p>3444441 rows × 16 columns</p>\n",
       "</div>"
      ],
      "text/plain": [
       "               user      movie  rating       date                  userdate  \\\n",
       "0         ur4592644  tt0120884      10 2005-01-16  ur459264416 January 2005   \n",
       "1         ur9036543  tt0120884       8 2006-01-24  ur903654324 January 2006   \n",
       "2        ur11167152  tt0120884       8 2011-06-14    ur1116715214 June 2011   \n",
       "3         ur0055545  tt0120884       8 1999-05-16      ur005554516 May 1999   \n",
       "4         ur0338514  tt0120884       8 1999-05-22      ur033851422 May 1999   \n",
       "...             ...        ...     ...        ...                       ...   \n",
       "3444436   ur3574726  tt0070507       8 2005-01-12  ur357472612 January 2005   \n",
       "3444437   ur3513503  tt0432965       6 2005-01-12  ur351350312 January 2005   \n",
       "3444438   ur1219578  tt0287448       3 2005-01-12  ur121957812 January 2005   \n",
       "3444439   ur4573074  tt0091926      10 2005-01-13  ur457307413 January 2005   \n",
       "3444440   ur2368601  tt0074960       6 2005-01-13  ur236860113 January 2005   \n",
       "\n",
       "         year  month     tconst titleType  \\\n",
       "0        2005      1  tt0120884     movie   \n",
       "1        2006      1  tt0120884     movie   \n",
       "2        2011      6  tt0120884     movie   \n",
       "3        1999      5  tt0120884     movie   \n",
       "4        1999      5  tt0120884     movie   \n",
       "...       ...    ...        ...       ...   \n",
       "3444436  2005      1  tt0070507     movie   \n",
       "3444437  2005      1  tt0432965     movie   \n",
       "3444438  2005      1  tt0287448     movie   \n",
       "3444439  2005      1  tt0091926     movie   \n",
       "3444440  2005      1  tt0074960     movie   \n",
       "\n",
       "                                   primaryTitle  \\\n",
       "0                          When the Light Comes   \n",
       "1                          When the Light Comes   \n",
       "2                          When the Light Comes   \n",
       "3                          When the Light Comes   \n",
       "4                          When the Light Comes   \n",
       "...                                         ...   \n",
       "3444436                           Panorama Blue   \n",
       "3444437                            Mr. Patterns   \n",
       "3444438                   The Warrior's Brother   \n",
       "3444439                          The 17th Bride   \n",
       "3444440  The Bride with the Most Beautiful Eyes   \n",
       "\n",
       "                          originalTitle  isAdult startYear endYear  \\\n",
       "0                  When the Light Comes        0      1998      \\N   \n",
       "1                  When the Light Comes        0      1998      \\N   \n",
       "2                  When the Light Comes        0      1998      \\N   \n",
       "3                  When the Light Comes        0      1998      \\N   \n",
       "4                  When the Light Comes        0      1998      \\N   \n",
       "...                                 ...      ...       ...     ...   \n",
       "3444436                   Panorama Blue        0      1974      \\N   \n",
       "3444437                    Mr. Patterns        0      2004      \\N   \n",
       "3444438            Le frère du guerrier        0      2002      \\N   \n",
       "3444439                         Ha-Kala        0      1985      \\N   \n",
       "3444440  Nevesta s nejkrásnejsíma ocima        0      1976      \\N   \n",
       "\n",
       "        runtimeMinutes                   genres  \n",
       "0                  115  Adventure,Drama,Romance  \n",
       "1                  115  Adventure,Drama,Romance  \n",
       "2                  115  Adventure,Drama,Romance  \n",
       "3                  115  Adventure,Drama,Romance  \n",
       "4                  115  Adventure,Drama,Romance  \n",
       "...                ...                      ...  \n",
       "3444436             82                   Comedy  \n",
       "3444437             54              Documentary  \n",
       "3444438            115            Drama,History  \n",
       "3444439             95                    Drama  \n",
       "3444440             82           Family,Fantasy  \n",
       "\n",
       "[3444441 rows x 16 columns]"
      ]
     },
     "execution_count": 228,
     "metadata": {},
     "output_type": "execute_result"
    }
   ],
   "source": [
    "sample"
   ]
  },
  {
   "cell_type": "markdown",
   "id": "czech-liverpool",
   "metadata": {},
   "source": [
    "We've actually lost a decent portion of our ratings dataset by doing that... I guess there are movies with ratings but no entry in basics? Or there are other formats besides movies in our ratings dataset"
   ]
  },
  {
   "cell_type": "markdown",
   "id": "invalid-session",
   "metadata": {},
   "source": [
    "Question: was everything in d also in the basic info dataset? We already cut basics down to everything in d - is there anything in d that's not in ratings?"
   ]
  },
  {
   "cell_type": "code",
   "execution_count": 274,
   "id": "identical-midwest",
   "metadata": {},
   "outputs": [
    {
     "data": {
      "text/html": [
       "<div>\n",
       "<style scoped>\n",
       "    .dataframe tbody tr th:only-of-type {\n",
       "        vertical-align: middle;\n",
       "    }\n",
       "\n",
       "    .dataframe tbody tr th {\n",
       "        vertical-align: top;\n",
       "    }\n",
       "\n",
       "    .dataframe thead th {\n",
       "        text-align: right;\n",
       "    }\n",
       "</style>\n",
       "<table border=\"1\" class=\"dataframe\">\n",
       "  <thead>\n",
       "    <tr style=\"text-align: right;\">\n",
       "      <th></th>\n",
       "      <th>tconst</th>\n",
       "      <th>titleType</th>\n",
       "      <th>primaryTitle</th>\n",
       "      <th>originalTitle</th>\n",
       "      <th>isAdult</th>\n",
       "      <th>startYear</th>\n",
       "      <th>endYear</th>\n",
       "      <th>runtimeMinutes</th>\n",
       "      <th>genres</th>\n",
       "    </tr>\n",
       "  </thead>\n",
       "  <tbody>\n",
       "    <tr>\n",
       "      <th>0</th>\n",
       "      <td>tt0000001</td>\n",
       "      <td>short</td>\n",
       "      <td>Carmencita</td>\n",
       "      <td>Carmencita</td>\n",
       "      <td>0</td>\n",
       "      <td>1894</td>\n",
       "      <td>\\N</td>\n",
       "      <td>1</td>\n",
       "      <td>Documentary,Short</td>\n",
       "    </tr>\n",
       "    <tr>\n",
       "      <th>2</th>\n",
       "      <td>tt0000003</td>\n",
       "      <td>short</td>\n",
       "      <td>Pauvre Pierrot</td>\n",
       "      <td>Pauvre Pierrot</td>\n",
       "      <td>0</td>\n",
       "      <td>1892</td>\n",
       "      <td>\\N</td>\n",
       "      <td>4</td>\n",
       "      <td>Animation,Comedy,Romance</td>\n",
       "    </tr>\n",
       "    <tr>\n",
       "      <th>4</th>\n",
       "      <td>tt0000005</td>\n",
       "      <td>short</td>\n",
       "      <td>Blacksmith Scene</td>\n",
       "      <td>Blacksmith Scene</td>\n",
       "      <td>0</td>\n",
       "      <td>1893</td>\n",
       "      <td>\\N</td>\n",
       "      <td>1</td>\n",
       "      <td>Comedy,Short</td>\n",
       "    </tr>\n",
       "    <tr>\n",
       "      <th>6</th>\n",
       "      <td>tt0000007</td>\n",
       "      <td>short</td>\n",
       "      <td>Corbett and Courtney Before the Kinetograph</td>\n",
       "      <td>Corbett and Courtney Before the Kinetograph</td>\n",
       "      <td>0</td>\n",
       "      <td>1894</td>\n",
       "      <td>\\N</td>\n",
       "      <td>1</td>\n",
       "      <td>Short,Sport</td>\n",
       "    </tr>\n",
       "    <tr>\n",
       "      <th>7</th>\n",
       "      <td>tt0000008</td>\n",
       "      <td>short</td>\n",
       "      <td>Edison Kinetoscopic Record of a Sneeze</td>\n",
       "      <td>Edison Kinetoscopic Record of a Sneeze</td>\n",
       "      <td>0</td>\n",
       "      <td>1894</td>\n",
       "      <td>\\N</td>\n",
       "      <td>1</td>\n",
       "      <td>Documentary,Short</td>\n",
       "    </tr>\n",
       "    <tr>\n",
       "      <th>...</th>\n",
       "      <td>...</td>\n",
       "      <td>...</td>\n",
       "      <td>...</td>\n",
       "      <td>...</td>\n",
       "      <td>...</td>\n",
       "      <td>...</td>\n",
       "      <td>...</td>\n",
       "      <td>...</td>\n",
       "      <td>...</td>\n",
       "    </tr>\n",
       "    <tr>\n",
       "      <th>8468302</th>\n",
       "      <td>tt9916204</td>\n",
       "      <td>tvEpisode</td>\n",
       "      <td>Better Angels</td>\n",
       "      <td>Better Angels</td>\n",
       "      <td>0</td>\n",
       "      <td>2019</td>\n",
       "      <td>\\N</td>\n",
       "      <td>42</td>\n",
       "      <td>Drama,Thriller</td>\n",
       "    </tr>\n",
       "    <tr>\n",
       "      <th>8468335</th>\n",
       "      <td>tt9916270</td>\n",
       "      <td>movie</td>\n",
       "      <td>Il talento del calabrone</td>\n",
       "      <td>Il talento del calabrone</td>\n",
       "      <td>0</td>\n",
       "      <td>2020</td>\n",
       "      <td>\\N</td>\n",
       "      <td>84</td>\n",
       "      <td>Thriller</td>\n",
       "    </tr>\n",
       "    <tr>\n",
       "      <th>8468380</th>\n",
       "      <td>tt9916362</td>\n",
       "      <td>movie</td>\n",
       "      <td>Coven</td>\n",
       "      <td>Akelarre</td>\n",
       "      <td>0</td>\n",
       "      <td>2020</td>\n",
       "      <td>\\N</td>\n",
       "      <td>92</td>\n",
       "      <td>Drama,History</td>\n",
       "    </tr>\n",
       "    <tr>\n",
       "      <th>8468412</th>\n",
       "      <td>tt9916428</td>\n",
       "      <td>movie</td>\n",
       "      <td>The Secret of China</td>\n",
       "      <td>Hong xing zhao yao Zhong guo</td>\n",
       "      <td>0</td>\n",
       "      <td>2019</td>\n",
       "      <td>\\N</td>\n",
       "      <td>\\N</td>\n",
       "      <td>Adventure,History,War</td>\n",
       "    </tr>\n",
       "    <tr>\n",
       "      <th>8468552</th>\n",
       "      <td>tt9916720</td>\n",
       "      <td>short</td>\n",
       "      <td>The Nun 2</td>\n",
       "      <td>The Nun 2</td>\n",
       "      <td>0</td>\n",
       "      <td>2019</td>\n",
       "      <td>\\N</td>\n",
       "      <td>10</td>\n",
       "      <td>Comedy,Horror,Mystery</td>\n",
       "    </tr>\n",
       "  </tbody>\n",
       "</table>\n",
       "<p>350259 rows × 9 columns</p>\n",
       "</div>"
      ],
      "text/plain": [
       "            tconst  titleType                                 primaryTitle  \\\n",
       "0        tt0000001      short                                   Carmencita   \n",
       "2        tt0000003      short                               Pauvre Pierrot   \n",
       "4        tt0000005      short                             Blacksmith Scene   \n",
       "6        tt0000007      short  Corbett and Courtney Before the Kinetograph   \n",
       "7        tt0000008      short       Edison Kinetoscopic Record of a Sneeze   \n",
       "...            ...        ...                                          ...   \n",
       "8468302  tt9916204  tvEpisode                                Better Angels   \n",
       "8468335  tt9916270      movie                     Il talento del calabrone   \n",
       "8468380  tt9916362      movie                                        Coven   \n",
       "8468412  tt9916428      movie                          The Secret of China   \n",
       "8468552  tt9916720      short                                    The Nun 2   \n",
       "\n",
       "                                       originalTitle  isAdult startYear  \\\n",
       "0                                         Carmencita        0      1894   \n",
       "2                                     Pauvre Pierrot        0      1892   \n",
       "4                                   Blacksmith Scene        0      1893   \n",
       "6        Corbett and Courtney Before the Kinetograph        0      1894   \n",
       "7             Edison Kinetoscopic Record of a Sneeze        0      1894   \n",
       "...                                              ...      ...       ...   \n",
       "8468302                                Better Angels        0      2019   \n",
       "8468335                     Il talento del calabrone        0      2020   \n",
       "8468380                                     Akelarre        0      2020   \n",
       "8468412                 Hong xing zhao yao Zhong guo        0      2019   \n",
       "8468552                                    The Nun 2        0      2019   \n",
       "\n",
       "        endYear runtimeMinutes                    genres  \n",
       "0            \\N              1         Documentary,Short  \n",
       "2            \\N              4  Animation,Comedy,Romance  \n",
       "4            \\N              1              Comedy,Short  \n",
       "6            \\N              1               Short,Sport  \n",
       "7            \\N              1         Documentary,Short  \n",
       "...         ...            ...                       ...  \n",
       "8468302      \\N             42            Drama,Thriller  \n",
       "8468335      \\N             84                  Thriller  \n",
       "8468380      \\N             92             Drama,History  \n",
       "8468412      \\N             \\N     Adventure,History,War  \n",
       "8468552      \\N             10     Comedy,Horror,Mystery  \n",
       "\n",
       "[350259 rows x 9 columns]"
      ]
     },
     "execution_count": 274,
     "metadata": {},
     "output_type": "execute_result"
    }
   ],
   "source": [
    "basics"
   ]
  },
  {
   "cell_type": "markdown",
   "id": "ecological-anxiety",
   "metadata": {},
   "source": [
    "I would expect this to be 0 if the basics dataset was complete."
   ]
  },
  {
   "cell_type": "code",
   "execution_count": 276,
   "id": "considerable-selection",
   "metadata": {},
   "outputs": [
    {
     "data": {
      "text/plain": [
       "850"
      ]
     },
     "execution_count": 276,
     "metadata": {},
     "output_type": "execute_result"
    }
   ],
   "source": [
    "len(set(d[\"movie\"]) - set(basics[\"tconst\"]))"
   ]
  },
  {
   "cell_type": "markdown",
   "id": "resistant-settle",
   "metadata": {},
   "source": [
    "Interesting... what are these movies that aren't in the basics dataset?"
   ]
  },
  {
   "cell_type": "code",
   "execution_count": 278,
   "id": "fiscal-exception",
   "metadata": {},
   "outputs": [],
   "source": [
    "missing_tconsts = set(d[\"movie\"]) - set(basics[\"tconst\"])"
   ]
  },
  {
   "cell_type": "code",
   "execution_count": 281,
   "id": "juvenile-positive",
   "metadata": {},
   "outputs": [],
   "source": [
    "missing_movies = d[d[\"movie\"].isin(missing_tconsts)]"
   ]
  },
  {
   "cell_type": "code",
   "execution_count": 282,
   "id": "higher-identity",
   "metadata": {},
   "outputs": [
    {
     "data": {
      "text/html": [
       "<div>\n",
       "<style scoped>\n",
       "    .dataframe tbody tr th:only-of-type {\n",
       "        vertical-align: middle;\n",
       "    }\n",
       "\n",
       "    .dataframe tbody tr th {\n",
       "        vertical-align: top;\n",
       "    }\n",
       "\n",
       "    .dataframe thead th {\n",
       "        text-align: right;\n",
       "    }\n",
       "</style>\n",
       "<table border=\"1\" class=\"dataframe\">\n",
       "  <thead>\n",
       "    <tr style=\"text-align: right;\">\n",
       "      <th></th>\n",
       "      <th>user</th>\n",
       "      <th>movie</th>\n",
       "      <th>rating</th>\n",
       "      <th>date</th>\n",
       "      <th>userdate</th>\n",
       "      <th>year</th>\n",
       "      <th>month</th>\n",
       "    </tr>\n",
       "  </thead>\n",
       "  <tbody>\n",
       "    <tr>\n",
       "      <th>17627</th>\n",
       "      <td>ur0137908</td>\n",
       "      <td>tt0088263</td>\n",
       "      <td>8</td>\n",
       "      <td>2005-02-19</td>\n",
       "      <td>ur013790819 February 2005</td>\n",
       "      <td>2005</td>\n",
       "      <td>2</td>\n",
       "    </tr>\n",
       "    <tr>\n",
       "      <th>42233</th>\n",
       "      <td>ur5127048</td>\n",
       "      <td>tt0232677</td>\n",
       "      <td>10</td>\n",
       "      <td>2005-04-11</td>\n",
       "      <td>ur512704811 April 2005</td>\n",
       "      <td>2005</td>\n",
       "      <td>4</td>\n",
       "    </tr>\n",
       "    <tr>\n",
       "      <th>54980</th>\n",
       "      <td>ur0999795</td>\n",
       "      <td>tt0114038</td>\n",
       "      <td>10</td>\n",
       "      <td>2005-05-08</td>\n",
       "      <td>ur09997958 May 2005</td>\n",
       "      <td>2005</td>\n",
       "      <td>5</td>\n",
       "    </tr>\n",
       "    <tr>\n",
       "      <th>70698</th>\n",
       "      <td>ur2600145</td>\n",
       "      <td>tt0114038</td>\n",
       "      <td>8</td>\n",
       "      <td>2005-06-06</td>\n",
       "      <td>ur26001456 June 2005</td>\n",
       "      <td>2005</td>\n",
       "      <td>6</td>\n",
       "    </tr>\n",
       "    <tr>\n",
       "      <th>75343</th>\n",
       "      <td>ur4518596</td>\n",
       "      <td>tt0088263</td>\n",
       "      <td>10</td>\n",
       "      <td>2005-06-14</td>\n",
       "      <td>ur451859614 June 2005</td>\n",
       "      <td>2005</td>\n",
       "      <td>6</td>\n",
       "    </tr>\n",
       "    <tr>\n",
       "      <th>...</th>\n",
       "      <td>...</td>\n",
       "      <td>...</td>\n",
       "      <td>...</td>\n",
       "      <td>...</td>\n",
       "      <td>...</td>\n",
       "      <td>...</td>\n",
       "      <td>...</td>\n",
       "    </tr>\n",
       "    <tr>\n",
       "      <th>4623969</th>\n",
       "      <td>ur3372498</td>\n",
       "      <td>tt0353789</td>\n",
       "      <td>7</td>\n",
       "      <td>2004-08-28</td>\n",
       "      <td>ur337249828 August 2004</td>\n",
       "      <td>2004</td>\n",
       "      <td>8</td>\n",
       "    </tr>\n",
       "    <tr>\n",
       "      <th>4624534</th>\n",
       "      <td>ur1938756</td>\n",
       "      <td>tt0357084</td>\n",
       "      <td>10</td>\n",
       "      <td>2003-07-17</td>\n",
       "      <td>ur193875617 July 2003</td>\n",
       "      <td>2003</td>\n",
       "      <td>7</td>\n",
       "    </tr>\n",
       "    <tr>\n",
       "      <th>4624535</th>\n",
       "      <td>ur2623599</td>\n",
       "      <td>tt0357084</td>\n",
       "      <td>9</td>\n",
       "      <td>2003-08-12</td>\n",
       "      <td>ur262359912 August 2003</td>\n",
       "      <td>2003</td>\n",
       "      <td>8</td>\n",
       "    </tr>\n",
       "    <tr>\n",
       "      <th>4640918</th>\n",
       "      <td>ur1293485</td>\n",
       "      <td>tt0124288</td>\n",
       "      <td>8</td>\n",
       "      <td>2004-10-20</td>\n",
       "      <td>ur129348520 October 2004</td>\n",
       "      <td>2004</td>\n",
       "      <td>10</td>\n",
       "    </tr>\n",
       "    <tr>\n",
       "      <th>4641719</th>\n",
       "      <td>ur4127343</td>\n",
       "      <td>tt0088263</td>\n",
       "      <td>10</td>\n",
       "      <td>2004-10-24</td>\n",
       "      <td>ur412734324 October 2004</td>\n",
       "      <td>2004</td>\n",
       "      <td>10</td>\n",
       "    </tr>\n",
       "  </tbody>\n",
       "</table>\n",
       "<p>3440 rows × 7 columns</p>\n",
       "</div>"
      ],
      "text/plain": [
       "              user      movie  rating       date                   userdate  \\\n",
       "17627    ur0137908  tt0088263       8 2005-02-19  ur013790819 February 2005   \n",
       "42233    ur5127048  tt0232677      10 2005-04-11     ur512704811 April 2005   \n",
       "54980    ur0999795  tt0114038      10 2005-05-08        ur09997958 May 2005   \n",
       "70698    ur2600145  tt0114038       8 2005-06-06       ur26001456 June 2005   \n",
       "75343    ur4518596  tt0088263      10 2005-06-14      ur451859614 June 2005   \n",
       "...            ...        ...     ...        ...                        ...   \n",
       "4623969  ur3372498  tt0353789       7 2004-08-28    ur337249828 August 2004   \n",
       "4624534  ur1938756  tt0357084      10 2003-07-17      ur193875617 July 2003   \n",
       "4624535  ur2623599  tt0357084       9 2003-08-12    ur262359912 August 2003   \n",
       "4640918  ur1293485  tt0124288       8 2004-10-20   ur129348520 October 2004   \n",
       "4641719  ur4127343  tt0088263      10 2004-10-24   ur412734324 October 2004   \n",
       "\n",
       "         year  month  \n",
       "17627    2005      2  \n",
       "42233    2005      4  \n",
       "54980    2005      5  \n",
       "70698    2005      6  \n",
       "75343    2005      6  \n",
       "...       ...    ...  \n",
       "4623969  2004      8  \n",
       "4624534  2003      7  \n",
       "4624535  2003      8  \n",
       "4640918  2004     10  \n",
       "4641719  2004     10  \n",
       "\n",
       "[3440 rows x 7 columns]"
      ]
     },
     "execution_count": 282,
     "metadata": {},
     "output_type": "execute_result"
    }
   ],
   "source": [
    "missing_movies"
   ]
  },
  {
   "cell_type": "markdown",
   "id": "organizational-corner",
   "metadata": {},
   "source": [
    "This is only 3.5k reviews... small beans"
   ]
  },
  {
   "cell_type": "code",
   "execution_count": 283,
   "id": "conscious-dietary",
   "metadata": {},
   "outputs": [
    {
     "data": {
      "text/html": [
       "<div>\n",
       "<style scoped>\n",
       "    .dataframe tbody tr th:only-of-type {\n",
       "        vertical-align: middle;\n",
       "    }\n",
       "\n",
       "    .dataframe tbody tr th {\n",
       "        vertical-align: top;\n",
       "    }\n",
       "\n",
       "    .dataframe thead th {\n",
       "        text-align: right;\n",
       "    }\n",
       "</style>\n",
       "<table border=\"1\" class=\"dataframe\">\n",
       "  <thead>\n",
       "    <tr style=\"text-align: right;\">\n",
       "      <th></th>\n",
       "      <th>user</th>\n",
       "      <th>movie</th>\n",
       "      <th>rating</th>\n",
       "      <th>date</th>\n",
       "      <th>userdate</th>\n",
       "      <th>year</th>\n",
       "      <th>month</th>\n",
       "      <th>tconst</th>\n",
       "      <th>titleType</th>\n",
       "      <th>primaryTitle</th>\n",
       "      <th>originalTitle</th>\n",
       "      <th>isAdult</th>\n",
       "      <th>startYear</th>\n",
       "      <th>endYear</th>\n",
       "      <th>runtimeMinutes</th>\n",
       "      <th>genres</th>\n",
       "    </tr>\n",
       "  </thead>\n",
       "  <tbody>\n",
       "    <tr>\n",
       "      <th>0</th>\n",
       "      <td>ur4592644</td>\n",
       "      <td>tt0120884</td>\n",
       "      <td>10</td>\n",
       "      <td>2005-01-16</td>\n",
       "      <td>ur459264416 January 2005</td>\n",
       "      <td>2005</td>\n",
       "      <td>1</td>\n",
       "      <td>tt0120884</td>\n",
       "      <td>movie</td>\n",
       "      <td>When the Light Comes</td>\n",
       "      <td>When the Light Comes</td>\n",
       "      <td>0</td>\n",
       "      <td>1998</td>\n",
       "      <td>\\N</td>\n",
       "      <td>115</td>\n",
       "      <td>Adventure,Drama,Romance</td>\n",
       "    </tr>\n",
       "    <tr>\n",
       "      <th>1</th>\n",
       "      <td>ur9036543</td>\n",
       "      <td>tt0120884</td>\n",
       "      <td>8</td>\n",
       "      <td>2006-01-24</td>\n",
       "      <td>ur903654324 January 2006</td>\n",
       "      <td>2006</td>\n",
       "      <td>1</td>\n",
       "      <td>tt0120884</td>\n",
       "      <td>movie</td>\n",
       "      <td>When the Light Comes</td>\n",
       "      <td>When the Light Comes</td>\n",
       "      <td>0</td>\n",
       "      <td>1998</td>\n",
       "      <td>\\N</td>\n",
       "      <td>115</td>\n",
       "      <td>Adventure,Drama,Romance</td>\n",
       "    </tr>\n",
       "    <tr>\n",
       "      <th>2</th>\n",
       "      <td>ur11167152</td>\n",
       "      <td>tt0120884</td>\n",
       "      <td>8</td>\n",
       "      <td>2011-06-14</td>\n",
       "      <td>ur1116715214 June 2011</td>\n",
       "      <td>2011</td>\n",
       "      <td>6</td>\n",
       "      <td>tt0120884</td>\n",
       "      <td>movie</td>\n",
       "      <td>When the Light Comes</td>\n",
       "      <td>When the Light Comes</td>\n",
       "      <td>0</td>\n",
       "      <td>1998</td>\n",
       "      <td>\\N</td>\n",
       "      <td>115</td>\n",
       "      <td>Adventure,Drama,Romance</td>\n",
       "    </tr>\n",
       "    <tr>\n",
       "      <th>3</th>\n",
       "      <td>ur0055545</td>\n",
       "      <td>tt0120884</td>\n",
       "      <td>8</td>\n",
       "      <td>1999-05-16</td>\n",
       "      <td>ur005554516 May 1999</td>\n",
       "      <td>1999</td>\n",
       "      <td>5</td>\n",
       "      <td>tt0120884</td>\n",
       "      <td>movie</td>\n",
       "      <td>When the Light Comes</td>\n",
       "      <td>When the Light Comes</td>\n",
       "      <td>0</td>\n",
       "      <td>1998</td>\n",
       "      <td>\\N</td>\n",
       "      <td>115</td>\n",
       "      <td>Adventure,Drama,Romance</td>\n",
       "    </tr>\n",
       "    <tr>\n",
       "      <th>4</th>\n",
       "      <td>ur0338514</td>\n",
       "      <td>tt0120884</td>\n",
       "      <td>8</td>\n",
       "      <td>1999-05-22</td>\n",
       "      <td>ur033851422 May 1999</td>\n",
       "      <td>1999</td>\n",
       "      <td>5</td>\n",
       "      <td>tt0120884</td>\n",
       "      <td>movie</td>\n",
       "      <td>When the Light Comes</td>\n",
       "      <td>When the Light Comes</td>\n",
       "      <td>0</td>\n",
       "      <td>1998</td>\n",
       "      <td>\\N</td>\n",
       "      <td>115</td>\n",
       "      <td>Adventure,Drama,Romance</td>\n",
       "    </tr>\n",
       "    <tr>\n",
       "      <th>...</th>\n",
       "      <td>...</td>\n",
       "      <td>...</td>\n",
       "      <td>...</td>\n",
       "      <td>...</td>\n",
       "      <td>...</td>\n",
       "      <td>...</td>\n",
       "      <td>...</td>\n",
       "      <td>...</td>\n",
       "      <td>...</td>\n",
       "      <td>...</td>\n",
       "      <td>...</td>\n",
       "      <td>...</td>\n",
       "      <td>...</td>\n",
       "      <td>...</td>\n",
       "      <td>...</td>\n",
       "      <td>...</td>\n",
       "    </tr>\n",
       "    <tr>\n",
       "      <th>3444436</th>\n",
       "      <td>ur3574726</td>\n",
       "      <td>tt0070507</td>\n",
       "      <td>8</td>\n",
       "      <td>2005-01-12</td>\n",
       "      <td>ur357472612 January 2005</td>\n",
       "      <td>2005</td>\n",
       "      <td>1</td>\n",
       "      <td>tt0070507</td>\n",
       "      <td>movie</td>\n",
       "      <td>Panorama Blue</td>\n",
       "      <td>Panorama Blue</td>\n",
       "      <td>0</td>\n",
       "      <td>1974</td>\n",
       "      <td>\\N</td>\n",
       "      <td>82</td>\n",
       "      <td>Comedy</td>\n",
       "    </tr>\n",
       "    <tr>\n",
       "      <th>3444437</th>\n",
       "      <td>ur3513503</td>\n",
       "      <td>tt0432965</td>\n",
       "      <td>6</td>\n",
       "      <td>2005-01-12</td>\n",
       "      <td>ur351350312 January 2005</td>\n",
       "      <td>2005</td>\n",
       "      <td>1</td>\n",
       "      <td>tt0432965</td>\n",
       "      <td>movie</td>\n",
       "      <td>Mr. Patterns</td>\n",
       "      <td>Mr. Patterns</td>\n",
       "      <td>0</td>\n",
       "      <td>2004</td>\n",
       "      <td>\\N</td>\n",
       "      <td>54</td>\n",
       "      <td>Documentary</td>\n",
       "    </tr>\n",
       "    <tr>\n",
       "      <th>3444438</th>\n",
       "      <td>ur1219578</td>\n",
       "      <td>tt0287448</td>\n",
       "      <td>3</td>\n",
       "      <td>2005-01-12</td>\n",
       "      <td>ur121957812 January 2005</td>\n",
       "      <td>2005</td>\n",
       "      <td>1</td>\n",
       "      <td>tt0287448</td>\n",
       "      <td>movie</td>\n",
       "      <td>The Warrior's Brother</td>\n",
       "      <td>Le frère du guerrier</td>\n",
       "      <td>0</td>\n",
       "      <td>2002</td>\n",
       "      <td>\\N</td>\n",
       "      <td>115</td>\n",
       "      <td>Drama,History</td>\n",
       "    </tr>\n",
       "    <tr>\n",
       "      <th>3444439</th>\n",
       "      <td>ur4573074</td>\n",
       "      <td>tt0091926</td>\n",
       "      <td>10</td>\n",
       "      <td>2005-01-13</td>\n",
       "      <td>ur457307413 January 2005</td>\n",
       "      <td>2005</td>\n",
       "      <td>1</td>\n",
       "      <td>tt0091926</td>\n",
       "      <td>movie</td>\n",
       "      <td>The 17th Bride</td>\n",
       "      <td>Ha-Kala</td>\n",
       "      <td>0</td>\n",
       "      <td>1985</td>\n",
       "      <td>\\N</td>\n",
       "      <td>95</td>\n",
       "      <td>Drama</td>\n",
       "    </tr>\n",
       "    <tr>\n",
       "      <th>3444440</th>\n",
       "      <td>ur2368601</td>\n",
       "      <td>tt0074960</td>\n",
       "      <td>6</td>\n",
       "      <td>2005-01-13</td>\n",
       "      <td>ur236860113 January 2005</td>\n",
       "      <td>2005</td>\n",
       "      <td>1</td>\n",
       "      <td>tt0074960</td>\n",
       "      <td>movie</td>\n",
       "      <td>The Bride with the Most Beautiful Eyes</td>\n",
       "      <td>Nevesta s nejkrásnejsíma ocima</td>\n",
       "      <td>0</td>\n",
       "      <td>1976</td>\n",
       "      <td>\\N</td>\n",
       "      <td>82</td>\n",
       "      <td>Family,Fantasy</td>\n",
       "    </tr>\n",
       "  </tbody>\n",
       "</table>\n",
       "<p>3444441 rows × 16 columns</p>\n",
       "</div>"
      ],
      "text/plain": [
       "               user      movie  rating       date                  userdate  \\\n",
       "0         ur4592644  tt0120884      10 2005-01-16  ur459264416 January 2005   \n",
       "1         ur9036543  tt0120884       8 2006-01-24  ur903654324 January 2006   \n",
       "2        ur11167152  tt0120884       8 2011-06-14    ur1116715214 June 2011   \n",
       "3         ur0055545  tt0120884       8 1999-05-16      ur005554516 May 1999   \n",
       "4         ur0338514  tt0120884       8 1999-05-22      ur033851422 May 1999   \n",
       "...             ...        ...     ...        ...                       ...   \n",
       "3444436   ur3574726  tt0070507       8 2005-01-12  ur357472612 January 2005   \n",
       "3444437   ur3513503  tt0432965       6 2005-01-12  ur351350312 January 2005   \n",
       "3444438   ur1219578  tt0287448       3 2005-01-12  ur121957812 January 2005   \n",
       "3444439   ur4573074  tt0091926      10 2005-01-13  ur457307413 January 2005   \n",
       "3444440   ur2368601  tt0074960       6 2005-01-13  ur236860113 January 2005   \n",
       "\n",
       "         year  month     tconst titleType  \\\n",
       "0        2005      1  tt0120884     movie   \n",
       "1        2006      1  tt0120884     movie   \n",
       "2        2011      6  tt0120884     movie   \n",
       "3        1999      5  tt0120884     movie   \n",
       "4        1999      5  tt0120884     movie   \n",
       "...       ...    ...        ...       ...   \n",
       "3444436  2005      1  tt0070507     movie   \n",
       "3444437  2005      1  tt0432965     movie   \n",
       "3444438  2005      1  tt0287448     movie   \n",
       "3444439  2005      1  tt0091926     movie   \n",
       "3444440  2005      1  tt0074960     movie   \n",
       "\n",
       "                                   primaryTitle  \\\n",
       "0                          When the Light Comes   \n",
       "1                          When the Light Comes   \n",
       "2                          When the Light Comes   \n",
       "3                          When the Light Comes   \n",
       "4                          When the Light Comes   \n",
       "...                                         ...   \n",
       "3444436                           Panorama Blue   \n",
       "3444437                            Mr. Patterns   \n",
       "3444438                   The Warrior's Brother   \n",
       "3444439                          The 17th Bride   \n",
       "3444440  The Bride with the Most Beautiful Eyes   \n",
       "\n",
       "                          originalTitle  isAdult startYear endYear  \\\n",
       "0                  When the Light Comes        0      1998      \\N   \n",
       "1                  When the Light Comes        0      1998      \\N   \n",
       "2                  When the Light Comes        0      1998      \\N   \n",
       "3                  When the Light Comes        0      1998      \\N   \n",
       "4                  When the Light Comes        0      1998      \\N   \n",
       "...                                 ...      ...       ...     ...   \n",
       "3444436                   Panorama Blue        0      1974      \\N   \n",
       "3444437                    Mr. Patterns        0      2004      \\N   \n",
       "3444438            Le frère du guerrier        0      2002      \\N   \n",
       "3444439                         Ha-Kala        0      1985      \\N   \n",
       "3444440  Nevesta s nejkrásnejsíma ocima        0      1976      \\N   \n",
       "\n",
       "        runtimeMinutes                   genres  \n",
       "0                  115  Adventure,Drama,Romance  \n",
       "1                  115  Adventure,Drama,Romance  \n",
       "2                  115  Adventure,Drama,Romance  \n",
       "3                  115  Adventure,Drama,Romance  \n",
       "4                  115  Adventure,Drama,Romance  \n",
       "...                ...                      ...  \n",
       "3444436             82                   Comedy  \n",
       "3444437             54              Documentary  \n",
       "3444438            115            Drama,History  \n",
       "3444439             95                    Drama  \n",
       "3444440             82           Family,Fantasy  \n",
       "\n",
       "[3444441 rows x 16 columns]"
      ]
     },
     "execution_count": 283,
     "metadata": {},
     "output_type": "execute_result"
    }
   ],
   "source": [
    "sample"
   ]
  },
  {
   "cell_type": "code",
   "execution_count": 284,
   "id": "swedish-martin",
   "metadata": {},
   "outputs": [
    {
     "data": {
      "text/plain": [
       "(4669820, 7)"
      ]
     },
     "execution_count": 284,
     "metadata": {},
     "output_type": "execute_result"
    }
   ],
   "source": [
    "d.shape"
   ]
  },
  {
   "cell_type": "code",
   "execution_count": 285,
   "id": "sized-disabled",
   "metadata": {},
   "outputs": [
    {
     "data": {
      "text/plain": [
       "(350259, 9)"
      ]
     },
     "execution_count": 285,
     "metadata": {},
     "output_type": "execute_result"
    }
   ],
   "source": [
    "basics.shape"
   ]
  },
  {
   "cell_type": "markdown",
   "id": "minimal-jewel",
   "metadata": {},
   "source": [
    "# Bringing in Data on Ratings and Votes"
   ]
  },
  {
   "cell_type": "code",
   "execution_count": 219,
   "id": "diagnostic-clause",
   "metadata": {},
   "outputs": [],
   "source": [
    "ratings = pd.read_csv(\"title.ratings.tsv\", sep=\"\\t\")"
   ]
  },
  {
   "cell_type": "code",
   "execution_count": 221,
   "id": "acoustic-generator",
   "metadata": {},
   "outputs": [],
   "source": [
    "ratings = ratings[ratings[\"tconst\"].isin(d[\"movie\"])]"
   ]
  },
  {
   "cell_type": "markdown",
   "id": "ignored-madagascar",
   "metadata": {},
   "source": [
    "Note that these ratings are not necessarily what's displayed on IMDb I don't think, since they probably have some filtering to make their rating"
   ]
  },
  {
   "cell_type": "code",
   "execution_count": 290,
   "id": "national-frequency",
   "metadata": {},
   "outputs": [
    {
     "data": {
      "text/html": [
       "<div>\n",
       "<style scoped>\n",
       "    .dataframe tbody tr th:only-of-type {\n",
       "        vertical-align: middle;\n",
       "    }\n",
       "\n",
       "    .dataframe tbody tr th {\n",
       "        vertical-align: top;\n",
       "    }\n",
       "\n",
       "    .dataframe thead th {\n",
       "        text-align: right;\n",
       "    }\n",
       "</style>\n",
       "<table border=\"1\" class=\"dataframe\">\n",
       "  <thead>\n",
       "    <tr style=\"text-align: right;\">\n",
       "      <th></th>\n",
       "      <th>tconst</th>\n",
       "      <th>averageRating</th>\n",
       "      <th>numVotes</th>\n",
       "    </tr>\n",
       "  </thead>\n",
       "  <tbody>\n",
       "    <tr>\n",
       "      <th>0</th>\n",
       "      <td>tt0000001</td>\n",
       "      <td>5.7</td>\n",
       "      <td>1839</td>\n",
       "    </tr>\n",
       "    <tr>\n",
       "      <th>2</th>\n",
       "      <td>tt0000003</td>\n",
       "      <td>6.5</td>\n",
       "      <td>1599</td>\n",
       "    </tr>\n",
       "    <tr>\n",
       "      <th>4</th>\n",
       "      <td>tt0000005</td>\n",
       "      <td>6.2</td>\n",
       "      <td>2416</td>\n",
       "    </tr>\n",
       "    <tr>\n",
       "      <th>6</th>\n",
       "      <td>tt0000007</td>\n",
       "      <td>5.4</td>\n",
       "      <td>755</td>\n",
       "    </tr>\n",
       "    <tr>\n",
       "      <th>7</th>\n",
       "      <td>tt0000008</td>\n",
       "      <td>5.5</td>\n",
       "      <td>1983</td>\n",
       "    </tr>\n",
       "    <tr>\n",
       "      <th>...</th>\n",
       "      <td>...</td>\n",
       "      <td>...</td>\n",
       "      <td>...</td>\n",
       "    </tr>\n",
       "    <tr>\n",
       "      <th>1197172</th>\n",
       "      <td>tt9916204</td>\n",
       "      <td>8.2</td>\n",
       "      <td>219</td>\n",
       "    </tr>\n",
       "    <tr>\n",
       "      <th>1197175</th>\n",
       "      <td>tt9916270</td>\n",
       "      <td>5.8</td>\n",
       "      <td>1218</td>\n",
       "    </tr>\n",
       "    <tr>\n",
       "      <th>1197178</th>\n",
       "      <td>tt9916362</td>\n",
       "      <td>6.4</td>\n",
       "      <td>4085</td>\n",
       "    </tr>\n",
       "    <tr>\n",
       "      <th>1197181</th>\n",
       "      <td>tt9916428</td>\n",
       "      <td>3.8</td>\n",
       "      <td>14</td>\n",
       "    </tr>\n",
       "    <tr>\n",
       "      <th>1197192</th>\n",
       "      <td>tt9916720</td>\n",
       "      <td>5.2</td>\n",
       "      <td>150</td>\n",
       "    </tr>\n",
       "  </tbody>\n",
       "</table>\n",
       "<p>331317 rows × 3 columns</p>\n",
       "</div>"
      ],
      "text/plain": [
       "            tconst  averageRating  numVotes\n",
       "0        tt0000001            5.7      1839\n",
       "2        tt0000003            6.5      1599\n",
       "4        tt0000005            6.2      2416\n",
       "6        tt0000007            5.4       755\n",
       "7        tt0000008            5.5      1983\n",
       "...            ...            ...       ...\n",
       "1197172  tt9916204            8.2       219\n",
       "1197175  tt9916270            5.8      1218\n",
       "1197178  tt9916362            6.4      4085\n",
       "1197181  tt9916428            3.8        14\n",
       "1197192  tt9916720            5.2       150\n",
       "\n",
       "[331317 rows x 3 columns]"
      ]
     },
     "execution_count": 290,
     "metadata": {},
     "output_type": "execute_result"
    }
   ],
   "source": [
    "ratings"
   ]
  },
  {
   "cell_type": "code",
   "execution_count": 292,
   "id": "modular-fleece",
   "metadata": {},
   "outputs": [
    {
     "data": {
      "text/html": [
       "<div>\n",
       "<style scoped>\n",
       "    .dataframe tbody tr th:only-of-type {\n",
       "        vertical-align: middle;\n",
       "    }\n",
       "\n",
       "    .dataframe tbody tr th {\n",
       "        vertical-align: top;\n",
       "    }\n",
       "\n",
       "    .dataframe thead th {\n",
       "        text-align: right;\n",
       "    }\n",
       "</style>\n",
       "<table border=\"1\" class=\"dataframe\">\n",
       "  <thead>\n",
       "    <tr style=\"text-align: right;\">\n",
       "      <th></th>\n",
       "      <th>tconst</th>\n",
       "      <th>averageRating</th>\n",
       "      <th>numVotes</th>\n",
       "    </tr>\n",
       "  </thead>\n",
       "  <tbody>\n",
       "    <tr>\n",
       "      <th>82256</th>\n",
       "      <td>tt0111161</td>\n",
       "      <td>9.3</td>\n",
       "      <td>2490611</td>\n",
       "    </tr>\n",
       "    <tr>\n",
       "      <th>249118</th>\n",
       "      <td>tt0468569</td>\n",
       "      <td>9.0</td>\n",
       "      <td>2442962</td>\n",
       "    </tr>\n",
       "    <tr>\n",
       "      <th>618030</th>\n",
       "      <td>tt1375666</td>\n",
       "      <td>8.8</td>\n",
       "      <td>2192148</td>\n",
       "    </tr>\n",
       "    <tr>\n",
       "      <th>98713</th>\n",
       "      <td>tt0137523</td>\n",
       "      <td>8.8</td>\n",
       "      <td>1961154</td>\n",
       "    </tr>\n",
       "    <tr>\n",
       "      <th>82040</th>\n",
       "      <td>tt0110912</td>\n",
       "      <td>8.9</td>\n",
       "      <td>1925000</td>\n",
       "    </tr>\n",
       "    <tr>\n",
       "      <th>...</th>\n",
       "      <td>...</td>\n",
       "      <td>...</td>\n",
       "      <td>...</td>\n",
       "    </tr>\n",
       "    <tr>\n",
       "      <th>310519</th>\n",
       "      <td>tt0606168</td>\n",
       "      <td>6.4</td>\n",
       "      <td>5</td>\n",
       "    </tr>\n",
       "    <tr>\n",
       "      <th>310516</th>\n",
       "      <td>tt0606165</td>\n",
       "      <td>7.6</td>\n",
       "      <td>5</td>\n",
       "    </tr>\n",
       "    <tr>\n",
       "      <th>310514</th>\n",
       "      <td>tt0606163</td>\n",
       "      <td>6.4</td>\n",
       "      <td>5</td>\n",
       "    </tr>\n",
       "    <tr>\n",
       "      <th>62029</th>\n",
       "      <td>tt0087255</td>\n",
       "      <td>6.8</td>\n",
       "      <td>5</td>\n",
       "    </tr>\n",
       "    <tr>\n",
       "      <th>136734</th>\n",
       "      <td>tt0213529</td>\n",
       "      <td>8.0</td>\n",
       "      <td>5</td>\n",
       "    </tr>\n",
       "  </tbody>\n",
       "</table>\n",
       "<p>331317 rows × 3 columns</p>\n",
       "</div>"
      ],
      "text/plain": [
       "           tconst  averageRating  numVotes\n",
       "82256   tt0111161            9.3   2490611\n",
       "249118  tt0468569            9.0   2442962\n",
       "618030  tt1375666            8.8   2192148\n",
       "98713   tt0137523            8.8   1961154\n",
       "82040   tt0110912            8.9   1925000\n",
       "...           ...            ...       ...\n",
       "310519  tt0606168            6.4         5\n",
       "310516  tt0606165            7.6         5\n",
       "310514  tt0606163            6.4         5\n",
       "62029   tt0087255            6.8         5\n",
       "136734  tt0213529            8.0         5\n",
       "\n",
       "[331317 rows x 3 columns]"
      ]
     },
     "execution_count": 292,
     "metadata": {},
     "output_type": "execute_result"
    }
   ],
   "source": [
    "ratings.sort_values(\"numVotes\", ascending=False)"
   ]
  },
  {
   "cell_type": "markdown",
   "id": "defensive-equity",
   "metadata": {},
   "source": [
    "Question: How representative of the overall ratings are our review ratings?"
   ]
  },
  {
   "cell_type": "markdown",
   "id": "bound-plastic",
   "metadata": {},
   "source": [
    "Approach:\n",
    "* Create a table with averageRating, numVotes, averageReviewRating, numReviews, Title"
   ]
  },
  {
   "cell_type": "code",
   "execution_count": 296,
   "id": "immediate-junior",
   "metadata": {},
   "outputs": [],
   "source": [
    "review_ratings = sample.groupby(\"tconst\").agg({\"rating\": 'mean', \"primaryTitle\": 'max', \"startYear\": \"max\", \"genres\": \"max\", \"runtimeMinutes\": \"max\", \"user\": \"count\"})"
   ]
  },
  {
   "cell_type": "code",
   "execution_count": 297,
   "id": "polished-resort",
   "metadata": {},
   "outputs": [],
   "source": [
    "review_ratings.rename(columns={\"user\": \"numReviews\"}, inplace=True)"
   ]
  },
  {
   "cell_type": "code",
   "execution_count": 299,
   "id": "according-toolbox",
   "metadata": {},
   "outputs": [],
   "source": [
    "review_ratings.rename(columns={\"rating\": \"averageReview\"}, inplace=True)"
   ]
  },
  {
   "cell_type": "code",
   "execution_count": 300,
   "id": "pretty-spank",
   "metadata": {},
   "outputs": [
    {
     "data": {
      "text/html": [
       "<div>\n",
       "<style scoped>\n",
       "    .dataframe tbody tr th:only-of-type {\n",
       "        vertical-align: middle;\n",
       "    }\n",
       "\n",
       "    .dataframe tbody tr th {\n",
       "        vertical-align: top;\n",
       "    }\n",
       "\n",
       "    .dataframe thead th {\n",
       "        text-align: right;\n",
       "    }\n",
       "</style>\n",
       "<table border=\"1\" class=\"dataframe\">\n",
       "  <thead>\n",
       "    <tr style=\"text-align: right;\">\n",
       "      <th></th>\n",
       "      <th>averageReview</th>\n",
       "      <th>primaryTitle</th>\n",
       "      <th>startYear</th>\n",
       "      <th>genres</th>\n",
       "      <th>runtimeMinutes</th>\n",
       "      <th>numReviews</th>\n",
       "    </tr>\n",
       "    <tr>\n",
       "      <th>tconst</th>\n",
       "      <th></th>\n",
       "      <th></th>\n",
       "      <th></th>\n",
       "      <th></th>\n",
       "      <th></th>\n",
       "      <th></th>\n",
       "    </tr>\n",
       "  </thead>\n",
       "  <tbody>\n",
       "    <tr>\n",
       "      <th>tt0000574</th>\n",
       "      <td>8.666667</td>\n",
       "      <td>The Story of the Kelly Gang</td>\n",
       "      <td>1906</td>\n",
       "      <td>Action,Adventure,Biography</td>\n",
       "      <td>70</td>\n",
       "      <td>6</td>\n",
       "    </tr>\n",
       "    <tr>\n",
       "      <th>tt0001258</th>\n",
       "      <td>7.000000</td>\n",
       "      <td>The White Slave Trade</td>\n",
       "      <td>1910</td>\n",
       "      <td>Drama</td>\n",
       "      <td>45</td>\n",
       "      <td>1</td>\n",
       "    </tr>\n",
       "    <tr>\n",
       "      <th>tt0001285</th>\n",
       "      <td>6.000000</td>\n",
       "      <td>The Life of Moses</td>\n",
       "      <td>1909</td>\n",
       "      <td>Biography,Drama,Family</td>\n",
       "      <td>50</td>\n",
       "      <td>1</td>\n",
       "    </tr>\n",
       "    <tr>\n",
       "      <th>tt0001592</th>\n",
       "      <td>4.000000</td>\n",
       "      <td>In the Prime of Life</td>\n",
       "      <td>1911</td>\n",
       "      <td>Drama</td>\n",
       "      <td>52</td>\n",
       "      <td>1</td>\n",
       "    </tr>\n",
       "    <tr>\n",
       "      <th>tt0001892</th>\n",
       "      <td>5.000000</td>\n",
       "      <td>Den sorte drøm</td>\n",
       "      <td>1911</td>\n",
       "      <td>Drama</td>\n",
       "      <td>53</td>\n",
       "      <td>4</td>\n",
       "    </tr>\n",
       "    <tr>\n",
       "      <th>...</th>\n",
       "      <td>...</td>\n",
       "      <td>...</td>\n",
       "      <td>...</td>\n",
       "      <td>...</td>\n",
       "      <td>...</td>\n",
       "      <td>...</td>\n",
       "    </tr>\n",
       "    <tr>\n",
       "      <th>tt9914644</th>\n",
       "      <td>5.500000</td>\n",
       "      <td>9/11: Escape from the Towers</td>\n",
       "      <td>2018</td>\n",
       "      <td>Documentary</td>\n",
       "      <td>120</td>\n",
       "      <td>2</td>\n",
       "    </tr>\n",
       "    <tr>\n",
       "      <th>tt9916190</th>\n",
       "      <td>8.129032</td>\n",
       "      <td>Safeguard</td>\n",
       "      <td>2020</td>\n",
       "      <td>Action,Adventure,Thriller</td>\n",
       "      <td>90</td>\n",
       "      <td>62</td>\n",
       "    </tr>\n",
       "    <tr>\n",
       "      <th>tt9916270</th>\n",
       "      <td>4.000000</td>\n",
       "      <td>Il talento del calabrone</td>\n",
       "      <td>2020</td>\n",
       "      <td>Thriller</td>\n",
       "      <td>84</td>\n",
       "      <td>4</td>\n",
       "    </tr>\n",
       "    <tr>\n",
       "      <th>tt9916362</th>\n",
       "      <td>10.000000</td>\n",
       "      <td>Coven</td>\n",
       "      <td>2020</td>\n",
       "      <td>Drama,History</td>\n",
       "      <td>92</td>\n",
       "      <td>1</td>\n",
       "    </tr>\n",
       "    <tr>\n",
       "      <th>tt9916428</th>\n",
       "      <td>8.000000</td>\n",
       "      <td>The Secret of China</td>\n",
       "      <td>2019</td>\n",
       "      <td>Adventure,History,War</td>\n",
       "      <td>\\N</td>\n",
       "      <td>1</td>\n",
       "    </tr>\n",
       "  </tbody>\n",
       "</table>\n",
       "<p>139631 rows × 6 columns</p>\n",
       "</div>"
      ],
      "text/plain": [
       "           averageReview                  primaryTitle startYear  \\\n",
       "tconst                                                             \n",
       "tt0000574       8.666667   The Story of the Kelly Gang      1906   \n",
       "tt0001258       7.000000         The White Slave Trade      1910   \n",
       "tt0001285       6.000000             The Life of Moses      1909   \n",
       "tt0001592       4.000000          In the Prime of Life      1911   \n",
       "tt0001892       5.000000                Den sorte drøm      1911   \n",
       "...                  ...                           ...       ...   \n",
       "tt9914644       5.500000  9/11: Escape from the Towers      2018   \n",
       "tt9916190       8.129032                     Safeguard      2020   \n",
       "tt9916270       4.000000      Il talento del calabrone      2020   \n",
       "tt9916362      10.000000                         Coven      2020   \n",
       "tt9916428       8.000000           The Secret of China      2019   \n",
       "\n",
       "                               genres runtimeMinutes  numReviews  \n",
       "tconst                                                            \n",
       "tt0000574  Action,Adventure,Biography             70           6  \n",
       "tt0001258                       Drama             45           1  \n",
       "tt0001285      Biography,Drama,Family             50           1  \n",
       "tt0001592                       Drama             52           1  \n",
       "tt0001892                       Drama             53           4  \n",
       "...                               ...            ...         ...  \n",
       "tt9914644                 Documentary            120           2  \n",
       "tt9916190   Action,Adventure,Thriller             90          62  \n",
       "tt9916270                    Thriller             84           4  \n",
       "tt9916362               Drama,History             92           1  \n",
       "tt9916428       Adventure,History,War             \\N           1  \n",
       "\n",
       "[139631 rows x 6 columns]"
      ]
     },
     "execution_count": 300,
     "metadata": {},
     "output_type": "execute_result"
    }
   ],
   "source": [
    "review_ratings"
   ]
  },
  {
   "cell_type": "markdown",
   "id": "dangerous-progressive",
   "metadata": {},
   "source": [
    "Note that there's a few movies that aren't in the ratings dataset but are in our sample dataset... not too important"
   ]
  },
  {
   "cell_type": "code",
   "execution_count": 302,
   "id": "convinced-canadian",
   "metadata": {},
   "outputs": [],
   "source": [
    "movie_info = review_ratings.merge(ratings, left_index=True, right_on=\"tconst\")"
   ]
  },
  {
   "cell_type": "code",
   "execution_count": 303,
   "id": "likely-thursday",
   "metadata": {},
   "outputs": [
    {
     "data": {
      "text/html": [
       "<div>\n",
       "<style scoped>\n",
       "    .dataframe tbody tr th:only-of-type {\n",
       "        vertical-align: middle;\n",
       "    }\n",
       "\n",
       "    .dataframe tbody tr th {\n",
       "        vertical-align: top;\n",
       "    }\n",
       "\n",
       "    .dataframe thead th {\n",
       "        text-align: right;\n",
       "    }\n",
       "</style>\n",
       "<table border=\"1\" class=\"dataframe\">\n",
       "  <thead>\n",
       "    <tr style=\"text-align: right;\">\n",
       "      <th></th>\n",
       "      <th>averageReview</th>\n",
       "      <th>primaryTitle</th>\n",
       "      <th>startYear</th>\n",
       "      <th>genres</th>\n",
       "      <th>runtimeMinutes</th>\n",
       "      <th>numReviews</th>\n",
       "      <th>tconst</th>\n",
       "      <th>averageRating</th>\n",
       "      <th>numVotes</th>\n",
       "    </tr>\n",
       "  </thead>\n",
       "  <tbody>\n",
       "    <tr>\n",
       "      <th>374</th>\n",
       "      <td>8.666667</td>\n",
       "      <td>The Story of the Kelly Gang</td>\n",
       "      <td>1906</td>\n",
       "      <td>Action,Adventure,Biography</td>\n",
       "      <td>70</td>\n",
       "      <td>6</td>\n",
       "      <td>tt0000574</td>\n",
       "      <td>6.1</td>\n",
       "      <td>737</td>\n",
       "    </tr>\n",
       "    <tr>\n",
       "      <th>768</th>\n",
       "      <td>7.000000</td>\n",
       "      <td>The White Slave Trade</td>\n",
       "      <td>1910</td>\n",
       "      <td>Drama</td>\n",
       "      <td>45</td>\n",
       "      <td>1</td>\n",
       "      <td>tt0001258</td>\n",
       "      <td>5.8</td>\n",
       "      <td>136</td>\n",
       "    </tr>\n",
       "    <tr>\n",
       "      <th>777</th>\n",
       "      <td>6.000000</td>\n",
       "      <td>The Life of Moses</td>\n",
       "      <td>1909</td>\n",
       "      <td>Biography,Drama,Family</td>\n",
       "      <td>50</td>\n",
       "      <td>1</td>\n",
       "      <td>tt0001285</td>\n",
       "      <td>5.4</td>\n",
       "      <td>56</td>\n",
       "    </tr>\n",
       "    <tr>\n",
       "      <th>870</th>\n",
       "      <td>4.000000</td>\n",
       "      <td>In the Prime of Life</td>\n",
       "      <td>1911</td>\n",
       "      <td>Drama</td>\n",
       "      <td>52</td>\n",
       "      <td>1</td>\n",
       "      <td>tt0001592</td>\n",
       "      <td>5.5</td>\n",
       "      <td>14</td>\n",
       "    </tr>\n",
       "    <tr>\n",
       "      <th>944</th>\n",
       "      <td>5.000000</td>\n",
       "      <td>Den sorte drøm</td>\n",
       "      <td>1911</td>\n",
       "      <td>Drama</td>\n",
       "      <td>53</td>\n",
       "      <td>4</td>\n",
       "      <td>tt0001892</td>\n",
       "      <td>5.9</td>\n",
       "      <td>218</td>\n",
       "    </tr>\n",
       "    <tr>\n",
       "      <th>...</th>\n",
       "      <td>...</td>\n",
       "      <td>...</td>\n",
       "      <td>...</td>\n",
       "      <td>...</td>\n",
       "      <td>...</td>\n",
       "      <td>...</td>\n",
       "      <td>...</td>\n",
       "      <td>...</td>\n",
       "      <td>...</td>\n",
       "    </tr>\n",
       "    <tr>\n",
       "      <th>1197110</th>\n",
       "      <td>5.500000</td>\n",
       "      <td>9/11: Escape from the Towers</td>\n",
       "      <td>2018</td>\n",
       "      <td>Documentary</td>\n",
       "      <td>120</td>\n",
       "      <td>2</td>\n",
       "      <td>tt9914644</td>\n",
       "      <td>8.2</td>\n",
       "      <td>93</td>\n",
       "    </tr>\n",
       "    <tr>\n",
       "      <th>1197169</th>\n",
       "      <td>8.129032</td>\n",
       "      <td>Safeguard</td>\n",
       "      <td>2020</td>\n",
       "      <td>Action,Adventure,Thriller</td>\n",
       "      <td>90</td>\n",
       "      <td>62</td>\n",
       "      <td>tt9916190</td>\n",
       "      <td>3.6</td>\n",
       "      <td>226</td>\n",
       "    </tr>\n",
       "    <tr>\n",
       "      <th>1197175</th>\n",
       "      <td>4.000000</td>\n",
       "      <td>Il talento del calabrone</td>\n",
       "      <td>2020</td>\n",
       "      <td>Thriller</td>\n",
       "      <td>84</td>\n",
       "      <td>4</td>\n",
       "      <td>tt9916270</td>\n",
       "      <td>5.8</td>\n",
       "      <td>1218</td>\n",
       "    </tr>\n",
       "    <tr>\n",
       "      <th>1197178</th>\n",
       "      <td>10.000000</td>\n",
       "      <td>Coven</td>\n",
       "      <td>2020</td>\n",
       "      <td>Drama,History</td>\n",
       "      <td>92</td>\n",
       "      <td>1</td>\n",
       "      <td>tt9916362</td>\n",
       "      <td>6.4</td>\n",
       "      <td>4085</td>\n",
       "    </tr>\n",
       "    <tr>\n",
       "      <th>1197181</th>\n",
       "      <td>8.000000</td>\n",
       "      <td>The Secret of China</td>\n",
       "      <td>2019</td>\n",
       "      <td>Adventure,History,War</td>\n",
       "      <td>\\N</td>\n",
       "      <td>1</td>\n",
       "      <td>tt9916428</td>\n",
       "      <td>3.8</td>\n",
       "      <td>14</td>\n",
       "    </tr>\n",
       "  </tbody>\n",
       "</table>\n",
       "<p>136285 rows × 9 columns</p>\n",
       "</div>"
      ],
      "text/plain": [
       "         averageReview                  primaryTitle startYear  \\\n",
       "374           8.666667   The Story of the Kelly Gang      1906   \n",
       "768           7.000000         The White Slave Trade      1910   \n",
       "777           6.000000             The Life of Moses      1909   \n",
       "870           4.000000          In the Prime of Life      1911   \n",
       "944           5.000000                Den sorte drøm      1911   \n",
       "...                ...                           ...       ...   \n",
       "1197110       5.500000  9/11: Escape from the Towers      2018   \n",
       "1197169       8.129032                     Safeguard      2020   \n",
       "1197175       4.000000      Il talento del calabrone      2020   \n",
       "1197178      10.000000                         Coven      2020   \n",
       "1197181       8.000000           The Secret of China      2019   \n",
       "\n",
       "                             genres runtimeMinutes  numReviews     tconst  \\\n",
       "374      Action,Adventure,Biography             70           6  tt0000574   \n",
       "768                           Drama             45           1  tt0001258   \n",
       "777          Biography,Drama,Family             50           1  tt0001285   \n",
       "870                           Drama             52           1  tt0001592   \n",
       "944                           Drama             53           4  tt0001892   \n",
       "...                             ...            ...         ...        ...   \n",
       "1197110                 Documentary            120           2  tt9914644   \n",
       "1197169   Action,Adventure,Thriller             90          62  tt9916190   \n",
       "1197175                    Thriller             84           4  tt9916270   \n",
       "1197178               Drama,History             92           1  tt9916362   \n",
       "1197181       Adventure,History,War             \\N           1  tt9916428   \n",
       "\n",
       "         averageRating  numVotes  \n",
       "374                6.1       737  \n",
       "768                5.8       136  \n",
       "777                5.4        56  \n",
       "870                5.5        14  \n",
       "944                5.9       218  \n",
       "...                ...       ...  \n",
       "1197110            8.2        93  \n",
       "1197169            3.6       226  \n",
       "1197175            5.8      1218  \n",
       "1197178            6.4      4085  \n",
       "1197181            3.8        14  \n",
       "\n",
       "[136285 rows x 9 columns]"
      ]
     },
     "execution_count": 303,
     "metadata": {},
     "output_type": "execute_result"
    }
   ],
   "source": [
    "movie_info"
   ]
  },
  {
   "cell_type": "code",
   "execution_count": 304,
   "id": "hybrid-festival",
   "metadata": {},
   "outputs": [
    {
     "data": {
      "text/html": [
       "<div>\n",
       "<style scoped>\n",
       "    .dataframe tbody tr th:only-of-type {\n",
       "        vertical-align: middle;\n",
       "    }\n",
       "\n",
       "    .dataframe tbody tr th {\n",
       "        vertical-align: top;\n",
       "    }\n",
       "\n",
       "    .dataframe thead th {\n",
       "        text-align: right;\n",
       "    }\n",
       "</style>\n",
       "<table border=\"1\" class=\"dataframe\">\n",
       "  <thead>\n",
       "    <tr style=\"text-align: right;\">\n",
       "      <th></th>\n",
       "      <th>averageReview</th>\n",
       "      <th>numReviews</th>\n",
       "      <th>averageRating</th>\n",
       "      <th>numVotes</th>\n",
       "    </tr>\n",
       "  </thead>\n",
       "  <tbody>\n",
       "    <tr>\n",
       "      <th>count</th>\n",
       "      <td>136285.000000</td>\n",
       "      <td>136285.000000</td>\n",
       "      <td>136285.000000</td>\n",
       "      <td>1.362850e+05</td>\n",
       "    </tr>\n",
       "    <tr>\n",
       "      <th>mean</th>\n",
       "      <td>6.612226</td>\n",
       "      <td>25.246197</td>\n",
       "      <td>6.073422</td>\n",
       "      <td>6.692772e+03</td>\n",
       "    </tr>\n",
       "    <tr>\n",
       "      <th>std</th>\n",
       "      <td>2.055125</td>\n",
       "      <td>126.639243</td>\n",
       "      <td>1.266476</td>\n",
       "      <td>4.637875e+04</td>\n",
       "    </tr>\n",
       "    <tr>\n",
       "      <th>min</th>\n",
       "      <td>1.000000</td>\n",
       "      <td>1.000000</td>\n",
       "      <td>1.000000</td>\n",
       "      <td>5.000000e+00</td>\n",
       "    </tr>\n",
       "    <tr>\n",
       "      <th>25%</th>\n",
       "      <td>5.416667</td>\n",
       "      <td>1.000000</td>\n",
       "      <td>5.300000</td>\n",
       "      <td>6.900000e+01</td>\n",
       "    </tr>\n",
       "    <tr>\n",
       "      <th>50%</th>\n",
       "      <td>6.876106</td>\n",
       "      <td>4.000000</td>\n",
       "      <td>6.200000</td>\n",
       "      <td>2.370000e+02</td>\n",
       "    </tr>\n",
       "    <tr>\n",
       "      <th>75%</th>\n",
       "      <td>8.000000</td>\n",
       "      <td>12.000000</td>\n",
       "      <td>6.900000</td>\n",
       "      <td>1.032000e+03</td>\n",
       "    </tr>\n",
       "    <tr>\n",
       "      <th>max</th>\n",
       "      <td>10.000000</td>\n",
       "      <td>10534.000000</td>\n",
       "      <td>10.000000</td>\n",
       "      <td>2.490611e+06</td>\n",
       "    </tr>\n",
       "  </tbody>\n",
       "</table>\n",
       "</div>"
      ],
      "text/plain": [
       "       averageReview     numReviews  averageRating      numVotes\n",
       "count  136285.000000  136285.000000  136285.000000  1.362850e+05\n",
       "mean        6.612226      25.246197       6.073422  6.692772e+03\n",
       "std         2.055125     126.639243       1.266476  4.637875e+04\n",
       "min         1.000000       1.000000       1.000000  5.000000e+00\n",
       "25%         5.416667       1.000000       5.300000  6.900000e+01\n",
       "50%         6.876106       4.000000       6.200000  2.370000e+02\n",
       "75%         8.000000      12.000000       6.900000  1.032000e+03\n",
       "max        10.000000   10534.000000      10.000000  2.490611e+06"
      ]
     },
     "execution_count": 304,
     "metadata": {},
     "output_type": "execute_result"
    }
   ],
   "source": [
    "movie_info.describe()"
   ]
  },
  {
   "cell_type": "code",
   "execution_count": 305,
   "id": "freelance-valentine",
   "metadata": {},
   "outputs": [],
   "source": [
    "movie_info[\"diffRating\"] = movie_info[\"averageRating\"] - movie_info[\"averageReview\"]"
   ]
  },
  {
   "cell_type": "code",
   "execution_count": 375,
   "id": "level-train",
   "metadata": {},
   "outputs": [
    {
     "data": {
      "text/plain": [
       "count    136285.000000\n",
       "mean         -0.538805\n",
       "std           1.655554\n",
       "min          -8.900000\n",
       "25%          -1.500000\n",
       "50%          -0.550000\n",
       "75%           0.300000\n",
       "max           8.000000\n",
       "Name: diffRating, dtype: float64"
      ]
     },
     "execution_count": 375,
     "metadata": {},
     "output_type": "execute_result"
    }
   ],
   "source": [
    "movie_info[\"diffRating\"].describe()"
   ]
  },
  {
   "cell_type": "code",
   "execution_count": 379,
   "id": "civic-eclipse",
   "metadata": {},
   "outputs": [
    {
     "data": {
      "text/plain": [
       "<AxesSubplot:title={'center':'Average Rating - Average Review for movies'}, ylabel='Frequency'>"
      ]
     },
     "execution_count": 379,
     "metadata": {},
     "output_type": "execute_result"
    },
    {
     "data": {
      "image/png": "[encoded data removed]",
      "text/plain": [
       "<Figure size 720x720 with 1 Axes>"
      ]
     },
     "metadata": {
      "needs_background": "light"
     },
     "output_type": "display_data"
    }
   ],
   "source": [
    "movie_info[\"diffRating\"].plot(kind=\"hist\", bins=50, xlabel=\"Difference in Rating\", title=\"Average Rating - Average Review for movies\")"
   ]
  },
  {
   "cell_type": "code",
   "execution_count": 318,
   "id": "secret-colors",
   "metadata": {},
   "outputs": [
    {
     "data": {
      "text/plain": [
       "<AxesSubplot:>"
      ]
     },
     "execution_count": 318,
     "metadata": {},
     "output_type": "execute_result"
    },
    {
     "data": {
      "image/png": "[encoded data removed]",
      "text/plain": [
       "<Figure size 432x288 with 1 Axes>"
      ]
     },
     "metadata": {
      "needs_background": "light"
     },
     "output_type": "display_data"
    }
   ],
   "source": [
    "movie_info[\"diffRating\"].plot(kind=\"box\")"
   ]
  },
  {
   "cell_type": "code",
   "execution_count": 319,
   "id": "recreational-detroit",
   "metadata": {},
   "outputs": [
    {
     "data": {
      "text/plain": [
       "<AxesSubplot:>"
      ]
     },
     "execution_count": 319,
     "metadata": {},
     "output_type": "execute_result"
    },
    {
     "data": {
      "image/png": "[encoded data removed]",
      "text/plain": [
       "<Figure size 432x288 with 1 Axes>"
      ]
     },
     "metadata": {
      "needs_background": "light"
     },
     "output_type": "display_data"
    }
   ],
   "source": [
    "movie_info[[\"averageRating\", \"averageReview\"]].plot(kind=\"box\")"
   ]
  },
  {
   "cell_type": "code",
   "execution_count": 327,
   "id": "certain-cover",
   "metadata": {},
   "outputs": [
    {
     "data": {
      "text/plain": [
       "<AxesSubplot:>"
      ]
     },
     "execution_count": 327,
     "metadata": {},
     "output_type": "execute_result"
    },
    {
     "data": {
      "image/png": "[encoded data removed]",
      "text/plain": [
       "<Figure size 432x288 with 1 Axes>"
      ]
     },
     "metadata": {
      "needs_background": "light"
     },
     "output_type": "display_data"
    }
   ],
   "source": [
    "movie_info[[\"numVotes\"]].plot(kind=\"box\", logy=True)"
   ]
  },
  {
   "cell_type": "code",
   "execution_count": 340,
   "id": "changing-offering",
   "metadata": {},
   "outputs": [
    {
     "data": {
      "text/plain": [
       "<AxesSubplot:ylabel='Frequency'>"
      ]
     },
     "execution_count": 340,
     "metadata": {},
     "output_type": "execute_result"
    },
    {
     "data": {
      "image/png": "[encoded data removed]",
      "text/plain": [
       "<Figure size 432x288 with 1 Axes>"
      ]
     },
     "metadata": {
      "needs_background": "light"
     },
     "output_type": "display_data"
    }
   ],
   "source": [
    "movie_info[[\"numVotes\"]].plot(kind=\"hist\", logy=True, logx=True, bins=50)"
   ]
  },
  {
   "cell_type": "code",
   "execution_count": 338,
   "id": "final-momentum",
   "metadata": {},
   "outputs": [
    {
     "data": {
      "text/plain": [
       "<AxesSubplot:ylabel='Frequency'>"
      ]
     },
     "execution_count": 338,
     "metadata": {},
     "output_type": "execute_result"
    },
    {
     "data": {
      "image/png": "[encoded data removed]",
      "text/plain": [
       "<Figure size 432x288 with 1 Axes>"
      ]
     },
     "metadata": {
      "needs_background": "light"
     },
     "output_type": "display_data"
    }
   ],
   "source": [
    "movie_info[\"numReviews\"].plot(kind=\"hist\", logy=True, logx=True, bins=50)"
   ]
  },
  {
   "cell_type": "code",
   "execution_count": 333,
   "id": "brilliant-torture",
   "metadata": {},
   "outputs": [],
   "source": [
    "movie_info[\"ratioVotes\"] = movie_info[\"numVotes\"] / movie_info[\"numReviews\"]"
   ]
  },
  {
   "cell_type": "code",
   "execution_count": 341,
   "id": "professional-startup",
   "metadata": {},
   "outputs": [
    {
     "data": {
      "text/plain": [
       "<AxesSubplot:>"
      ]
     },
     "execution_count": 341,
     "metadata": {},
     "output_type": "execute_result"
    },
    {
     "data": {
      "image/png": "[encoded data removed]",
      "text/plain": [
       "<Figure size 432x288 with 1 Axes>"
      ]
     },
     "metadata": {
      "needs_background": "light"
     },
     "output_type": "display_data"
    }
   ],
   "source": [
    "movie_info[\"ratioVotes\"].plot(kind=\"box\")"
   ]
  },
  {
   "cell_type": "code",
   "execution_count": 376,
   "id": "increased-montreal",
   "metadata": {},
   "outputs": [
    {
     "data": {
      "text/plain": [
       "count    136285.000000\n",
       "mean        131.467015\n",
       "std         307.361108\n",
       "min           0.894737\n",
       "25%          28.500000\n",
       "50%          61.631579\n",
       "75%         143.500000\n",
       "max       56995.600000\n",
       "Name: ratioVotes, dtype: float64"
      ]
     },
     "execution_count": 376,
     "metadata": {},
     "output_type": "execute_result"
    }
   ],
   "source": [
    "movie_info[\"ratioVotes\"].describe()"
   ]
  },
  {
   "cell_type": "markdown",
   "id": "preceding-tackle",
   "metadata": {},
   "source": [
    "That gives votes / reviews - I guess it's not all that helpful"
   ]
  },
  {
   "cell_type": "code",
   "execution_count": 294,
   "id": "bacterial-diabetes",
   "metadata": {},
   "outputs": [
    {
     "data": {
      "text/plain": [
       "user              0\n",
       "movie             0\n",
       "rating            0\n",
       "date              0\n",
       "userdate          0\n",
       "year              0\n",
       "month             0\n",
       "tconst            0\n",
       "titleType         0\n",
       "primaryTitle      0\n",
       "originalTitle     0\n",
       "isAdult           0\n",
       "startYear         0\n",
       "endYear           0\n",
       "runtimeMinutes    0\n",
       "genres            0\n",
       "dtype: int64"
      ]
     },
     "execution_count": 294,
     "metadata": {},
     "output_type": "execute_result"
    }
   ],
   "source": [
    "sample.isna().sum()"
   ]
  },
  {
   "cell_type": "markdown",
   "id": "fossil-basic",
   "metadata": {},
   "source": [
    "I'm saving this movie dataframe, and I'm saving the sample dataframe"
   ]
  },
  {
   "cell_type": "code",
   "execution_count": 344,
   "id": "applied-attendance",
   "metadata": {},
   "outputs": [],
   "source": [
    "sample.to_csv(\"211210cleaned_movie_ratings.csv\")"
   ]
  },
  {
   "cell_type": "code",
   "execution_count": 345,
   "id": "polar-fancy",
   "metadata": {},
   "outputs": [],
   "source": [
    "movie_info.to_csv(\"211210movie_info.csv\")"
   ]
  },
  {
   "cell_type": "markdown",
   "id": "sophisticated-mapping",
   "metadata": {},
   "source": [
    "# Assumptions about the data"
   ]
  },
  {
   "cell_type": "markdown",
   "id": "freelance-serial",
   "metadata": {},
   "source": [
    "We have four columns: user, title, rating, and date"
   ]
  },
  {
   "cell_type": "markdown",
   "id": "attended-forestry",
   "metadata": {},
   "source": [
    "Each observation is a user leaving a comment on a title on a specific date"
   ]
  },
  {
   "cell_type": "markdown",
   "id": "modern-boxing",
   "metadata": {},
   "source": [
    "I'm implicitly assuming that each title is a movie - definitely worth testing - false"
   ]
  },
  {
   "cell_type": "markdown",
   "id": "stable-victory",
   "metadata": {},
   "source": [
    "I have either all of the reviews for each movie, or at least a representative sample of the reviews for each movie"
   ]
  }
 ],
 "metadata": {
  "kernelspec": {
   "display_name": "Python 3",
   "language": "python",
   "name": "python3"
  },
  "language_info": {
   "codemirror_mode": {
    "name": "ipython",
    "version": 3
   },
   "file_extension": ".py",
   "mimetype": "text/x-python",
   "name": "python",
   "nbconvert_exporter": "python",
   "pygments_lexer": "ipython3",
   "version": "3.8.5"
  }
 },
 "nbformat": 4,
 "nbformat_minor": 5
}
