{
 "cells": [
  {
   "cell_type": "code",
   "execution_count": 40,
   "id": "alone-discovery",
   "metadata": {},
   "outputs": [],
   "source": [
    "import pandas as pd\n",
    "import numpy as np\n",
    "from datetime import datetime"
   ]
  },
  {
   "cell_type": "markdown",
   "id": "exposed-liechtenstein",
   "metadata": {},
   "source": [
    "# Summary "
   ]
  },
  {
   "cell_type": "markdown",
   "id": "comprehensive-biotechnology",
   "metadata": {},
   "source": [
    "This notebook is all about getting panel data sets that we can take to R for some fancier panel data tricks"
   ]
  },
  {
   "cell_type": "code",
   "execution_count": 2,
   "id": "dental-contact",
   "metadata": {},
   "outputs": [
    {
     "name": "stderr",
     "output_type": "stream",
     "text": [
      "/Users/jordanlong/.pyenv/versions/3.8.5/lib/python3.8/site-packages/IPython/core/interactiveshell.py:3165: DtypeWarning: Columns (13,15) have mixed types.Specify dtype option on import or set low_memory=False.\n",
      "  has_raised = await self.run_ast_nodes(code_ast.body, cell_name,\n"
     ]
    }
   ],
   "source": [
    "d = pd.read_csv(\"211210cleaned_movie_ratings.csv\")"
   ]
  },
  {
   "cell_type": "code",
   "execution_count": 3,
   "id": "discrete-ideal",
   "metadata": {},
   "outputs": [],
   "source": [
    "d.drop(columns=\"Unnamed: 0\", inplace=True)"
   ]
  },
  {
   "cell_type": "code",
   "execution_count": 8,
   "id": "hazardous-lebanon",
   "metadata": {},
   "outputs": [
    {
     "data": {
      "text/html": [
       "<div>\n",
       "<style scoped>\n",
       "    .dataframe tbody tr th:only-of-type {\n",
       "        vertical-align: middle;\n",
       "    }\n",
       "\n",
       "    .dataframe tbody tr th {\n",
       "        vertical-align: top;\n",
       "    }\n",
       "\n",
       "    .dataframe thead th {\n",
       "        text-align: right;\n",
       "    }\n",
       "</style>\n",
       "<table border=\"1\" class=\"dataframe\">\n",
       "  <thead>\n",
       "    <tr style=\"text-align: right;\">\n",
       "      <th></th>\n",
       "      <th>user</th>\n",
       "      <th>movie</th>\n",
       "      <th>rating</th>\n",
       "      <th>date</th>\n",
       "      <th>userdate</th>\n",
       "      <th>year</th>\n",
       "      <th>month</th>\n",
       "      <th>tconst</th>\n",
       "      <th>titleType</th>\n",
       "      <th>primaryTitle</th>\n",
       "      <th>originalTitle</th>\n",
       "      <th>isAdult</th>\n",
       "      <th>startYear</th>\n",
       "      <th>endYear</th>\n",
       "      <th>runtimeMinutes</th>\n",
       "      <th>genres</th>\n",
       "    </tr>\n",
       "  </thead>\n",
       "  <tbody>\n",
       "    <tr>\n",
       "      <th>0</th>\n",
       "      <td>ur4592644</td>\n",
       "      <td>tt0120884</td>\n",
       "      <td>10</td>\n",
       "      <td>2005-01-16</td>\n",
       "      <td>ur459264416 January 2005</td>\n",
       "      <td>2005</td>\n",
       "      <td>1</td>\n",
       "      <td>tt0120884</td>\n",
       "      <td>movie</td>\n",
       "      <td>When the Light Comes</td>\n",
       "      <td>When the Light Comes</td>\n",
       "      <td>0</td>\n",
       "      <td>1998</td>\n",
       "      <td>\\N</td>\n",
       "      <td>115</td>\n",
       "      <td>Adventure,Drama,Romance</td>\n",
       "    </tr>\n",
       "  </tbody>\n",
       "</table>\n",
       "</div>"
      ],
      "text/plain": [
       "        user      movie  rating        date                  userdate  year  \\\n",
       "0  ur4592644  tt0120884      10  2005-01-16  ur459264416 January 2005  2005   \n",
       "\n",
       "   month     tconst titleType          primaryTitle         originalTitle  \\\n",
       "0      1  tt0120884     movie  When the Light Comes  When the Light Comes   \n",
       "\n",
       "   isAdult startYear endYear runtimeMinutes                   genres  \n",
       "0        0      1998      \\N            115  Adventure,Drama,Romance  "
      ]
     },
     "execution_count": 8,
     "metadata": {},
     "output_type": "execute_result"
    }
   ],
   "source": [
    "d.head(1)"
   ]
  },
  {
   "cell_type": "code",
   "execution_count": 9,
   "id": "forty-television",
   "metadata": {},
   "outputs": [
    {
     "data": {
      "text/plain": [
       "(3444441, 16)"
      ]
     },
     "execution_count": 9,
     "metadata": {},
     "output_type": "execute_result"
    }
   ],
   "source": [
    "d.shape"
   ]
  },
  {
   "cell_type": "code",
   "execution_count": 5,
   "id": "romantic-taste",
   "metadata": {},
   "outputs": [
    {
     "name": "stderr",
     "output_type": "stream",
     "text": [
      "/Users/jordanlong/.pyenv/versions/3.8.5/lib/python3.8/site-packages/IPython/core/interactiveshell.py:3165: DtypeWarning: Columns (3) have mixed types.Specify dtype option on import or set low_memory=False.\n",
      "  has_raised = await self.run_ast_nodes(code_ast.body, cell_name,\n"
     ]
    }
   ],
   "source": [
    "movie_data = pd.read_csv(\"211210movie_info.csv\")"
   ]
  },
  {
   "cell_type": "code",
   "execution_count": 6,
   "id": "false-presentation",
   "metadata": {},
   "outputs": [],
   "source": [
    "movie_data.drop(columns=\"Unnamed: 0\", inplace=True)"
   ]
  },
  {
   "cell_type": "code",
   "execution_count": 7,
   "id": "legislative-jersey",
   "metadata": {},
   "outputs": [
    {
     "data": {
      "text/plain": [
       "(136285, 11)"
      ]
     },
     "execution_count": 7,
     "metadata": {},
     "output_type": "execute_result"
    }
   ],
   "source": [
    "movie_data.shape"
   ]
  },
  {
   "cell_type": "code",
   "execution_count": 10,
   "id": "split-drill",
   "metadata": {},
   "outputs": [
    {
     "data": {
      "text/html": [
       "<div>\n",
       "<style scoped>\n",
       "    .dataframe tbody tr th:only-of-type {\n",
       "        vertical-align: middle;\n",
       "    }\n",
       "\n",
       "    .dataframe tbody tr th {\n",
       "        vertical-align: top;\n",
       "    }\n",
       "\n",
       "    .dataframe thead th {\n",
       "        text-align: right;\n",
       "    }\n",
       "</style>\n",
       "<table border=\"1\" class=\"dataframe\">\n",
       "  <thead>\n",
       "    <tr style=\"text-align: right;\">\n",
       "      <th></th>\n",
       "      <th>averageReview</th>\n",
       "      <th>primaryTitle</th>\n",
       "      <th>startYear</th>\n",
       "      <th>genres</th>\n",
       "      <th>runtimeMinutes</th>\n",
       "      <th>numReviews</th>\n",
       "      <th>tconst</th>\n",
       "      <th>averageRating</th>\n",
       "      <th>numVotes</th>\n",
       "      <th>diffRating</th>\n",
       "      <th>ratioVotes</th>\n",
       "    </tr>\n",
       "  </thead>\n",
       "  <tbody>\n",
       "    <tr>\n",
       "      <th>0</th>\n",
       "      <td>8.666667</td>\n",
       "      <td>The Story of the Kelly Gang</td>\n",
       "      <td>1906</td>\n",
       "      <td>Action,Adventure,Biography</td>\n",
       "      <td>70</td>\n",
       "      <td>6</td>\n",
       "      <td>tt0000574</td>\n",
       "      <td>6.1</td>\n",
       "      <td>737</td>\n",
       "      <td>-2.566667</td>\n",
       "      <td>122.833333</td>\n",
       "    </tr>\n",
       "  </tbody>\n",
       "</table>\n",
       "</div>"
      ],
      "text/plain": [
       "   averageReview                 primaryTitle startYear  \\\n",
       "0       8.666667  The Story of the Kelly Gang      1906   \n",
       "\n",
       "                       genres runtimeMinutes  numReviews     tconst  \\\n",
       "0  Action,Adventure,Biography             70           6  tt0000574   \n",
       "\n",
       "   averageRating  numVotes  diffRating  ratioVotes  \n",
       "0            6.1       737   -2.566667  122.833333  "
      ]
     },
     "execution_count": 10,
     "metadata": {},
     "output_type": "execute_result"
    }
   ],
   "source": [
    "movie_data.head(1)"
   ]
  },
  {
   "cell_type": "code",
   "execution_count": 11,
   "id": "exterior-boating",
   "metadata": {},
   "outputs": [],
   "source": [
    "d[\"date\"] = pd.to_datetime(d[\"date\"])"
   ]
  },
  {
   "cell_type": "markdown",
   "id": "comprehensive-findings",
   "metadata": {},
   "source": [
    "We want the release dates of movies, and to do this we're going to assume that the first review falls around the release of a movie. This is more likely to hold true for movies with more reviews, so we'll filter our data to ensure at least 100 reviews. This just has the effect of reducing the external validity of our analysis."
   ]
  },
  {
   "cell_type": "code",
   "execution_count": 15,
   "id": "demanding-federal",
   "metadata": {},
   "outputs": [
    {
     "data": {
      "text/plain": [
       "count    136285.000000\n",
       "mean         25.246197\n",
       "std         126.639243\n",
       "min           1.000000\n",
       "25%           1.000000\n",
       "50%           4.000000\n",
       "75%          12.000000\n",
       "max       10534.000000\n",
       "Name: numReviews, dtype: float64"
      ]
     },
     "execution_count": 15,
     "metadata": {},
     "output_type": "execute_result"
    }
   ],
   "source": [
    "movie_data[\"numReviews\"].describe()"
   ]
  },
  {
   "cell_type": "markdown",
   "id": "closing-bulgarian",
   "metadata": {},
   "source": [
    "Let's exclude movies with less than 100 reviews"
   ]
  },
  {
   "cell_type": "code",
   "execution_count": 19,
   "id": "known-warning",
   "metadata": {},
   "outputs": [
    {
     "data": {
      "text/plain": [
       "<AxesSubplot:ylabel='Frequency'>"
      ]
     },
     "execution_count": 19,
     "metadata": {},
     "output_type": "execute_result"
    },
    {
     "data": {
      "image/png": "[encoded data removed]",
      "text/plain": [
       "<Figure size 432x288 with 1 Axes>"
      ]
     },
     "metadata": {
      "needs_background": "light"
     },
     "output_type": "display_data"
    }
   ],
   "source": [
    "movie_data[\"numReviews\"].plot(kind=\"hist\", logy=True, bins=20)"
   ]
  },
  {
   "cell_type": "markdown",
   "id": "assumed-dublin",
   "metadata": {},
   "source": [
    "Get first review date info"
   ]
  },
  {
   "cell_type": "code",
   "execution_count": 12,
   "id": "sustained-notification",
   "metadata": {},
   "outputs": [],
   "source": [
    "movie_data = movie_data.merge(d.groupby(\"movie\")[\"date\"].min(), left_on=\"tconst\", right_on=\"movie\").rename(columns={\"date\": \"first_review\"})"
   ]
  },
  {
   "cell_type": "code",
   "execution_count": 50,
   "id": "worth-defeat",
   "metadata": {},
   "outputs": [
    {
     "data": {
      "text/html": [
       "<div>\n",
       "<style scoped>\n",
       "    .dataframe tbody tr th:only-of-type {\n",
       "        vertical-align: middle;\n",
       "    }\n",
       "\n",
       "    .dataframe tbody tr th {\n",
       "        vertical-align: top;\n",
       "    }\n",
       "\n",
       "    .dataframe thead th {\n",
       "        text-align: right;\n",
       "    }\n",
       "</style>\n",
       "<table border=\"1\" class=\"dataframe\">\n",
       "  <thead>\n",
       "    <tr style=\"text-align: right;\">\n",
       "      <th></th>\n",
       "      <th>averageReview</th>\n",
       "      <th>primaryTitle</th>\n",
       "      <th>startYear</th>\n",
       "      <th>genres</th>\n",
       "      <th>runtimeMinutes</th>\n",
       "      <th>numReviews</th>\n",
       "      <th>tconst</th>\n",
       "      <th>averageRating</th>\n",
       "      <th>numVotes</th>\n",
       "      <th>diffRating</th>\n",
       "      <th>ratioVotes</th>\n",
       "      <th>first_review</th>\n",
       "    </tr>\n",
       "  </thead>\n",
       "  <tbody>\n",
       "    <tr>\n",
       "      <th>0</th>\n",
       "      <td>8.666667</td>\n",
       "      <td>The Story of the Kelly Gang</td>\n",
       "      <td>1906</td>\n",
       "      <td>Action,Adventure,Biography</td>\n",
       "      <td>70</td>\n",
       "      <td>6</td>\n",
       "      <td>tt0000574</td>\n",
       "      <td>6.1</td>\n",
       "      <td>737</td>\n",
       "      <td>-2.566667</td>\n",
       "      <td>122.833333</td>\n",
       "      <td>2001-07-07</td>\n",
       "    </tr>\n",
       "  </tbody>\n",
       "</table>\n",
       "</div>"
      ],
      "text/plain": [
       "   averageReview                 primaryTitle  startYear  \\\n",
       "0       8.666667  The Story of the Kelly Gang       1906   \n",
       "\n",
       "                       genres runtimeMinutes  numReviews     tconst  \\\n",
       "0  Action,Adventure,Biography             70           6  tt0000574   \n",
       "\n",
       "   averageRating  numVotes  diffRating  ratioVotes first_review  \n",
       "0            6.1       737   -2.566667  122.833333   2001-07-07  "
      ]
     },
     "execution_count": 50,
     "metadata": {},
     "output_type": "execute_result"
    }
   ],
   "source": [
    "movie_data.head(1)"
   ]
  },
  {
   "cell_type": "markdown",
   "id": "little-partition",
   "metadata": {},
   "source": [
    "Are ratings changing over time? It looks like they decreased a bit after 2008"
   ]
  },
  {
   "cell_type": "code",
   "execution_count": 21,
   "id": "beautiful-omaha",
   "metadata": {},
   "outputs": [
    {
     "data": {
      "text/plain": [
       "<AxesSubplot:xlabel='date'>"
      ]
     },
     "execution_count": 21,
     "metadata": {},
     "output_type": "execute_result"
    },
    {
     "data": {
      "image/png": "[encoded data removed]",
      "text/plain": [
       "<Figure size 432x288 with 1 Axes>"
      ]
     },
     "metadata": {
      "needs_background": "light"
     },
     "output_type": "display_data"
    }
   ],
   "source": [
    "d.groupby(\"date\")[\"rating\"].mean().plot()"
   ]
  },
  {
   "cell_type": "markdown",
   "id": "adapted-rescue",
   "metadata": {},
   "source": [
    "Are there trends in when movies are released? Lots after the artefact in 2018, and a bump in 2005,2006?"
   ]
  },
  {
   "cell_type": "code",
   "execution_count": 24,
   "id": "genetic-rabbit",
   "metadata": {},
   "outputs": [
    {
     "data": {
      "text/plain": [
       "<AxesSubplot:xlabel='first_review'>"
      ]
     },
     "execution_count": 24,
     "metadata": {},
     "output_type": "execute_result"
    },
    {
     "data": {
      "image/png": "[encoded data removed]",
      "text/plain": [
       "<Figure size 432x288 with 1 Axes>"
      ]
     },
     "metadata": {
      "needs_background": "light"
     },
     "output_type": "display_data"
    }
   ],
   "source": [
    "movie_data.groupby(\"first_review\")[\"tconst\"].count().plot()"
   ]
  },
  {
   "cell_type": "code",
   "execution_count": 26,
   "id": "considered-longitude",
   "metadata": {},
   "outputs": [
    {
     "name": "stderr",
     "output_type": "stream",
     "text": [
      "<ipython-input-26-4090c01f62d2>:2: SettingWithCopyWarning: \n",
      "A value is trying to be set on a copy of a slice from a DataFrame.\n",
      "Try using .loc[row_indexer,col_indexer] = value instead\n",
      "\n",
      "See the caveats in the documentation: https://pandas.pydata.org/pandas-docs/stable/user_guide/indexing.html#returning-a-view-versus-a-copy\n",
      "  movie_data[\"startYear\"] = movie_data[\"startYear\"].astype(int)\n"
     ]
    }
   ],
   "source": [
    "movie_data = movie_data[movie_data[\"startYear\"] != \"\\\\N\"]\n",
    "movie_data[\"startYear\"] = movie_data[\"startYear\"].astype(int)"
   ]
  },
  {
   "cell_type": "code",
   "execution_count": 51,
   "id": "designed-article",
   "metadata": {},
   "outputs": [
    {
     "name": "stderr",
     "output_type": "stream",
     "text": [
      "<ipython-input-51-03088b3ea76b>:2: SettingWithCopyWarning: \n",
      "A value is trying to be set on a copy of a slice from a DataFrame.\n",
      "Try using .loc[row_indexer,col_indexer] = value instead\n",
      "\n",
      "See the caveats in the documentation: https://pandas.pydata.org/pandas-docs/stable/user_guide/indexing.html#returning-a-view-versus-a-copy\n",
      "  d[\"startYear\"] = d[\"startYear\"].astype(int)\n"
     ]
    }
   ],
   "source": [
    "d = d[d[\"startYear\"] != \"\\\\N\"]\n",
    "d[\"startYear\"] = d[\"startYear\"].astype(int)"
   ]
  },
  {
   "cell_type": "markdown",
   "id": "mathematical-supply",
   "metadata": {},
   "source": [
    "2005-2006 bump goes away if we filter on start year"
   ]
  },
  {
   "cell_type": "code",
   "execution_count": 29,
   "id": "constitutional-smoke",
   "metadata": {},
   "outputs": [
    {
     "data": {
      "text/plain": [
       "<AxesSubplot:xlabel='first_review'>"
      ]
     },
     "execution_count": 29,
     "metadata": {},
     "output_type": "execute_result"
    },
    {
     "data": {
      "image/png": "[encoded data removed]",
      "text/plain": [
       "<Figure size 432x288 with 1 Axes>"
      ]
     },
     "metadata": {
      "needs_background": "light"
     },
     "output_type": "display_data"
    }
   ],
   "source": [
    "movie_data[movie_data[\"startYear\"] >= 2005].groupby(\"first_review\")[\"tconst\"].count().plot()"
   ]
  },
  {
   "cell_type": "markdown",
   "id": "alive-aside",
   "metadata": {},
   "source": [
    "Let's exclude May 2018 movies"
   ]
  },
  {
   "cell_type": "code",
   "execution_count": 35,
   "id": "freelance-harvest",
   "metadata": {},
   "outputs": [
    {
     "data": {
      "text/plain": [
       "first_review\n",
       "2020-07-26    34\n",
       "2019-03-01    34\n",
       "2019-02-22    35\n",
       "2018-10-19    35\n",
       "2018-05-06    35\n",
       "2020-11-22    35\n",
       "2018-05-11    36\n",
       "2018-05-07    36\n",
       "2018-05-05    36\n",
       "2020-11-13    36\n",
       "2019-10-18    36\n",
       "2018-10-12    37\n",
       "2018-09-22    37\n",
       "2018-10-20    37\n",
       "2018-09-14    39\n",
       "2018-05-08    40\n",
       "2018-05-03    49\n",
       "2018-05-04    58\n",
       "2018-05-02    65\n",
       "2018-05-01    68\n",
       "Name: tconst, dtype: int64"
      ]
     },
     "execution_count": 35,
     "metadata": {},
     "output_type": "execute_result"
    }
   ],
   "source": [
    "movie_data[movie_data[\"startYear\"] >= 2005].groupby(\"first_review\")[\"tconst\"].count().sort_values().tail(20)"
   ]
  },
  {
   "cell_type": "markdown",
   "id": "innovative-superior",
   "metadata": {},
   "source": [
    "Let's also exclude pre-2005 info"
   ]
  },
  {
   "cell_type": "code",
   "execution_count": 49,
   "id": "brazilian-greenhouse",
   "metadata": {},
   "outputs": [
    {
     "data": {
      "text/plain": [
       "<AxesSubplot:xlabel='date'>"
      ]
     },
     "execution_count": 49,
     "metadata": {},
     "output_type": "execute_result"
    },
    {
     "data": {
      "image/png": "[encoded data removed]",
      "text/plain": [
       "<Figure size 432x288 with 1 Axes>"
      ]
     },
     "metadata": {
      "needs_background": "light"
     },
     "output_type": "display_data"
    }
   ],
   "source": [
    "d[(d[\"date\"] > datetime(2004,1,1)) & (d[\"date\"] < datetime(2006,1,1))].groupby(\"date\")[\"rating\"].count().plot()"
   ]
  },
  {
   "cell_type": "code",
   "execution_count": 31,
   "id": "abstract-allah",
   "metadata": {},
   "outputs": [
    {
     "data": {
      "text/plain": [
       "<AxesSubplot:xlabel='startYear'>"
      ]
     },
     "execution_count": 31,
     "metadata": {},
     "output_type": "execute_result"
    },
    {
     "data": {
      "image/png": "[encoded data removed]",
      "text/plain": [
       "<Figure size 432x288 with 1 Axes>"
      ]
     },
     "metadata": {
      "needs_background": "light"
     },
     "output_type": "display_data"
    }
   ],
   "source": [
    "movie_data[movie_data[\"first_review\"].dt.year >= 2005].groupby(\"startYear\")[\"tconst\"].count().plot()"
   ]
  },
  {
   "cell_type": "markdown",
   "id": "configured-colony",
   "metadata": {},
   "source": [
    "getting rid of May data"
   ]
  },
  {
   "cell_type": "code",
   "execution_count": 45,
   "id": "applied-director",
   "metadata": {},
   "outputs": [],
   "source": [
    "movie_data = movie_data[(movie_data[\"first_review\"] >= datetime(2018,6,1)) | (movie_data[\"first_review\"] < datetime(2018,1,1))]"
   ]
  },
  {
   "cell_type": "markdown",
   "id": "convertible-column",
   "metadata": {},
   "source": [
    "getting rid of pre-2005 movies"
   ]
  },
  {
   "cell_type": "code",
   "execution_count": 52,
   "id": "valid-satellite",
   "metadata": {},
   "outputs": [],
   "source": [
    "movie_data = movie_data[movie_data[\"startYear\"] >= 2005]"
   ]
  },
  {
   "cell_type": "code",
   "execution_count": 54,
   "id": "informational-guatemala",
   "metadata": {},
   "outputs": [],
   "source": [
    "movie_data = movie_data[movie_data[\"first_review\"] >= datetime(2005,1,1)]"
   ]
  },
  {
   "cell_type": "code",
   "execution_count": 56,
   "id": "structured-heritage",
   "metadata": {},
   "outputs": [
    {
     "data": {
      "text/plain": [
       "(61498, 12)"
      ]
     },
     "execution_count": 56,
     "metadata": {},
     "output_type": "execute_result"
    }
   ],
   "source": [
    "movie_data.shape"
   ]
  },
  {
   "cell_type": "code",
   "execution_count": 57,
   "id": "regular-mumbai",
   "metadata": {},
   "outputs": [
    {
     "data": {
      "text/plain": [
       "<AxesSubplot:ylabel='Frequency'>"
      ]
     },
     "execution_count": 57,
     "metadata": {},
     "output_type": "execute_result"
    },
    {
     "data": {
      "image/png": "[encoded data removed]",
      "text/plain": [
       "<Figure size 432x288 with 1 Axes>"
      ]
     },
     "metadata": {
      "needs_background": "light"
     },
     "output_type": "display_data"
    }
   ],
   "source": [
    "movie_data[\"numReviews\"].plot(kind=\"hist\", logy=True, bins=20)"
   ]
  },
  {
   "cell_type": "code",
   "execution_count": 58,
   "id": "basic-copper",
   "metadata": {},
   "outputs": [
    {
     "data": {
      "text/html": [
       "<div>\n",
       "<style scoped>\n",
       "    .dataframe tbody tr th:only-of-type {\n",
       "        vertical-align: middle;\n",
       "    }\n",
       "\n",
       "    .dataframe tbody tr th {\n",
       "        vertical-align: top;\n",
       "    }\n",
       "\n",
       "    .dataframe thead th {\n",
       "        text-align: right;\n",
       "    }\n",
       "</style>\n",
       "<table border=\"1\" class=\"dataframe\">\n",
       "  <thead>\n",
       "    <tr style=\"text-align: right;\">\n",
       "      <th></th>\n",
       "      <th>averageReview</th>\n",
       "      <th>primaryTitle</th>\n",
       "      <th>startYear</th>\n",
       "      <th>genres</th>\n",
       "      <th>runtimeMinutes</th>\n",
       "      <th>numReviews</th>\n",
       "      <th>tconst</th>\n",
       "      <th>averageRating</th>\n",
       "      <th>numVotes</th>\n",
       "      <th>diffRating</th>\n",
       "      <th>ratioVotes</th>\n",
       "      <th>first_review</th>\n",
       "    </tr>\n",
       "  </thead>\n",
       "  <tbody>\n",
       "    <tr>\n",
       "      <th>44732</th>\n",
       "      <td>6.075258</td>\n",
       "      <td>Fantastic Four</td>\n",
       "      <td>2005</td>\n",
       "      <td>Action,Adventure,Fantasy</td>\n",
       "      <td>106</td>\n",
       "      <td>970</td>\n",
       "      <td>tt0120667</td>\n",
       "      <td>5.7</td>\n",
       "      <td>320223</td>\n",
       "      <td>-0.375258</td>\n",
       "      <td>330.126804</td>\n",
       "      <td>2005-06-23</td>\n",
       "    </tr>\n",
       "    <tr>\n",
       "      <th>44906</th>\n",
       "      <td>7.508911</td>\n",
       "      <td>Corpse Bride</td>\n",
       "      <td>2005</td>\n",
       "      <td>Animation,Drama,Family</td>\n",
       "      <td>77</td>\n",
       "      <td>505</td>\n",
       "      <td>tt0121164</td>\n",
       "      <td>7.3</td>\n",
       "      <td>258690</td>\n",
       "      <td>-0.208911</td>\n",
       "      <td>512.257426</td>\n",
       "      <td>2005-08-02</td>\n",
       "    </tr>\n",
       "    <tr>\n",
       "      <th>45005</th>\n",
       "      <td>7.209377</td>\n",
       "      <td>Star Wars: Episode III - Revenge of the Sith</td>\n",
       "      <td>2005</td>\n",
       "      <td>Action,Adventure,Fantasy</td>\n",
       "      <td>140</td>\n",
       "      <td>3434</td>\n",
       "      <td>tt0121766</td>\n",
       "      <td>7.5</td>\n",
       "      <td>742810</td>\n",
       "      <td>0.290623</td>\n",
       "      <td>216.310425</td>\n",
       "      <td>2005-05-04</td>\n",
       "    </tr>\n",
       "    <tr>\n",
       "      <th>54545</th>\n",
       "      <td>7.412621</td>\n",
       "      <td>The Bank Job</td>\n",
       "      <td>2008</td>\n",
       "      <td>Crime,Drama,Thriller</td>\n",
       "      <td>111</td>\n",
       "      <td>206</td>\n",
       "      <td>tt0200465</td>\n",
       "      <td>7.2</td>\n",
       "      <td>178090</td>\n",
       "      <td>-0.212621</td>\n",
       "      <td>864.514563</td>\n",
       "      <td>2008-02-11</td>\n",
       "    </tr>\n",
       "    <tr>\n",
       "      <th>55238</th>\n",
       "      <td>6.838735</td>\n",
       "      <td>Children of Men</td>\n",
       "      <td>2006</td>\n",
       "      <td>Action,Drama,Sci-Fi</td>\n",
       "      <td>109</td>\n",
       "      <td>1296</td>\n",
       "      <td>tt0206634</td>\n",
       "      <td>7.9</td>\n",
       "      <td>482291</td>\n",
       "      <td>1.061265</td>\n",
       "      <td>372.138117</td>\n",
       "      <td>2006-09-02</td>\n",
       "    </tr>\n",
       "    <tr>\n",
       "      <th>...</th>\n",
       "      <td>...</td>\n",
       "      <td>...</td>\n",
       "      <td>...</td>\n",
       "      <td>...</td>\n",
       "      <td>...</td>\n",
       "      <td>...</td>\n",
       "      <td>...</td>\n",
       "      <td>...</td>\n",
       "      <td>...</td>\n",
       "      <td>...</td>\n",
       "      <td>...</td>\n",
       "      <td>...</td>\n",
       "    </tr>\n",
       "    <tr>\n",
       "      <th>136198</th>\n",
       "      <td>4.686667</td>\n",
       "      <td>Holidate</td>\n",
       "      <td>2020</td>\n",
       "      <td>Comedy,Romance</td>\n",
       "      <td>104</td>\n",
       "      <td>300</td>\n",
       "      <td>tt9866072</td>\n",
       "      <td>6.1</td>\n",
       "      <td>54537</td>\n",
       "      <td>1.413333</td>\n",
       "      <td>181.790000</td>\n",
       "      <td>2020-10-28</td>\n",
       "    </tr>\n",
       "    <tr>\n",
       "      <th>136202</th>\n",
       "      <td>9.350299</td>\n",
       "      <td>Paranormal Investigation</td>\n",
       "      <td>2018</td>\n",
       "      <td>Horror,Thriller</td>\n",
       "      <td>92</td>\n",
       "      <td>334</td>\n",
       "      <td>tt9866700</td>\n",
       "      <td>3.7</td>\n",
       "      <td>1601</td>\n",
       "      <td>-5.650299</td>\n",
       "      <td>4.793413</td>\n",
       "      <td>2019-03-03</td>\n",
       "    </tr>\n",
       "    <tr>\n",
       "      <th>136216</th>\n",
       "      <td>6.625000</td>\n",
       "      <td>Malang</td>\n",
       "      <td>2020</td>\n",
       "      <td>Action,Crime,Drama</td>\n",
       "      <td>135</td>\n",
       "      <td>264</td>\n",
       "      <td>tt9877170</td>\n",
       "      <td>6.5</td>\n",
       "      <td>9750</td>\n",
       "      <td>-0.125000</td>\n",
       "      <td>36.931818</td>\n",
       "      <td>2020-02-07</td>\n",
       "    </tr>\n",
       "    <tr>\n",
       "      <th>136251</th>\n",
       "      <td>3.702073</td>\n",
       "      <td>Coffee &amp; Kareem</td>\n",
       "      <td>2020</td>\n",
       "      <td>Action,Comedy,Crime</td>\n",
       "      <td>88</td>\n",
       "      <td>386</td>\n",
       "      <td>tt9898858</td>\n",
       "      <td>5.1</td>\n",
       "      <td>12943</td>\n",
       "      <td>1.397927</td>\n",
       "      <td>33.531088</td>\n",
       "      <td>2020-04-03</td>\n",
       "    </tr>\n",
       "    <tr>\n",
       "      <th>136259</th>\n",
       "      <td>8.894231</td>\n",
       "      <td>Kaithi</td>\n",
       "      <td>2019</td>\n",
       "      <td>Action,Crime,Thriller</td>\n",
       "      <td>145</td>\n",
       "      <td>208</td>\n",
       "      <td>tt9900782</td>\n",
       "      <td>8.5</td>\n",
       "      <td>19266</td>\n",
       "      <td>-0.394231</td>\n",
       "      <td>92.625000</td>\n",
       "      <td>2019-10-25</td>\n",
       "    </tr>\n",
       "  </tbody>\n",
       "</table>\n",
       "<p>3530 rows × 12 columns</p>\n",
       "</div>"
      ],
      "text/plain": [
       "        averageReview                                  primaryTitle  \\\n",
       "44732        6.075258                                Fantastic Four   \n",
       "44906        7.508911                                  Corpse Bride   \n",
       "45005        7.209377  Star Wars: Episode III - Revenge of the Sith   \n",
       "54545        7.412621                                  The Bank Job   \n",
       "55238        6.838735                               Children of Men   \n",
       "...               ...                                           ...   \n",
       "136198       4.686667                                      Holidate   \n",
       "136202       9.350299                      Paranormal Investigation   \n",
       "136216       6.625000                                        Malang   \n",
       "136251       3.702073                               Coffee & Kareem   \n",
       "136259       8.894231                                        Kaithi   \n",
       "\n",
       "        startYear                    genres runtimeMinutes  numReviews  \\\n",
       "44732        2005  Action,Adventure,Fantasy            106         970   \n",
       "44906        2005    Animation,Drama,Family             77         505   \n",
       "45005        2005  Action,Adventure,Fantasy            140        3434   \n",
       "54545        2008      Crime,Drama,Thriller            111         206   \n",
       "55238        2006       Action,Drama,Sci-Fi            109        1296   \n",
       "...           ...                       ...            ...         ...   \n",
       "136198       2020            Comedy,Romance            104         300   \n",
       "136202       2018           Horror,Thriller             92         334   \n",
       "136216       2020        Action,Crime,Drama            135         264   \n",
       "136251       2020       Action,Comedy,Crime             88         386   \n",
       "136259       2019     Action,Crime,Thriller            145         208   \n",
       "\n",
       "           tconst  averageRating  numVotes  diffRating  ratioVotes  \\\n",
       "44732   tt0120667            5.7    320223   -0.375258  330.126804   \n",
       "44906   tt0121164            7.3    258690   -0.208911  512.257426   \n",
       "45005   tt0121766            7.5    742810    0.290623  216.310425   \n",
       "54545   tt0200465            7.2    178090   -0.212621  864.514563   \n",
       "55238   tt0206634            7.9    482291    1.061265  372.138117   \n",
       "...           ...            ...       ...         ...         ...   \n",
       "136198  tt9866072            6.1     54537    1.413333  181.790000   \n",
       "136202  tt9866700            3.7      1601   -5.650299    4.793413   \n",
       "136216  tt9877170            6.5      9750   -0.125000   36.931818   \n",
       "136251  tt9898858            5.1     12943    1.397927   33.531088   \n",
       "136259  tt9900782            8.5     19266   -0.394231   92.625000   \n",
       "\n",
       "       first_review  \n",
       "44732    2005-06-23  \n",
       "44906    2005-08-02  \n",
       "45005    2005-05-04  \n",
       "54545    2008-02-11  \n",
       "55238    2006-09-02  \n",
       "...             ...  \n",
       "136198   2020-10-28  \n",
       "136202   2019-03-03  \n",
       "136216   2020-02-07  \n",
       "136251   2020-04-03  \n",
       "136259   2019-10-25  \n",
       "\n",
       "[3530 rows x 12 columns]"
      ]
     },
     "execution_count": 58,
     "metadata": {},
     "output_type": "execute_result"
    }
   ],
   "source": [
    "movie_data[movie_data[\"numReviews\"] >= 100]"
   ]
  },
  {
   "cell_type": "markdown",
   "id": "mental-academy",
   "metadata": {},
   "source": [
    "Idea: capture standard deviation of movie ratings as \"polarizingness score\""
   ]
  },
  {
   "cell_type": "code",
   "execution_count": 59,
   "id": "burning-swedish",
   "metadata": {},
   "outputs": [],
   "source": [
    "clean_movies = movie_data[movie_data[\"numReviews\"] >= 100]"
   ]
  },
  {
   "cell_type": "code",
   "execution_count": 60,
   "id": "recovered-colon",
   "metadata": {},
   "outputs": [
    {
     "data": {
      "text/html": [
       "<div>\n",
       "<style scoped>\n",
       "    .dataframe tbody tr th:only-of-type {\n",
       "        vertical-align: middle;\n",
       "    }\n",
       "\n",
       "    .dataframe tbody tr th {\n",
       "        vertical-align: top;\n",
       "    }\n",
       "\n",
       "    .dataframe thead th {\n",
       "        text-align: right;\n",
       "    }\n",
       "</style>\n",
       "<table border=\"1\" class=\"dataframe\">\n",
       "  <thead>\n",
       "    <tr style=\"text-align: right;\">\n",
       "      <th></th>\n",
       "      <th>averageReview</th>\n",
       "      <th>primaryTitle</th>\n",
       "      <th>startYear</th>\n",
       "      <th>genres</th>\n",
       "      <th>runtimeMinutes</th>\n",
       "      <th>numReviews</th>\n",
       "      <th>tconst</th>\n",
       "      <th>averageRating</th>\n",
       "      <th>numVotes</th>\n",
       "      <th>diffRating</th>\n",
       "      <th>ratioVotes</th>\n",
       "      <th>first_review</th>\n",
       "    </tr>\n",
       "  </thead>\n",
       "  <tbody>\n",
       "    <tr>\n",
       "      <th>44732</th>\n",
       "      <td>6.075258</td>\n",
       "      <td>Fantastic Four</td>\n",
       "      <td>2005</td>\n",
       "      <td>Action,Adventure,Fantasy</td>\n",
       "      <td>106</td>\n",
       "      <td>970</td>\n",
       "      <td>tt0120667</td>\n",
       "      <td>5.7</td>\n",
       "      <td>320223</td>\n",
       "      <td>-0.375258</td>\n",
       "      <td>330.126804</td>\n",
       "      <td>2005-06-23</td>\n",
       "    </tr>\n",
       "    <tr>\n",
       "      <th>44906</th>\n",
       "      <td>7.508911</td>\n",
       "      <td>Corpse Bride</td>\n",
       "      <td>2005</td>\n",
       "      <td>Animation,Drama,Family</td>\n",
       "      <td>77</td>\n",
       "      <td>505</td>\n",
       "      <td>tt0121164</td>\n",
       "      <td>7.3</td>\n",
       "      <td>258690</td>\n",
       "      <td>-0.208911</td>\n",
       "      <td>512.257426</td>\n",
       "      <td>2005-08-02</td>\n",
       "    </tr>\n",
       "    <tr>\n",
       "      <th>45005</th>\n",
       "      <td>7.209377</td>\n",
       "      <td>Star Wars: Episode III - Revenge of the Sith</td>\n",
       "      <td>2005</td>\n",
       "      <td>Action,Adventure,Fantasy</td>\n",
       "      <td>140</td>\n",
       "      <td>3434</td>\n",
       "      <td>tt0121766</td>\n",
       "      <td>7.5</td>\n",
       "      <td>742810</td>\n",
       "      <td>0.290623</td>\n",
       "      <td>216.310425</td>\n",
       "      <td>2005-05-04</td>\n",
       "    </tr>\n",
       "    <tr>\n",
       "      <th>54545</th>\n",
       "      <td>7.412621</td>\n",
       "      <td>The Bank Job</td>\n",
       "      <td>2008</td>\n",
       "      <td>Crime,Drama,Thriller</td>\n",
       "      <td>111</td>\n",
       "      <td>206</td>\n",
       "      <td>tt0200465</td>\n",
       "      <td>7.2</td>\n",
       "      <td>178090</td>\n",
       "      <td>-0.212621</td>\n",
       "      <td>864.514563</td>\n",
       "      <td>2008-02-11</td>\n",
       "    </tr>\n",
       "    <tr>\n",
       "      <th>55238</th>\n",
       "      <td>6.838735</td>\n",
       "      <td>Children of Men</td>\n",
       "      <td>2006</td>\n",
       "      <td>Action,Drama,Sci-Fi</td>\n",
       "      <td>109</td>\n",
       "      <td>1296</td>\n",
       "      <td>tt0206634</td>\n",
       "      <td>7.9</td>\n",
       "      <td>482291</td>\n",
       "      <td>1.061265</td>\n",
       "      <td>372.138117</td>\n",
       "      <td>2006-09-02</td>\n",
       "    </tr>\n",
       "    <tr>\n",
       "      <th>...</th>\n",
       "      <td>...</td>\n",
       "      <td>...</td>\n",
       "      <td>...</td>\n",
       "      <td>...</td>\n",
       "      <td>...</td>\n",
       "      <td>...</td>\n",
       "      <td>...</td>\n",
       "      <td>...</td>\n",
       "      <td>...</td>\n",
       "      <td>...</td>\n",
       "      <td>...</td>\n",
       "      <td>...</td>\n",
       "    </tr>\n",
       "    <tr>\n",
       "      <th>136198</th>\n",
       "      <td>4.686667</td>\n",
       "      <td>Holidate</td>\n",
       "      <td>2020</td>\n",
       "      <td>Comedy,Romance</td>\n",
       "      <td>104</td>\n",
       "      <td>300</td>\n",
       "      <td>tt9866072</td>\n",
       "      <td>6.1</td>\n",
       "      <td>54537</td>\n",
       "      <td>1.413333</td>\n",
       "      <td>181.790000</td>\n",
       "      <td>2020-10-28</td>\n",
       "    </tr>\n",
       "    <tr>\n",
       "      <th>136202</th>\n",
       "      <td>9.350299</td>\n",
       "      <td>Paranormal Investigation</td>\n",
       "      <td>2018</td>\n",
       "      <td>Horror,Thriller</td>\n",
       "      <td>92</td>\n",
       "      <td>334</td>\n",
       "      <td>tt9866700</td>\n",
       "      <td>3.7</td>\n",
       "      <td>1601</td>\n",
       "      <td>-5.650299</td>\n",
       "      <td>4.793413</td>\n",
       "      <td>2019-03-03</td>\n",
       "    </tr>\n",
       "    <tr>\n",
       "      <th>136216</th>\n",
       "      <td>6.625000</td>\n",
       "      <td>Malang</td>\n",
       "      <td>2020</td>\n",
       "      <td>Action,Crime,Drama</td>\n",
       "      <td>135</td>\n",
       "      <td>264</td>\n",
       "      <td>tt9877170</td>\n",
       "      <td>6.5</td>\n",
       "      <td>9750</td>\n",
       "      <td>-0.125000</td>\n",
       "      <td>36.931818</td>\n",
       "      <td>2020-02-07</td>\n",
       "    </tr>\n",
       "    <tr>\n",
       "      <th>136251</th>\n",
       "      <td>3.702073</td>\n",
       "      <td>Coffee &amp; Kareem</td>\n",
       "      <td>2020</td>\n",
       "      <td>Action,Comedy,Crime</td>\n",
       "      <td>88</td>\n",
       "      <td>386</td>\n",
       "      <td>tt9898858</td>\n",
       "      <td>5.1</td>\n",
       "      <td>12943</td>\n",
       "      <td>1.397927</td>\n",
       "      <td>33.531088</td>\n",
       "      <td>2020-04-03</td>\n",
       "    </tr>\n",
       "    <tr>\n",
       "      <th>136259</th>\n",
       "      <td>8.894231</td>\n",
       "      <td>Kaithi</td>\n",
       "      <td>2019</td>\n",
       "      <td>Action,Crime,Thriller</td>\n",
       "      <td>145</td>\n",
       "      <td>208</td>\n",
       "      <td>tt9900782</td>\n",
       "      <td>8.5</td>\n",
       "      <td>19266</td>\n",
       "      <td>-0.394231</td>\n",
       "      <td>92.625000</td>\n",
       "      <td>2019-10-25</td>\n",
       "    </tr>\n",
       "  </tbody>\n",
       "</table>\n",
       "<p>3530 rows × 12 columns</p>\n",
       "</div>"
      ],
      "text/plain": [
       "        averageReview                                  primaryTitle  \\\n",
       "44732        6.075258                                Fantastic Four   \n",
       "44906        7.508911                                  Corpse Bride   \n",
       "45005        7.209377  Star Wars: Episode III - Revenge of the Sith   \n",
       "54545        7.412621                                  The Bank Job   \n",
       "55238        6.838735                               Children of Men   \n",
       "...               ...                                           ...   \n",
       "136198       4.686667                                      Holidate   \n",
       "136202       9.350299                      Paranormal Investigation   \n",
       "136216       6.625000                                        Malang   \n",
       "136251       3.702073                               Coffee & Kareem   \n",
       "136259       8.894231                                        Kaithi   \n",
       "\n",
       "        startYear                    genres runtimeMinutes  numReviews  \\\n",
       "44732        2005  Action,Adventure,Fantasy            106         970   \n",
       "44906        2005    Animation,Drama,Family             77         505   \n",
       "45005        2005  Action,Adventure,Fantasy            140        3434   \n",
       "54545        2008      Crime,Drama,Thriller            111         206   \n",
       "55238        2006       Action,Drama,Sci-Fi            109        1296   \n",
       "...           ...                       ...            ...         ...   \n",
       "136198       2020            Comedy,Romance            104         300   \n",
       "136202       2018           Horror,Thriller             92         334   \n",
       "136216       2020        Action,Crime,Drama            135         264   \n",
       "136251       2020       Action,Comedy,Crime             88         386   \n",
       "136259       2019     Action,Crime,Thriller            145         208   \n",
       "\n",
       "           tconst  averageRating  numVotes  diffRating  ratioVotes  \\\n",
       "44732   tt0120667            5.7    320223   -0.375258  330.126804   \n",
       "44906   tt0121164            7.3    258690   -0.208911  512.257426   \n",
       "45005   tt0121766            7.5    742810    0.290623  216.310425   \n",
       "54545   tt0200465            7.2    178090   -0.212621  864.514563   \n",
       "55238   tt0206634            7.9    482291    1.061265  372.138117   \n",
       "...           ...            ...       ...         ...         ...   \n",
       "136198  tt9866072            6.1     54537    1.413333  181.790000   \n",
       "136202  tt9866700            3.7      1601   -5.650299    4.793413   \n",
       "136216  tt9877170            6.5      9750   -0.125000   36.931818   \n",
       "136251  tt9898858            5.1     12943    1.397927   33.531088   \n",
       "136259  tt9900782            8.5     19266   -0.394231   92.625000   \n",
       "\n",
       "       first_review  \n",
       "44732    2005-06-23  \n",
       "44906    2005-08-02  \n",
       "45005    2005-05-04  \n",
       "54545    2008-02-11  \n",
       "55238    2006-09-02  \n",
       "...             ...  \n",
       "136198   2020-10-28  \n",
       "136202   2019-03-03  \n",
       "136216   2020-02-07  \n",
       "136251   2020-04-03  \n",
       "136259   2019-10-25  \n",
       "\n",
       "[3530 rows x 12 columns]"
      ]
     },
     "execution_count": 60,
     "metadata": {},
     "output_type": "execute_result"
    }
   ],
   "source": [
    "clean_movies"
   ]
  },
  {
   "cell_type": "code",
   "execution_count": 62,
   "id": "twenty-wings",
   "metadata": {},
   "outputs": [],
   "source": [
    "clean_data = d[d[\"movie\"].isin(clean_movies[\"tconst\"])]"
   ]
  },
  {
   "cell_type": "code",
   "execution_count": 63,
   "id": "recent-egypt",
   "metadata": {},
   "outputs": [
    {
     "data": {
      "text/html": [
       "<div>\n",
       "<style scoped>\n",
       "    .dataframe tbody tr th:only-of-type {\n",
       "        vertical-align: middle;\n",
       "    }\n",
       "\n",
       "    .dataframe tbody tr th {\n",
       "        vertical-align: top;\n",
       "    }\n",
       "\n",
       "    .dataframe thead th {\n",
       "        text-align: right;\n",
       "    }\n",
       "</style>\n",
       "<table border=\"1\" class=\"dataframe\">\n",
       "  <thead>\n",
       "    <tr style=\"text-align: right;\">\n",
       "      <th></th>\n",
       "      <th>user</th>\n",
       "      <th>movie</th>\n",
       "      <th>rating</th>\n",
       "      <th>date</th>\n",
       "      <th>userdate</th>\n",
       "      <th>year</th>\n",
       "      <th>month</th>\n",
       "      <th>tconst</th>\n",
       "      <th>titleType</th>\n",
       "      <th>primaryTitle</th>\n",
       "      <th>originalTitle</th>\n",
       "      <th>isAdult</th>\n",
       "      <th>startYear</th>\n",
       "      <th>endYear</th>\n",
       "      <th>runtimeMinutes</th>\n",
       "      <th>genres</th>\n",
       "    </tr>\n",
       "  </thead>\n",
       "  <tbody>\n",
       "    <tr>\n",
       "      <th>17247</th>\n",
       "      <td>ur1529007</td>\n",
       "      <td>tt0357277</td>\n",
       "      <td>3</td>\n",
       "      <td>2005-01-16</td>\n",
       "      <td>ur152900716 January 2005</td>\n",
       "      <td>2005</td>\n",
       "      <td>1</td>\n",
       "      <td>tt0357277</td>\n",
       "      <td>movie</td>\n",
       "      <td>Elektra</td>\n",
       "      <td>Elektra</td>\n",
       "      <td>0</td>\n",
       "      <td>2005</td>\n",
       "      <td>\\N</td>\n",
       "      <td>97</td>\n",
       "      <td>Action,Adventure,Crime</td>\n",
       "    </tr>\n",
       "    <tr>\n",
       "      <th>17248</th>\n",
       "      <td>ur2705247</td>\n",
       "      <td>tt0357277</td>\n",
       "      <td>10</td>\n",
       "      <td>2005-01-16</td>\n",
       "      <td>ur270524716 January 2005</td>\n",
       "      <td>2005</td>\n",
       "      <td>1</td>\n",
       "      <td>tt0357277</td>\n",
       "      <td>movie</td>\n",
       "      <td>Elektra</td>\n",
       "      <td>Elektra</td>\n",
       "      <td>0</td>\n",
       "      <td>2005</td>\n",
       "      <td>\\N</td>\n",
       "      <td>97</td>\n",
       "      <td>Action,Adventure,Crime</td>\n",
       "    </tr>\n",
       "    <tr>\n",
       "      <th>17249</th>\n",
       "      <td>ur1976369</td>\n",
       "      <td>tt0357277</td>\n",
       "      <td>5</td>\n",
       "      <td>2005-01-16</td>\n",
       "      <td>ur197636916 January 2005</td>\n",
       "      <td>2005</td>\n",
       "      <td>1</td>\n",
       "      <td>tt0357277</td>\n",
       "      <td>movie</td>\n",
       "      <td>Elektra</td>\n",
       "      <td>Elektra</td>\n",
       "      <td>0</td>\n",
       "      <td>2005</td>\n",
       "      <td>\\N</td>\n",
       "      <td>97</td>\n",
       "      <td>Action,Adventure,Crime</td>\n",
       "    </tr>\n",
       "    <tr>\n",
       "      <th>17250</th>\n",
       "      <td>ur3198732</td>\n",
       "      <td>tt0357277</td>\n",
       "      <td>10</td>\n",
       "      <td>2005-01-16</td>\n",
       "      <td>ur319873216 January 2005</td>\n",
       "      <td>2005</td>\n",
       "      <td>1</td>\n",
       "      <td>tt0357277</td>\n",
       "      <td>movie</td>\n",
       "      <td>Elektra</td>\n",
       "      <td>Elektra</td>\n",
       "      <td>0</td>\n",
       "      <td>2005</td>\n",
       "      <td>\\N</td>\n",
       "      <td>97</td>\n",
       "      <td>Action,Adventure,Crime</td>\n",
       "    </tr>\n",
       "    <tr>\n",
       "      <th>17251</th>\n",
       "      <td>ur4571533</td>\n",
       "      <td>tt0357277</td>\n",
       "      <td>10</td>\n",
       "      <td>2005-01-16</td>\n",
       "      <td>ur457153316 January 2005</td>\n",
       "      <td>2005</td>\n",
       "      <td>1</td>\n",
       "      <td>tt0357277</td>\n",
       "      <td>movie</td>\n",
       "      <td>Elektra</td>\n",
       "      <td>Elektra</td>\n",
       "      <td>0</td>\n",
       "      <td>2005</td>\n",
       "      <td>\\N</td>\n",
       "      <td>97</td>\n",
       "      <td>Action,Adventure,Crime</td>\n",
       "    </tr>\n",
       "    <tr>\n",
       "      <th>...</th>\n",
       "      <td>...</td>\n",
       "      <td>...</td>\n",
       "      <td>...</td>\n",
       "      <td>...</td>\n",
       "      <td>...</td>\n",
       "      <td>...</td>\n",
       "      <td>...</td>\n",
       "      <td>...</td>\n",
       "      <td>...</td>\n",
       "      <td>...</td>\n",
       "      <td>...</td>\n",
       "      <td>...</td>\n",
       "      <td>...</td>\n",
       "      <td>...</td>\n",
       "      <td>...</td>\n",
       "      <td>...</td>\n",
       "    </tr>\n",
       "    <tr>\n",
       "      <th>3440484</th>\n",
       "      <td>ur113716864</td>\n",
       "      <td>tt10530176</td>\n",
       "      <td>3</td>\n",
       "      <td>2020-12-02</td>\n",
       "      <td>ur1137168642 December 2020</td>\n",
       "      <td>2020</td>\n",
       "      <td>12</td>\n",
       "      <td>tt10530176</td>\n",
       "      <td>movie</td>\n",
       "      <td>The Call</td>\n",
       "      <td>Kol</td>\n",
       "      <td>0</td>\n",
       "      <td>2020</td>\n",
       "      <td>\\N</td>\n",
       "      <td>112</td>\n",
       "      <td>Crime,Horror,Mystery</td>\n",
       "    </tr>\n",
       "    <tr>\n",
       "      <th>3440485</th>\n",
       "      <td>ur4954395</td>\n",
       "      <td>tt10530176</td>\n",
       "      <td>6</td>\n",
       "      <td>2020-12-02</td>\n",
       "      <td>ur49543952 December 2020</td>\n",
       "      <td>2020</td>\n",
       "      <td>12</td>\n",
       "      <td>tt10530176</td>\n",
       "      <td>movie</td>\n",
       "      <td>The Call</td>\n",
       "      <td>Kol</td>\n",
       "      <td>0</td>\n",
       "      <td>2020</td>\n",
       "      <td>\\N</td>\n",
       "      <td>112</td>\n",
       "      <td>Crime,Horror,Mystery</td>\n",
       "    </tr>\n",
       "    <tr>\n",
       "      <th>3440486</th>\n",
       "      <td>ur105683408</td>\n",
       "      <td>tt10530176</td>\n",
       "      <td>10</td>\n",
       "      <td>2020-12-02</td>\n",
       "      <td>ur1056834082 December 2020</td>\n",
       "      <td>2020</td>\n",
       "      <td>12</td>\n",
       "      <td>tt10530176</td>\n",
       "      <td>movie</td>\n",
       "      <td>The Call</td>\n",
       "      <td>Kol</td>\n",
       "      <td>0</td>\n",
       "      <td>2020</td>\n",
       "      <td>\\N</td>\n",
       "      <td>112</td>\n",
       "      <td>Crime,Horror,Mystery</td>\n",
       "    </tr>\n",
       "    <tr>\n",
       "      <th>3440487</th>\n",
       "      <td>ur89519179</td>\n",
       "      <td>tt10530176</td>\n",
       "      <td>6</td>\n",
       "      <td>2020-12-03</td>\n",
       "      <td>ur895191793 December 2020</td>\n",
       "      <td>2020</td>\n",
       "      <td>12</td>\n",
       "      <td>tt10530176</td>\n",
       "      <td>movie</td>\n",
       "      <td>The Call</td>\n",
       "      <td>Kol</td>\n",
       "      <td>0</td>\n",
       "      <td>2020</td>\n",
       "      <td>\\N</td>\n",
       "      <td>112</td>\n",
       "      <td>Crime,Horror,Mystery</td>\n",
       "    </tr>\n",
       "    <tr>\n",
       "      <th>3440488</th>\n",
       "      <td>ur81195191</td>\n",
       "      <td>tt10530176</td>\n",
       "      <td>1</td>\n",
       "      <td>2020-12-03</td>\n",
       "      <td>ur811951913 December 2020</td>\n",
       "      <td>2020</td>\n",
       "      <td>12</td>\n",
       "      <td>tt10530176</td>\n",
       "      <td>movie</td>\n",
       "      <td>The Call</td>\n",
       "      <td>Kol</td>\n",
       "      <td>0</td>\n",
       "      <td>2020</td>\n",
       "      <td>\\N</td>\n",
       "      <td>112</td>\n",
       "      <td>Crime,Horror,Mystery</td>\n",
       "    </tr>\n",
       "  </tbody>\n",
       "</table>\n",
       "<p>1389228 rows × 16 columns</p>\n",
       "</div>"
      ],
      "text/plain": [
       "                user       movie  rating       date  \\\n",
       "17247      ur1529007   tt0357277       3 2005-01-16   \n",
       "17248      ur2705247   tt0357277      10 2005-01-16   \n",
       "17249      ur1976369   tt0357277       5 2005-01-16   \n",
       "17250      ur3198732   tt0357277      10 2005-01-16   \n",
       "17251      ur4571533   tt0357277      10 2005-01-16   \n",
       "...              ...         ...     ...        ...   \n",
       "3440484  ur113716864  tt10530176       3 2020-12-02   \n",
       "3440485    ur4954395  tt10530176       6 2020-12-02   \n",
       "3440486  ur105683408  tt10530176      10 2020-12-02   \n",
       "3440487   ur89519179  tt10530176       6 2020-12-03   \n",
       "3440488   ur81195191  tt10530176       1 2020-12-03   \n",
       "\n",
       "                           userdate  year  month      tconst titleType  \\\n",
       "17247      ur152900716 January 2005  2005      1   tt0357277     movie   \n",
       "17248      ur270524716 January 2005  2005      1   tt0357277     movie   \n",
       "17249      ur197636916 January 2005  2005      1   tt0357277     movie   \n",
       "17250      ur319873216 January 2005  2005      1   tt0357277     movie   \n",
       "17251      ur457153316 January 2005  2005      1   tt0357277     movie   \n",
       "...                             ...   ...    ...         ...       ...   \n",
       "3440484  ur1137168642 December 2020  2020     12  tt10530176     movie   \n",
       "3440485    ur49543952 December 2020  2020     12  tt10530176     movie   \n",
       "3440486  ur1056834082 December 2020  2020     12  tt10530176     movie   \n",
       "3440487   ur895191793 December 2020  2020     12  tt10530176     movie   \n",
       "3440488   ur811951913 December 2020  2020     12  tt10530176     movie   \n",
       "\n",
       "        primaryTitle originalTitle  isAdult  startYear endYear runtimeMinutes  \\\n",
       "17247        Elektra       Elektra        0       2005      \\N             97   \n",
       "17248        Elektra       Elektra        0       2005      \\N             97   \n",
       "17249        Elektra       Elektra        0       2005      \\N             97   \n",
       "17250        Elektra       Elektra        0       2005      \\N             97   \n",
       "17251        Elektra       Elektra        0       2005      \\N             97   \n",
       "...              ...           ...      ...        ...     ...            ...   \n",
       "3440484     The Call           Kol        0       2020      \\N            112   \n",
       "3440485     The Call           Kol        0       2020      \\N            112   \n",
       "3440486     The Call           Kol        0       2020      \\N            112   \n",
       "3440487     The Call           Kol        0       2020      \\N            112   \n",
       "3440488     The Call           Kol        0       2020      \\N            112   \n",
       "\n",
       "                         genres  \n",
       "17247    Action,Adventure,Crime  \n",
       "17248    Action,Adventure,Crime  \n",
       "17249    Action,Adventure,Crime  \n",
       "17250    Action,Adventure,Crime  \n",
       "17251    Action,Adventure,Crime  \n",
       "...                         ...  \n",
       "3440484    Crime,Horror,Mystery  \n",
       "3440485    Crime,Horror,Mystery  \n",
       "3440486    Crime,Horror,Mystery  \n",
       "3440487    Crime,Horror,Mystery  \n",
       "3440488    Crime,Horror,Mystery  \n",
       "\n",
       "[1389228 rows x 16 columns]"
      ]
     },
     "execution_count": 63,
     "metadata": {},
     "output_type": "execute_result"
    }
   ],
   "source": [
    "clean_data"
   ]
  },
  {
   "cell_type": "code",
   "execution_count": 64,
   "id": "described-guarantee",
   "metadata": {},
   "outputs": [
    {
     "data": {
      "text/plain": [
       "608058"
      ]
     },
     "execution_count": 64,
     "metadata": {},
     "output_type": "execute_result"
    }
   ],
   "source": [
    "clean_data[\"user\"].nunique()"
   ]
  },
  {
   "cell_type": "code",
   "execution_count": 65,
   "id": "close-instrumentation",
   "metadata": {},
   "outputs": [
    {
     "data": {
      "text/plain": [
       "3530"
      ]
     },
     "execution_count": 65,
     "metadata": {},
     "output_type": "execute_result"
    }
   ],
   "source": [
    "clean_data[\"movie\"].nunique()"
   ]
  },
  {
   "cell_type": "code",
   "execution_count": 69,
   "id": "expected-feelings",
   "metadata": {},
   "outputs": [
    {
     "data": {
      "text/plain": [
       "<AxesSubplot:xlabel='month'>"
      ]
     },
     "execution_count": 69,
     "metadata": {},
     "output_type": "execute_result"
    },
    {
     "data": {
      "image/png": "[encoded data removed]",
      "text/plain": [
       "<Figure size 432x288 with 1 Axes>"
      ]
     },
     "metadata": {
      "needs_background": "light"
     },
     "output_type": "display_data"
    }
   ],
   "source": [
    "clean_data.groupby(\"month\")[\"rating\"].mean().plot()"
   ]
  },
  {
   "cell_type": "markdown",
   "id": "italian-return",
   "metadata": {},
   "source": [
    "This looks like there's seasonality in ratings. However, there might just be seasonality in something else that's correlated with ratings (eg. more or less releases)"
   ]
  },
  {
   "cell_type": "code",
   "execution_count": 74,
   "id": "increased-tamil",
   "metadata": {},
   "outputs": [],
   "source": [
    "clean_data = clean_data.merge(clean_movies[[\"first_review\", \"tconst\"]], how=\"left\", on=\"tconst\")"
   ]
  },
  {
   "cell_type": "code",
   "execution_count": 88,
   "id": "assumed-source",
   "metadata": {},
   "outputs": [
    {
     "name": "stderr",
     "output_type": "stream",
     "text": [
      "<ipython-input-88-d5af6bec2e66>:1: SettingWithCopyWarning: \n",
      "A value is trying to be set on a copy of a slice from a DataFrame.\n",
      "Try using .loc[row_indexer,col_indexer] = value instead\n",
      "\n",
      "See the caveats in the documentation: https://pandas.pydata.org/pandas-docs/stable/user_guide/indexing.html#returning-a-view-versus-a-copy\n",
      "  clean_movies[\"first_review_month\"] = clean_movies[\"first_review\"].dt.month\n"
     ]
    }
   ],
   "source": [
    "clean_movies[\"first_review_month\"] = clean_movies[\"first_review\"].dt.month"
   ]
  },
  {
   "cell_type": "code",
   "execution_count": 91,
   "id": "brazilian-deployment",
   "metadata": {},
   "outputs": [
    {
     "data": {
      "text/plain": [
       "<AxesSubplot:xlabel='first_review_month'>"
      ]
     },
     "execution_count": 91,
     "metadata": {},
     "output_type": "execute_result"
    },
    {
     "data": {
      "image/png": "[encoded data removed]",
      "text/plain": [
       "<Figure size 432x288 with 1 Axes>"
      ]
     },
     "metadata": {
      "needs_background": "light"
     },
     "output_type": "display_data"
    }
   ],
   "source": [
    "clean_movies.groupby(\"first_review_month\")[\"averageReview\"].count().plot()"
   ]
  },
  {
   "cell_type": "markdown",
   "id": "valued-counter",
   "metadata": {},
   "source": [
    "Yikes, lower ratings when there's more new movies... that's not what I'd have thought"
   ]
  },
  {
   "cell_type": "markdown",
   "id": "hispanic-program",
   "metadata": {},
   "source": [
    "However, it's also sus that most movies come out in September... lines up with awards circuit because that's when people do their ratings"
   ]
  },
  {
   "cell_type": "markdown",
   "id": "alternative-registration",
   "metadata": {},
   "source": [
    "So we have an explanation! I bet critics are harsher than normal audiences"
   ]
  },
  {
   "cell_type": "markdown",
   "id": "bacterial-warrant",
   "metadata": {},
   "source": [
    "Uniform distribution across release days"
   ]
  },
  {
   "cell_type": "code",
   "execution_count": 327,
   "id": "rolled-process",
   "metadata": {},
   "outputs": [
    {
     "data": {
      "text/plain": [
       "Text(0.5, 0, 'Day of Month of Estimated Release Date')"
      ]
     },
     "execution_count": 327,
     "metadata": {},
     "output_type": "execute_result"
    },
    {
     "data": {
      "image/png": "[encoded data removed]",
      "text/plain": [
       "<Figure size 432x288 with 1 Axes>"
      ]
     },
     "metadata": {
      "needs_background": "light"
     },
     "output_type": "display_data"
    }
   ],
   "source": [
    "ax = clean_movies[\"first_review\"].dt.day.plot(kind=\"hist\",bins=31, xlabel=\"day of month\")\n",
    "ax.set_xlabel(\"Day of Month of Estimated Release Date\")"
   ]
  },
  {
   "cell_type": "code",
   "execution_count": 99,
   "id": "automatic-vacuum",
   "metadata": {},
   "outputs": [
    {
     "data": {
      "text/plain": [
       "<AxesSubplot:ylabel='Frequency'>"
      ]
     },
     "execution_count": 99,
     "metadata": {},
     "output_type": "execute_result"
    },
    {
     "data": {
      "image/png": "[encoded data removed]",
      "text/plain": [
       "<Figure size 432x288 with 1 Axes>"
      ]
     },
     "metadata": {
      "needs_background": "light"
     },
     "output_type": "display_data"
    }
   ],
   "source": [
    "clean_movies[\"numReviews\"].plot(kind=\"hist\", logy=True, bins=20)"
   ]
  },
  {
   "cell_type": "code",
   "execution_count": 100,
   "id": "respiratory-fifteen",
   "metadata": {},
   "outputs": [
    {
     "data": {
      "text/html": [
       "<div>\n",
       "<style scoped>\n",
       "    .dataframe tbody tr th:only-of-type {\n",
       "        vertical-align: middle;\n",
       "    }\n",
       "\n",
       "    .dataframe tbody tr th {\n",
       "        vertical-align: top;\n",
       "    }\n",
       "\n",
       "    .dataframe thead th {\n",
       "        text-align: right;\n",
       "    }\n",
       "</style>\n",
       "<table border=\"1\" class=\"dataframe\">\n",
       "  <thead>\n",
       "    <tr style=\"text-align: right;\">\n",
       "      <th></th>\n",
       "      <th>averageReview</th>\n",
       "      <th>primaryTitle</th>\n",
       "      <th>startYear</th>\n",
       "      <th>genres</th>\n",
       "      <th>runtimeMinutes</th>\n",
       "      <th>numReviews</th>\n",
       "      <th>tconst</th>\n",
       "      <th>averageRating</th>\n",
       "      <th>numVotes</th>\n",
       "      <th>diffRating</th>\n",
       "      <th>ratioVotes</th>\n",
       "      <th>first_review</th>\n",
       "      <th>first_review_month</th>\n",
       "    </tr>\n",
       "  </thead>\n",
       "  <tbody>\n",
       "    <tr>\n",
       "      <th>45005</th>\n",
       "      <td>7.209377</td>\n",
       "      <td>Star Wars: Episode III - Revenge of the Sith</td>\n",
       "      <td>2005</td>\n",
       "      <td>Action,Adventure,Fantasy</td>\n",
       "      <td>140</td>\n",
       "      <td>3434</td>\n",
       "      <td>tt0121766</td>\n",
       "      <td>7.5</td>\n",
       "      <td>742810</td>\n",
       "      <td>0.290623</td>\n",
       "      <td>216.310425</td>\n",
       "      <td>2005-05-04</td>\n",
       "      <td>5</td>\n",
       "    </tr>\n",
       "    <tr>\n",
       "      <th>55238</th>\n",
       "      <td>6.838735</td>\n",
       "      <td>Children of Men</td>\n",
       "      <td>2006</td>\n",
       "      <td>Action,Drama,Sci-Fi</td>\n",
       "      <td>109</td>\n",
       "      <td>1296</td>\n",
       "      <td>tt0206634</td>\n",
       "      <td>7.9</td>\n",
       "      <td>482291</td>\n",
       "      <td>1.061265</td>\n",
       "      <td>372.138117</td>\n",
       "      <td>2006-09-02</td>\n",
       "      <td>9</td>\n",
       "    </tr>\n",
       "    <tr>\n",
       "      <th>65918</th>\n",
       "      <td>7.115668</td>\n",
       "      <td>Harry Potter and the Goblet of Fire</td>\n",
       "      <td>2005</td>\n",
       "      <td>Adventure,Family,Fantasy</td>\n",
       "      <td>157</td>\n",
       "      <td>1902</td>\n",
       "      <td>tt0330373</td>\n",
       "      <td>7.7</td>\n",
       "      <td>579708</td>\n",
       "      <td>0.584332</td>\n",
       "      <td>304.788644</td>\n",
       "      <td>2005-11-05</td>\n",
       "      <td>11</td>\n",
       "    </tr>\n",
       "    <tr>\n",
       "      <th>67033</th>\n",
       "      <td>6.542918</td>\n",
       "      <td>Superman Returns</td>\n",
       "      <td>2006</td>\n",
       "      <td>Action,Sci-Fi</td>\n",
       "      <td>154</td>\n",
       "      <td>2330</td>\n",
       "      <td>tt0348150</td>\n",
       "      <td>6.0</td>\n",
       "      <td>277055</td>\n",
       "      <td>-0.542918</td>\n",
       "      <td>118.907725</td>\n",
       "      <td>2006-06-18</td>\n",
       "      <td>6</td>\n",
       "    </tr>\n",
       "    <tr>\n",
       "      <th>67797</th>\n",
       "      <td>6.623314</td>\n",
       "      <td>Constantine</td>\n",
       "      <td>2005</td>\n",
       "      <td>Action,Fantasy,Horror</td>\n",
       "      <td>121</td>\n",
       "      <td>1038</td>\n",
       "      <td>tt0360486</td>\n",
       "      <td>7.0</td>\n",
       "      <td>324636</td>\n",
       "      <td>0.376686</td>\n",
       "      <td>312.751445</td>\n",
       "      <td>2005-02-01</td>\n",
       "      <td>2</td>\n",
       "    </tr>\n",
       "    <tr>\n",
       "      <th>...</th>\n",
       "      <td>...</td>\n",
       "      <td>...</td>\n",
       "      <td>...</td>\n",
       "      <td>...</td>\n",
       "      <td>...</td>\n",
       "      <td>...</td>\n",
       "      <td>...</td>\n",
       "      <td>...</td>\n",
       "      <td>...</td>\n",
       "      <td>...</td>\n",
       "      <td>...</td>\n",
       "      <td>...</td>\n",
       "      <td>...</td>\n",
       "    </tr>\n",
       "    <tr>\n",
       "      <th>134254</th>\n",
       "      <td>5.911073</td>\n",
       "      <td>Extraction</td>\n",
       "      <td>2020</td>\n",
       "      <td>Action,Thriller</td>\n",
       "      <td>116</td>\n",
       "      <td>2935</td>\n",
       "      <td>tt8936646</td>\n",
       "      <td>6.7</td>\n",
       "      <td>182618</td>\n",
       "      <td>0.788927</td>\n",
       "      <td>62.220784</td>\n",
       "      <td>2020-04-24</td>\n",
       "      <td>4</td>\n",
       "    </tr>\n",
       "    <tr>\n",
       "      <th>134278</th>\n",
       "      <td>7.386401</td>\n",
       "      <td>Knives Out</td>\n",
       "      <td>2019</td>\n",
       "      <td>Comedy,Crime,Drama</td>\n",
       "      <td>130</td>\n",
       "      <td>2412</td>\n",
       "      <td>tt8946378</td>\n",
       "      <td>7.9</td>\n",
       "      <td>548517</td>\n",
       "      <td>0.513599</td>\n",
       "      <td>227.411692</td>\n",
       "      <td>2019-10-09</td>\n",
       "      <td>10</td>\n",
       "    </tr>\n",
       "    <tr>\n",
       "      <th>135050</th>\n",
       "      <td>6.829565</td>\n",
       "      <td>El Camino: A Breaking Bad Movie</td>\n",
       "      <td>2019</td>\n",
       "      <td>Action,Crime,Drama</td>\n",
       "      <td>122</td>\n",
       "      <td>1725</td>\n",
       "      <td>tt9243946</td>\n",
       "      <td>7.3</td>\n",
       "      <td>209060</td>\n",
       "      <td>0.470435</td>\n",
       "      <td>121.194203</td>\n",
       "      <td>2019-10-11</td>\n",
       "      <td>10</td>\n",
       "    </tr>\n",
       "    <tr>\n",
       "      <th>135703</th>\n",
       "      <td>4.726852</td>\n",
       "      <td>Chhapaak</td>\n",
       "      <td>2020</td>\n",
       "      <td>Biography,Drama</td>\n",
       "      <td>120</td>\n",
       "      <td>1296</td>\n",
       "      <td>tt9614460</td>\n",
       "      <td>5.1</td>\n",
       "      <td>26300</td>\n",
       "      <td>0.373148</td>\n",
       "      <td>20.293210</td>\n",
       "      <td>2020-01-10</td>\n",
       "      <td>1</td>\n",
       "    </tr>\n",
       "    <tr>\n",
       "      <th>135928</th>\n",
       "      <td>9.840714</td>\n",
       "      <td>Uncle Tom</td>\n",
       "      <td>2020</td>\n",
       "      <td>Documentary</td>\n",
       "      <td>106</td>\n",
       "      <td>1400</td>\n",
       "      <td>tt9708358</td>\n",
       "      <td>8.8</td>\n",
       "      <td>5876</td>\n",
       "      <td>-1.040714</td>\n",
       "      <td>4.197143</td>\n",
       "      <td>2020-06-19</td>\n",
       "      <td>6</td>\n",
       "    </tr>\n",
       "  </tbody>\n",
       "</table>\n",
       "<p>227 rows × 13 columns</p>\n",
       "</div>"
      ],
      "text/plain": [
       "        averageReview                                  primaryTitle  \\\n",
       "45005        7.209377  Star Wars: Episode III - Revenge of the Sith   \n",
       "55238        6.838735                               Children of Men   \n",
       "65918        7.115668           Harry Potter and the Goblet of Fire   \n",
       "67033        6.542918                              Superman Returns   \n",
       "67797        6.623314                                   Constantine   \n",
       "...               ...                                           ...   \n",
       "134254       5.911073                                    Extraction   \n",
       "134278       7.386401                                    Knives Out   \n",
       "135050       6.829565               El Camino: A Breaking Bad Movie   \n",
       "135703       4.726852                                      Chhapaak   \n",
       "135928       9.840714                                     Uncle Tom   \n",
       "\n",
       "        startYear                    genres runtimeMinutes  numReviews  \\\n",
       "45005        2005  Action,Adventure,Fantasy            140        3434   \n",
       "55238        2006       Action,Drama,Sci-Fi            109        1296   \n",
       "65918        2005  Adventure,Family,Fantasy            157        1902   \n",
       "67033        2006             Action,Sci-Fi            154        2330   \n",
       "67797        2005     Action,Fantasy,Horror            121        1038   \n",
       "...           ...                       ...            ...         ...   \n",
       "134254       2020           Action,Thriller            116        2935   \n",
       "134278       2019        Comedy,Crime,Drama            130        2412   \n",
       "135050       2019        Action,Crime,Drama            122        1725   \n",
       "135703       2020           Biography,Drama            120        1296   \n",
       "135928       2020               Documentary            106        1400   \n",
       "\n",
       "           tconst  averageRating  numVotes  diffRating  ratioVotes  \\\n",
       "45005   tt0121766            7.5    742810    0.290623  216.310425   \n",
       "55238   tt0206634            7.9    482291    1.061265  372.138117   \n",
       "65918   tt0330373            7.7    579708    0.584332  304.788644   \n",
       "67033   tt0348150            6.0    277055   -0.542918  118.907725   \n",
       "67797   tt0360486            7.0    324636    0.376686  312.751445   \n",
       "...           ...            ...       ...         ...         ...   \n",
       "134254  tt8936646            6.7    182618    0.788927   62.220784   \n",
       "134278  tt8946378            7.9    548517    0.513599  227.411692   \n",
       "135050  tt9243946            7.3    209060    0.470435  121.194203   \n",
       "135703  tt9614460            5.1     26300    0.373148   20.293210   \n",
       "135928  tt9708358            8.8      5876   -1.040714    4.197143   \n",
       "\n",
       "       first_review  first_review_month  \n",
       "45005    2005-05-04                   5  \n",
       "55238    2006-09-02                   9  \n",
       "65918    2005-11-05                  11  \n",
       "67033    2006-06-18                   6  \n",
       "67797    2005-02-01                   2  \n",
       "...             ...                 ...  \n",
       "134254   2020-04-24                   4  \n",
       "134278   2019-10-09                  10  \n",
       "135050   2019-10-11                  10  \n",
       "135703   2020-01-10                   1  \n",
       "135928   2020-06-19                   6  \n",
       "\n",
       "[227 rows x 13 columns]"
      ]
     },
     "execution_count": 100,
     "metadata": {},
     "output_type": "execute_result"
    }
   ],
   "source": [
    "clean_movies[clean_movies[\"numReviews\"] > 1000]"
   ]
  },
  {
   "cell_type": "code",
   "execution_count": 103,
   "id": "antique-genius",
   "metadata": {},
   "outputs": [
    {
     "data": {
      "text/plain": [
       "<AxesSubplot:xlabel='first_review'>"
      ]
     },
     "execution_count": 103,
     "metadata": {},
     "output_type": "execute_result"
    },
    {
     "data": {
      "image/png": "[encoded data removed]",
      "text/plain": [
       "<Figure size 432x288 with 1 Axes>"
      ]
     },
     "metadata": {
      "needs_background": "light"
     },
     "output_type": "display_data"
    }
   ],
   "source": [
    "clean_movies.groupby(\"first_review\")[\"averageRating\"].mean().plot()"
   ]
  },
  {
   "cell_type": "markdown",
   "id": "hybrid-topic",
   "metadata": {},
   "source": [
    "What's the distribution of ratings?"
   ]
  },
  {
   "cell_type": "code",
   "execution_count": 115,
   "id": "interior-conspiracy",
   "metadata": {},
   "outputs": [
    {
     "data": {
      "text/plain": [
       "<AxesSubplot:ylabel='Frequency'>"
      ]
     },
     "execution_count": 115,
     "metadata": {},
     "output_type": "execute_result"
    },
    {
     "data": {
      "image/png": "[encoded data removed]",
      "text/plain": [
       "<Figure size 432x288 with 1 Axes>"
      ]
     },
     "metadata": {
      "needs_background": "light"
     },
     "output_type": "display_data"
    }
   ],
   "source": [
    "clean_data[\"rating\"].plot(kind=\"hist\")"
   ]
  },
  {
   "cell_type": "code",
   "execution_count": 120,
   "id": "trained-toner",
   "metadata": {},
   "outputs": [
    {
     "data": {
      "text/plain": [
       "<AxesSubplot:ylabel='Frequency'>"
      ]
     },
     "execution_count": 120,
     "metadata": {},
     "output_type": "execute_result"
    },
    {
     "data": {
      "image/png": "[encoded data removed]",
      "text/plain": [
       "<Figure size 432x288 with 1 Axes>"
      ]
     },
     "metadata": {
      "needs_background": "light"
     },
     "output_type": "display_data"
    }
   ],
   "source": [
    "clean_movies[\"averageRating\"].plot(kind=\"hist\", bins=10)"
   ]
  },
  {
   "cell_type": "code",
   "execution_count": 119,
   "id": "clean-spokesman",
   "metadata": {},
   "outputs": [
    {
     "data": {
      "text/plain": [
       "<AxesSubplot:ylabel='Frequency'>"
      ]
     },
     "execution_count": 119,
     "metadata": {},
     "output_type": "execute_result"
    },
    {
     "data": {
      "image/png": "[encoded data removed]",
      "text/plain": [
       "<Figure size 432x288 with 1 Axes>"
      ]
     },
     "metadata": {
      "needs_background": "light"
     },
     "output_type": "display_data"
    }
   ],
   "source": [
    "clean_movies[\"averageReview\"].plot(kind=\"hist\", bins=10)"
   ]
  },
  {
   "cell_type": "code",
   "execution_count": 107,
   "id": "structural-wales",
   "metadata": {},
   "outputs": [],
   "source": [
    "clean_data[\"year_month\"] = 100*clean_data[\"date\"].dt.year + clean_data[\"date\"].dt.month"
   ]
  },
  {
   "cell_type": "code",
   "execution_count": 105,
   "id": "portuguese-lyric",
   "metadata": {},
   "outputs": [],
   "source": [
    "clean_data[\"first_review_year_month\"] = 100*clean_data[\"first_review\"].dt.year + clean_data[\"first_review\"].dt.month"
   ]
  },
  {
   "cell_type": "code",
   "execution_count": 110,
   "id": "former-romance",
   "metadata": {},
   "outputs": [],
   "source": [
    "clean_data[\"first_review_year\"] = clean_data[\"first_review\"].dt.year"
   ]
  },
  {
   "cell_type": "code",
   "execution_count": 112,
   "id": "individual-dependence",
   "metadata": {},
   "outputs": [],
   "source": [
    "clean_data[\"first_review_month_offset\"] = (clean_data[\"year\"] - clean_data[\"first_review_year\"])*12 + clean_data[\"month\"] - clean_data[\"first_review_month\"]"
   ]
  },
  {
   "cell_type": "code",
   "execution_count": 121,
   "id": "greater-storm",
   "metadata": {},
   "outputs": [
    {
     "data": {
      "text/html": [
       "<div>\n",
       "<style scoped>\n",
       "    .dataframe tbody tr th:only-of-type {\n",
       "        vertical-align: middle;\n",
       "    }\n",
       "\n",
       "    .dataframe tbody tr th {\n",
       "        vertical-align: top;\n",
       "    }\n",
       "\n",
       "    .dataframe thead th {\n",
       "        text-align: right;\n",
       "    }\n",
       "</style>\n",
       "<table border=\"1\" class=\"dataframe\">\n",
       "  <thead>\n",
       "    <tr style=\"text-align: right;\">\n",
       "      <th></th>\n",
       "      <th>user</th>\n",
       "      <th>movie</th>\n",
       "      <th>rating</th>\n",
       "      <th>date</th>\n",
       "      <th>userdate</th>\n",
       "      <th>year</th>\n",
       "      <th>month</th>\n",
       "      <th>tconst</th>\n",
       "      <th>titleType</th>\n",
       "      <th>primaryTitle</th>\n",
       "      <th>...</th>\n",
       "      <th>startYear</th>\n",
       "      <th>endYear</th>\n",
       "      <th>runtimeMinutes</th>\n",
       "      <th>genres</th>\n",
       "      <th>first_review</th>\n",
       "      <th>first_review_month</th>\n",
       "      <th>first_review_year_month</th>\n",
       "      <th>year_month</th>\n",
       "      <th>first_review_year</th>\n",
       "      <th>first_review_month_offset</th>\n",
       "    </tr>\n",
       "  </thead>\n",
       "  <tbody>\n",
       "    <tr>\n",
       "      <th>0</th>\n",
       "      <td>ur1529007</td>\n",
       "      <td>tt0357277</td>\n",
       "      <td>3</td>\n",
       "      <td>2005-01-16</td>\n",
       "      <td>ur152900716 January 2005</td>\n",
       "      <td>2005</td>\n",
       "      <td>1</td>\n",
       "      <td>tt0357277</td>\n",
       "      <td>movie</td>\n",
       "      <td>Elektra</td>\n",
       "      <td>...</td>\n",
       "      <td>2005</td>\n",
       "      <td>\\N</td>\n",
       "      <td>97</td>\n",
       "      <td>Action,Adventure,Crime</td>\n",
       "      <td>2005-01-12</td>\n",
       "      <td>1</td>\n",
       "      <td>200501</td>\n",
       "      <td>200501</td>\n",
       "      <td>2005</td>\n",
       "      <td>0</td>\n",
       "    </tr>\n",
       "    <tr>\n",
       "      <th>1</th>\n",
       "      <td>ur2705247</td>\n",
       "      <td>tt0357277</td>\n",
       "      <td>10</td>\n",
       "      <td>2005-01-16</td>\n",
       "      <td>ur270524716 January 2005</td>\n",
       "      <td>2005</td>\n",
       "      <td>1</td>\n",
       "      <td>tt0357277</td>\n",
       "      <td>movie</td>\n",
       "      <td>Elektra</td>\n",
       "      <td>...</td>\n",
       "      <td>2005</td>\n",
       "      <td>\\N</td>\n",
       "      <td>97</td>\n",
       "      <td>Action,Adventure,Crime</td>\n",
       "      <td>2005-01-12</td>\n",
       "      <td>1</td>\n",
       "      <td>200501</td>\n",
       "      <td>200501</td>\n",
       "      <td>2005</td>\n",
       "      <td>0</td>\n",
       "    </tr>\n",
       "    <tr>\n",
       "      <th>2</th>\n",
       "      <td>ur1976369</td>\n",
       "      <td>tt0357277</td>\n",
       "      <td>5</td>\n",
       "      <td>2005-01-16</td>\n",
       "      <td>ur197636916 January 2005</td>\n",
       "      <td>2005</td>\n",
       "      <td>1</td>\n",
       "      <td>tt0357277</td>\n",
       "      <td>movie</td>\n",
       "      <td>Elektra</td>\n",
       "      <td>...</td>\n",
       "      <td>2005</td>\n",
       "      <td>\\N</td>\n",
       "      <td>97</td>\n",
       "      <td>Action,Adventure,Crime</td>\n",
       "      <td>2005-01-12</td>\n",
       "      <td>1</td>\n",
       "      <td>200501</td>\n",
       "      <td>200501</td>\n",
       "      <td>2005</td>\n",
       "      <td>0</td>\n",
       "    </tr>\n",
       "    <tr>\n",
       "      <th>3</th>\n",
       "      <td>ur3198732</td>\n",
       "      <td>tt0357277</td>\n",
       "      <td>10</td>\n",
       "      <td>2005-01-16</td>\n",
       "      <td>ur319873216 January 2005</td>\n",
       "      <td>2005</td>\n",
       "      <td>1</td>\n",
       "      <td>tt0357277</td>\n",
       "      <td>movie</td>\n",
       "      <td>Elektra</td>\n",
       "      <td>...</td>\n",
       "      <td>2005</td>\n",
       "      <td>\\N</td>\n",
       "      <td>97</td>\n",
       "      <td>Action,Adventure,Crime</td>\n",
       "      <td>2005-01-12</td>\n",
       "      <td>1</td>\n",
       "      <td>200501</td>\n",
       "      <td>200501</td>\n",
       "      <td>2005</td>\n",
       "      <td>0</td>\n",
       "    </tr>\n",
       "    <tr>\n",
       "      <th>4</th>\n",
       "      <td>ur4571533</td>\n",
       "      <td>tt0357277</td>\n",
       "      <td>10</td>\n",
       "      <td>2005-01-16</td>\n",
       "      <td>ur457153316 January 2005</td>\n",
       "      <td>2005</td>\n",
       "      <td>1</td>\n",
       "      <td>tt0357277</td>\n",
       "      <td>movie</td>\n",
       "      <td>Elektra</td>\n",
       "      <td>...</td>\n",
       "      <td>2005</td>\n",
       "      <td>\\N</td>\n",
       "      <td>97</td>\n",
       "      <td>Action,Adventure,Crime</td>\n",
       "      <td>2005-01-12</td>\n",
       "      <td>1</td>\n",
       "      <td>200501</td>\n",
       "      <td>200501</td>\n",
       "      <td>2005</td>\n",
       "      <td>0</td>\n",
       "    </tr>\n",
       "  </tbody>\n",
       "</table>\n",
       "<p>5 rows × 22 columns</p>\n",
       "</div>"
      ],
      "text/plain": [
       "        user      movie  rating       date                  userdate  year  \\\n",
       "0  ur1529007  tt0357277       3 2005-01-16  ur152900716 January 2005  2005   \n",
       "1  ur2705247  tt0357277      10 2005-01-16  ur270524716 January 2005  2005   \n",
       "2  ur1976369  tt0357277       5 2005-01-16  ur197636916 January 2005  2005   \n",
       "3  ur3198732  tt0357277      10 2005-01-16  ur319873216 January 2005  2005   \n",
       "4  ur4571533  tt0357277      10 2005-01-16  ur457153316 January 2005  2005   \n",
       "\n",
       "   month     tconst titleType primaryTitle  ... startYear  endYear  \\\n",
       "0      1  tt0357277     movie      Elektra  ...      2005       \\N   \n",
       "1      1  tt0357277     movie      Elektra  ...      2005       \\N   \n",
       "2      1  tt0357277     movie      Elektra  ...      2005       \\N   \n",
       "3      1  tt0357277     movie      Elektra  ...      2005       \\N   \n",
       "4      1  tt0357277     movie      Elektra  ...      2005       \\N   \n",
       "\n",
       "   runtimeMinutes                  genres first_review first_review_month  \\\n",
       "0              97  Action,Adventure,Crime   2005-01-12                  1   \n",
       "1              97  Action,Adventure,Crime   2005-01-12                  1   \n",
       "2              97  Action,Adventure,Crime   2005-01-12                  1   \n",
       "3              97  Action,Adventure,Crime   2005-01-12                  1   \n",
       "4              97  Action,Adventure,Crime   2005-01-12                  1   \n",
       "\n",
       "  first_review_year_month  year_month  first_review_year  \\\n",
       "0                  200501      200501               2005   \n",
       "1                  200501      200501               2005   \n",
       "2                  200501      200501               2005   \n",
       "3                  200501      200501               2005   \n",
       "4                  200501      200501               2005   \n",
       "\n",
       "   first_review_month_offset  \n",
       "0                          0  \n",
       "1                          0  \n",
       "2                          0  \n",
       "3                          0  \n",
       "4                          0  \n",
       "\n",
       "[5 rows x 22 columns]"
      ]
     },
     "execution_count": 121,
     "metadata": {},
     "output_type": "execute_result"
    }
   ],
   "source": [
    "clean_data.head()"
   ]
  },
  {
   "cell_type": "markdown",
   "id": "grave-force",
   "metadata": {},
   "source": [
    "Are there more ratings overall in May 2018?"
   ]
  },
  {
   "cell_type": "code",
   "execution_count": 133,
   "id": "patient-titanium",
   "metadata": {},
   "outputs": [
    {
     "data": {
      "text/plain": [
       "<AxesSubplot:xlabel='date'>"
      ]
     },
     "execution_count": 133,
     "metadata": {},
     "output_type": "execute_result"
    },
    {
     "data": {
      "image/png": "[encoded data removed]",
      "text/plain": [
       "<Figure size 432x288 with 1 Axes>"
      ]
     },
     "metadata": {
      "needs_background": "light"
     },
     "output_type": "display_data"
    }
   ],
   "source": [
    "clean_data.groupby(\"date\")[\"rating\"].count().plot()"
   ]
  },
  {
   "cell_type": "code",
   "execution_count": 137,
   "id": "variable-springer",
   "metadata": {},
   "outputs": [
    {
     "data": {
      "text/html": [
       "<div>\n",
       "<style scoped>\n",
       "    .dataframe tbody tr th:only-of-type {\n",
       "        vertical-align: middle;\n",
       "    }\n",
       "\n",
       "    .dataframe tbody tr th {\n",
       "        vertical-align: top;\n",
       "    }\n",
       "\n",
       "    .dataframe thead th {\n",
       "        text-align: right;\n",
       "    }\n",
       "</style>\n",
       "<table border=\"1\" class=\"dataframe\">\n",
       "  <thead>\n",
       "    <tr style=\"text-align: right;\">\n",
       "      <th></th>\n",
       "      <th>user</th>\n",
       "      <th>movie</th>\n",
       "      <th>rating</th>\n",
       "      <th>date</th>\n",
       "      <th>userdate</th>\n",
       "      <th>year</th>\n",
       "      <th>month</th>\n",
       "      <th>tconst</th>\n",
       "      <th>titleType</th>\n",
       "      <th>primaryTitle</th>\n",
       "      <th>...</th>\n",
       "      <th>startYear</th>\n",
       "      <th>endYear</th>\n",
       "      <th>runtimeMinutes</th>\n",
       "      <th>genres</th>\n",
       "      <th>first_review</th>\n",
       "      <th>first_review_month</th>\n",
       "      <th>first_review_year_month</th>\n",
       "      <th>year_month</th>\n",
       "      <th>first_review_year</th>\n",
       "      <th>first_review_month_offset</th>\n",
       "    </tr>\n",
       "  </thead>\n",
       "  <tbody>\n",
       "    <tr>\n",
       "      <th>0</th>\n",
       "      <td>ur1529007</td>\n",
       "      <td>tt0357277</td>\n",
       "      <td>3</td>\n",
       "      <td>2005-01-16</td>\n",
       "      <td>ur152900716 January 2005</td>\n",
       "      <td>2005</td>\n",
       "      <td>1</td>\n",
       "      <td>tt0357277</td>\n",
       "      <td>movie</td>\n",
       "      <td>Elektra</td>\n",
       "      <td>...</td>\n",
       "      <td>2005</td>\n",
       "      <td>\\N</td>\n",
       "      <td>97</td>\n",
       "      <td>Action,Adventure,Crime</td>\n",
       "      <td>2005-01-12</td>\n",
       "      <td>1</td>\n",
       "      <td>200501</td>\n",
       "      <td>200501</td>\n",
       "      <td>2005</td>\n",
       "      <td>0</td>\n",
       "    </tr>\n",
       "    <tr>\n",
       "      <th>1</th>\n",
       "      <td>ur2705247</td>\n",
       "      <td>tt0357277</td>\n",
       "      <td>10</td>\n",
       "      <td>2005-01-16</td>\n",
       "      <td>ur270524716 January 2005</td>\n",
       "      <td>2005</td>\n",
       "      <td>1</td>\n",
       "      <td>tt0357277</td>\n",
       "      <td>movie</td>\n",
       "      <td>Elektra</td>\n",
       "      <td>...</td>\n",
       "      <td>2005</td>\n",
       "      <td>\\N</td>\n",
       "      <td>97</td>\n",
       "      <td>Action,Adventure,Crime</td>\n",
       "      <td>2005-01-12</td>\n",
       "      <td>1</td>\n",
       "      <td>200501</td>\n",
       "      <td>200501</td>\n",
       "      <td>2005</td>\n",
       "      <td>0</td>\n",
       "    </tr>\n",
       "    <tr>\n",
       "      <th>2</th>\n",
       "      <td>ur1976369</td>\n",
       "      <td>tt0357277</td>\n",
       "      <td>5</td>\n",
       "      <td>2005-01-16</td>\n",
       "      <td>ur197636916 January 2005</td>\n",
       "      <td>2005</td>\n",
       "      <td>1</td>\n",
       "      <td>tt0357277</td>\n",
       "      <td>movie</td>\n",
       "      <td>Elektra</td>\n",
       "      <td>...</td>\n",
       "      <td>2005</td>\n",
       "      <td>\\N</td>\n",
       "      <td>97</td>\n",
       "      <td>Action,Adventure,Crime</td>\n",
       "      <td>2005-01-12</td>\n",
       "      <td>1</td>\n",
       "      <td>200501</td>\n",
       "      <td>200501</td>\n",
       "      <td>2005</td>\n",
       "      <td>0</td>\n",
       "    </tr>\n",
       "    <tr>\n",
       "      <th>3</th>\n",
       "      <td>ur3198732</td>\n",
       "      <td>tt0357277</td>\n",
       "      <td>10</td>\n",
       "      <td>2005-01-16</td>\n",
       "      <td>ur319873216 January 2005</td>\n",
       "      <td>2005</td>\n",
       "      <td>1</td>\n",
       "      <td>tt0357277</td>\n",
       "      <td>movie</td>\n",
       "      <td>Elektra</td>\n",
       "      <td>...</td>\n",
       "      <td>2005</td>\n",
       "      <td>\\N</td>\n",
       "      <td>97</td>\n",
       "      <td>Action,Adventure,Crime</td>\n",
       "      <td>2005-01-12</td>\n",
       "      <td>1</td>\n",
       "      <td>200501</td>\n",
       "      <td>200501</td>\n",
       "      <td>2005</td>\n",
       "      <td>0</td>\n",
       "    </tr>\n",
       "    <tr>\n",
       "      <th>4</th>\n",
       "      <td>ur4571533</td>\n",
       "      <td>tt0357277</td>\n",
       "      <td>10</td>\n",
       "      <td>2005-01-16</td>\n",
       "      <td>ur457153316 January 2005</td>\n",
       "      <td>2005</td>\n",
       "      <td>1</td>\n",
       "      <td>tt0357277</td>\n",
       "      <td>movie</td>\n",
       "      <td>Elektra</td>\n",
       "      <td>...</td>\n",
       "      <td>2005</td>\n",
       "      <td>\\N</td>\n",
       "      <td>97</td>\n",
       "      <td>Action,Adventure,Crime</td>\n",
       "      <td>2005-01-12</td>\n",
       "      <td>1</td>\n",
       "      <td>200501</td>\n",
       "      <td>200501</td>\n",
       "      <td>2005</td>\n",
       "      <td>0</td>\n",
       "    </tr>\n",
       "  </tbody>\n",
       "</table>\n",
       "<p>5 rows × 22 columns</p>\n",
       "</div>"
      ],
      "text/plain": [
       "        user      movie  rating       date                  userdate  year  \\\n",
       "0  ur1529007  tt0357277       3 2005-01-16  ur152900716 January 2005  2005   \n",
       "1  ur2705247  tt0357277      10 2005-01-16  ur270524716 January 2005  2005   \n",
       "2  ur1976369  tt0357277       5 2005-01-16  ur197636916 January 2005  2005   \n",
       "3  ur3198732  tt0357277      10 2005-01-16  ur319873216 January 2005  2005   \n",
       "4  ur4571533  tt0357277      10 2005-01-16  ur457153316 January 2005  2005   \n",
       "\n",
       "   month     tconst titleType primaryTitle  ... startYear  endYear  \\\n",
       "0      1  tt0357277     movie      Elektra  ...      2005       \\N   \n",
       "1      1  tt0357277     movie      Elektra  ...      2005       \\N   \n",
       "2      1  tt0357277     movie      Elektra  ...      2005       \\N   \n",
       "3      1  tt0357277     movie      Elektra  ...      2005       \\N   \n",
       "4      1  tt0357277     movie      Elektra  ...      2005       \\N   \n",
       "\n",
       "   runtimeMinutes                  genres first_review first_review_month  \\\n",
       "0              97  Action,Adventure,Crime   2005-01-12                  1   \n",
       "1              97  Action,Adventure,Crime   2005-01-12                  1   \n",
       "2              97  Action,Adventure,Crime   2005-01-12                  1   \n",
       "3              97  Action,Adventure,Crime   2005-01-12                  1   \n",
       "4              97  Action,Adventure,Crime   2005-01-12                  1   \n",
       "\n",
       "  first_review_year_month  year_month  first_review_year  \\\n",
       "0                  200501      200501               2005   \n",
       "1                  200501      200501               2005   \n",
       "2                  200501      200501               2005   \n",
       "3                  200501      200501               2005   \n",
       "4                  200501      200501               2005   \n",
       "\n",
       "   first_review_month_offset  \n",
       "0                          0  \n",
       "1                          0  \n",
       "2                          0  \n",
       "3                          0  \n",
       "4                          0  \n",
       "\n",
       "[5 rows x 22 columns]"
      ]
     },
     "execution_count": 137,
     "metadata": {},
     "output_type": "execute_result"
    }
   ],
   "source": [
    "clean_data.head()"
   ]
  },
  {
   "cell_type": "code",
   "execution_count": 168,
   "id": "phantom-retail",
   "metadata": {},
   "outputs": [],
   "source": [
    "panel = clean_data.groupby([\"movie\", \"first_review_month_offset\"])[[\"runtimeMinutes\", \"rating\", \"month\", \"year\", \"year_month\", \"first_review_year\", \"first_review_month\", \"first_review_year_month\"]].agg({\"runtimeMinutes\": \"count\", \"rating\": \"sum\", \"month\": \"mean\", \"year\": \"mean\", \"year_month\": \"mean\", \"first_review_month\": \"mean\", \"first_review_year\": \"mean\", \"first_review_year_month\": \"mean\"})"
   ]
  },
  {
   "cell_type": "code",
   "execution_count": 169,
   "id": "dynamic-cabinet",
   "metadata": {},
   "outputs": [],
   "source": [
    "panel[\"cumulative_reviews\"] = panel.groupby(level=0)[\"runtimeMinutes\"].cumsum()"
   ]
  },
  {
   "cell_type": "code",
   "execution_count": 170,
   "id": "basic-peter",
   "metadata": {},
   "outputs": [],
   "source": [
    "panel[\"cumsum_ratings\"] = panel.groupby(level=0)[\"rating\"].cumsum()"
   ]
  },
  {
   "cell_type": "code",
   "execution_count": 171,
   "id": "greatest-puzzle",
   "metadata": {},
   "outputs": [],
   "source": [
    "panel[\"cumavg_review\"] = panel[\"cumsum_ratings\"] / panel[\"cumulative_reviews\"]"
   ]
  },
  {
   "cell_type": "code",
   "execution_count": 172,
   "id": "cardiac-feeling",
   "metadata": {},
   "outputs": [],
   "source": [
    "panel = panel.reset_index().rename(columns={\"runtimeMinutes\": \"num_reviews\", \"rating\": \"sum_ratings\"})"
   ]
  },
  {
   "cell_type": "code",
   "execution_count": 174,
   "id": "greenhouse-television",
   "metadata": {},
   "outputs": [
    {
     "data": {
      "text/html": [
       "<div>\n",
       "<style scoped>\n",
       "    .dataframe tbody tr th:only-of-type {\n",
       "        vertical-align: middle;\n",
       "    }\n",
       "\n",
       "    .dataframe tbody tr th {\n",
       "        vertical-align: top;\n",
       "    }\n",
       "\n",
       "    .dataframe thead th {\n",
       "        text-align: right;\n",
       "    }\n",
       "</style>\n",
       "<table border=\"1\" class=\"dataframe\">\n",
       "  <thead>\n",
       "    <tr style=\"text-align: right;\">\n",
       "      <th></th>\n",
       "      <th>movie</th>\n",
       "      <th>first_review_month_offset</th>\n",
       "      <th>num_reviews</th>\n",
       "      <th>sum_ratings</th>\n",
       "      <th>month</th>\n",
       "      <th>year</th>\n",
       "      <th>year_month</th>\n",
       "      <th>first_review_month</th>\n",
       "      <th>first_review_year</th>\n",
       "      <th>first_review_year_month</th>\n",
       "      <th>cumulative_reviews</th>\n",
       "      <th>cumsum_ratings</th>\n",
       "      <th>cumavg_review</th>\n",
       "    </tr>\n",
       "  </thead>\n",
       "  <tbody>\n",
       "    <tr>\n",
       "      <th>0</th>\n",
       "      <td>tt0120667</td>\n",
       "      <td>0</td>\n",
       "      <td>8</td>\n",
       "      <td>60</td>\n",
       "      <td>6</td>\n",
       "      <td>2005</td>\n",
       "      <td>200506</td>\n",
       "      <td>6</td>\n",
       "      <td>2005</td>\n",
       "      <td>200506</td>\n",
       "      <td>8</td>\n",
       "      <td>60</td>\n",
       "      <td>7.500000</td>\n",
       "    </tr>\n",
       "    <tr>\n",
       "      <th>1</th>\n",
       "      <td>tt0120667</td>\n",
       "      <td>1</td>\n",
       "      <td>507</td>\n",
       "      <td>3315</td>\n",
       "      <td>7</td>\n",
       "      <td>2005</td>\n",
       "      <td>200507</td>\n",
       "      <td>6</td>\n",
       "      <td>2005</td>\n",
       "      <td>200506</td>\n",
       "      <td>515</td>\n",
       "      <td>3375</td>\n",
       "      <td>6.553398</td>\n",
       "    </tr>\n",
       "    <tr>\n",
       "      <th>2</th>\n",
       "      <td>tt0120667</td>\n",
       "      <td>2</td>\n",
       "      <td>76</td>\n",
       "      <td>444</td>\n",
       "      <td>8</td>\n",
       "      <td>2005</td>\n",
       "      <td>200508</td>\n",
       "      <td>6</td>\n",
       "      <td>2005</td>\n",
       "      <td>200506</td>\n",
       "      <td>591</td>\n",
       "      <td>3819</td>\n",
       "      <td>6.461929</td>\n",
       "    </tr>\n",
       "    <tr>\n",
       "      <th>3</th>\n",
       "      <td>tt0120667</td>\n",
       "      <td>3</td>\n",
       "      <td>16</td>\n",
       "      <td>92</td>\n",
       "      <td>9</td>\n",
       "      <td>2005</td>\n",
       "      <td>200509</td>\n",
       "      <td>6</td>\n",
       "      <td>2005</td>\n",
       "      <td>200506</td>\n",
       "      <td>607</td>\n",
       "      <td>3911</td>\n",
       "      <td>6.443163</td>\n",
       "    </tr>\n",
       "    <tr>\n",
       "      <th>4</th>\n",
       "      <td>tt0120667</td>\n",
       "      <td>4</td>\n",
       "      <td>16</td>\n",
       "      <td>91</td>\n",
       "      <td>10</td>\n",
       "      <td>2005</td>\n",
       "      <td>200510</td>\n",
       "      <td>6</td>\n",
       "      <td>2005</td>\n",
       "      <td>200506</td>\n",
       "      <td>623</td>\n",
       "      <td>4002</td>\n",
       "      <td>6.423756</td>\n",
       "    </tr>\n",
       "    <tr>\n",
       "      <th>...</th>\n",
       "      <td>...</td>\n",
       "      <td>...</td>\n",
       "      <td>...</td>\n",
       "      <td>...</td>\n",
       "      <td>...</td>\n",
       "      <td>...</td>\n",
       "      <td>...</td>\n",
       "      <td>...</td>\n",
       "      <td>...</td>\n",
       "      <td>...</td>\n",
       "      <td>...</td>\n",
       "      <td>...</td>\n",
       "      <td>...</td>\n",
       "    </tr>\n",
       "    <tr>\n",
       "      <th>176511</th>\n",
       "      <td>tt9900782</td>\n",
       "      <td>9</td>\n",
       "      <td>2</td>\n",
       "      <td>17</td>\n",
       "      <td>7</td>\n",
       "      <td>2020</td>\n",
       "      <td>202007</td>\n",
       "      <td>10</td>\n",
       "      <td>2019</td>\n",
       "      <td>201910</td>\n",
       "      <td>180</td>\n",
       "      <td>1620</td>\n",
       "      <td>9.000000</td>\n",
       "    </tr>\n",
       "    <tr>\n",
       "      <th>176512</th>\n",
       "      <td>tt9900782</td>\n",
       "      <td>10</td>\n",
       "      <td>6</td>\n",
       "      <td>52</td>\n",
       "      <td>8</td>\n",
       "      <td>2020</td>\n",
       "      <td>202008</td>\n",
       "      <td>10</td>\n",
       "      <td>2019</td>\n",
       "      <td>201910</td>\n",
       "      <td>186</td>\n",
       "      <td>1672</td>\n",
       "      <td>8.989247</td>\n",
       "    </tr>\n",
       "    <tr>\n",
       "      <th>176513</th>\n",
       "      <td>tt9900782</td>\n",
       "      <td>12</td>\n",
       "      <td>13</td>\n",
       "      <td>112</td>\n",
       "      <td>10</td>\n",
       "      <td>2020</td>\n",
       "      <td>202010</td>\n",
       "      <td>10</td>\n",
       "      <td>2019</td>\n",
       "      <td>201910</td>\n",
       "      <td>199</td>\n",
       "      <td>1784</td>\n",
       "      <td>8.964824</td>\n",
       "    </tr>\n",
       "    <tr>\n",
       "      <th>176514</th>\n",
       "      <td>tt9900782</td>\n",
       "      <td>13</td>\n",
       "      <td>8</td>\n",
       "      <td>57</td>\n",
       "      <td>11</td>\n",
       "      <td>2020</td>\n",
       "      <td>202011</td>\n",
       "      <td>10</td>\n",
       "      <td>2019</td>\n",
       "      <td>201910</td>\n",
       "      <td>207</td>\n",
       "      <td>1841</td>\n",
       "      <td>8.893720</td>\n",
       "    </tr>\n",
       "    <tr>\n",
       "      <th>176515</th>\n",
       "      <td>tt9900782</td>\n",
       "      <td>14</td>\n",
       "      <td>1</td>\n",
       "      <td>9</td>\n",
       "      <td>12</td>\n",
       "      <td>2020</td>\n",
       "      <td>202012</td>\n",
       "      <td>10</td>\n",
       "      <td>2019</td>\n",
       "      <td>201910</td>\n",
       "      <td>208</td>\n",
       "      <td>1850</td>\n",
       "      <td>8.894231</td>\n",
       "    </tr>\n",
       "  </tbody>\n",
       "</table>\n",
       "<p>176516 rows × 13 columns</p>\n",
       "</div>"
      ],
      "text/plain": [
       "            movie  first_review_month_offset  num_reviews  sum_ratings  month  \\\n",
       "0       tt0120667                          0            8           60      6   \n",
       "1       tt0120667                          1          507         3315      7   \n",
       "2       tt0120667                          2           76          444      8   \n",
       "3       tt0120667                          3           16           92      9   \n",
       "4       tt0120667                          4           16           91     10   \n",
       "...           ...                        ...          ...          ...    ...   \n",
       "176511  tt9900782                          9            2           17      7   \n",
       "176512  tt9900782                         10            6           52      8   \n",
       "176513  tt9900782                         12           13          112     10   \n",
       "176514  tt9900782                         13            8           57     11   \n",
       "176515  tt9900782                         14            1            9     12   \n",
       "\n",
       "        year  year_month  first_review_month  first_review_year  \\\n",
       "0       2005      200506                   6               2005   \n",
       "1       2005      200507                   6               2005   \n",
       "2       2005      200508                   6               2005   \n",
       "3       2005      200509                   6               2005   \n",
       "4       2005      200510                   6               2005   \n",
       "...      ...         ...                 ...                ...   \n",
       "176511  2020      202007                  10               2019   \n",
       "176512  2020      202008                  10               2019   \n",
       "176513  2020      202010                  10               2019   \n",
       "176514  2020      202011                  10               2019   \n",
       "176515  2020      202012                  10               2019   \n",
       "\n",
       "        first_review_year_month  cumulative_reviews  cumsum_ratings  \\\n",
       "0                        200506                   8              60   \n",
       "1                        200506                 515            3375   \n",
       "2                        200506                 591            3819   \n",
       "3                        200506                 607            3911   \n",
       "4                        200506                 623            4002   \n",
       "...                         ...                 ...             ...   \n",
       "176511                   201910                 180            1620   \n",
       "176512                   201910                 186            1672   \n",
       "176513                   201910                 199            1784   \n",
       "176514                   201910                 207            1841   \n",
       "176515                   201910                 208            1850   \n",
       "\n",
       "        cumavg_review  \n",
       "0            7.500000  \n",
       "1            6.553398  \n",
       "2            6.461929  \n",
       "3            6.443163  \n",
       "4            6.423756  \n",
       "...               ...  \n",
       "176511       9.000000  \n",
       "176512       8.989247  \n",
       "176513       8.964824  \n",
       "176514       8.893720  \n",
       "176515       8.894231  \n",
       "\n",
       "[176516 rows x 13 columns]"
      ]
     },
     "execution_count": 174,
     "metadata": {},
     "output_type": "execute_result"
    }
   ],
   "source": [
    "panel"
   ]
  },
  {
   "cell_type": "code",
   "execution_count": 175,
   "id": "democratic-stack",
   "metadata": {},
   "outputs": [],
   "source": [
    "panel[\"2018_or_later\"] = (panel[\"year\"] > 2018)"
   ]
  },
  {
   "cell_type": "code",
   "execution_count": 176,
   "id": "raised-recall",
   "metadata": {},
   "outputs": [
    {
     "data": {
      "text/html": [
       "<div>\n",
       "<style scoped>\n",
       "    .dataframe tbody tr th:only-of-type {\n",
       "        vertical-align: middle;\n",
       "    }\n",
       "\n",
       "    .dataframe tbody tr th {\n",
       "        vertical-align: top;\n",
       "    }\n",
       "\n",
       "    .dataframe thead th {\n",
       "        text-align: right;\n",
       "    }\n",
       "</style>\n",
       "<table border=\"1\" class=\"dataframe\">\n",
       "  <thead>\n",
       "    <tr style=\"text-align: right;\">\n",
       "      <th></th>\n",
       "      <th>movie</th>\n",
       "      <th>first_review_month_offset</th>\n",
       "      <th>num_reviews</th>\n",
       "      <th>sum_ratings</th>\n",
       "      <th>month</th>\n",
       "      <th>year</th>\n",
       "      <th>year_month</th>\n",
       "      <th>first_review_month</th>\n",
       "      <th>first_review_year</th>\n",
       "      <th>first_review_year_month</th>\n",
       "      <th>cumulative_reviews</th>\n",
       "      <th>cumsum_ratings</th>\n",
       "      <th>cumavg_review</th>\n",
       "      <th>2018_or_later</th>\n",
       "    </tr>\n",
       "  </thead>\n",
       "  <tbody>\n",
       "    <tr>\n",
       "      <th>0</th>\n",
       "      <td>tt0120667</td>\n",
       "      <td>0</td>\n",
       "      <td>8</td>\n",
       "      <td>60</td>\n",
       "      <td>6</td>\n",
       "      <td>2005</td>\n",
       "      <td>200506</td>\n",
       "      <td>6</td>\n",
       "      <td>2005</td>\n",
       "      <td>200506</td>\n",
       "      <td>8</td>\n",
       "      <td>60</td>\n",
       "      <td>7.500000</td>\n",
       "      <td>False</td>\n",
       "    </tr>\n",
       "    <tr>\n",
       "      <th>1</th>\n",
       "      <td>tt0120667</td>\n",
       "      <td>1</td>\n",
       "      <td>507</td>\n",
       "      <td>3315</td>\n",
       "      <td>7</td>\n",
       "      <td>2005</td>\n",
       "      <td>200507</td>\n",
       "      <td>6</td>\n",
       "      <td>2005</td>\n",
       "      <td>200506</td>\n",
       "      <td>515</td>\n",
       "      <td>3375</td>\n",
       "      <td>6.553398</td>\n",
       "      <td>False</td>\n",
       "    </tr>\n",
       "    <tr>\n",
       "      <th>2</th>\n",
       "      <td>tt0120667</td>\n",
       "      <td>2</td>\n",
       "      <td>76</td>\n",
       "      <td>444</td>\n",
       "      <td>8</td>\n",
       "      <td>2005</td>\n",
       "      <td>200508</td>\n",
       "      <td>6</td>\n",
       "      <td>2005</td>\n",
       "      <td>200506</td>\n",
       "      <td>591</td>\n",
       "      <td>3819</td>\n",
       "      <td>6.461929</td>\n",
       "      <td>False</td>\n",
       "    </tr>\n",
       "    <tr>\n",
       "      <th>3</th>\n",
       "      <td>tt0120667</td>\n",
       "      <td>3</td>\n",
       "      <td>16</td>\n",
       "      <td>92</td>\n",
       "      <td>9</td>\n",
       "      <td>2005</td>\n",
       "      <td>200509</td>\n",
       "      <td>6</td>\n",
       "      <td>2005</td>\n",
       "      <td>200506</td>\n",
       "      <td>607</td>\n",
       "      <td>3911</td>\n",
       "      <td>6.443163</td>\n",
       "      <td>False</td>\n",
       "    </tr>\n",
       "    <tr>\n",
       "      <th>4</th>\n",
       "      <td>tt0120667</td>\n",
       "      <td>4</td>\n",
       "      <td>16</td>\n",
       "      <td>91</td>\n",
       "      <td>10</td>\n",
       "      <td>2005</td>\n",
       "      <td>200510</td>\n",
       "      <td>6</td>\n",
       "      <td>2005</td>\n",
       "      <td>200506</td>\n",
       "      <td>623</td>\n",
       "      <td>4002</td>\n",
       "      <td>6.423756</td>\n",
       "      <td>False</td>\n",
       "    </tr>\n",
       "    <tr>\n",
       "      <th>...</th>\n",
       "      <td>...</td>\n",
       "      <td>...</td>\n",
       "      <td>...</td>\n",
       "      <td>...</td>\n",
       "      <td>...</td>\n",
       "      <td>...</td>\n",
       "      <td>...</td>\n",
       "      <td>...</td>\n",
       "      <td>...</td>\n",
       "      <td>...</td>\n",
       "      <td>...</td>\n",
       "      <td>...</td>\n",
       "      <td>...</td>\n",
       "      <td>...</td>\n",
       "    </tr>\n",
       "    <tr>\n",
       "      <th>176511</th>\n",
       "      <td>tt9900782</td>\n",
       "      <td>9</td>\n",
       "      <td>2</td>\n",
       "      <td>17</td>\n",
       "      <td>7</td>\n",
       "      <td>2020</td>\n",
       "      <td>202007</td>\n",
       "      <td>10</td>\n",
       "      <td>2019</td>\n",
       "      <td>201910</td>\n",
       "      <td>180</td>\n",
       "      <td>1620</td>\n",
       "      <td>9.000000</td>\n",
       "      <td>True</td>\n",
       "    </tr>\n",
       "    <tr>\n",
       "      <th>176512</th>\n",
       "      <td>tt9900782</td>\n",
       "      <td>10</td>\n",
       "      <td>6</td>\n",
       "      <td>52</td>\n",
       "      <td>8</td>\n",
       "      <td>2020</td>\n",
       "      <td>202008</td>\n",
       "      <td>10</td>\n",
       "      <td>2019</td>\n",
       "      <td>201910</td>\n",
       "      <td>186</td>\n",
       "      <td>1672</td>\n",
       "      <td>8.989247</td>\n",
       "      <td>True</td>\n",
       "    </tr>\n",
       "    <tr>\n",
       "      <th>176513</th>\n",
       "      <td>tt9900782</td>\n",
       "      <td>12</td>\n",
       "      <td>13</td>\n",
       "      <td>112</td>\n",
       "      <td>10</td>\n",
       "      <td>2020</td>\n",
       "      <td>202010</td>\n",
       "      <td>10</td>\n",
       "      <td>2019</td>\n",
       "      <td>201910</td>\n",
       "      <td>199</td>\n",
       "      <td>1784</td>\n",
       "      <td>8.964824</td>\n",
       "      <td>True</td>\n",
       "    </tr>\n",
       "    <tr>\n",
       "      <th>176514</th>\n",
       "      <td>tt9900782</td>\n",
       "      <td>13</td>\n",
       "      <td>8</td>\n",
       "      <td>57</td>\n",
       "      <td>11</td>\n",
       "      <td>2020</td>\n",
       "      <td>202011</td>\n",
       "      <td>10</td>\n",
       "      <td>2019</td>\n",
       "      <td>201910</td>\n",
       "      <td>207</td>\n",
       "      <td>1841</td>\n",
       "      <td>8.893720</td>\n",
       "      <td>True</td>\n",
       "    </tr>\n",
       "    <tr>\n",
       "      <th>176515</th>\n",
       "      <td>tt9900782</td>\n",
       "      <td>14</td>\n",
       "      <td>1</td>\n",
       "      <td>9</td>\n",
       "      <td>12</td>\n",
       "      <td>2020</td>\n",
       "      <td>202012</td>\n",
       "      <td>10</td>\n",
       "      <td>2019</td>\n",
       "      <td>201910</td>\n",
       "      <td>208</td>\n",
       "      <td>1850</td>\n",
       "      <td>8.894231</td>\n",
       "      <td>True</td>\n",
       "    </tr>\n",
       "  </tbody>\n",
       "</table>\n",
       "<p>176516 rows × 14 columns</p>\n",
       "</div>"
      ],
      "text/plain": [
       "            movie  first_review_month_offset  num_reviews  sum_ratings  month  \\\n",
       "0       tt0120667                          0            8           60      6   \n",
       "1       tt0120667                          1          507         3315      7   \n",
       "2       tt0120667                          2           76          444      8   \n",
       "3       tt0120667                          3           16           92      9   \n",
       "4       tt0120667                          4           16           91     10   \n",
       "...           ...                        ...          ...          ...    ...   \n",
       "176511  tt9900782                          9            2           17      7   \n",
       "176512  tt9900782                         10            6           52      8   \n",
       "176513  tt9900782                         12           13          112     10   \n",
       "176514  tt9900782                         13            8           57     11   \n",
       "176515  tt9900782                         14            1            9     12   \n",
       "\n",
       "        year  year_month  first_review_month  first_review_year  \\\n",
       "0       2005      200506                   6               2005   \n",
       "1       2005      200507                   6               2005   \n",
       "2       2005      200508                   6               2005   \n",
       "3       2005      200509                   6               2005   \n",
       "4       2005      200510                   6               2005   \n",
       "...      ...         ...                 ...                ...   \n",
       "176511  2020      202007                  10               2019   \n",
       "176512  2020      202008                  10               2019   \n",
       "176513  2020      202010                  10               2019   \n",
       "176514  2020      202011                  10               2019   \n",
       "176515  2020      202012                  10               2019   \n",
       "\n",
       "        first_review_year_month  cumulative_reviews  cumsum_ratings  \\\n",
       "0                        200506                   8              60   \n",
       "1                        200506                 515            3375   \n",
       "2                        200506                 591            3819   \n",
       "3                        200506                 607            3911   \n",
       "4                        200506                 623            4002   \n",
       "...                         ...                 ...             ...   \n",
       "176511                   201910                 180            1620   \n",
       "176512                   201910                 186            1672   \n",
       "176513                   201910                 199            1784   \n",
       "176514                   201910                 207            1841   \n",
       "176515                   201910                 208            1850   \n",
       "\n",
       "        cumavg_review  2018_or_later  \n",
       "0            7.500000          False  \n",
       "1            6.553398          False  \n",
       "2            6.461929          False  \n",
       "3            6.443163          False  \n",
       "4            6.423756          False  \n",
       "...               ...            ...  \n",
       "176511       9.000000           True  \n",
       "176512       8.989247           True  \n",
       "176513       8.964824           True  \n",
       "176514       8.893720           True  \n",
       "176515       8.894231           True  \n",
       "\n",
       "[176516 rows x 14 columns]"
      ]
     },
     "execution_count": 176,
     "metadata": {},
     "output_type": "execute_result"
    }
   ],
   "source": [
    "panel"
   ]
  },
  {
   "cell_type": "code",
   "execution_count": 177,
   "id": "earned-surge",
   "metadata": {},
   "outputs": [
    {
     "data": {
      "text/plain": [
       "<AxesSubplot:ylabel='Frequency'>"
      ]
     },
     "execution_count": 177,
     "metadata": {},
     "output_type": "execute_result"
    },
    {
     "data": {
      "image/png": "[encoded data removed]",
      "text/plain": [
       "<Figure size 432x288 with 1 Axes>"
      ]
     },
     "metadata": {
      "needs_background": "light"
     },
     "output_type": "display_data"
    }
   ],
   "source": [
    "panel[\"first_review_month_offset\"].plot(kind=\"hist\")"
   ]
  },
  {
   "cell_type": "code",
   "execution_count": 319,
   "id": "cooperative-alexandria",
   "metadata": {},
   "outputs": [
    {
     "data": {
      "text/plain": [
       "count    176516.000000\n",
       "mean         50.814306\n",
       "std          44.721076\n",
       "min           0.000000\n",
       "25%          14.000000\n",
       "50%          37.000000\n",
       "75%          78.000000\n",
       "max         191.000000\n",
       "Name: first_review_month_offset, dtype: float64"
      ]
     },
     "execution_count": 319,
     "metadata": {},
     "output_type": "execute_result"
    }
   ],
   "source": [
    "panel[\"first_review_month_offset\"].describe()"
   ]
  },
  {
   "cell_type": "code",
   "execution_count": 178,
   "id": "spiritual-haven",
   "metadata": {},
   "outputs": [
    {
     "data": {
      "text/html": [
       "<div>\n",
       "<style scoped>\n",
       "    .dataframe tbody tr th:only-of-type {\n",
       "        vertical-align: middle;\n",
       "    }\n",
       "\n",
       "    .dataframe tbody tr th {\n",
       "        vertical-align: top;\n",
       "    }\n",
       "\n",
       "    .dataframe thead th {\n",
       "        text-align: right;\n",
       "    }\n",
       "</style>\n",
       "<table border=\"1\" class=\"dataframe\">\n",
       "  <thead>\n",
       "    <tr style=\"text-align: right;\">\n",
       "      <th></th>\n",
       "      <th>movie</th>\n",
       "      <th>first_review_month_offset</th>\n",
       "      <th>num_reviews</th>\n",
       "      <th>sum_ratings</th>\n",
       "      <th>month</th>\n",
       "      <th>year</th>\n",
       "      <th>year_month</th>\n",
       "      <th>first_review_month</th>\n",
       "      <th>first_review_year</th>\n",
       "      <th>first_review_year_month</th>\n",
       "      <th>cumulative_reviews</th>\n",
       "      <th>cumsum_ratings</th>\n",
       "      <th>cumavg_review</th>\n",
       "      <th>2018_or_later</th>\n",
       "    </tr>\n",
       "  </thead>\n",
       "  <tbody>\n",
       "    <tr>\n",
       "      <th>0</th>\n",
       "      <td>tt0120667</td>\n",
       "      <td>0</td>\n",
       "      <td>8</td>\n",
       "      <td>60</td>\n",
       "      <td>6</td>\n",
       "      <td>2005</td>\n",
       "      <td>200506</td>\n",
       "      <td>6</td>\n",
       "      <td>2005</td>\n",
       "      <td>200506</td>\n",
       "      <td>8</td>\n",
       "      <td>60</td>\n",
       "      <td>7.500000</td>\n",
       "      <td>False</td>\n",
       "    </tr>\n",
       "    <tr>\n",
       "      <th>1</th>\n",
       "      <td>tt0120667</td>\n",
       "      <td>1</td>\n",
       "      <td>507</td>\n",
       "      <td>3315</td>\n",
       "      <td>7</td>\n",
       "      <td>2005</td>\n",
       "      <td>200507</td>\n",
       "      <td>6</td>\n",
       "      <td>2005</td>\n",
       "      <td>200506</td>\n",
       "      <td>515</td>\n",
       "      <td>3375</td>\n",
       "      <td>6.553398</td>\n",
       "      <td>False</td>\n",
       "    </tr>\n",
       "    <tr>\n",
       "      <th>2</th>\n",
       "      <td>tt0120667</td>\n",
       "      <td>2</td>\n",
       "      <td>76</td>\n",
       "      <td>444</td>\n",
       "      <td>8</td>\n",
       "      <td>2005</td>\n",
       "      <td>200508</td>\n",
       "      <td>6</td>\n",
       "      <td>2005</td>\n",
       "      <td>200506</td>\n",
       "      <td>591</td>\n",
       "      <td>3819</td>\n",
       "      <td>6.461929</td>\n",
       "      <td>False</td>\n",
       "    </tr>\n",
       "    <tr>\n",
       "      <th>3</th>\n",
       "      <td>tt0120667</td>\n",
       "      <td>3</td>\n",
       "      <td>16</td>\n",
       "      <td>92</td>\n",
       "      <td>9</td>\n",
       "      <td>2005</td>\n",
       "      <td>200509</td>\n",
       "      <td>6</td>\n",
       "      <td>2005</td>\n",
       "      <td>200506</td>\n",
       "      <td>607</td>\n",
       "      <td>3911</td>\n",
       "      <td>6.443163</td>\n",
       "      <td>False</td>\n",
       "    </tr>\n",
       "    <tr>\n",
       "      <th>4</th>\n",
       "      <td>tt0120667</td>\n",
       "      <td>4</td>\n",
       "      <td>16</td>\n",
       "      <td>91</td>\n",
       "      <td>10</td>\n",
       "      <td>2005</td>\n",
       "      <td>200510</td>\n",
       "      <td>6</td>\n",
       "      <td>2005</td>\n",
       "      <td>200506</td>\n",
       "      <td>623</td>\n",
       "      <td>4002</td>\n",
       "      <td>6.423756</td>\n",
       "      <td>False</td>\n",
       "    </tr>\n",
       "    <tr>\n",
       "      <th>...</th>\n",
       "      <td>...</td>\n",
       "      <td>...</td>\n",
       "      <td>...</td>\n",
       "      <td>...</td>\n",
       "      <td>...</td>\n",
       "      <td>...</td>\n",
       "      <td>...</td>\n",
       "      <td>...</td>\n",
       "      <td>...</td>\n",
       "      <td>...</td>\n",
       "      <td>...</td>\n",
       "      <td>...</td>\n",
       "      <td>...</td>\n",
       "      <td>...</td>\n",
       "    </tr>\n",
       "    <tr>\n",
       "      <th>176511</th>\n",
       "      <td>tt9900782</td>\n",
       "      <td>9</td>\n",
       "      <td>2</td>\n",
       "      <td>17</td>\n",
       "      <td>7</td>\n",
       "      <td>2020</td>\n",
       "      <td>202007</td>\n",
       "      <td>10</td>\n",
       "      <td>2019</td>\n",
       "      <td>201910</td>\n",
       "      <td>180</td>\n",
       "      <td>1620</td>\n",
       "      <td>9.000000</td>\n",
       "      <td>True</td>\n",
       "    </tr>\n",
       "    <tr>\n",
       "      <th>176512</th>\n",
       "      <td>tt9900782</td>\n",
       "      <td>10</td>\n",
       "      <td>6</td>\n",
       "      <td>52</td>\n",
       "      <td>8</td>\n",
       "      <td>2020</td>\n",
       "      <td>202008</td>\n",
       "      <td>10</td>\n",
       "      <td>2019</td>\n",
       "      <td>201910</td>\n",
       "      <td>186</td>\n",
       "      <td>1672</td>\n",
       "      <td>8.989247</td>\n",
       "      <td>True</td>\n",
       "    </tr>\n",
       "    <tr>\n",
       "      <th>176513</th>\n",
       "      <td>tt9900782</td>\n",
       "      <td>12</td>\n",
       "      <td>13</td>\n",
       "      <td>112</td>\n",
       "      <td>10</td>\n",
       "      <td>2020</td>\n",
       "      <td>202010</td>\n",
       "      <td>10</td>\n",
       "      <td>2019</td>\n",
       "      <td>201910</td>\n",
       "      <td>199</td>\n",
       "      <td>1784</td>\n",
       "      <td>8.964824</td>\n",
       "      <td>True</td>\n",
       "    </tr>\n",
       "    <tr>\n",
       "      <th>176514</th>\n",
       "      <td>tt9900782</td>\n",
       "      <td>13</td>\n",
       "      <td>8</td>\n",
       "      <td>57</td>\n",
       "      <td>11</td>\n",
       "      <td>2020</td>\n",
       "      <td>202011</td>\n",
       "      <td>10</td>\n",
       "      <td>2019</td>\n",
       "      <td>201910</td>\n",
       "      <td>207</td>\n",
       "      <td>1841</td>\n",
       "      <td>8.893720</td>\n",
       "      <td>True</td>\n",
       "    </tr>\n",
       "    <tr>\n",
       "      <th>176515</th>\n",
       "      <td>tt9900782</td>\n",
       "      <td>14</td>\n",
       "      <td>1</td>\n",
       "      <td>9</td>\n",
       "      <td>12</td>\n",
       "      <td>2020</td>\n",
       "      <td>202012</td>\n",
       "      <td>10</td>\n",
       "      <td>2019</td>\n",
       "      <td>201910</td>\n",
       "      <td>208</td>\n",
       "      <td>1850</td>\n",
       "      <td>8.894231</td>\n",
       "      <td>True</td>\n",
       "    </tr>\n",
       "  </tbody>\n",
       "</table>\n",
       "<p>176516 rows × 14 columns</p>\n",
       "</div>"
      ],
      "text/plain": [
       "            movie  first_review_month_offset  num_reviews  sum_ratings  month  \\\n",
       "0       tt0120667                          0            8           60      6   \n",
       "1       tt0120667                          1          507         3315      7   \n",
       "2       tt0120667                          2           76          444      8   \n",
       "3       tt0120667                          3           16           92      9   \n",
       "4       tt0120667                          4           16           91     10   \n",
       "...           ...                        ...          ...          ...    ...   \n",
       "176511  tt9900782                          9            2           17      7   \n",
       "176512  tt9900782                         10            6           52      8   \n",
       "176513  tt9900782                         12           13          112     10   \n",
       "176514  tt9900782                         13            8           57     11   \n",
       "176515  tt9900782                         14            1            9     12   \n",
       "\n",
       "        year  year_month  first_review_month  first_review_year  \\\n",
       "0       2005      200506                   6               2005   \n",
       "1       2005      200507                   6               2005   \n",
       "2       2005      200508                   6               2005   \n",
       "3       2005      200509                   6               2005   \n",
       "4       2005      200510                   6               2005   \n",
       "...      ...         ...                 ...                ...   \n",
       "176511  2020      202007                  10               2019   \n",
       "176512  2020      202008                  10               2019   \n",
       "176513  2020      202010                  10               2019   \n",
       "176514  2020      202011                  10               2019   \n",
       "176515  2020      202012                  10               2019   \n",
       "\n",
       "        first_review_year_month  cumulative_reviews  cumsum_ratings  \\\n",
       "0                        200506                   8              60   \n",
       "1                        200506                 515            3375   \n",
       "2                        200506                 591            3819   \n",
       "3                        200506                 607            3911   \n",
       "4                        200506                 623            4002   \n",
       "...                         ...                 ...             ...   \n",
       "176511                   201910                 180            1620   \n",
       "176512                   201910                 186            1672   \n",
       "176513                   201910                 199            1784   \n",
       "176514                   201910                 207            1841   \n",
       "176515                   201910                 208            1850   \n",
       "\n",
       "        cumavg_review  2018_or_later  \n",
       "0            7.500000          False  \n",
       "1            6.553398          False  \n",
       "2            6.461929          False  \n",
       "3            6.443163          False  \n",
       "4            6.423756          False  \n",
       "...               ...            ...  \n",
       "176511       9.000000           True  \n",
       "176512       8.989247           True  \n",
       "176513       8.964824           True  \n",
       "176514       8.893720           True  \n",
       "176515       8.894231           True  \n",
       "\n",
       "[176516 rows x 14 columns]"
      ]
     },
     "execution_count": 178,
     "metadata": {},
     "output_type": "execute_result"
    }
   ],
   "source": [
    "panel"
   ]
  },
  {
   "cell_type": "code",
   "execution_count": 179,
   "id": "accompanied-function",
   "metadata": {},
   "outputs": [],
   "source": [
    "panel.to_csv(\"211215clean_movie_panel.csv\")"
   ]
  },
  {
   "cell_type": "markdown",
   "id": "voluntary-evidence",
   "metadata": {},
   "source": [
    "Can we look at individual movies over time?"
   ]
  },
  {
   "cell_type": "code",
   "execution_count": 185,
   "id": "boxed-victory",
   "metadata": {},
   "outputs": [
    {
     "data": {
      "text/plain": [
       "Index(['movie', 'first_review_month_offset', 'num_reviews', 'sum_ratings',\n",
       "       'month', 'year', 'year_month', 'first_review_month',\n",
       "       'first_review_year', 'first_review_year_month', 'cumulative_reviews',\n",
       "       'cumsum_ratings', 'cumavg_review', '2018_or_later'],\n",
       "      dtype='object')"
      ]
     },
     "execution_count": 185,
     "metadata": {},
     "output_type": "execute_result"
    }
   ],
   "source": [
    "panel.columns"
   ]
  },
  {
   "cell_type": "code",
   "execution_count": 292,
   "id": "diverse-shaft",
   "metadata": {},
   "outputs": [],
   "source": [
    "curmovie = panel[\"movie\"].sample().values[0]"
   ]
  },
  {
   "cell_type": "code",
   "execution_count": 293,
   "id": "governmental-robertson",
   "metadata": {},
   "outputs": [
    {
     "data": {
      "text/plain": [
       "<AxesSubplot:xlabel='first_review_month_offset'>"
      ]
     },
     "execution_count": 293,
     "metadata": {},
     "output_type": "execute_result"
    },
    {
     "data": {
      "image/png": "[encoded data removed]",
      "text/plain": [
       "<Figure size 432x288 with 1 Axes>"
      ]
     },
     "metadata": {
      "needs_background": "light"
     },
     "output_type": "display_data"
    }
   ],
   "source": [
    "panel[panel[\"movie\"] == curmovie].plot(x=\"first_review_month_offset\", y=\"cumavg_review\")"
   ]
  },
  {
   "cell_type": "code",
   "execution_count": 181,
   "id": "prescribed-diary",
   "metadata": {},
   "outputs": [
    {
     "data": {
      "text/html": [
       "<div>\n",
       "<style scoped>\n",
       "    .dataframe tbody tr th:only-of-type {\n",
       "        vertical-align: middle;\n",
       "    }\n",
       "\n",
       "    .dataframe tbody tr th {\n",
       "        vertical-align: top;\n",
       "    }\n",
       "\n",
       "    .dataframe thead tr th {\n",
       "        text-align: left;\n",
       "    }\n",
       "\n",
       "    .dataframe thead tr:last-of-type th {\n",
       "        text-align: right;\n",
       "    }\n",
       "</style>\n",
       "<table border=\"1\" class=\"dataframe\">\n",
       "  <thead>\n",
       "    <tr>\n",
       "      <th></th>\n",
       "      <th colspan=\"10\" halign=\"left\">num_reviews</th>\n",
       "      <th>...</th>\n",
       "      <th colspan=\"10\" halign=\"left\">2018_or_later</th>\n",
       "    </tr>\n",
       "    <tr>\n",
       "      <th>first_review_month_offset</th>\n",
       "      <th>0</th>\n",
       "      <th>1</th>\n",
       "      <th>2</th>\n",
       "      <th>3</th>\n",
       "      <th>4</th>\n",
       "      <th>5</th>\n",
       "      <th>6</th>\n",
       "      <th>7</th>\n",
       "      <th>8</th>\n",
       "      <th>9</th>\n",
       "      <th>...</th>\n",
       "      <th>182</th>\n",
       "      <th>183</th>\n",
       "      <th>184</th>\n",
       "      <th>185</th>\n",
       "      <th>186</th>\n",
       "      <th>187</th>\n",
       "      <th>188</th>\n",
       "      <th>189</th>\n",
       "      <th>190</th>\n",
       "      <th>191</th>\n",
       "    </tr>\n",
       "    <tr>\n",
       "      <th>movie</th>\n",
       "      <th></th>\n",
       "      <th></th>\n",
       "      <th></th>\n",
       "      <th></th>\n",
       "      <th></th>\n",
       "      <th></th>\n",
       "      <th></th>\n",
       "      <th></th>\n",
       "      <th></th>\n",
       "      <th></th>\n",
       "      <th></th>\n",
       "      <th></th>\n",
       "      <th></th>\n",
       "      <th></th>\n",
       "      <th></th>\n",
       "      <th></th>\n",
       "      <th></th>\n",
       "      <th></th>\n",
       "      <th></th>\n",
       "      <th></th>\n",
       "      <th></th>\n",
       "    </tr>\n",
       "  </thead>\n",
       "  <tbody>\n",
       "    <tr>\n",
       "      <th>tt0120667</th>\n",
       "      <td>8.0</td>\n",
       "      <td>507.0</td>\n",
       "      <td>76.0</td>\n",
       "      <td>16.0</td>\n",
       "      <td>16.0</td>\n",
       "      <td>7.0</td>\n",
       "      <td>46.0</td>\n",
       "      <td>22.0</td>\n",
       "      <td>14.0</td>\n",
       "      <td>9.0</td>\n",
       "      <td>...</td>\n",
       "      <td>True</td>\n",
       "      <td>True</td>\n",
       "      <td>NaN</td>\n",
       "      <td>True</td>\n",
       "      <td>NaN</td>\n",
       "      <td>NaN</td>\n",
       "      <td>NaN</td>\n",
       "      <td>NaN</td>\n",
       "      <td>NaN</td>\n",
       "      <td>NaN</td>\n",
       "    </tr>\n",
       "    <tr>\n",
       "      <th>tt0121164</th>\n",
       "      <td>1.0</td>\n",
       "      <td>90.0</td>\n",
       "      <td>98.0</td>\n",
       "      <td>27.0</td>\n",
       "      <td>12.0</td>\n",
       "      <td>10.0</td>\n",
       "      <td>24.0</td>\n",
       "      <td>19.0</td>\n",
       "      <td>11.0</td>\n",
       "      <td>10.0</td>\n",
       "      <td>...</td>\n",
       "      <td>True</td>\n",
       "      <td>True</td>\n",
       "      <td>NaN</td>\n",
       "      <td>NaN</td>\n",
       "      <td>NaN</td>\n",
       "      <td>NaN</td>\n",
       "      <td>NaN</td>\n",
       "      <td>NaN</td>\n",
       "      <td>NaN</td>\n",
       "      <td>NaN</td>\n",
       "    </tr>\n",
       "    <tr>\n",
       "      <th>tt0121766</th>\n",
       "      <td>1668.0</td>\n",
       "      <td>475.0</td>\n",
       "      <td>98.0</td>\n",
       "      <td>44.0</td>\n",
       "      <td>35.0</td>\n",
       "      <td>35.0</td>\n",
       "      <td>66.0</td>\n",
       "      <td>44.0</td>\n",
       "      <td>43.0</td>\n",
       "      <td>22.0</td>\n",
       "      <td>...</td>\n",
       "      <td>True</td>\n",
       "      <td>True</td>\n",
       "      <td>True</td>\n",
       "      <td>True</td>\n",
       "      <td>True</td>\n",
       "      <td>NaN</td>\n",
       "      <td>NaN</td>\n",
       "      <td>NaN</td>\n",
       "      <td>NaN</td>\n",
       "      <td>NaN</td>\n",
       "    </tr>\n",
       "    <tr>\n",
       "      <th>tt0200465</th>\n",
       "      <td>9.0</td>\n",
       "      <td>36.0</td>\n",
       "      <td>20.0</td>\n",
       "      <td>4.0</td>\n",
       "      <td>6.0</td>\n",
       "      <td>12.0</td>\n",
       "      <td>13.0</td>\n",
       "      <td>3.0</td>\n",
       "      <td>4.0</td>\n",
       "      <td>2.0</td>\n",
       "      <td>...</td>\n",
       "      <td>NaN</td>\n",
       "      <td>NaN</td>\n",
       "      <td>NaN</td>\n",
       "      <td>NaN</td>\n",
       "      <td>NaN</td>\n",
       "      <td>NaN</td>\n",
       "      <td>NaN</td>\n",
       "      <td>NaN</td>\n",
       "      <td>NaN</td>\n",
       "      <td>NaN</td>\n",
       "    </tr>\n",
       "    <tr>\n",
       "      <th>tt0206634</th>\n",
       "      <td>56.0</td>\n",
       "      <td>62.0</td>\n",
       "      <td>43.0</td>\n",
       "      <td>58.0</td>\n",
       "      <td>305.0</td>\n",
       "      <td>73.0</td>\n",
       "      <td>39.0</td>\n",
       "      <td>55.0</td>\n",
       "      <td>41.0</td>\n",
       "      <td>27.0</td>\n",
       "      <td>...</td>\n",
       "      <td>NaN</td>\n",
       "      <td>NaN</td>\n",
       "      <td>NaN</td>\n",
       "      <td>NaN</td>\n",
       "      <td>NaN</td>\n",
       "      <td>NaN</td>\n",
       "      <td>NaN</td>\n",
       "      <td>NaN</td>\n",
       "      <td>NaN</td>\n",
       "      <td>NaN</td>\n",
       "    </tr>\n",
       "    <tr>\n",
       "      <th>...</th>\n",
       "      <td>...</td>\n",
       "      <td>...</td>\n",
       "      <td>...</td>\n",
       "      <td>...</td>\n",
       "      <td>...</td>\n",
       "      <td>...</td>\n",
       "      <td>...</td>\n",
       "      <td>...</td>\n",
       "      <td>...</td>\n",
       "      <td>...</td>\n",
       "      <td>...</td>\n",
       "      <td>...</td>\n",
       "      <td>...</td>\n",
       "      <td>...</td>\n",
       "      <td>...</td>\n",
       "      <td>...</td>\n",
       "      <td>...</td>\n",
       "      <td>...</td>\n",
       "      <td>...</td>\n",
       "      <td>...</td>\n",
       "      <td>...</td>\n",
       "    </tr>\n",
       "    <tr>\n",
       "      <th>tt9866072</th>\n",
       "      <td>100.0</td>\n",
       "      <td>195.0</td>\n",
       "      <td>5.0</td>\n",
       "      <td>NaN</td>\n",
       "      <td>NaN</td>\n",
       "      <td>NaN</td>\n",
       "      <td>NaN</td>\n",
       "      <td>NaN</td>\n",
       "      <td>NaN</td>\n",
       "      <td>NaN</td>\n",
       "      <td>...</td>\n",
       "      <td>NaN</td>\n",
       "      <td>NaN</td>\n",
       "      <td>NaN</td>\n",
       "      <td>NaN</td>\n",
       "      <td>NaN</td>\n",
       "      <td>NaN</td>\n",
       "      <td>NaN</td>\n",
       "      <td>NaN</td>\n",
       "      <td>NaN</td>\n",
       "      <td>NaN</td>\n",
       "    </tr>\n",
       "    <tr>\n",
       "      <th>tt9866700</th>\n",
       "      <td>12.0</td>\n",
       "      <td>2.0</td>\n",
       "      <td>117.0</td>\n",
       "      <td>199.0</td>\n",
       "      <td>NaN</td>\n",
       "      <td>1.0</td>\n",
       "      <td>NaN</td>\n",
       "      <td>NaN</td>\n",
       "      <td>NaN</td>\n",
       "      <td>NaN</td>\n",
       "      <td>...</td>\n",
       "      <td>NaN</td>\n",
       "      <td>NaN</td>\n",
       "      <td>NaN</td>\n",
       "      <td>NaN</td>\n",
       "      <td>NaN</td>\n",
       "      <td>NaN</td>\n",
       "      <td>NaN</td>\n",
       "      <td>NaN</td>\n",
       "      <td>NaN</td>\n",
       "      <td>NaN</td>\n",
       "    </tr>\n",
       "    <tr>\n",
       "      <th>tt9877170</th>\n",
       "      <td>102.0</td>\n",
       "      <td>3.0</td>\n",
       "      <td>1.0</td>\n",
       "      <td>103.0</td>\n",
       "      <td>22.0</td>\n",
       "      <td>14.0</td>\n",
       "      <td>6.0</td>\n",
       "      <td>3.0</td>\n",
       "      <td>2.0</td>\n",
       "      <td>8.0</td>\n",
       "      <td>...</td>\n",
       "      <td>NaN</td>\n",
       "      <td>NaN</td>\n",
       "      <td>NaN</td>\n",
       "      <td>NaN</td>\n",
       "      <td>NaN</td>\n",
       "      <td>NaN</td>\n",
       "      <td>NaN</td>\n",
       "      <td>NaN</td>\n",
       "      <td>NaN</td>\n",
       "      <td>NaN</td>\n",
       "    </tr>\n",
       "    <tr>\n",
       "      <th>tt9898858</th>\n",
       "      <td>326.0</td>\n",
       "      <td>29.0</td>\n",
       "      <td>11.0</td>\n",
       "      <td>9.0</td>\n",
       "      <td>4.0</td>\n",
       "      <td>2.0</td>\n",
       "      <td>2.0</td>\n",
       "      <td>3.0</td>\n",
       "      <td>NaN</td>\n",
       "      <td>NaN</td>\n",
       "      <td>...</td>\n",
       "      <td>NaN</td>\n",
       "      <td>NaN</td>\n",
       "      <td>NaN</td>\n",
       "      <td>NaN</td>\n",
       "      <td>NaN</td>\n",
       "      <td>NaN</td>\n",
       "      <td>NaN</td>\n",
       "      <td>NaN</td>\n",
       "      <td>NaN</td>\n",
       "      <td>NaN</td>\n",
       "    </tr>\n",
       "    <tr>\n",
       "      <th>tt9900782</th>\n",
       "      <td>67.0</td>\n",
       "      <td>52.0</td>\n",
       "      <td>17.0</td>\n",
       "      <td>7.0</td>\n",
       "      <td>4.0</td>\n",
       "      <td>3.0</td>\n",
       "      <td>11.0</td>\n",
       "      <td>14.0</td>\n",
       "      <td>3.0</td>\n",
       "      <td>2.0</td>\n",
       "      <td>...</td>\n",
       "      <td>NaN</td>\n",
       "      <td>NaN</td>\n",
       "      <td>NaN</td>\n",
       "      <td>NaN</td>\n",
       "      <td>NaN</td>\n",
       "      <td>NaN</td>\n",
       "      <td>NaN</td>\n",
       "      <td>NaN</td>\n",
       "      <td>NaN</td>\n",
       "      <td>NaN</td>\n",
       "    </tr>\n",
       "  </tbody>\n",
       "</table>\n",
       "<p>3530 rows × 2304 columns</p>\n",
       "</div>"
      ],
      "text/plain": [
       "                          num_reviews                                          \\\n",
       "first_review_month_offset         0      1      2      3      4     5     6     \n",
       "movie                                                                           \n",
       "tt0120667                         8.0  507.0   76.0   16.0   16.0   7.0  46.0   \n",
       "tt0121164                         1.0   90.0   98.0   27.0   12.0  10.0  24.0   \n",
       "tt0121766                      1668.0  475.0   98.0   44.0   35.0  35.0  66.0   \n",
       "tt0200465                         9.0   36.0   20.0    4.0    6.0  12.0  13.0   \n",
       "tt0206634                        56.0   62.0   43.0   58.0  305.0  73.0  39.0   \n",
       "...                               ...    ...    ...    ...    ...   ...   ...   \n",
       "tt9866072                       100.0  195.0    5.0    NaN    NaN   NaN   NaN   \n",
       "tt9866700                        12.0    2.0  117.0  199.0    NaN   1.0   NaN   \n",
       "tt9877170                       102.0    3.0    1.0  103.0   22.0  14.0   6.0   \n",
       "tt9898858                       326.0   29.0   11.0    9.0    4.0   2.0   2.0   \n",
       "tt9900782                        67.0   52.0   17.0    7.0    4.0   3.0  11.0   \n",
       "\n",
       "                                             ... 2018_or_later              \\\n",
       "first_review_month_offset   7     8     9    ...           182   183   184   \n",
       "movie                                        ...                             \n",
       "tt0120667                  22.0  14.0   9.0  ...          True  True   NaN   \n",
       "tt0121164                  19.0  11.0  10.0  ...          True  True   NaN   \n",
       "tt0121766                  44.0  43.0  22.0  ...          True  True  True   \n",
       "tt0200465                   3.0   4.0   2.0  ...           NaN   NaN   NaN   \n",
       "tt0206634                  55.0  41.0  27.0  ...           NaN   NaN   NaN   \n",
       "...                         ...   ...   ...  ...           ...   ...   ...   \n",
       "tt9866072                   NaN   NaN   NaN  ...           NaN   NaN   NaN   \n",
       "tt9866700                   NaN   NaN   NaN  ...           NaN   NaN   NaN   \n",
       "tt9877170                   3.0   2.0   8.0  ...           NaN   NaN   NaN   \n",
       "tt9898858                   3.0   NaN   NaN  ...           NaN   NaN   NaN   \n",
       "tt9900782                  14.0   3.0   2.0  ...           NaN   NaN   NaN   \n",
       "\n",
       "                                                                \n",
       "first_review_month_offset   185   186  187  188  189  190  191  \n",
       "movie                                                           \n",
       "tt0120667                  True   NaN  NaN  NaN  NaN  NaN  NaN  \n",
       "tt0121164                   NaN   NaN  NaN  NaN  NaN  NaN  NaN  \n",
       "tt0121766                  True  True  NaN  NaN  NaN  NaN  NaN  \n",
       "tt0200465                   NaN   NaN  NaN  NaN  NaN  NaN  NaN  \n",
       "tt0206634                   NaN   NaN  NaN  NaN  NaN  NaN  NaN  \n",
       "...                         ...   ...  ...  ...  ...  ...  ...  \n",
       "tt9866072                   NaN   NaN  NaN  NaN  NaN  NaN  NaN  \n",
       "tt9866700                   NaN   NaN  NaN  NaN  NaN  NaN  NaN  \n",
       "tt9877170                   NaN   NaN  NaN  NaN  NaN  NaN  NaN  \n",
       "tt9898858                   NaN   NaN  NaN  NaN  NaN  NaN  NaN  \n",
       "tt9900782                   NaN   NaN  NaN  NaN  NaN  NaN  NaN  \n",
       "\n",
       "[3530 rows x 2304 columns]"
      ]
     },
     "execution_count": 181,
     "metadata": {},
     "output_type": "execute_result"
    }
   ],
   "source": [
    "panel.set_index([\"movie\", \"first_review_month_offset\"]).unstack()"
   ]
  },
  {
   "cell_type": "code",
   "execution_count": null,
   "id": "criminal-greensboro",
   "metadata": {},
   "outputs": [],
   "source": [
    "panel.loc[1]"
   ]
  },
  {
   "cell_type": "markdown",
   "id": "adjusted-champion",
   "metadata": {},
   "source": [
    "Is there seasonality in reviews if we control for month of release? Want to compare average reviews by month of observation among this subset"
   ]
  },
  {
   "cell_type": "code",
   "execution_count": 299,
   "id": "senior-barrel",
   "metadata": {},
   "outputs": [
    {
     "data": {
      "text/plain": [
       "<AxesSubplot:xlabel='month'>"
      ]
     },
     "execution_count": 299,
     "metadata": {},
     "output_type": "execute_result"
    },
    {
     "data": {
      "image/png": "[encoded data removed]",
      "text/plain": [
       "<Figure size 432x288 with 1 Axes>"
      ]
     },
     "metadata": {
      "needs_background": "light"
     },
     "output_type": "display_data"
    }
   ],
   "source": [
    "panel[panel[\"first_review_month\"] == 1].groupby(\"month\")[\"cumavg_review\"].mean().plot()"
   ]
  },
  {
   "cell_type": "code",
   "execution_count": 310,
   "id": "cheap-estonia",
   "metadata": {},
   "outputs": [
    {
     "data": {
      "text/plain": [
       "<AxesSubplot:xlabel='month'>"
      ]
     },
     "execution_count": 310,
     "metadata": {},
     "output_type": "execute_result"
    },
    {
     "data": {
      "image/png": "[encoded data removed]",
      "text/plain": [
       "<Figure size 432x288 with 1 Axes>"
      ]
     },
     "metadata": {
      "needs_background": "light"
     },
     "output_type": "display_data"
    }
   ],
   "source": [
    "panel[panel[\"first_review_month\"] == 12].groupby(\"month\")[\"cumavg_review\"].mean().plot()"
   ]
  },
  {
   "cell_type": "markdown",
   "id": "acting-business",
   "metadata": {},
   "source": [
    "So there's some seasonality, but it makes our coefficients hard to interpret (actually it doesn't really)"
   ]
  },
  {
   "cell_type": "markdown",
   "id": "thorough-outside",
   "metadata": {},
   "source": [
    "Seems like no, drop after January can be explained by delay from release. Not sure why there's a bump in December though - oops this is a histogram. Bump is because more ppl rate movies in December and Jan."
   ]
  },
  {
   "cell_type": "code",
   "execution_count": 318,
   "id": "romantic-recovery",
   "metadata": {},
   "outputs": [
    {
     "data": {
      "text/plain": [
       "<AxesSubplot:>"
      ]
     },
     "execution_count": 318,
     "metadata": {},
     "output_type": "execute_result"
    },
    {
     "data": {
      "image/png": "[encoded data removed]",
      "text/plain": [
       "<Figure size 432x288 with 1 Axes>"
      ]
     },
     "metadata": {
      "needs_background": "light"
     },
     "output_type": "display_data"
    }
   ],
   "source": [
    "panel[panel[\"first_review_month\"] == 10][\"month\"].hist()"
   ]
  },
  {
   "cell_type": "code",
   "execution_count": 294,
   "id": "stainless-thumb",
   "metadata": {},
   "outputs": [
    {
     "data": {
      "text/html": [
       "<div>\n",
       "<style scoped>\n",
       "    .dataframe tbody tr th:only-of-type {\n",
       "        vertical-align: middle;\n",
       "    }\n",
       "\n",
       "    .dataframe tbody tr th {\n",
       "        vertical-align: top;\n",
       "    }\n",
       "\n",
       "    .dataframe thead th {\n",
       "        text-align: right;\n",
       "    }\n",
       "</style>\n",
       "<table border=\"1\" class=\"dataframe\">\n",
       "  <thead>\n",
       "    <tr style=\"text-align: right;\">\n",
       "      <th></th>\n",
       "      <th>movie</th>\n",
       "      <th>first_review_month_offset</th>\n",
       "      <th>num_reviews</th>\n",
       "      <th>sum_ratings</th>\n",
       "      <th>month</th>\n",
       "      <th>year</th>\n",
       "      <th>year_month</th>\n",
       "      <th>first_review_month</th>\n",
       "      <th>first_review_year</th>\n",
       "      <th>first_review_year_month</th>\n",
       "      <th>cumulative_reviews</th>\n",
       "      <th>cumsum_ratings</th>\n",
       "      <th>cumavg_review</th>\n",
       "      <th>2018_or_later</th>\n",
       "    </tr>\n",
       "  </thead>\n",
       "  <tbody>\n",
       "    <tr>\n",
       "      <th>0</th>\n",
       "      <td>tt0120667</td>\n",
       "      <td>0</td>\n",
       "      <td>8</td>\n",
       "      <td>60</td>\n",
       "      <td>6</td>\n",
       "      <td>2005</td>\n",
       "      <td>200506</td>\n",
       "      <td>6</td>\n",
       "      <td>2005</td>\n",
       "      <td>200506</td>\n",
       "      <td>8</td>\n",
       "      <td>60</td>\n",
       "      <td>7.500000</td>\n",
       "      <td>False</td>\n",
       "    </tr>\n",
       "    <tr>\n",
       "      <th>1</th>\n",
       "      <td>tt0120667</td>\n",
       "      <td>1</td>\n",
       "      <td>507</td>\n",
       "      <td>3315</td>\n",
       "      <td>7</td>\n",
       "      <td>2005</td>\n",
       "      <td>200507</td>\n",
       "      <td>6</td>\n",
       "      <td>2005</td>\n",
       "      <td>200506</td>\n",
       "      <td>515</td>\n",
       "      <td>3375</td>\n",
       "      <td>6.553398</td>\n",
       "      <td>False</td>\n",
       "    </tr>\n",
       "    <tr>\n",
       "      <th>2</th>\n",
       "      <td>tt0120667</td>\n",
       "      <td>2</td>\n",
       "      <td>76</td>\n",
       "      <td>444</td>\n",
       "      <td>8</td>\n",
       "      <td>2005</td>\n",
       "      <td>200508</td>\n",
       "      <td>6</td>\n",
       "      <td>2005</td>\n",
       "      <td>200506</td>\n",
       "      <td>591</td>\n",
       "      <td>3819</td>\n",
       "      <td>6.461929</td>\n",
       "      <td>False</td>\n",
       "    </tr>\n",
       "    <tr>\n",
       "      <th>3</th>\n",
       "      <td>tt0120667</td>\n",
       "      <td>3</td>\n",
       "      <td>16</td>\n",
       "      <td>92</td>\n",
       "      <td>9</td>\n",
       "      <td>2005</td>\n",
       "      <td>200509</td>\n",
       "      <td>6</td>\n",
       "      <td>2005</td>\n",
       "      <td>200506</td>\n",
       "      <td>607</td>\n",
       "      <td>3911</td>\n",
       "      <td>6.443163</td>\n",
       "      <td>False</td>\n",
       "    </tr>\n",
       "    <tr>\n",
       "      <th>4</th>\n",
       "      <td>tt0120667</td>\n",
       "      <td>4</td>\n",
       "      <td>16</td>\n",
       "      <td>91</td>\n",
       "      <td>10</td>\n",
       "      <td>2005</td>\n",
       "      <td>200510</td>\n",
       "      <td>6</td>\n",
       "      <td>2005</td>\n",
       "      <td>200506</td>\n",
       "      <td>623</td>\n",
       "      <td>4002</td>\n",
       "      <td>6.423756</td>\n",
       "      <td>False</td>\n",
       "    </tr>\n",
       "    <tr>\n",
       "      <th>...</th>\n",
       "      <td>...</td>\n",
       "      <td>...</td>\n",
       "      <td>...</td>\n",
       "      <td>...</td>\n",
       "      <td>...</td>\n",
       "      <td>...</td>\n",
       "      <td>...</td>\n",
       "      <td>...</td>\n",
       "      <td>...</td>\n",
       "      <td>...</td>\n",
       "      <td>...</td>\n",
       "      <td>...</td>\n",
       "      <td>...</td>\n",
       "      <td>...</td>\n",
       "    </tr>\n",
       "    <tr>\n",
       "      <th>176511</th>\n",
       "      <td>tt9900782</td>\n",
       "      <td>9</td>\n",
       "      <td>2</td>\n",
       "      <td>17</td>\n",
       "      <td>7</td>\n",
       "      <td>2020</td>\n",
       "      <td>202007</td>\n",
       "      <td>10</td>\n",
       "      <td>2019</td>\n",
       "      <td>201910</td>\n",
       "      <td>180</td>\n",
       "      <td>1620</td>\n",
       "      <td>9.000000</td>\n",
       "      <td>True</td>\n",
       "    </tr>\n",
       "    <tr>\n",
       "      <th>176512</th>\n",
       "      <td>tt9900782</td>\n",
       "      <td>10</td>\n",
       "      <td>6</td>\n",
       "      <td>52</td>\n",
       "      <td>8</td>\n",
       "      <td>2020</td>\n",
       "      <td>202008</td>\n",
       "      <td>10</td>\n",
       "      <td>2019</td>\n",
       "      <td>201910</td>\n",
       "      <td>186</td>\n",
       "      <td>1672</td>\n",
       "      <td>8.989247</td>\n",
       "      <td>True</td>\n",
       "    </tr>\n",
       "    <tr>\n",
       "      <th>176513</th>\n",
       "      <td>tt9900782</td>\n",
       "      <td>12</td>\n",
       "      <td>13</td>\n",
       "      <td>112</td>\n",
       "      <td>10</td>\n",
       "      <td>2020</td>\n",
       "      <td>202010</td>\n",
       "      <td>10</td>\n",
       "      <td>2019</td>\n",
       "      <td>201910</td>\n",
       "      <td>199</td>\n",
       "      <td>1784</td>\n",
       "      <td>8.964824</td>\n",
       "      <td>True</td>\n",
       "    </tr>\n",
       "    <tr>\n",
       "      <th>176514</th>\n",
       "      <td>tt9900782</td>\n",
       "      <td>13</td>\n",
       "      <td>8</td>\n",
       "      <td>57</td>\n",
       "      <td>11</td>\n",
       "      <td>2020</td>\n",
       "      <td>202011</td>\n",
       "      <td>10</td>\n",
       "      <td>2019</td>\n",
       "      <td>201910</td>\n",
       "      <td>207</td>\n",
       "      <td>1841</td>\n",
       "      <td>8.893720</td>\n",
       "      <td>True</td>\n",
       "    </tr>\n",
       "    <tr>\n",
       "      <th>176515</th>\n",
       "      <td>tt9900782</td>\n",
       "      <td>14</td>\n",
       "      <td>1</td>\n",
       "      <td>9</td>\n",
       "      <td>12</td>\n",
       "      <td>2020</td>\n",
       "      <td>202012</td>\n",
       "      <td>10</td>\n",
       "      <td>2019</td>\n",
       "      <td>201910</td>\n",
       "      <td>208</td>\n",
       "      <td>1850</td>\n",
       "      <td>8.894231</td>\n",
       "      <td>True</td>\n",
       "    </tr>\n",
       "  </tbody>\n",
       "</table>\n",
       "<p>176516 rows × 14 columns</p>\n",
       "</div>"
      ],
      "text/plain": [
       "            movie  first_review_month_offset  num_reviews  sum_ratings  month  \\\n",
       "0       tt0120667                          0            8           60      6   \n",
       "1       tt0120667                          1          507         3315      7   \n",
       "2       tt0120667                          2           76          444      8   \n",
       "3       tt0120667                          3           16           92      9   \n",
       "4       tt0120667                          4           16           91     10   \n",
       "...           ...                        ...          ...          ...    ...   \n",
       "176511  tt9900782                          9            2           17      7   \n",
       "176512  tt9900782                         10            6           52      8   \n",
       "176513  tt9900782                         12           13          112     10   \n",
       "176514  tt9900782                         13            8           57     11   \n",
       "176515  tt9900782                         14            1            9     12   \n",
       "\n",
       "        year  year_month  first_review_month  first_review_year  \\\n",
       "0       2005      200506                   6               2005   \n",
       "1       2005      200507                   6               2005   \n",
       "2       2005      200508                   6               2005   \n",
       "3       2005      200509                   6               2005   \n",
       "4       2005      200510                   6               2005   \n",
       "...      ...         ...                 ...                ...   \n",
       "176511  2020      202007                  10               2019   \n",
       "176512  2020      202008                  10               2019   \n",
       "176513  2020      202010                  10               2019   \n",
       "176514  2020      202011                  10               2019   \n",
       "176515  2020      202012                  10               2019   \n",
       "\n",
       "        first_review_year_month  cumulative_reviews  cumsum_ratings  \\\n",
       "0                        200506                   8              60   \n",
       "1                        200506                 515            3375   \n",
       "2                        200506                 591            3819   \n",
       "3                        200506                 607            3911   \n",
       "4                        200506                 623            4002   \n",
       "...                         ...                 ...             ...   \n",
       "176511                   201910                 180            1620   \n",
       "176512                   201910                 186            1672   \n",
       "176513                   201910                 199            1784   \n",
       "176514                   201910                 207            1841   \n",
       "176515                   201910                 208            1850   \n",
       "\n",
       "        cumavg_review  2018_or_later  \n",
       "0            7.500000          False  \n",
       "1            6.553398          False  \n",
       "2            6.461929          False  \n",
       "3            6.443163          False  \n",
       "4            6.423756          False  \n",
       "...               ...            ...  \n",
       "176511       9.000000           True  \n",
       "176512       8.989247           True  \n",
       "176513       8.964824           True  \n",
       "176514       8.893720           True  \n",
       "176515       8.894231           True  \n",
       "\n",
       "[176516 rows x 14 columns]"
      ]
     },
     "execution_count": 294,
     "metadata": {},
     "output_type": "execute_result"
    }
   ],
   "source": [
    "panel"
   ]
  },
  {
   "cell_type": "markdown",
   "id": "rotary-identification",
   "metadata": {},
   "source": [
    "How are numbers of reviews distributed over the months following release? Way to check our assumption that first review is date of release"
   ]
  },
  {
   "cell_type": "code",
   "execution_count": 324,
   "id": "scheduled-projection",
   "metadata": {},
   "outputs": [
    {
     "data": {
      "text/plain": [
       "<AxesSubplot:xlabel='first_review_month_offset'>"
      ]
     },
     "execution_count": 324,
     "metadata": {},
     "output_type": "execute_result"
    },
    {
     "data": {
      "image/png": "[encoded data removed]",
      "text/plain": [
       "<Figure size 432x288 with 1 Axes>"
      ]
     },
     "metadata": {
      "needs_background": "light"
     },
     "output_type": "display_data"
    }
   ],
   "source": [
    "panel[panel[\"first_review_month_offset\"] <= 6].groupby(\"first_review_month_offset\")[\"num_reviews\"].mean().plot()"
   ]
  },
  {
   "cell_type": "markdown",
   "id": "political-belgium",
   "metadata": {},
   "source": [
    "So on average we're not doing too bad"
   ]
  },
  {
   "cell_type": "code",
   "execution_count": null,
   "id": "hearing-snowboard",
   "metadata": {},
   "outputs": [],
   "source": []
  }
 ],
 "metadata": {
  "kernelspec": {
   "display_name": "Python 3",
   "language": "python",
   "name": "python3"
  },
  "language_info": {
   "codemirror_mode": {
    "name": "ipython",
    "version": 3
   },
   "file_extension": ".py",
   "mimetype": "text/x-python",
   "name": "python",
   "nbconvert_exporter": "python",
   "pygments_lexer": "ipython3",
   "version": "3.8.5"
  }
 },
 "nbformat": 4,
 "nbformat_minor": 5
}
