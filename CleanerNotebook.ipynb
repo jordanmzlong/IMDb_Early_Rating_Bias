{
 "cells": [
  {
   "cell_type": "markdown",
   "id": "pursuant-stranger",
   "metadata": {},
   "source": [
    "# IMDb Early Ratings Bias\n",
    "Jordan Long, February 2022"
   ]
  },
  {
   "cell_type": "markdown",
   "id": "outdoor-croatia",
   "metadata": {},
   "source": [
    "## Outline\n",
    "- [Summary](#Summary)\n",
    "- [Importing the Data and Exploratory Data Analysis](#Importing-the-Data-and-Exploratory-Data-Analysis)\n",
    "    - [How big of an impact do bot users have on our dataset?](#bot_exploration)\n",
    "    - [How do users who leave a lot of ratings differ from other users?](#user_differences)\n",
    "    - [What timeframes does our dataset cover?](#timeframes)\n",
    "    - [How are Ratings Distributed?](#ratings_distribution)\n",
    "    - [What is the Distribution of Movie Popularities?](#movie_popularities)\n",
    "    - [How did Joker's rating evolve over time?](#joker)\n",
    "    - [Augmenting Data with Title, Format, Genre, Year, and Runtime](#augmenting)\n",
    "    - [How Similar are Ratings Submitted With Written Reviews to General Ratings?](#external_validity)\n",
    "    - [Estimating Release Dates and Reducing Our Dataset](#estimating_dates)\n",
    "    - [Exploring Rating Variation over Time](#ratings_over_time)\n",
    "    - [Creating our Final Panel Dataset](#panel)\n",
    "- [Appendix: Exploring the Initial Dataset](#appendix)"
   ]
  },
  {
   "cell_type": "markdown",
   "id": "tropical-growth",
   "metadata": {},
   "source": [
    "## Summary"
   ]
  },
  {
   "cell_type": "markdown",
   "id": "combined-tonight",
   "metadata": {},
   "source": [
    "I often look at [IMDb](imdb.com) ratings to choose which movies to watch. However, I've noticed that when new movies come out, their ratings tend to slowly decline. One possible explanation for this is that the first people to watch and review the movie are the movie's fans, who are more inclined than the typical movie watcher to rate the movie favourably. This analysis seeks to explore and quantify this phenomenon.\n",
    "\n",
    "To do this, I explore a dataset of ratings left by users who write written reviews for movies on IMDb, along with the user and movie IDs, and the date of the rating. Using the most popular x movies and assuming that a movie's release month coincides with the month of the first review, I construct a panel of average movie ratings in the months following their release. Then, using a fixed-effect regression model that controls for seasonality and movie-specific effects, I estimate the extent to which the IMDb score of an average movie declines in each month following the movie's release.\n",
    "\n",
    "I find that the average movie's IMDb score declines by 0.5 points out of 10 in the first four months following the movie's release, with the long term amount of decline roughly stablizing at 0.76 points out of 10 by three years after the movie's release. The plot below captures the decay in ratings over the first 24 months after a movie's release.\n",
    "\n",
    "One caveat with this approach is that users who leave a written review are not representative of all users that leave ratings, having a tendency to leave higher ratings. This reduces the applicability of my findings to the actual IMDb rating that I use to pick movies."
   ]
  },
  {
   "cell_type": "markdown",
   "id": "proof-loading",
   "metadata": {},
   "source": [
    "![title](IMDbRatingDecline.png)"
   ]
  },
  {
   "cell_type": "markdown",
   "id": "binary-indication",
   "metadata": {},
   "source": [
    "These results are immediately useful for using early IMDb ratings to assess whether or not to watch a movie, as it gives me a rule of thumb for predicting where a movie's rating may end up. Further, the finding that ratings largely stabilize within three years of their release can help in framing the problem for a more refined predictive model.\n",
    "\n",
    "While perhaps obvious, a final takeaway from this analysis is that ratings on review aggregators like IMDb are subject to large selection biases from who leaves the ratings, and so perhaps I should give less weight to them in my own decision making... Recommendation approaches like collaborative filtering implicitly take this into consideration, and so perhaps my Netflix recommendations are in fact a better indication of what movies I am most likely to enjoy."
   ]
  },
  {
   "cell_type": "code",
   "execution_count": 133,
   "id": "sought-persian",
   "metadata": {},
   "outputs": [],
   "source": [
    "import pandas as pd\n",
    "import numpy as np # TODO: check if I used this\n",
    "from matplotlib import pyplot as plt # TODO: check if I used this\n",
    "import seaborn as sns # TODO: check if I used this\n",
    "import os\n",
    "from datetime import datetime"
   ]
  },
  {
   "cell_type": "markdown",
   "id": "appropriate-protest",
   "metadata": {},
   "source": [
    "# Importing the Data and Exploratory Data Analysis"
   ]
  },
  {
   "cell_type": "markdown",
   "id": "alpha-facing",
   "metadata": {},
   "source": [
    "In order to explore how movie ratings evolve over time, I need data on IMDb movie ratings over time. I found such a dataset, containing IMDb users, movies, ratings, and dates for written reviews from IMDb at https://doi.org/10.21227/br41-bd49. However, this source doesn't explicitly describe how the data was collected so I explore the data to figure out what I'm working with."
   ]
  },
  {
   "cell_type": "code",
   "execution_count": 2,
   "id": "sharing-mobile",
   "metadata": {},
   "outputs": [],
   "source": [
    "data_folder = \"..\""
   ]
  },
  {
   "cell_type": "code",
   "execution_count": 3,
   "id": "incorporated-catering",
   "metadata": {},
   "outputs": [],
   "source": [
    "raw_data = np.load(os.path.join(data_folder, \"Dataset.npy\"))\n",
    "raw_data_backup = raw_data"
   ]
  },
  {
   "cell_type": "code",
   "execution_count": 4,
   "id": "unique-sound",
   "metadata": {},
   "outputs": [],
   "source": [
    "clean_data = pd.DataFrame(raw_data)\n",
    "clean_data = clean_data[0].str.split(',')\n",
    "users = clean_data.str.get(0)\n",
    "movies = clean_data.str.get(1)\n",
    "rating = clean_data.str.get(2)\n",
    "date = clean_data.str.get(3)\n",
    "clean_data = pd.concat([users, movies, rating, date], axis=1)\n",
    "clean_data.columns = [\"user\", \"movie\", \"rating\", \"date\"]\n",
    "clean_data[\"rating\"] = clean_data[\"rating\"].astype(int)\n",
    "clean_data[\"date\"] = pd.to_datetime(clean_data[\"date\"])\n",
    "clean_data_backup = clean_data"
   ]
  },
  {
   "cell_type": "code",
   "execution_count": 5,
   "id": "cooked-arrangement",
   "metadata": {},
   "outputs": [
    {
     "data": {
      "text/plain": [
       "user              object\n",
       "movie             object\n",
       "rating             int64\n",
       "date      datetime64[ns]\n",
       "dtype: object"
      ]
     },
     "execution_count": 5,
     "metadata": {},
     "output_type": "execute_result"
    }
   ],
   "source": [
    "clean_data.dtypes"
   ]
  },
  {
   "cell_type": "code",
   "execution_count": 6,
   "id": "alternative-adelaide",
   "metadata": {},
   "outputs": [
    {
     "data": {
      "text/html": [
       "<div>\n",
       "<style scoped>\n",
       "    .dataframe tbody tr th:only-of-type {\n",
       "        vertical-align: middle;\n",
       "    }\n",
       "\n",
       "    .dataframe tbody tr th {\n",
       "        vertical-align: top;\n",
       "    }\n",
       "\n",
       "    .dataframe thead th {\n",
       "        text-align: right;\n",
       "    }\n",
       "</style>\n",
       "<table border=\"1\" class=\"dataframe\">\n",
       "  <thead>\n",
       "    <tr style=\"text-align: right;\">\n",
       "      <th></th>\n",
       "      <th>user</th>\n",
       "      <th>movie</th>\n",
       "      <th>rating</th>\n",
       "      <th>date</th>\n",
       "    </tr>\n",
       "  </thead>\n",
       "  <tbody>\n",
       "    <tr>\n",
       "      <th>0</th>\n",
       "      <td>ur4592644</td>\n",
       "      <td>tt0120884</td>\n",
       "      <td>10</td>\n",
       "      <td>2005-01-16</td>\n",
       "    </tr>\n",
       "    <tr>\n",
       "      <th>1</th>\n",
       "      <td>ur3174947</td>\n",
       "      <td>tt0118688</td>\n",
       "      <td>3</td>\n",
       "      <td>2005-01-16</td>\n",
       "    </tr>\n",
       "    <tr>\n",
       "      <th>2</th>\n",
       "      <td>ur3780035</td>\n",
       "      <td>tt0387887</td>\n",
       "      <td>8</td>\n",
       "      <td>2005-01-16</td>\n",
       "    </tr>\n",
       "    <tr>\n",
       "      <th>3</th>\n",
       "      <td>ur4592628</td>\n",
       "      <td>tt0346491</td>\n",
       "      <td>1</td>\n",
       "      <td>2005-01-16</td>\n",
       "    </tr>\n",
       "    <tr>\n",
       "      <th>4</th>\n",
       "      <td>ur3174947</td>\n",
       "      <td>tt0094721</td>\n",
       "      <td>8</td>\n",
       "      <td>2005-01-16</td>\n",
       "    </tr>\n",
       "  </tbody>\n",
       "</table>\n",
       "</div>"
      ],
      "text/plain": [
       "        user      movie  rating       date\n",
       "0  ur4592644  tt0120884      10 2005-01-16\n",
       "1  ur3174947  tt0118688       3 2005-01-16\n",
       "2  ur3780035  tt0387887       8 2005-01-16\n",
       "3  ur4592628  tt0346491       1 2005-01-16\n",
       "4  ur3174947  tt0094721       8 2005-01-16"
      ]
     },
     "execution_count": 6,
     "metadata": {},
     "output_type": "execute_result"
    }
   ],
   "source": [
    "clean_data.head()"
   ]
  },
  {
   "cell_type": "code",
   "execution_count": 7,
   "id": "occupational-shelter",
   "metadata": {},
   "outputs": [
    {
     "data": {
      "text/html": [
       "<div>\n",
       "<style scoped>\n",
       "    .dataframe tbody tr th:only-of-type {\n",
       "        vertical-align: middle;\n",
       "    }\n",
       "\n",
       "    .dataframe tbody tr th {\n",
       "        vertical-align: top;\n",
       "    }\n",
       "\n",
       "    .dataframe thead th {\n",
       "        text-align: right;\n",
       "    }\n",
       "</style>\n",
       "<table border=\"1\" class=\"dataframe\">\n",
       "  <thead>\n",
       "    <tr style=\"text-align: right;\">\n",
       "      <th></th>\n",
       "      <th>rating</th>\n",
       "    </tr>\n",
       "  </thead>\n",
       "  <tbody>\n",
       "    <tr>\n",
       "      <th>count</th>\n",
       "      <td>4.669820e+06</td>\n",
       "    </tr>\n",
       "    <tr>\n",
       "      <th>mean</th>\n",
       "      <td>6.758660e+00</td>\n",
       "    </tr>\n",
       "    <tr>\n",
       "      <th>std</th>\n",
       "      <td>2.978028e+00</td>\n",
       "    </tr>\n",
       "    <tr>\n",
       "      <th>min</th>\n",
       "      <td>1.000000e+00</td>\n",
       "    </tr>\n",
       "    <tr>\n",
       "      <th>25%</th>\n",
       "      <td>5.000000e+00</td>\n",
       "    </tr>\n",
       "    <tr>\n",
       "      <th>50%</th>\n",
       "      <td>8.000000e+00</td>\n",
       "    </tr>\n",
       "    <tr>\n",
       "      <th>75%</th>\n",
       "      <td>9.000000e+00</td>\n",
       "    </tr>\n",
       "    <tr>\n",
       "      <th>max</th>\n",
       "      <td>1.000000e+01</td>\n",
       "    </tr>\n",
       "  </tbody>\n",
       "</table>\n",
       "</div>"
      ],
      "text/plain": [
       "             rating\n",
       "count  4.669820e+06\n",
       "mean   6.758660e+00\n",
       "std    2.978028e+00\n",
       "min    1.000000e+00\n",
       "25%    5.000000e+00\n",
       "50%    8.000000e+00\n",
       "75%    9.000000e+00\n",
       "max    1.000000e+01"
      ]
     },
     "execution_count": 7,
     "metadata": {},
     "output_type": "execute_result"
    }
   ],
   "source": [
    "clean_data.describe()"
   ]
  },
  {
   "cell_type": "markdown",
   "id": "structural-donna",
   "metadata": {},
   "source": [
    "We have 4.6 million ratings, from 1.5 million users and 350,000 movies. Also, there's a user with over 24,000 ratings, which seems very high. This makes me concerned that there may be bots skewing the results in the data. To explore this and other potential data quality issues, I went more in depth into each of the four variables. My key takeaways are presented here, with further analysis presented in [Appendix: Exploring the Initial Dataset](#Appendix:-Exploring-the-Initial-Dataset)."
   ]
  },
  {
   "cell_type": "markdown",
   "id": "lesser-receptor",
   "metadata": {},
   "source": [
    "<a id=\"bot_exploration\"></a>\n",
    "### How big of an impact do bot users have on our dataset?"
   ]
  },
  {
   "cell_type": "markdown",
   "id": "military-flashing",
   "metadata": {},
   "source": [
    "If bots composed a significant portion of the ratings, we might expect to find users that have left a large number of reviews, or users that have rated the same movie numerous times. I begin by exploring this."
   ]
  },
  {
   "cell_type": "code",
   "execution_count": 8,
   "id": "objective-stockholm",
   "metadata": {},
   "outputs": [
    {
     "data": {
      "text/plain": [
       "0.0330201075479677"
      ]
     },
     "execution_count": 8,
     "metadata": {},
     "output_type": "execute_result"
    }
   ],
   "source": [
    "user_review_counts = clean_data.groupby(\"user\")[\"rating\"].count().sort_values(ascending=False)\n",
    "(user_review_counts >= 10).mean()"
   ]
  },
  {
   "cell_type": "markdown",
   "id": "weekly-indian",
   "metadata": {},
   "source": [
    "Only 3.3% of users leave 10 or more reviews."
   ]
  },
  {
   "cell_type": "code",
   "execution_count": 9,
   "id": "guilty-brass",
   "metadata": {},
   "outputs": [
    {
     "data": {
      "text/plain": [
       "user\n",
       "ur2467618     24145\n",
       "ur20552756    16817\n",
       "ur2483625     16715\n",
       "ur0482513     13213\n",
       "ur2898520     12677\n",
       "Name: rating, dtype: int64"
      ]
     },
     "execution_count": 9,
     "metadata": {},
     "output_type": "execute_result"
    }
   ],
   "source": [
    "user_review_counts.head()"
   ]
  },
  {
   "cell_type": "markdown",
   "id": "shaped-rugby",
   "metadata": {},
   "source": [
    "And yet several of the top users have left over 10,000 reviews."
   ]
  },
  {
   "cell_type": "code",
   "execution_count": 97,
   "id": "removable-negotiation",
   "metadata": {},
   "outputs": [
    {
     "data": {
      "image/png": "[encoded data removed]",
      "text/plain": [
       "<Figure size 432x288 with 1 Axes>"
      ]
     },
     "metadata": {
      "needs_background": "light"
     },
     "output_type": "display_data"
    }
   ],
   "source": [
    "superuser = clean_data[clean_data[\"user\"] == \"ur2467618\"]\n",
    "superuser[\"date\"].value_counts().plot(\n",
    "    title=\"Number of Ratings Over Time for User With Most Ratings\", \n",
    "    xlabel=\"Time in Days\",\n",
    "    ylabel=\"Number of Ratings\",\n",
    ");"
   ]
  },
  {
   "cell_type": "code",
   "execution_count": 11,
   "id": "breeding-dominant",
   "metadata": {},
   "outputs": [
    {
     "data": {
      "text/plain": [
       "count    4560.000000\n",
       "mean        5.294956\n",
       "std         4.362100\n",
       "min         1.000000\n",
       "25%         2.000000\n",
       "50%         4.000000\n",
       "75%         7.000000\n",
       "max        46.000000\n",
       "Name: rating, dtype: float64"
      ]
     },
     "execution_count": 11,
     "metadata": {},
     "output_type": "execute_result"
    }
   ],
   "source": [
    "superuser.groupby(date).count()[\"rating\"].describe()"
   ]
  },
  {
   "cell_type": "code",
   "execution_count": 12,
   "id": "impossible-folks",
   "metadata": {},
   "outputs": [
    {
     "data": {
      "text/plain": [
       "12.493150684931507"
      ]
     },
     "execution_count": 12,
     "metadata": {},
     "output_type": "execute_result"
    }
   ],
   "source": [
    "4560 / 365"
   ]
  },
  {
   "cell_type": "markdown",
   "id": "contrary-sponsorship",
   "metadata": {},
   "source": [
    "The user with the most reviews does have a lot of ratings (an average of 5.3 per day for 12.5 years worth of days!), but they seem to be fairly consistent. In fact, looking at their IMDb profile at https://www.imdb.com/user/ur2467618 reveals that they are employed as a writer, and their reviews seem substantive! This gives me more faith that the ratings in this dataset come from real users rather than bots. Another reason to trust the data is that the ratings in our dataset accompany written reviews, and it is harder for bots to write reviews than simply leave ratings.\n",
    "\n",
    "Moreover, they have left 27,121 reviews as of January 2022, so it seems likely that all of their reviews prior to December 2020 are captured in the data. This makes it plausible that our dataset consists of all reviews left on IMDb prior to December 2020 (the last date in our dataset), rather than just a sample."
   ]
  },
  {
   "cell_type": "markdown",
   "id": "minimal-india",
   "metadata": {},
   "source": [
    "I now look at how many users are leaving multiple reviews for the same movie. We might expect bots to leave multiple reviews for the same movie to boost the movie's IMDb rating. At the same time, it is probably not uncommon for someone to review a movie on their second or third watch."
   ]
  },
  {
   "cell_type": "code",
   "execution_count": 13,
   "id": "another-smoke",
   "metadata": {},
   "outputs": [
    {
     "data": {
      "text/plain": [
       "0.010816161276595177"
      ]
     },
     "execution_count": 13,
     "metadata": {},
     "output_type": "execute_result"
    }
   ],
   "source": [
    "intermediate = clean_data.groupby(\"user\")[\"movie\"]\n",
    "duped_user_movie = (intermediate.count() - intermediate.nunique())\n",
    "(duped_user_movie > 0).mean()"
   ]
  },
  {
   "cell_type": "markdown",
   "id": "collective-device",
   "metadata": {},
   "source": [
    "duped_user_movie has users, and the number of ratings they've left minus the number of unique movies they've rated. It is greater than zero whenever a user has rated a movie more than once. This shows that only 1% of users have left multiple reviews for the same movie."
   ]
  },
  {
   "cell_type": "code",
   "execution_count": 14,
   "id": "narrow-member",
   "metadata": {},
   "outputs": [
    {
     "data": {
      "text/plain": [
       "user\n",
       "ur18044142    60\n",
       "ur6387867     55\n",
       "ur49848930    44\n",
       "ur89246644    42\n",
       "ur3836774     41\n",
       "              ..\n",
       "ur19223537     0\n",
       "ur19223533     0\n",
       "ur1922348      0\n",
       "ur19223392     0\n",
       "ur9999988      0\n",
       "Name: movie, Length: 1499238, dtype: int64"
      ]
     },
     "execution_count": 14,
     "metadata": {},
     "output_type": "execute_result"
    }
   ],
   "source": [
    "duped_user_movie.sort_values(ascending=False)"
   ]
  },
  {
   "cell_type": "code",
   "execution_count": 15,
   "id": "toxic-contest",
   "metadata": {},
   "outputs": [],
   "source": [
    "super_duper = clean_data[clean_data[\"user\"] == \"ur18044142\"]"
   ]
  },
  {
   "cell_type": "code",
   "execution_count": 16,
   "id": "flexible-mentor",
   "metadata": {},
   "outputs": [
    {
     "data": {
      "text/plain": [
       "tt1844624    4\n",
       "tt2372162    3\n",
       "tt3952222    3\n",
       "tt2741602    3\n",
       "tt1837492    3\n",
       "            ..\n",
       "tt5989218    1\n",
       "tt5758778    1\n",
       "tt7339826    1\n",
       "tt6337930    1\n",
       "tt5149490    1\n",
       "Name: movie, Length: 1162, dtype: int64"
      ]
     },
     "execution_count": 16,
     "metadata": {},
     "output_type": "execute_result"
    }
   ],
   "source": [
    "super_duper[\"movie\"].value_counts()"
   ]
  },
  {
   "cell_type": "markdown",
   "id": "colored-bikini",
   "metadata": {},
   "source": [
    "Again, exploring the IMDb page of the user with the most duplicate reviews for movies reveals that they seem like a legitimate reviewer, with no more than 4 ratings for the same movie. See https://imdb.com/user/ur18044142. In conclusion, it seems that bots have little impact on this dataset."
   ]
  },
  {
   "cell_type": "markdown",
   "id": "straight-probe",
   "metadata": {},
   "source": [
    "<a id=\"user_differences\"></a>\n",
    "### How do users who leave a lot of ratings differ from other users?"
   ]
  },
  {
   "cell_type": "code",
   "execution_count": 17,
   "id": "running-submission",
   "metadata": {},
   "outputs": [],
   "source": [
    "user_ratings = clean_data.groupby(\"user\")[\"rating\"].mean()"
   ]
  },
  {
   "cell_type": "code",
   "execution_count": 98,
   "id": "indie-trust",
   "metadata": {},
   "outputs": [
    {
     "data": {
      "image/png": "[encoded data removed]",
      "text/plain": [
       "<Figure size 432x288 with 1 Axes>"
      ]
     },
     "metadata": {
      "needs_background": "light"
     },
     "output_type": "display_data"
    }
   ],
   "source": [
    "ax = user_ratings[user_review_counts < 10].plot(\n",
    "    kind=\"hist\", \n",
    "    title=\"Average Ratings for Users with Under 10 Reviews\",\n",
    "    xlabel=\"User's Average Movie Rating\",\n",
    "    ylabel=\"Number of Users\"\n",
    ")\n",
    "ax.set_xlabel(\"User's Average Movie Rating\")\n",
    "ax.set_ylabel(\"Number of Users\");"
   ]
  },
  {
   "cell_type": "code",
   "execution_count": 99,
   "id": "wicked-project",
   "metadata": {},
   "outputs": [
    {
     "data": {
      "image/png": "[encoded data removed]",
      "text/plain": [
       "<Figure size 432x288 with 1 Axes>"
      ]
     },
     "metadata": {
      "needs_background": "light"
     },
     "output_type": "display_data"
    }
   ],
   "source": [
    "ax = user_ratings[user_review_counts >= 10].plot(\n",
    "    kind=\"hist\", \n",
    "    title=\"Average Ratings for Users with 10 or More Reviews\",\n",
    "    xlabel=\"User's Average Movie Rating\",\n",
    "    ylabel=\"Number of Users\"\n",
    ")\n",
    "ax.set_xlabel(\"User's Average Movie Rating\")\n",
    "ax.set_ylabel(\"Number of Users\");"
   ]
  },
  {
   "cell_type": "markdown",
   "id": "reasonable-smart",
   "metadata": {},
   "source": [
    "Users that don't tend to leave reviews are much more likely to leave a polarized review (1 or 10) than reviewers who leave reviews regularly. Perhaps people who rarely leave reviews are incited to leave a review by an intense emotion following a film. It is likely that a similar behavioural pattern exists for people leaving IMDb ratings without written reviews."
   ]
  },
  {
   "cell_type": "markdown",
   "id": "desirable-obligation",
   "metadata": {},
   "source": [
    "<a id=\"timeframes\"></a>\n",
    "### What timeframes does our dataset cover?"
   ]
  },
  {
   "cell_type": "code",
   "execution_count": 20,
   "id": "breeding-tennessee",
   "metadata": {},
   "outputs": [
    {
     "name": "stderr",
     "output_type": "stream",
     "text": [
      "<ipython-input-20-e9b0a023f55f>:1: FutureWarning: Treating datetime data as categorical rather than numeric in `.describe` is deprecated and will be removed in a future version of pandas. Specify `datetime_is_numeric=True` to silence this warning and adopt the future behavior now.\n",
      "  clean_data[\"date\"].describe()\n"
     ]
    },
    {
     "data": {
      "text/plain": [
       "count                 4669820\n",
       "unique                   8028\n",
       "top       2019-05-20 00:00:00\n",
       "freq                     7291\n",
       "first     1998-07-27 00:00:00\n",
       "last      2020-12-03 00:00:00\n",
       "Name: date, dtype: object"
      ]
     },
     "execution_count": 20,
     "metadata": {},
     "output_type": "execute_result"
    }
   ],
   "source": [
    "clean_data[\"date\"].describe()"
   ]
  },
  {
   "cell_type": "markdown",
   "id": "weird-evening",
   "metadata": {},
   "source": [
    "We have observations spanning July 1998 to December 3 2020"
   ]
  },
  {
   "cell_type": "code",
   "execution_count": 21,
   "id": "fatty-surge",
   "metadata": {},
   "outputs": [
    {
     "data": {
      "text/plain": [
       "8030"
      ]
     },
     "execution_count": 21,
     "metadata": {},
     "output_type": "execute_result"
    }
   ],
   "source": [
    "22*365 # rough estimate of days between December 3 1998 and December 3 2020"
   ]
  },
  {
   "cell_type": "markdown",
   "id": "lovely-relative",
   "metadata": {},
   "source": [
    "There are approximately 5 months worth of days in which there were no reviews."
   ]
  },
  {
   "cell_type": "code",
   "execution_count": 100,
   "id": "computational-compound",
   "metadata": {},
   "outputs": [
    {
     "data": {
      "image/png": "[encoded data removed]",
      "text/plain": [
       "<Figure size 432x288 with 1 Axes>"
      ]
     },
     "metadata": {
      "needs_background": "light"
     },
     "output_type": "display_data"
    }
   ],
   "source": [
    "clean_data.groupby(\"date\")[\"rating\"].count().plot(\n",
    "    ylabel=\"Number of Ratings\", \n",
    "    xlabel=\"Time in Days\",\n",
    "    title=\"Number of Ratings on IMDb over Time (Days)\",\n",
    "    ylim=(-100,5000),\n",
    ");"
   ]
  },
  {
   "cell_type": "markdown",
   "id": "fifteen-platform",
   "metadata": {},
   "source": [
    "There are three main noticably different time periods in our data. The first, from 1998 through to the end of 2004 have a growing but small number of ratings. The years 2005 through 2017 have a stable but larger number of ratings over time. Then, it appears that there were no ratings in the first three months of 2018, followed by a sustained increase in the number of ratings over time through to the end of 2020. The times spanning these periods is shown in more detail below."
   ]
  },
  {
   "cell_type": "code",
   "execution_count": 23,
   "id": "smaller-school",
   "metadata": {},
   "outputs": [],
   "source": [
    "clean_data[\"year\"] = clean_data[\"date\"].dt.year\n",
    "clean_data[\"month\"] = clean_data[\"date\"].dt.month"
   ]
  },
  {
   "cell_type": "code",
   "execution_count": 101,
   "id": "valid-syria",
   "metadata": {},
   "outputs": [
    {
     "data": {
      "image/png": "[encoded data removed]",
      "text/plain": [
       "<Figure size 432x288 with 1 Axes>"
      ]
     },
     "metadata": {
      "needs_background": "light"
     },
     "output_type": "display_data"
    }
   ],
   "source": [
    "clean_data[(clean_data[\"year\"] == 2005) | (clean_data[\"year\"] == 2004)].groupby(\"date\")[\"rating\"].count().plot(\n",
    "    ylim=(-10,800),\n",
    "    xlabel=\"Time in Days\",\n",
    "    ylabel=\"Number of Ratings\",\n",
    "    title=\"Number of Ratings on IMDb between 2004 and 2005\"\n",
    ");"
   ]
  },
  {
   "cell_type": "code",
   "execution_count": 102,
   "id": "smooth-joint",
   "metadata": {},
   "outputs": [
    {
     "data": {
      "image/png": "[encoded data removed]",
      "text/plain": [
       "<Figure size 432x288 with 1 Axes>"
      ]
     },
     "metadata": {
      "needs_background": "light"
     },
     "output_type": "display_data"
    }
   ],
   "source": [
    "clean_data[(clean_data[\"year\"] == 2017) | (clean_data[\"year\"] == 2018)].groupby(\"date\")[\"rating\"].count().plot(\n",
    "    xlabel=\"Time in Days\",\n",
    "    ylabel=\"Number of Ratings\",\n",
    "    title=\"Number of Ratings on IMDb between 2004 and 2005\"\n",
    ");"
   ]
  },
  {
   "cell_type": "markdown",
   "id": "welcome-bangkok",
   "metadata": {},
   "source": [
    "There are also some days with an exceptionally large number of ratings, which were clipped in the graph of number of reviews over time. They are as follows:"
   ]
  },
  {
   "cell_type": "code",
   "execution_count": 26,
   "id": "ecological-tsunami",
   "metadata": {},
   "outputs": [
    {
     "data": {
      "text/plain": [
       "2019-05-20    7291\n",
       "2020-07-25    5773\n",
       "2020-07-24    4542\n",
       "2020-11-21    4045\n",
       "2019-05-13    3788\n",
       "Name: date, dtype: int64"
      ]
     },
     "execution_count": 26,
     "metadata": {},
     "output_type": "execute_result"
    }
   ],
   "source": [
    "clean_data[\"date\"].value_counts().head(5)"
   ]
  },
  {
   "cell_type": "code",
   "execution_count": 27,
   "id": "blind-letters",
   "metadata": {},
   "outputs": [
    {
     "data": {
      "text/plain": [
       "tt6027920    5145\n",
       "tt0944947     432\n",
       "tt6146586      63\n",
       "tt4154796      51\n",
       "tt6027916      41\n",
       "Name: movie, dtype: int64"
      ]
     },
     "execution_count": 27,
     "metadata": {},
     "output_type": "execute_result"
    }
   ],
   "source": [
    "clean_data[clean_data[\"date\"] == \"20 May 2019\"][\"movie\"].value_counts().head(5)"
   ]
  },
  {
   "cell_type": "markdown",
   "id": "indian-venue",
   "metadata": {},
   "source": [
    "The unusually high number of ratings on this day is driven by the final Game of Thrones episode! See https://www.imdb.com/title/tt6027920/."
   ]
  },
  {
   "cell_type": "code",
   "execution_count": 28,
   "id": "exposed-champion",
   "metadata": {},
   "outputs": [
    {
     "data": {
      "text/plain": [
       "tt8110330     3389\n",
       "tt10230426      69\n",
       "tt9784456       63\n",
       "tt8210856       52\n",
       "tt10003008      26\n",
       "Name: movie, dtype: int64"
      ]
     },
     "execution_count": 28,
     "metadata": {},
     "output_type": "execute_result"
    }
   ],
   "source": [
    "clean_data[clean_data[\"date\"] == \"25 July 2020\"][\"movie\"].value_counts().head(5)"
   ]
  },
  {
   "cell_type": "code",
   "execution_count": 29,
   "id": "suspected-fundamental",
   "metadata": {},
   "outputs": [
    {
     "data": {
      "text/plain": [
       "tt8110330     2468\n",
       "tt9784456      127\n",
       "tt11730940      88\n",
       "tt8210856       51\n",
       "tt12344410      36\n",
       "Name: movie, dtype: int64"
      ]
     },
     "execution_count": 29,
     "metadata": {},
     "output_type": "execute_result"
    }
   ],
   "source": [
    "clean_data[clean_data[\"date\"] == \"24 July 2020\"][\"movie\"].value_counts().head(5)"
   ]
  },
  {
   "cell_type": "markdown",
   "id": "verified-worst",
   "metadata": {},
   "source": [
    "The unusually high number of ratings on these days is driven by the the Indian film Dil Bechara (a remake of The Fault in Our Stars). See https://www.imdb.com/title/tt8110330/."
   ]
  },
  {
   "cell_type": "markdown",
   "id": "potential-banks",
   "metadata": {},
   "source": [
    "This highlights that our dataset contains more than just Hollywood films - T.V. shows and foreign films as well. This will be explored in more detail later in the analysis."
   ]
  },
  {
   "cell_type": "markdown",
   "id": "complimentary-injury",
   "metadata": {},
   "source": [
    "<a id=\"ratings_distribution\"></a>\n",
    "### How are Ratings Distributed?"
   ]
  },
  {
   "cell_type": "markdown",
   "id": "continued-minneapolis",
   "metadata": {},
   "source": [
    "We previously looked at the way that users' average ratings are distributed. Here we explore the overall ratings distribution, as well as ratings for films."
   ]
  },
  {
   "cell_type": "markdown",
   "id": "complicated-german",
   "metadata": {},
   "source": [
    "This presents the overall ratings distribution. Ratings of 10 and 1 are quite popular, and ratings of 8 are otherwise the most common."
   ]
  },
  {
   "cell_type": "code",
   "execution_count": 103,
   "id": "stock-thickness",
   "metadata": {},
   "outputs": [
    {
     "data": {
      "image/png": "[encoded data removed]",
      "text/plain": [
       "<Figure size 432x288 with 1 Axes>"
      ]
     },
     "metadata": {
      "needs_background": "light"
     },
     "output_type": "display_data"
    }
   ],
   "source": [
    "ax = clean_data[\"rating\"].plot(kind=\"hist\")\n",
    "ax.set_xlabel(\"Rating\")\n",
    "ax.set_ylabel(\"Frequency\")\n",
    "ax.set_title(\"Distribution of all Ratings\");"
   ]
  },
  {
   "cell_type": "markdown",
   "id": "mediterranean-focus",
   "metadata": {},
   "source": [
    "If we look by movie, there are far fewer movies with mean ratings of 10 or 1."
   ]
  },
  {
   "cell_type": "code",
   "execution_count": 104,
   "id": "checked-burner",
   "metadata": {},
   "outputs": [
    {
     "data": {
      "image/png": "[encoded data removed]",
      "text/plain": [
       "<Figure size 432x288 with 1 Axes>"
      ]
     },
     "metadata": {
      "needs_background": "light"
     },
     "output_type": "display_data"
    }
   ],
   "source": [
    "ax = clean_data.groupby(\"movie\")[\"rating\"].mean().plot(kind=\"hist\")\n",
    "ax.set_xlabel(\"Rating\")\n",
    "ax.set_ylabel(\"Frequency\")\n",
    "ax.set_title(\"Distribution of Movies by Mean Rating\");"
   ]
  },
  {
   "cell_type": "markdown",
   "id": "objective-chuck",
   "metadata": {},
   "source": [
    "<a id=\"movie_popularities\"></a>\n",
    "### What is the Distribution of Movie Popularities?"
   ]
  },
  {
   "cell_type": "code",
   "execution_count": 32,
   "id": "second-version",
   "metadata": {},
   "outputs": [],
   "source": [
    "num_movie_ratings = clean_data[\"movie\"].value_counts()"
   ]
  },
  {
   "cell_type": "code",
   "execution_count": 105,
   "id": "bridal-charleston",
   "metadata": {},
   "outputs": [
    {
     "data": {
      "image/png": "[encoded data removed]",
      "text/plain": [
       "<Figure size 432x288 with 1 Axes>"
      ]
     },
     "metadata": {
      "needs_background": "light"
     },
     "output_type": "display_data"
    }
   ],
   "source": [
    "num_movie_ratings[:100].plot(\n",
    "    title=\"Rating Counts for 100 Most Popular Movies\",\n",
    "    xlabel=\"Movie, Ordered by Popularity\",\n",
    "    ylabel=\"Number of Ratings\",\n",
    ");"
   ]
  },
  {
   "cell_type": "code",
   "execution_count": 106,
   "id": "substantial-strengthening",
   "metadata": {},
   "outputs": [
    {
     "data": {
      "image/png": "[encoded data removed]",
      "text/plain": [
       "<Figure size 432x288 with 1 Axes>"
      ]
     },
     "metadata": {
      "needs_background": "light"
     },
     "output_type": "display_data"
    }
   ],
   "source": [
    "num_movie_ratings[100:1000].plot(\n",
    "    title=\"Rating Counts for 100 to 1000 Most Popular Movies\",\n",
    "    xlabel=\"Movie, Ordered by Popularity\",\n",
    "    ylabel=\"Number of Ratings\",\n",
    ");"
   ]
  },
  {
   "cell_type": "code",
   "execution_count": 107,
   "id": "certain-bachelor",
   "metadata": {},
   "outputs": [
    {
     "data": {
      "image/png": "[encoded data removed]",
      "text/plain": [
       "<Figure size 432x288 with 1 Axes>"
      ]
     },
     "metadata": {
      "needs_background": "light"
     },
     "output_type": "display_data"
    }
   ],
   "source": [
    "num_movie_ratings[1000:10000].plot(\n",
    "    title=\"Rating Counts for 1000 to 10,000 Most Popular Movies\",\n",
    "    xlabel=\"Movie, Ordered by Popularity\",\n",
    "    ylabel=\"Number of Ratings\",\n",
    ");"
   ]
  },
  {
   "cell_type": "markdown",
   "id": "comparative-instruction",
   "metadata": {},
   "source": [
    "Clearly, movie popularity follows a very long-tailed distribution."
   ]
  },
  {
   "cell_type": "code",
   "execution_count": 36,
   "id": "oriental-williams",
   "metadata": {},
   "outputs": [
    {
     "data": {
      "text/plain": [
       "0.15009868730223377"
      ]
     },
     "execution_count": 36,
     "metadata": {},
     "output_type": "execute_result"
    }
   ],
   "source": [
    "(num_movie_ratings > 10).mean()"
   ]
  },
  {
   "cell_type": "code",
   "execution_count": 37,
   "id": "liked-oxygen",
   "metadata": {},
   "outputs": [
    {
     "data": {
      "text/plain": [
       "0.02145772395466935"
      ]
     },
     "execution_count": 37,
     "metadata": {},
     "output_type": "execute_result"
    }
   ],
   "source": [
    "(num_movie_ratings > 100).mean()"
   ]
  },
  {
   "cell_type": "code",
   "execution_count": 38,
   "id": "individual-rebecca",
   "metadata": {},
   "outputs": [
    {
     "data": {
      "text/plain": [
       "7534"
      ]
     },
     "execution_count": 38,
     "metadata": {},
     "output_type": "execute_result"
    }
   ],
   "source": [
    "(num_movie_ratings > 100).sum()"
   ]
  },
  {
   "cell_type": "markdown",
   "id": "apparent-principle",
   "metadata": {},
   "source": [
    "Out of ~350K movies, only 15% have more than 10 reviews, and only 7.5K have more than 100 reviews."
   ]
  },
  {
   "cell_type": "markdown",
   "id": "static-burns",
   "metadata": {},
   "source": [
    "<a id=\"joker\"></a>\n",
    "### How did Joker's rating evolve over time?"
   ]
  },
  {
   "cell_type": "markdown",
   "id": "ranging-atmosphere",
   "metadata": {},
   "source": [
    "Remember that our overall goal in this analysis is to examine the extent to which ratings decline over time. Here I briefly examine this phenomenon for the movie with the most reviews - Joker."
   ]
  },
  {
   "cell_type": "code",
   "execution_count": 39,
   "id": "together-theology",
   "metadata": {},
   "outputs": [
    {
     "data": {
      "text/plain": [
       "tt7286456    10534\n",
       "tt4154796     8835\n",
       "Name: movie, dtype: int64"
      ]
     },
     "execution_count": 39,
     "metadata": {},
     "output_type": "execute_result"
    }
   ],
   "source": [
    "num_movie_ratings.head(2)"
   ]
  },
  {
   "cell_type": "code",
   "execution_count": 40,
   "id": "alpine-casting",
   "metadata": {},
   "outputs": [],
   "source": [
    "joker = clean_data[clean_data[\"movie\"] == \"tt7286456\"]"
   ]
  },
  {
   "cell_type": "markdown",
   "id": "worse-specific",
   "metadata": {},
   "source": [
    "I visualize the evolution of ratings here in several ways. A better way to visualize this data would be to have a weighted rolling average of ratings by day, but these are sufficient to show that a declining trend exists. The first two visualization aggregates the mean ratings by day, which gives too much weight to days with few observations. Both the rolling mean and expanding mean show evidence of declining ratings."
   ]
  },
  {
   "cell_type": "code",
   "execution_count": 108,
   "id": "accessible-jewel",
   "metadata": {},
   "outputs": [
    {
     "data": {
      "image/png": "[encoded data removed]",
      "text/plain": [
       "<Figure size 432x288 with 1 Axes>"
      ]
     },
     "metadata": {
      "needs_background": "light"
     },
     "output_type": "display_data"
    }
   ],
   "source": [
    "joker.groupby(\"date\")[\"rating\"].mean().rolling(50).mean().plot(\n",
    "    ylabel=\"Rating\",\n",
    "    title=\"Rolling Average of Daily Mean Ratings for Joker\",\n",
    ");"
   ]
  },
  {
   "cell_type": "code",
   "execution_count": 109,
   "id": "stupid-livestock",
   "metadata": {},
   "outputs": [
    {
     "data": {
      "image/png": "[encoded data removed]",
      "text/plain": [
       "<Figure size 432x288 with 1 Axes>"
      ]
     },
     "metadata": {
      "needs_background": "light"
     },
     "output_type": "display_data"
    }
   ],
   "source": [
    "joker.groupby(\"date\")[\"rating\"].mean().expanding().mean().plot(\n",
    "    ylabel=\"Rating\",\n",
    "    title=\"Expanding Average of Daily Mean Ratings for Joker\",\n",
    ");"
   ]
  },
  {
   "cell_type": "markdown",
   "id": "approved-dylan",
   "metadata": {},
   "source": [
    "The next two plots ignore the date of the rating and just compute rolling and expanding mean ratings. Besides not being correlated with dates, another limitation of these graphs are that the ratings on a given date may not be listed in our data in the order they were written (though this appears to be the case)."
   ]
  },
  {
   "cell_type": "code",
   "execution_count": 110,
   "id": "single-nightmare",
   "metadata": {},
   "outputs": [
    {
     "data": {
      "image/png": "[encoded data removed]",
      "text/plain": [
       "<Figure size 432x288 with 1 Axes>"
      ]
     },
     "metadata": {
      "needs_background": "light"
     },
     "output_type": "display_data"
    }
   ],
   "source": [
    "joker.sort_values(\"date\")[\"rating\"].rolling(100).mean().plot(\n",
    "    ylabel=\"Rating\",\n",
    "    xlabel=\"Dataset Index\",\n",
    "    title=\"Rolling Average of Ratings for Joker\"\n",
    ");"
   ]
  },
  {
   "cell_type": "code",
   "execution_count": 111,
   "id": "ecological-reviewer",
   "metadata": {},
   "outputs": [
    {
     "data": {
      "image/png": "[encoded data removed]",
      "text/plain": [
       "<Figure size 432x288 with 1 Axes>"
      ]
     },
     "metadata": {
      "needs_background": "light"
     },
     "output_type": "display_data"
    }
   ],
   "source": [
    "joker.sort_values(\"date\")[\"rating\"].expanding().mean().plot(\n",
    "    ylabel=\"Rating\",\n",
    "    xlabel=\"Dataset Index\",\n",
    "    title=\"Expanding Average of Ratings for Joker\"\n",
    ");"
   ]
  },
  {
   "cell_type": "markdown",
   "id": "cheap-grill",
   "metadata": {},
   "source": [
    "<a id=\"augmenting\"></a>\n",
    "### Augmenting Data with Title, Format, Genre, Year, and Runtime"
   ]
  },
  {
   "cell_type": "markdown",
   "id": "norman-timothy",
   "metadata": {},
   "source": [
    "As mentioned in the above exploratory data analysis, the dataset contains more than just movie ratings. Since these are the objects that I am most curious about, I would like to drop everything in the dataset that is not a movie. To find which movie_ids are associated with movies, I bring in a dataset on title basic info from the IMDb interfaces page at https://www.imdb.com/interfaces/."
   ]
  },
  {
   "cell_type": "code",
   "execution_count": 64,
   "id": "upset-country",
   "metadata": {},
   "outputs": [
    {
     "name": "stderr",
     "output_type": "stream",
     "text": [
      "/Users/jordanlong/.pyenv/versions/3.8.5/lib/python3.8/site-packages/IPython/core/interactiveshell.py:3165: DtypeWarning: Columns (4,5) have mixed types.Specify dtype option on import or set low_memory=False.\n",
      "  has_raised = await self.run_ast_nodes(code_ast.body, cell_name,\n"
     ]
    }
   ],
   "source": [
    "basic_info = pd.read_csv(\"../title.basics.tsv\", sep=\"\\t\")"
   ]
  },
  {
   "cell_type": "code",
   "execution_count": 65,
   "id": "consolidated-indie",
   "metadata": {},
   "outputs": [
    {
     "data": {
      "text/plain": [
       "(8468617, 9)"
      ]
     },
     "execution_count": 65,
     "metadata": {},
     "output_type": "execute_result"
    }
   ],
   "source": [
    "basic_info.shape"
   ]
  },
  {
   "cell_type": "code",
   "execution_count": 66,
   "id": "exciting-monitoring",
   "metadata": {},
   "outputs": [
    {
     "data": {
      "text/html": [
       "<div>\n",
       "<style scoped>\n",
       "    .dataframe tbody tr th:only-of-type {\n",
       "        vertical-align: middle;\n",
       "    }\n",
       "\n",
       "    .dataframe tbody tr th {\n",
       "        vertical-align: top;\n",
       "    }\n",
       "\n",
       "    .dataframe thead th {\n",
       "        text-align: right;\n",
       "    }\n",
       "</style>\n",
       "<table border=\"1\" class=\"dataframe\">\n",
       "  <thead>\n",
       "    <tr style=\"text-align: right;\">\n",
       "      <th></th>\n",
       "      <th>tconst</th>\n",
       "      <th>titleType</th>\n",
       "      <th>primaryTitle</th>\n",
       "      <th>originalTitle</th>\n",
       "      <th>isAdult</th>\n",
       "      <th>startYear</th>\n",
       "      <th>endYear</th>\n",
       "      <th>runtimeMinutes</th>\n",
       "      <th>genres</th>\n",
       "    </tr>\n",
       "  </thead>\n",
       "  <tbody>\n",
       "    <tr>\n",
       "      <th>0</th>\n",
       "      <td>tt0000001</td>\n",
       "      <td>short</td>\n",
       "      <td>Carmencita</td>\n",
       "      <td>Carmencita</td>\n",
       "      <td>0</td>\n",
       "      <td>1894</td>\n",
       "      <td>\\N</td>\n",
       "      <td>1</td>\n",
       "      <td>Documentary,Short</td>\n",
       "    </tr>\n",
       "    <tr>\n",
       "      <th>1</th>\n",
       "      <td>tt0000002</td>\n",
       "      <td>short</td>\n",
       "      <td>Le clown et ses chiens</td>\n",
       "      <td>Le clown et ses chiens</td>\n",
       "      <td>0</td>\n",
       "      <td>1892</td>\n",
       "      <td>\\N</td>\n",
       "      <td>5</td>\n",
       "      <td>Animation,Short</td>\n",
       "    </tr>\n",
       "  </tbody>\n",
       "</table>\n",
       "</div>"
      ],
      "text/plain": [
       "      tconst titleType            primaryTitle           originalTitle  \\\n",
       "0  tt0000001     short              Carmencita              Carmencita   \n",
       "1  tt0000002     short  Le clown et ses chiens  Le clown et ses chiens   \n",
       "\n",
       "  isAdult startYear endYear runtimeMinutes             genres  \n",
       "0       0      1894      \\N              1  Documentary,Short  \n",
       "1       0      1892      \\N              5    Animation,Short  "
      ]
     },
     "execution_count": 66,
     "metadata": {},
     "output_type": "execute_result"
    }
   ],
   "source": [
    "basic_info.head(2)"
   ]
  },
  {
   "cell_type": "markdown",
   "id": "affected-savage",
   "metadata": {},
   "source": [
    "This has information on 8.5M titles. Since we are only interested in titles that are present in our dataset, we get rid of all of the other titles."
   ]
  },
  {
   "cell_type": "code",
   "execution_count": 67,
   "id": "romance-benjamin",
   "metadata": {},
   "outputs": [],
   "source": [
    "basic_info = basic_info[basic_info[\"tconst\"].isin(clean_data[\"movie\"])]"
   ]
  },
  {
   "cell_type": "code",
   "execution_count": 68,
   "id": "loving-gravity",
   "metadata": {},
   "outputs": [
    {
     "data": {
      "text/plain": [
       "(350259, 9)"
      ]
     },
     "execution_count": 68,
     "metadata": {},
     "output_type": "execute_result"
    }
   ],
   "source": [
    "basic_info.shape"
   ]
  },
  {
   "cell_type": "markdown",
   "id": "sexual-favorite",
   "metadata": {},
   "source": [
    "Oddly, there are 850 movies in our clean dataset that don't have an entry in the official IMDb dataset. However, they only account for 3.5K ratings, so this mystery is unlikely to heavily skew our results."
   ]
  },
  {
   "cell_type": "code",
   "execution_count": 80,
   "id": "northern-offering",
   "metadata": {},
   "outputs": [
    {
     "data": {
      "text/plain": [
       "850"
      ]
     },
     "execution_count": 80,
     "metadata": {},
     "output_type": "execute_result"
    }
   ],
   "source": [
    "missing_tconsts = set(clean_data[\"movie\"]) - set(basic_info[\"tconst\"])\n",
    "len(missing_tconsts)"
   ]
  },
  {
   "cell_type": "code",
   "execution_count": 81,
   "id": "grave-slave",
   "metadata": {},
   "outputs": [
    {
     "data": {
      "text/plain": [
       "(3440, 7)"
      ]
     },
     "execution_count": 81,
     "metadata": {},
     "output_type": "execute_result"
    }
   ],
   "source": [
    "missing_movies = clean_data[clean_data[\"movie\"].isin(missing_tconsts)]\n",
    "missing_movies.shape"
   ]
  },
  {
   "cell_type": "markdown",
   "id": "opposed-maple",
   "metadata": {},
   "source": [
    "After confirming there are no duplicate entries, we merge this data with our clean dataset."
   ]
  },
  {
   "cell_type": "code",
   "execution_count": 71,
   "id": "changed-birth",
   "metadata": {},
   "outputs": [
    {
     "data": {
      "text/plain": [
       "0"
      ]
     },
     "execution_count": 71,
     "metadata": {},
     "output_type": "execute_result"
    }
   ],
   "source": [
    "basic_info[\"tconst\"].duplicated().sum()"
   ]
  },
  {
   "cell_type": "code",
   "execution_count": 73,
   "id": "settled-crystal",
   "metadata": {},
   "outputs": [],
   "source": [
    "augmented_data = pd.merge(left=clean_data, right=basic_info[basic_info[\"titleType\"] == \"movie\"], left_on=\"movie\", right_on=\"tconst\")"
   ]
  },
  {
   "cell_type": "markdown",
   "id": "western-respondent",
   "metadata": {},
   "source": [
    "Below we see that only a third of the unique titles in our dataset are movies, indicating that our above analysis might not be representative of IMDb movies."
   ]
  },
  {
   "cell_type": "code",
   "execution_count": 69,
   "id": "moderate-dating",
   "metadata": {},
   "outputs": [
    {
     "data": {
      "text/plain": [
       "movie           139631\n",
       "tvEpisode       100281\n",
       "short            35937\n",
       "tvSeries         27340\n",
       "tvMovie          19333\n",
       "video            15085\n",
       "tvMiniSeries      4767\n",
       "videoGame         4099\n",
       "tvSpecial         3071\n",
       "tvShort            715\n",
       "Name: titleType, dtype: int64"
      ]
     },
     "execution_count": 69,
     "metadata": {},
     "output_type": "execute_result"
    }
   ],
   "source": [
    "basic_info[\"titleType\"].value_counts()"
   ]
  },
  {
   "cell_type": "markdown",
   "id": "extreme-bride",
   "metadata": {},
   "source": [
    "We've also dropped around 1.2 million reviews by only looking at movies."
   ]
  },
  {
   "cell_type": "code",
   "execution_count": 75,
   "id": "original-delay",
   "metadata": {},
   "outputs": [
    {
     "data": {
      "text/plain": [
       "(4669820, 7)"
      ]
     },
     "execution_count": 75,
     "metadata": {},
     "output_type": "execute_result"
    }
   ],
   "source": [
    "clean_data.shape"
   ]
  },
  {
   "cell_type": "code",
   "execution_count": 74,
   "id": "renewable-dollar",
   "metadata": {},
   "outputs": [
    {
     "data": {
      "text/plain": [
       "(3444441, 16)"
      ]
     },
     "execution_count": 74,
     "metadata": {},
     "output_type": "execute_result"
    }
   ],
   "source": [
    "augmented_data.shape"
   ]
  },
  {
   "cell_type": "markdown",
   "id": "rolled-baker",
   "metadata": {},
   "source": [
    "<a id=\"external_validity\"></a>\n",
    "### How Similar are Ratings Submitted With Written Reviews to General Ratings?"
   ]
  },
  {
   "cell_type": "markdown",
   "id": "southwest-barbados",
   "metadata": {},
   "source": [
    "All of our analysis is based on ratings submitted to IMDb with an accompanying written review. If these ratings are not representative of IMDb ratings more generally, our conclusions from this analysis will not be applicable to the IMDb score that appears on the website. I explore this with another dataset from the IMDb interfaces page, containing movie titles, the weighted average of all user ratings, and the number of votes the title has received.\n",
    "\n",
    "For each movie, I calculate the average rating from the written reviews, and see how it compares to the overall average rating."
   ]
  },
  {
   "cell_type": "code",
   "execution_count": 88,
   "id": "printable-singles",
   "metadata": {},
   "outputs": [],
   "source": [
    "ratings = pd.read_csv(\"../title.ratings.tsv\", sep=\"\\t\")\n",
    "ratings = ratings[ratings[\"tconst\"].isin(clean_data[\"movie\"])]"
   ]
  },
  {
   "cell_type": "code",
   "execution_count": 88,
   "id": "superior-gothic",
   "metadata": {},
   "outputs": [],
   "source": [
    "review_ratings = augmented_data.groupby(\"tconst\").agg(\n",
    "    {\"rating\": \"mean\", \n",
    "     \"primaryTitle\": \"max\", \n",
    "     \"startYear\": \"max\",\n",
    "     \"runtimeMinutes\": \"max\",\n",
    "     \"user\": \"count\"}\n",
    ")\n",
    "review_ratings.rename(columns={\"user\": \"numReviews\"}, inplace=True)\n",
    "review_ratings.rename(columns={\"rating\": \"averageReview\"}, inplace=True)"
   ]
  },
  {
   "cell_type": "code",
   "execution_count": 89,
   "id": "twelve-reproduction",
   "metadata": {},
   "outputs": [],
   "source": [
    "rating_comparison = review_ratings.merge(ratings, left_index=True, right_on=\"tconst\")\n",
    "rating_comparison[\"diffRating\"] = rating_comparison[\"averageRating\"] - rating_comparison[\"averageReview\"]"
   ]
  },
  {
   "cell_type": "markdown",
   "id": "north-freeze",
   "metadata": {},
   "source": [
    "The following two plots show the difference in average scores between ratings and reviews. It's clear that scores from reviews tend to be slightly higher than scores from ratings (since the mean difference is approximately -0.5). There is considerable dispersion in the amount of this difference.\n",
    "\n",
    "The second plot shows the same trend, though by filtering for movies with over 25000 votes we are likely getting rid of movies with only a few ratings or reviews."
   ]
  },
  {
   "cell_type": "code",
   "execution_count": 128,
   "id": "tropical-comfort",
   "metadata": {},
   "outputs": [
    {
     "data": {
      "image/png": "[encoded data removed]",
      "text/plain": [
       "<Figure size 432x288 with 1 Axes>"
      ]
     },
     "metadata": {
      "needs_background": "light"
     },
     "output_type": "display_data"
    }
   ],
   "source": [
    "rating_comparison[\"diffRating\"].plot(kind=\"hist\", bins=50, xlabel=\"Difference in Rating\", title=\"Average Rating - Average Review for movies\");"
   ]
  },
  {
   "cell_type": "code",
   "execution_count": 129,
   "id": "pleasant-evening",
   "metadata": {},
   "outputs": [
    {
     "data": {
      "image/png": "[encoded data removed]",
      "text/plain": [
       "<Figure size 432x288 with 1 Axes>"
      ]
     },
     "metadata": {
      "needs_background": "light"
     },
     "output_type": "display_data"
    }
   ],
   "source": [
    "rating_comparison[rating_comparison[\"numVotes\"] > 25000][\"diffRating\"].plot(kind=\"hist\", bins=50, xlabel=\"Difference in Rating\", title=\"Average Rating - Average Review for movies with over 25000 votes\");"
   ]
  },
  {
   "cell_type": "code",
   "execution_count": 344,
   "id": "rational-telling",
   "metadata": {},
   "outputs": [],
   "source": [
    "augmented_data.to_csv(\"211210cleaned_movie_ratings.csv\")"
   ]
  },
  {
   "cell_type": "code",
   "execution_count": 345,
   "id": "recognized-invalid",
   "metadata": {},
   "outputs": [],
   "source": [
    "rating_comparison.to_csv(\"211210movie_info.csv\")"
   ]
  },
  {
   "cell_type": "markdown",
   "id": "heated-wound",
   "metadata": {},
   "source": [
    "<a id=\"estimating_dates\"></a>\n",
    "### Estimating Release Dates and Reducing Our Dataset"
   ]
  },
  {
   "cell_type": "markdown",
   "id": "thrown-effects",
   "metadata": {},
   "source": [
    "To assess how ratings change over time, we need movie release dates. IMDb gives this to us at a year level, but we want a more granular estimate. To find this, we're going to assume that the first review falls around the release of a movie."
   ]
  },
  {
   "cell_type": "code",
   "execution_count": 120,
   "id": "orange-passenger",
   "metadata": {},
   "outputs": [],
   "source": [
    "rating_comparison = rating_comparison.merge(augmented_data.groupby(\"movie\")[\"date\"].min(), left_on=\"tconst\", right_on=\"movie\").rename(columns={\"date\": \"first_review\"})"
   ]
  },
  {
   "cell_type": "code",
   "execution_count": 122,
   "id": "advanced-yield",
   "metadata": {},
   "outputs": [
    {
     "data": {
      "text/html": [
       "<div>\n",
       "<style scoped>\n",
       "    .dataframe tbody tr th:only-of-type {\n",
       "        vertical-align: middle;\n",
       "    }\n",
       "\n",
       "    .dataframe tbody tr th {\n",
       "        vertical-align: top;\n",
       "    }\n",
       "\n",
       "    .dataframe thead th {\n",
       "        text-align: right;\n",
       "    }\n",
       "</style>\n",
       "<table border=\"1\" class=\"dataframe\">\n",
       "  <thead>\n",
       "    <tr style=\"text-align: right;\">\n",
       "      <th></th>\n",
       "      <th>averageReview</th>\n",
       "      <th>primaryTitle</th>\n",
       "      <th>startYear</th>\n",
       "      <th>runtimeMinutes</th>\n",
       "      <th>numReviews</th>\n",
       "      <th>tconst</th>\n",
       "      <th>averageRating</th>\n",
       "      <th>numVotes</th>\n",
       "      <th>diffRating</th>\n",
       "      <th>first_review</th>\n",
       "    </tr>\n",
       "  </thead>\n",
       "  <tbody>\n",
       "    <tr>\n",
       "      <th>0</th>\n",
       "      <td>8.666667</td>\n",
       "      <td>The Story of the Kelly Gang</td>\n",
       "      <td>1906</td>\n",
       "      <td>70</td>\n",
       "      <td>6</td>\n",
       "      <td>tt0000574</td>\n",
       "      <td>6.1</td>\n",
       "      <td>737</td>\n",
       "      <td>-2.566667</td>\n",
       "      <td>2001-07-07</td>\n",
       "    </tr>\n",
       "  </tbody>\n",
       "</table>\n",
       "</div>"
      ],
      "text/plain": [
       "   averageReview                 primaryTitle startYear runtimeMinutes  \\\n",
       "0       8.666667  The Story of the Kelly Gang      1906             70   \n",
       "\n",
       "   numReviews     tconst  averageRating  numVotes  diffRating first_review  \n",
       "0           6  tt0000574            6.1       737   -2.566667   2001-07-07  "
      ]
     },
     "execution_count": 122,
     "metadata": {},
     "output_type": "execute_result"
    }
   ],
   "source": [
    "rating_comparison.head(1)"
   ]
  },
  {
   "cell_type": "code",
   "execution_count": 125,
   "id": "heavy-receipt",
   "metadata": {},
   "outputs": [
    {
     "name": "stderr",
     "output_type": "stream",
     "text": [
      "<ipython-input-125-75c959f6a932>:2: SettingWithCopyWarning: \n",
      "A value is trying to be set on a copy of a slice from a DataFrame.\n",
      "Try using .loc[row_indexer,col_indexer] = value instead\n",
      "\n",
      "See the caveats in the documentation: https://pandas.pydata.org/pandas-docs/stable/user_guide/indexing.html#returning-a-view-versus-a-copy\n",
      "  rating_comparison[\"startYear\"] = rating_comparison[\"startYear\"].astype(int)\n"
     ]
    }
   ],
   "source": [
    "rating_comparison = rating_comparison[rating_comparison[\"startYear\"] != \"\\\\N\"]\n",
    "rating_comparison[\"startYear\"] = rating_comparison[\"startYear\"].astype(int)"
   ]
  },
  {
   "cell_type": "code",
   "execution_count": 126,
   "id": "appropriate-status",
   "metadata": {},
   "outputs": [],
   "source": [
    "augmented_data = augmented_data[augmented_data[\"startYear\"] != \"\\\\N\"]\n",
    "augmented_data[\"startYear\"] = augmented_data[\"startYear\"].astype(int)"
   ]
  },
  {
   "cell_type": "markdown",
   "id": "trying-lawyer",
   "metadata": {},
   "source": [
    "The following plot shows our estimated number of movie releases over time for movies released in 2005 or later. We use 2005 as our cutoff because, as previously discovered, there was a large jump in reviewing behaviour on IMDb before that date.\n",
    "\n",
    "There is a large jump in new releases sometime in 2018. This is because, as previously discovered, our dataset contains no reviews from April 2018. Thus any movie that was actually released in April 2018 will be counted as released in May 2018.\n",
    "\n",
    "It should also be noted that there are some movies with reviews prior to 2005, perhaps due to advanced screenings."
   ]
  },
  {
   "cell_type": "code",
   "execution_count": 131,
   "id": "superior-wallace",
   "metadata": {},
   "outputs": [
    {
     "data": {
      "image/png": "[encoded data removed]",
      "text/plain": [
       "<Figure size 432x288 with 1 Axes>"
      ]
     },
     "metadata": {
      "needs_background": "light"
     },
     "output_type": "display_data"
    }
   ],
   "source": [
    "rating_comparison[rating_comparison[\"startYear\"] >= 2005].groupby(\"first_review\")[\"tconst\"].count().plot(title=\"Estimated Number of Movie Releases Over Time\", ylabel=\"Number of Movies\");"
   ]
  },
  {
   "cell_type": "markdown",
   "id": "prerequisite-glory",
   "metadata": {},
   "source": [
    "In order to account for this, we get rid of movies estimated to be released in May 2018, and all pre-2005 movies."
   ]
  },
  {
   "cell_type": "code",
   "execution_count": 134,
   "id": "empty-horse",
   "metadata": {},
   "outputs": [],
   "source": [
    "rating_comparison = rating_comparison[(rating_comparison[\"first_review\"] >= datetime(2018,6,1)) | (rating_comparison[\"first_review\"] < datetime(2018,1,1))]"
   ]
  },
  {
   "cell_type": "code",
   "execution_count": 135,
   "id": "little-grove",
   "metadata": {},
   "outputs": [],
   "source": [
    "rating_comparison = rating_comparison[rating_comparison[\"startYear\"] >= 2005]\n",
    "rating_comparison = rating_comparison[rating_comparison[\"first_review\"] >= datetime(2005,1,1)]"
   ]
  },
  {
   "cell_type": "markdown",
   "id": "historic-heating",
   "metadata": {},
   "source": [
    "Note that our assumption that first reviews track movie releases is more likely to hold true for movies with more reviews, so we'll also filter our data for movies with at least 100 reviews. (100 was chosen arbitrarily)"
   ]
  },
  {
   "cell_type": "code",
   "execution_count": 137,
   "id": "romance-timer",
   "metadata": {},
   "outputs": [],
   "source": [
    "review_cutoff = 100"
   ]
  },
  {
   "cell_type": "code",
   "execution_count": 138,
   "id": "mobile-superintendent",
   "metadata": {},
   "outputs": [
    {
     "data": {
      "text/plain": [
       "count    61498.000000\n",
       "mean        31.407802\n",
       "std        161.082727\n",
       "min          1.000000\n",
       "25%          1.000000\n",
       "50%          4.000000\n",
       "75%         12.000000\n",
       "max      10534.000000\n",
       "Name: numReviews, dtype: float64"
      ]
     },
     "execution_count": 138,
     "metadata": {},
     "output_type": "execute_result"
    }
   ],
   "source": [
    "rating_comparison[\"numReviews\"].describe()"
   ]
  },
  {
   "cell_type": "code",
   "execution_count": 139,
   "id": "southeast-thing",
   "metadata": {},
   "outputs": [
    {
     "data": {
      "text/plain": [
       "3530"
      ]
     },
     "execution_count": 139,
     "metadata": {},
     "output_type": "execute_result"
    }
   ],
   "source": [
    "(rating_comparison[\"numReviews\"] >= review_cutoff).sum()"
   ]
  },
  {
   "cell_type": "code",
   "execution_count": 141,
   "id": "dirty-intake",
   "metadata": {},
   "outputs": [],
   "source": [
    "clean_movies = rating_comparison[rating_comparison[\"numReviews\"] >= 100]"
   ]
  },
  {
   "cell_type": "code",
   "execution_count": 143,
   "id": "latin-consistency",
   "metadata": {},
   "outputs": [],
   "source": [
    "clean_reviews = augmented_data[augmented_data[\"movie\"].isin(clean_movies[\"tconst\"])]"
   ]
  },
  {
   "cell_type": "code",
   "execution_count": 144,
   "id": "deluxe-occasion",
   "metadata": {},
   "outputs": [
    {
     "data": {
      "text/plain": [
       "(1389228, 16)"
      ]
     },
     "execution_count": 144,
     "metadata": {},
     "output_type": "execute_result"
    }
   ],
   "source": [
    "clean_reviews.shape"
   ]
  },
  {
   "cell_type": "markdown",
   "id": "neither-sterling",
   "metadata": {},
   "source": [
    "Note that although we have reduced our dataset of movies considerably (down to 3.5K), we have only reduced our datset of reviews by approximately one third. Further, by reducing our dataset to the most popular, somewhat recently released films, our results are likely to be more applicable to the new, popular movies that I am likely to care about."
   ]
  },
  {
   "cell_type": "markdown",
   "id": "received-twins",
   "metadata": {},
   "source": [
    "<a id=\"ratings_over_time\"></a>\n",
    "### Exploring Rating Variation over Time"
   ]
  },
  {
   "cell_type": "markdown",
   "id": "built-latvia",
   "metadata": {},
   "source": [
    "Are ratings changing over time in our dataset? It seems as though they've been relatively stable, so we don't necessarily need to account for long term seasonality in our model."
   ]
  },
  {
   "cell_type": "code",
   "execution_count": 147,
   "id": "loose-biotechnology",
   "metadata": {},
   "outputs": [
    {
     "data": {
      "image/png": "[encoded data removed]",
      "text/plain": [
       "<Figure size 432x288 with 1 Axes>"
      ]
     },
     "metadata": {
      "needs_background": "light"
     },
     "output_type": "display_data"
    }
   ],
   "source": [
    "clean_reviews.groupby(\"date\")[\"rating\"].mean().plot(title=\"Average Daily Ratings Over Time\", ylabel=\"Rating\");"
   ]
  },
  {
   "cell_type": "markdown",
   "id": "ancient-badge",
   "metadata": {},
   "source": [
    "Is there month-to-month seasonality in ratings? It appears that there is, with a difference in mean ratings of 0.3 between July and September. It seems odd that people's ratings would be so seasonal, but it's possible that the best films are released in the summer when audiences are larger."
   ]
  },
  {
   "cell_type": "code",
   "execution_count": 150,
   "id": "floral-index",
   "metadata": {},
   "outputs": [
    {
     "data": {
      "image/png": "[encoded data removed]",
      "text/plain": [
       "<Figure size 432x288 with 1 Axes>"
      ]
     },
     "metadata": {
      "needs_background": "light"
     },
     "output_type": "display_data"
    }
   ],
   "source": [
    "clean_reviews.groupby(\"month\")[\"rating\"].mean().plot(title=\"Average Rating by Month\", ylabel=\"Rating\");"
   ]
  },
  {
   "cell_type": "markdown",
   "id": "limited-invention",
   "metadata": {},
   "source": [
    "To further explore this pattern, we look at the number of new releases by month. It turns out that September, the month with the lowest average rating, is also the month with the most new releases. \n",
    "\n",
    "Further research indicates that September is a high season for film festivals, with festivals like the Venice film festival and Toronto International Film Festival taking place. More movies are likely released during film festivals than average, with less prestigious films being released. Critics and festival goers may also be harsher than regular audiences."
   ]
  },
  {
   "cell_type": "code",
   "execution_count": 156,
   "id": "comfortable-joseph",
   "metadata": {},
   "outputs": [
    {
     "name": "stderr",
     "output_type": "stream",
     "text": [
      "<ipython-input-156-bbbf869b9f05>:1: SettingWithCopyWarning: \n",
      "A value is trying to be set on a copy of a slice from a DataFrame.\n",
      "Try using .loc[row_indexer,col_indexer] = value instead\n",
      "\n",
      "See the caveats in the documentation: https://pandas.pydata.org/pandas-docs/stable/user_guide/indexing.html#returning-a-view-versus-a-copy\n",
      "  clean_movies[\"first_review_month\"] = clean_movies[\"first_review\"].dt.month\n"
     ]
    },
    {
     "data": {
      "image/png": "[encoded data removed]",
      "text/plain": [
       "<Figure size 432x288 with 1 Axes>"
      ]
     },
     "metadata": {
      "needs_background": "light"
     },
     "output_type": "display_data"
    }
   ],
   "source": [
    "clean_movies[\"first_review_month\"] = clean_movies[\"first_review\"].dt.month\n",
    "clean_movies.groupby(\"first_review_month\")[\"averageReview\"].count().plot(title=\"Number of Movie Releases by Month\", ylabel=\"Number of Movie Releases\");"
   ]
  },
  {
   "cell_type": "markdown",
   "id": "demonstrated-reynolds",
   "metadata": {},
   "source": [
    "Is there much day-to-day variation in movie releases? To construct a panel dataset, I'm going to group movie ratings by the month of their release. However, movies released at the end of the month will be counted as having fewer ratings in their first month, and thus more variable estimates. I want some idea of how commonly this occurs.\n",
    "\n",
    "I find that there is a relatively uniform distribution of movie releases by day of month. This means that there will be some fairly noisy estimates of first-month ratings. I might expect these estimates to be biased upwards because of the hypothesis that fans go to movies first, and rate higher."
   ]
  },
  {
   "cell_type": "code",
   "execution_count": 159,
   "id": "conservative-youth",
   "metadata": {},
   "outputs": [
    {
     "data": {
      "image/png": "[encoded data removed]",
      "text/plain": [
       "<Figure size 432x288 with 1 Axes>"
      ]
     },
     "metadata": {
      "needs_background": "light"
     },
     "output_type": "display_data"
    }
   ],
   "source": [
    "ax = clean_movies[\"first_review\"].dt.day.plot(kind=\"hist\",bins=31, xlabel=\"day of month\", title=\"Movie Releases by Day of Month\")\n",
    "ax.set_xlabel(\"Day of Month of Estimated Release Date\");"
   ]
  },
  {
   "cell_type": "markdown",
   "id": "according-teaching",
   "metadata": {},
   "source": [
    "<a id=\"panel\"></a>\n",
    "### Creating our Final Panel Dataset"
   ]
  },
  {
   "cell_type": "markdown",
   "id": "hybrid-wheat",
   "metadata": {},
   "source": [
    "In order to estimate the decay in ratings over time using a linear model, I transform the dataset such that each row corresponds to a month for a specific movie. Grouping by month means that we will estimate how much ratings change each month, which likely gives more precise estimates than grouping by day since release."
   ]
  },
  {
   "cell_type": "code",
   "execution_count": 187,
   "id": "fiscal-theorem",
   "metadata": {},
   "outputs": [],
   "source": [
    "clean_reviews = clean_reviews.merge(clean_movies[[\"first_review\", \"tconst\"]], how=\"left\", on=\"tconst\")\n",
    "\n",
    "clean_reviews[\"year_month\"] = 100*clean_reviews[\"date\"].dt.year + clean_reviews[\"date\"].dt.month\n",
    "\n",
    "clean_reviews[\"first_review_year_month\"] = 100*clean_reviews[\"first_review\"].dt.year + clean_reviews[\"first_review\"].dt.month\n",
    "\n",
    "clean_reviews[\"first_review_year\"] = clean_reviews[\"first_review\"].dt.year\n",
    "\n",
    "clean_reviews[\"first_review_month\"] = clean_reviews[\"first_review\"].dt.month\n",
    "\n",
    "clean_reviews[\"first_review_month_offset\"] = (clean_reviews[\"year\"] - clean_reviews[\"first_review_year\"])*12 + clean_reviews[\"month\"] - clean_reviews[\"first_review_month\"]"
   ]
  },
  {
   "cell_type": "code",
   "execution_count": 194,
   "id": "fifty-control",
   "metadata": {},
   "outputs": [],
   "source": [
    "panel = clean_reviews.groupby([\"movie\", \"first_review_month_offset\"])[[\"runtimeMinutes\", \"rating\", \"month\", \"year\", \"year_month\", \"first_review_year\", \"first_review_month\", \"first_review_year_month\"]].agg({\"runtimeMinutes\": \"count\", \"rating\": \"sum\", \"month\": \"mean\", \"year\": \"mean\", \"year_month\": \"mean\", \"first_review_month\": \"mean\", \"first_review_year\": \"mean\", \"first_review_year_month\": \"mean\"})\n",
    "\n",
    "panel[\"cumulative_reviews\"] = panel.groupby(level=0)[\"runtimeMinutes\"].cumsum()\n",
    "\n",
    "panel[\"cumsum_ratings\"] = panel.groupby(level=0)[\"rating\"].cumsum()\n",
    "\n",
    "panel[\"cumavg_review\"] = panel[\"cumsum_ratings\"] / panel[\"cumulative_reviews\"]\n",
    "\n",
    "panel = panel.reset_index().rename(columns={\"runtimeMinutes\": \"num_reviews\", \"rating\": \"sum_ratings\"})\n",
    "\n",
    "panel[\"2018_or_later\"] = (panel[\"year\"] > 2018)"
   ]
  },
  {
   "cell_type": "code",
   "execution_count": 201,
   "id": "finished-diameter",
   "metadata": {},
   "outputs": [
    {
     "data": {
      "text/html": [
       "<div>\n",
       "<style scoped>\n",
       "    .dataframe tbody tr th:only-of-type {\n",
       "        vertical-align: middle;\n",
       "    }\n",
       "\n",
       "    .dataframe tbody tr th {\n",
       "        vertical-align: top;\n",
       "    }\n",
       "\n",
       "    .dataframe thead th {\n",
       "        text-align: right;\n",
       "    }\n",
       "</style>\n",
       "<table border=\"1\" class=\"dataframe\">\n",
       "  <thead>\n",
       "    <tr style=\"text-align: right;\">\n",
       "      <th></th>\n",
       "      <th>movie</th>\n",
       "      <th>first_review_month_offset</th>\n",
       "      <th>num_reviews</th>\n",
       "      <th>sum_ratings</th>\n",
       "      <th>month</th>\n",
       "      <th>year</th>\n",
       "      <th>year_month</th>\n",
       "      <th>first_review_month</th>\n",
       "      <th>first_review_year</th>\n",
       "      <th>first_review_year_month</th>\n",
       "      <th>cumulative_reviews</th>\n",
       "      <th>cumsum_ratings</th>\n",
       "      <th>cumavg_review</th>\n",
       "      <th>2018_or_later</th>\n",
       "    </tr>\n",
       "  </thead>\n",
       "  <tbody>\n",
       "    <tr>\n",
       "      <th>0</th>\n",
       "      <td>tt0120667</td>\n",
       "      <td>0</td>\n",
       "      <td>8</td>\n",
       "      <td>60</td>\n",
       "      <td>6</td>\n",
       "      <td>2005</td>\n",
       "      <td>200506</td>\n",
       "      <td>6</td>\n",
       "      <td>2005</td>\n",
       "      <td>200506</td>\n",
       "      <td>8</td>\n",
       "      <td>60</td>\n",
       "      <td>7.500000</td>\n",
       "      <td>False</td>\n",
       "    </tr>\n",
       "    <tr>\n",
       "      <th>1</th>\n",
       "      <td>tt0120667</td>\n",
       "      <td>1</td>\n",
       "      <td>507</td>\n",
       "      <td>3315</td>\n",
       "      <td>7</td>\n",
       "      <td>2005</td>\n",
       "      <td>200507</td>\n",
       "      <td>6</td>\n",
       "      <td>2005</td>\n",
       "      <td>200506</td>\n",
       "      <td>515</td>\n",
       "      <td>3375</td>\n",
       "      <td>6.553398</td>\n",
       "      <td>False</td>\n",
       "    </tr>\n",
       "    <tr>\n",
       "      <th>2</th>\n",
       "      <td>tt0120667</td>\n",
       "      <td>2</td>\n",
       "      <td>76</td>\n",
       "      <td>444</td>\n",
       "      <td>8</td>\n",
       "      <td>2005</td>\n",
       "      <td>200508</td>\n",
       "      <td>6</td>\n",
       "      <td>2005</td>\n",
       "      <td>200506</td>\n",
       "      <td>591</td>\n",
       "      <td>3819</td>\n",
       "      <td>6.461929</td>\n",
       "      <td>False</td>\n",
       "    </tr>\n",
       "    <tr>\n",
       "      <th>3</th>\n",
       "      <td>tt0120667</td>\n",
       "      <td>3</td>\n",
       "      <td>16</td>\n",
       "      <td>92</td>\n",
       "      <td>9</td>\n",
       "      <td>2005</td>\n",
       "      <td>200509</td>\n",
       "      <td>6</td>\n",
       "      <td>2005</td>\n",
       "      <td>200506</td>\n",
       "      <td>607</td>\n",
       "      <td>3911</td>\n",
       "      <td>6.443163</td>\n",
       "      <td>False</td>\n",
       "    </tr>\n",
       "    <tr>\n",
       "      <th>4</th>\n",
       "      <td>tt0120667</td>\n",
       "      <td>4</td>\n",
       "      <td>16</td>\n",
       "      <td>91</td>\n",
       "      <td>10</td>\n",
       "      <td>2005</td>\n",
       "      <td>200510</td>\n",
       "      <td>6</td>\n",
       "      <td>2005</td>\n",
       "      <td>200506</td>\n",
       "      <td>623</td>\n",
       "      <td>4002</td>\n",
       "      <td>6.423756</td>\n",
       "      <td>False</td>\n",
       "    </tr>\n",
       "    <tr>\n",
       "      <th>...</th>\n",
       "      <td>...</td>\n",
       "      <td>...</td>\n",
       "      <td>...</td>\n",
       "      <td>...</td>\n",
       "      <td>...</td>\n",
       "      <td>...</td>\n",
       "      <td>...</td>\n",
       "      <td>...</td>\n",
       "      <td>...</td>\n",
       "      <td>...</td>\n",
       "      <td>...</td>\n",
       "      <td>...</td>\n",
       "      <td>...</td>\n",
       "      <td>...</td>\n",
       "    </tr>\n",
       "    <tr>\n",
       "      <th>176511</th>\n",
       "      <td>tt9900782</td>\n",
       "      <td>9</td>\n",
       "      <td>2</td>\n",
       "      <td>17</td>\n",
       "      <td>7</td>\n",
       "      <td>2020</td>\n",
       "      <td>202007</td>\n",
       "      <td>10</td>\n",
       "      <td>2019</td>\n",
       "      <td>201910</td>\n",
       "      <td>180</td>\n",
       "      <td>1620</td>\n",
       "      <td>9.000000</td>\n",
       "      <td>True</td>\n",
       "    </tr>\n",
       "    <tr>\n",
       "      <th>176512</th>\n",
       "      <td>tt9900782</td>\n",
       "      <td>10</td>\n",
       "      <td>6</td>\n",
       "      <td>52</td>\n",
       "      <td>8</td>\n",
       "      <td>2020</td>\n",
       "      <td>202008</td>\n",
       "      <td>10</td>\n",
       "      <td>2019</td>\n",
       "      <td>201910</td>\n",
       "      <td>186</td>\n",
       "      <td>1672</td>\n",
       "      <td>8.989247</td>\n",
       "      <td>True</td>\n",
       "    </tr>\n",
       "    <tr>\n",
       "      <th>176513</th>\n",
       "      <td>tt9900782</td>\n",
       "      <td>12</td>\n",
       "      <td>13</td>\n",
       "      <td>112</td>\n",
       "      <td>10</td>\n",
       "      <td>2020</td>\n",
       "      <td>202010</td>\n",
       "      <td>10</td>\n",
       "      <td>2019</td>\n",
       "      <td>201910</td>\n",
       "      <td>199</td>\n",
       "      <td>1784</td>\n",
       "      <td>8.964824</td>\n",
       "      <td>True</td>\n",
       "    </tr>\n",
       "    <tr>\n",
       "      <th>176514</th>\n",
       "      <td>tt9900782</td>\n",
       "      <td>13</td>\n",
       "      <td>8</td>\n",
       "      <td>57</td>\n",
       "      <td>11</td>\n",
       "      <td>2020</td>\n",
       "      <td>202011</td>\n",
       "      <td>10</td>\n",
       "      <td>2019</td>\n",
       "      <td>201910</td>\n",
       "      <td>207</td>\n",
       "      <td>1841</td>\n",
       "      <td>8.893720</td>\n",
       "      <td>True</td>\n",
       "    </tr>\n",
       "    <tr>\n",
       "      <th>176515</th>\n",
       "      <td>tt9900782</td>\n",
       "      <td>14</td>\n",
       "      <td>1</td>\n",
       "      <td>9</td>\n",
       "      <td>12</td>\n",
       "      <td>2020</td>\n",
       "      <td>202012</td>\n",
       "      <td>10</td>\n",
       "      <td>2019</td>\n",
       "      <td>201910</td>\n",
       "      <td>208</td>\n",
       "      <td>1850</td>\n",
       "      <td>8.894231</td>\n",
       "      <td>True</td>\n",
       "    </tr>\n",
       "  </tbody>\n",
       "</table>\n",
       "<p>176516 rows × 14 columns</p>\n",
       "</div>"
      ],
      "text/plain": [
       "            movie  first_review_month_offset  num_reviews  sum_ratings  month  \\\n",
       "0       tt0120667                          0            8           60      6   \n",
       "1       tt0120667                          1          507         3315      7   \n",
       "2       tt0120667                          2           76          444      8   \n",
       "3       tt0120667                          3           16           92      9   \n",
       "4       tt0120667                          4           16           91     10   \n",
       "...           ...                        ...          ...          ...    ...   \n",
       "176511  tt9900782                          9            2           17      7   \n",
       "176512  tt9900782                         10            6           52      8   \n",
       "176513  tt9900782                         12           13          112     10   \n",
       "176514  tt9900782                         13            8           57     11   \n",
       "176515  tt9900782                         14            1            9     12   \n",
       "\n",
       "        year  year_month  first_review_month  first_review_year  \\\n",
       "0       2005      200506                   6               2005   \n",
       "1       2005      200507                   6               2005   \n",
       "2       2005      200508                   6               2005   \n",
       "3       2005      200509                   6               2005   \n",
       "4       2005      200510                   6               2005   \n",
       "...      ...         ...                 ...                ...   \n",
       "176511  2020      202007                  10               2019   \n",
       "176512  2020      202008                  10               2019   \n",
       "176513  2020      202010                  10               2019   \n",
       "176514  2020      202011                  10               2019   \n",
       "176515  2020      202012                  10               2019   \n",
       "\n",
       "        first_review_year_month  cumulative_reviews  cumsum_ratings  \\\n",
       "0                        200506                   8              60   \n",
       "1                        200506                 515            3375   \n",
       "2                        200506                 591            3819   \n",
       "3                        200506                 607            3911   \n",
       "4                        200506                 623            4002   \n",
       "...                         ...                 ...             ...   \n",
       "176511                   201910                 180            1620   \n",
       "176512                   201910                 186            1672   \n",
       "176513                   201910                 199            1784   \n",
       "176514                   201910                 207            1841   \n",
       "176515                   201910                 208            1850   \n",
       "\n",
       "        cumavg_review  2018_or_later  \n",
       "0            7.500000          False  \n",
       "1            6.553398          False  \n",
       "2            6.461929          False  \n",
       "3            6.443163          False  \n",
       "4            6.423756          False  \n",
       "...               ...            ...  \n",
       "176511       9.000000           True  \n",
       "176512       8.989247           True  \n",
       "176513       8.964824           True  \n",
       "176514       8.893720           True  \n",
       "176515       8.894231           True  \n",
       "\n",
       "[176516 rows x 14 columns]"
      ]
     },
     "execution_count": 201,
     "metadata": {},
     "output_type": "execute_result"
    }
   ],
   "source": [
    "panel"
   ]
  },
  {
   "cell_type": "markdown",
   "id": "proved-found",
   "metadata": {},
   "source": [
    "How do individual movies' ratings evolve? Running this cell randomly samples a movie and shows how its rating evolved in the months following its release."
   ]
  },
  {
   "cell_type": "code",
   "execution_count": 237,
   "id": "activated-latex",
   "metadata": {},
   "outputs": [
    {
     "data": {
      "image/png": "[encoded data removed]",
      "text/plain": [
       "<Figure size 432x288 with 1 Axes>"
      ]
     },
     "metadata": {
      "needs_background": "light"
     },
     "output_type": "display_data"
    }
   ],
   "source": [
    "curmovie = panel[\"movie\"].sample().values[0]\n",
    "\n",
    "panel[panel[\"movie\"] == curmovie].plot(x=\"first_review_month_offset\", y=\"cumavg_review\", ylabel=\"Rating\", title=\"Rating over time for \" + clean_movies[clean_movies[\"tconst\"] == curmovie][\"primaryTitle\"].values[0]);"
   ]
  },
  {
   "cell_type": "code",
   "execution_count": 179,
   "id": "alone-clothing",
   "metadata": {},
   "outputs": [],
   "source": [
    "panel.to_csv(\"211215clean_movie_panel.csv\")"
   ]
  },
  {
   "cell_type": "markdown",
   "id": "rotary-homeless",
   "metadata": {},
   "source": [
    "The actual modelling is performed in the R markdown document. Details on the modelling choices can be found in the accompanying pdf."
   ]
  },
  {
   "cell_type": "markdown",
   "id": "latter-thursday",
   "metadata": {},
   "source": [
    "<a id=\"appendix\"></a>\n",
    "## Appendix: Exploring the Initial Dataset"
   ]
  },
  {
   "cell_type": "code",
   "execution_count": 46,
   "id": "answering-trinidad",
   "metadata": {},
   "outputs": [],
   "source": [
    "clean_data = clean_data_backup"
   ]
  },
  {
   "cell_type": "markdown",
   "id": "blank-detective",
   "metadata": {},
   "source": [
    "We first explore users"
   ]
  },
  {
   "cell_type": "code",
   "execution_count": 47,
   "id": "opponent-george",
   "metadata": {},
   "outputs": [
    {
     "data": {
      "text/plain": [
       "count    1.499238e+06\n",
       "mean     3.114796e+00\n",
       "std      4.934654e+01\n",
       "min      1.000000e+00\n",
       "25%      1.000000e+00\n",
       "50%      1.000000e+00\n",
       "75%      2.000000e+00\n",
       "max      2.414500e+04\n",
       "Name: rating, dtype: float64"
      ]
     },
     "execution_count": 47,
     "metadata": {},
     "output_type": "execute_result"
    }
   ],
   "source": [
    "user_review_counts = clean_data.groupby(\"user\")[\"rating\"].count().sort_values(ascending=False)\n",
    "user_review_counts.describe()"
   ]
  },
  {
   "cell_type": "code",
   "execution_count": 48,
   "id": "domestic-cursor",
   "metadata": {},
   "outputs": [
    {
     "data": {
      "text/plain": [
       "user\n",
       "ur2467618     24145\n",
       "ur20552756    16817\n",
       "ur2483625     16715\n",
       "ur0482513     13213\n",
       "ur2898520     12677\n",
       "Name: rating, dtype: int64"
      ]
     },
     "execution_count": 48,
     "metadata": {},
     "output_type": "execute_result"
    }
   ],
   "source": [
    "user_review_counts.head()"
   ]
  },
  {
   "cell_type": "code",
   "execution_count": 49,
   "id": "neutral-aluminum",
   "metadata": {},
   "outputs": [
    {
     "data": {
      "text/plain": [
       "49505"
      ]
     },
     "execution_count": 49,
     "metadata": {},
     "output_type": "execute_result"
    }
   ],
   "source": [
    "(user_review_counts >= 10).sum()"
   ]
  },
  {
   "cell_type": "code",
   "execution_count": 50,
   "id": "handmade-drunk",
   "metadata": {},
   "outputs": [
    {
     "data": {
      "text/plain": [
       "3153"
      ]
     },
     "execution_count": 50,
     "metadata": {},
     "output_type": "execute_result"
    }
   ],
   "source": [
    "(user_review_counts > 100).sum()"
   ]
  },
  {
   "cell_type": "code",
   "execution_count": 51,
   "id": "right-giant",
   "metadata": {},
   "outputs": [
    {
     "data": {
      "text/plain": [
       "235"
      ]
     },
     "execution_count": 51,
     "metadata": {},
     "output_type": "execute_result"
    }
   ],
   "source": [
    "(user_review_counts > 1000).sum()"
   ]
  },
  {
   "cell_type": "markdown",
   "id": "unsigned-radiation",
   "metadata": {},
   "source": [
    "In summary, we have 235 users with over 1K reviews, 3K users with over 100 reviews, 50K users with over 10 reviews, and 1.6 million users in total.\n",
    "\n",
    "In the main analysis we looked at users who left a lot of reviews overall. What about users who leave a lot of ratings on the same day?"
   ]
  },
  {
   "cell_type": "code",
   "execution_count": 52,
   "id": "latter-preparation",
   "metadata": {},
   "outputs": [],
   "source": [
    "clean_data[\"userdate\"] = clean_data[\"user\"] + clean_data[\"date\"].astype(str)"
   ]
  },
  {
   "cell_type": "code",
   "execution_count": 53,
   "id": "structural-dinner",
   "metadata": {},
   "outputs": [],
   "source": [
    "user_day_ratings = clean_data.groupby(\"userdate\")[\"rating\"].count()"
   ]
  },
  {
   "cell_type": "code",
   "execution_count": 54,
   "id": "circular-bread",
   "metadata": {},
   "outputs": [
    {
     "data": {
      "text/plain": [
       "userdate\n",
       "ur439492882019-07-20    442\n",
       "ur760625732020-03-31    245\n",
       "ur161610132008-03-04    236\n",
       "ur626604312019-02-18    231\n",
       "ur760625732020-06-14    230\n",
       "                       ... \n",
       "ur19800922013-02-23       1\n",
       "ur19800922013-03-02       1\n",
       "ur19800922013-04-16       1\n",
       "ur19800922013-04-28       1\n",
       "ur99999882008-10-17       1\n",
       "Name: rating, Length: 3726439, dtype: int64"
      ]
     },
     "execution_count": 54,
     "metadata": {},
     "output_type": "execute_result"
    }
   ],
   "source": [
    "user_day_ratings.sort_values(ascending=False)"
   ]
  },
  {
   "cell_type": "markdown",
   "id": "naughty-holder",
   "metadata": {},
   "source": [
    "I looked into the first one here, and they seem to be legitimate ratings - probably just a dump of this person's opinions."
   ]
  },
  {
   "cell_type": "code",
   "execution_count": 55,
   "id": "elementary-principal",
   "metadata": {},
   "outputs": [
    {
     "data": {
      "text/plain": [
       "8574"
      ]
     },
     "execution_count": 55,
     "metadata": {},
     "output_type": "execute_result"
    }
   ],
   "source": [
    "(user_day_ratings > 10).sum()"
   ]
  },
  {
   "cell_type": "code",
   "execution_count": 56,
   "id": "imported-louis",
   "metadata": {},
   "outputs": [
    {
     "data": {
      "text/plain": [
       "54"
      ]
     },
     "execution_count": 56,
     "metadata": {},
     "output_type": "execute_result"
    }
   ],
   "source": [
    "(user_day_ratings > 100).sum()"
   ]
  },
  {
   "cell_type": "markdown",
   "id": "threaded-rebound",
   "metadata": {},
   "source": [
    "It is exceedingly rare for a user to leave more than 10 ratings on the same day, occurring only 8,574 times out of 3.7 million observations."
   ]
  },
  {
   "cell_type": "markdown",
   "id": "familiar-alexander",
   "metadata": {},
   "source": [
    "### Ratings by Year, Month"
   ]
  },
  {
   "cell_type": "code",
   "execution_count": 57,
   "id": "handmade-knowing",
   "metadata": {},
   "outputs": [],
   "source": [
    "clean_data[\"year\"] = clean_data[\"date\"].dt.year\n",
    "clean_data[\"month\"] = clean_data[\"date\"].dt.month"
   ]
  },
  {
   "cell_type": "code",
   "execution_count": 58,
   "id": "acquired-success",
   "metadata": {},
   "outputs": [
    {
     "data": {
      "text/plain": [
       "Text(0, 0.5, 'Number of Ratings')"
      ]
     },
     "execution_count": 58,
     "metadata": {},
     "output_type": "execute_result"
    },
    {
     "data": {
      "image/png": "[encoded data removed]",
      "text/plain": [
       "<Figure size 432x288 with 1 Axes>"
      ]
     },
     "metadata": {
      "needs_background": "light"
     },
     "output_type": "display_data"
    }
   ],
   "source": [
    "ax = clean_data[\"year\"].plot(kind=\"hist\", bins=100, title=\"Number of Ratings on IMDb over Time (Years)\")\n",
    "ax.set_xlabel(\"Time in Years\")\n",
    "ax.set_ylabel(\"Number of Ratings\")"
   ]
  },
  {
   "cell_type": "code",
   "execution_count": 59,
   "id": "neutral-click",
   "metadata": {},
   "outputs": [
    {
     "data": {
      "text/plain": [
       "Text(0, 0.5, 'Number of Ratings')"
      ]
     },
     "execution_count": 59,
     "metadata": {},
     "output_type": "execute_result"
    },
    {
     "data": {
      "image/png": "[encoded data removed]",
      "text/plain": [
       "<Figure size 432x288 with 1 Axes>"
      ]
     },
     "metadata": {
      "needs_background": "light"
     },
     "output_type": "display_data"
    }
   ],
   "source": [
    "ax = clean_data[\"month\"].plot(kind=\"hist\", bins=100, title=\"Number of Ratings on IMDb by Month\")\n",
    "ax.set_xlabel(\"Month\")\n",
    "ax.set_ylabel(\"Number of Ratings\")"
   ]
  },
  {
   "cell_type": "markdown",
   "id": "distributed-branch",
   "metadata": {},
   "source": [
    "Are there some movies that got more duplicate reviews from users?"
   ]
  },
  {
   "cell_type": "code",
   "execution_count": 60,
   "id": "flying-voluntary",
   "metadata": {},
   "outputs": [],
   "source": [
    "duped_ratings = clean_data[clean_data[[\"user\", \"movie\"]].duplicated()]"
   ]
  },
  {
   "cell_type": "code",
   "execution_count": 61,
   "id": "central-worcester",
   "metadata": {},
   "outputs": [
    {
     "data": {
      "text/plain": [
       "tt10350626    379\n",
       "tt7743400     273\n",
       "tt6027920     185\n",
       "tt4154796     140\n",
       "tt7784604     136\n",
       "             ... \n",
       "tt5265980       1\n",
       "tt2408430       1\n",
       "tt5814534       1\n",
       "tt0120257       1\n",
       "tt0266238       1\n",
       "Name: movie, Length: 9075, dtype: int64"
      ]
     },
     "execution_count": 61,
     "metadata": {},
     "output_type": "execute_result"
    }
   ],
   "source": [
    "duped_ratings[\"movie\"].value_counts()"
   ]
  },
  {
   "cell_type": "code",
   "execution_count": 62,
   "id": "biblical-direction",
   "metadata": {},
   "outputs": [
    {
     "data": {
      "text/plain": [
       "(4906, 7)"
      ]
     },
     "execution_count": 62,
     "metadata": {},
     "output_type": "execute_result"
    }
   ],
   "source": [
    "clean_data[clean_data[\"movie\"] == \"tt10350626\"].shape"
   ]
  },
  {
   "cell_type": "markdown",
   "id": "related-precipitation",
   "metadata": {},
   "source": [
    "There is nothing too crazy here. The top is an Indian movie called Gunjan Saxena: The Kargil Girl, with 379 duplicated reviews (that is, reviews from users who have reviewed the movie more than once). This is out of 4906 total reviews. Again, it seems that bots don't have an outsized role in reviews"
   ]
  },
  {
   "cell_type": "markdown",
   "id": "dated-notification",
   "metadata": {},
   "source": [
    "For the sake of curiosity, I want to know the distribution of ratings among our selection of the 3.5K movies with popular reviews."
   ]
  },
  {
   "cell_type": "code",
   "execution_count": 169,
   "id": "unavailable-trunk",
   "metadata": {},
   "outputs": [
    {
     "data": {
      "image/png": "[encoded data removed]",
      "text/plain": [
       "<Figure size 432x288 with 1 Axes>"
      ]
     },
     "metadata": {
      "needs_background": "light"
     },
     "output_type": "display_data"
    }
   ],
   "source": [
    "ax = clean_movies[\"averageRating\"].plot(kind=\"hist\", bins=[i for i in range(11)], title=\"Average Ratings of the 3.5K Most Popular Movies\")\n",
    "ax.set_xlabel(\"Rating\");"
   ]
  },
  {
   "cell_type": "markdown",
   "id": "medium-rescue",
   "metadata": {},
   "source": [
    "I was also curious what the highest and lowest rated movies are:"
   ]
  },
  {
   "cell_type": "code",
   "execution_count": 179,
   "id": "animated-developer",
   "metadata": {},
   "outputs": [
    {
     "data": {
      "text/html": [
       "<div>\n",
       "<style scoped>\n",
       "    .dataframe tbody tr th:only-of-type {\n",
       "        vertical-align: middle;\n",
       "    }\n",
       "\n",
       "    .dataframe tbody tr th {\n",
       "        vertical-align: top;\n",
       "    }\n",
       "\n",
       "    .dataframe thead th {\n",
       "        text-align: right;\n",
       "    }\n",
       "</style>\n",
       "<table border=\"1\" class=\"dataframe\">\n",
       "  <thead>\n",
       "    <tr style=\"text-align: right;\">\n",
       "      <th></th>\n",
       "      <th>averageReview</th>\n",
       "      <th>primaryTitle</th>\n",
       "      <th>startYear</th>\n",
       "      <th>runtimeMinutes</th>\n",
       "      <th>numReviews</th>\n",
       "      <th>tconst</th>\n",
       "      <th>averageRating</th>\n",
       "      <th>numVotes</th>\n",
       "      <th>diffRating</th>\n",
       "      <th>first_review</th>\n",
       "      <th>first_review_month</th>\n",
       "    </tr>\n",
       "  </thead>\n",
       "  <tbody>\n",
       "    <tr>\n",
       "      <th>90901</th>\n",
       "      <td>1.196347</td>\n",
       "      <td>321 Action</td>\n",
       "      <td>2020</td>\n",
       "      <td>100</td>\n",
       "      <td>219</td>\n",
       "      <td>tt13423846</td>\n",
       "      <td>1.0</td>\n",
       "      <td>9376</td>\n",
       "      <td>-0.196347</td>\n",
       "      <td>2020-11-09</td>\n",
       "      <td>11</td>\n",
       "    </tr>\n",
       "    <tr>\n",
       "      <th>131466</th>\n",
       "      <td>1.769671</td>\n",
       "      <td>Sadak 2</td>\n",
       "      <td>2020</td>\n",
       "      <td>133</td>\n",
       "      <td>699</td>\n",
       "      <td>tt7886848</td>\n",
       "      <td>1.1</td>\n",
       "      <td>93196</td>\n",
       "      <td>-0.669671</td>\n",
       "      <td>2020-08-28</td>\n",
       "      <td>8</td>\n",
       "    </tr>\n",
       "    <tr>\n",
       "      <th>134869</th>\n",
       "      <td>1.287982</td>\n",
       "      <td>Hanum &amp; Rangga</td>\n",
       "      <td>2018</td>\n",
       "      <td>90</td>\n",
       "      <td>441</td>\n",
       "      <td>tt9165634</td>\n",
       "      <td>1.2</td>\n",
       "      <td>3530</td>\n",
       "      <td>-0.087982</td>\n",
       "      <td>2018-11-11</td>\n",
       "      <td>11</td>\n",
       "    </tr>\n",
       "    <tr>\n",
       "      <th>115921</th>\n",
       "      <td>3.259494</td>\n",
       "      <td>Kirk Cameron's Saving Christmas</td>\n",
       "      <td>2014</td>\n",
       "      <td>79</td>\n",
       "      <td>158</td>\n",
       "      <td>tt4009460</td>\n",
       "      <td>1.4</td>\n",
       "      <td>15596</td>\n",
       "      <td>-1.859494</td>\n",
       "      <td>2014-11-13</td>\n",
       "      <td>11</td>\n",
       "    </tr>\n",
       "    <tr>\n",
       "      <th>58860</th>\n",
       "      <td>2.237288</td>\n",
       "      <td>Foodfight!</td>\n",
       "      <td>2012</td>\n",
       "      <td>91</td>\n",
       "      <td>118</td>\n",
       "      <td>tt0249516</td>\n",
       "      <td>1.6</td>\n",
       "      <td>10501</td>\n",
       "      <td>-0.637288</td>\n",
       "      <td>2012-06-17</td>\n",
       "      <td>6</td>\n",
       "    </tr>\n",
       "    <tr>\n",
       "      <th>...</th>\n",
       "      <td>...</td>\n",
       "      <td>...</td>\n",
       "      <td>...</td>\n",
       "      <td>...</td>\n",
       "      <td>...</td>\n",
       "      <td>...</td>\n",
       "      <td>...</td>\n",
       "      <td>...</td>\n",
       "      <td>...</td>\n",
       "      <td>...</td>\n",
       "      <td>...</td>\n",
       "    </tr>\n",
       "    <tr>\n",
       "      <th>75352</th>\n",
       "      <td>8.670366</td>\n",
       "      <td>The Dark Knight</td>\n",
       "      <td>2008</td>\n",
       "      <td>152</td>\n",
       "      <td>6668</td>\n",
       "      <td>tt0468569</td>\n",
       "      <td>9.0</td>\n",
       "      <td>2442962</td>\n",
       "      <td>0.329634</td>\n",
       "      <td>2008-07-06</td>\n",
       "      <td>7</td>\n",
       "    </tr>\n",
       "    <tr>\n",
       "      <th>123222</th>\n",
       "      <td>9.761194</td>\n",
       "      <td>That Vitamin Movie</td>\n",
       "      <td>2016</td>\n",
       "      <td>86</td>\n",
       "      <td>268</td>\n",
       "      <td>tt5624252</td>\n",
       "      <td>9.1</td>\n",
       "      <td>954</td>\n",
       "      <td>-0.661194</td>\n",
       "      <td>2017-03-22</td>\n",
       "      <td>3</td>\n",
       "    </tr>\n",
       "    <tr>\n",
       "      <th>82181</th>\n",
       "      <td>9.601365</td>\n",
       "      <td>Soorarai Pottru</td>\n",
       "      <td>2020</td>\n",
       "      <td>153</td>\n",
       "      <td>1465</td>\n",
       "      <td>tt10189514</td>\n",
       "      <td>9.1</td>\n",
       "      <td>99814</td>\n",
       "      <td>-0.501365</td>\n",
       "      <td>2020-11-12</td>\n",
       "      <td>11</td>\n",
       "    </tr>\n",
       "    <tr>\n",
       "      <th>122214</th>\n",
       "      <td>9.213333</td>\n",
       "      <td>Mirror Game</td>\n",
       "      <td>2016</td>\n",
       "      <td>147</td>\n",
       "      <td>150</td>\n",
       "      <td>tt5354160</td>\n",
       "      <td>9.1</td>\n",
       "      <td>25223</td>\n",
       "      <td>-0.113333</td>\n",
       "      <td>2016-09-28</td>\n",
       "      <td>9</td>\n",
       "    </tr>\n",
       "    <tr>\n",
       "      <th>87396</th>\n",
       "      <td>9.728000</td>\n",
       "      <td>Jeeudo</td>\n",
       "      <td>2020</td>\n",
       "      <td>150</td>\n",
       "      <td>125</td>\n",
       "      <td>tt11976170</td>\n",
       "      <td>9.2</td>\n",
       "      <td>166</td>\n",
       "      <td>-0.528000</td>\n",
       "      <td>2020-03-22</td>\n",
       "      <td>3</td>\n",
       "    </tr>\n",
       "  </tbody>\n",
       "</table>\n",
       "<p>3530 rows × 11 columns</p>\n",
       "</div>"
      ],
      "text/plain": [
       "        averageReview                     primaryTitle  startYear  \\\n",
       "90901        1.196347                       321 Action       2020   \n",
       "131466       1.769671                          Sadak 2       2020   \n",
       "134869       1.287982                   Hanum & Rangga       2018   \n",
       "115921       3.259494  Kirk Cameron's Saving Christmas       2014   \n",
       "58860        2.237288                       Foodfight!       2012   \n",
       "...               ...                              ...        ...   \n",
       "75352        8.670366                  The Dark Knight       2008   \n",
       "123222       9.761194               That Vitamin Movie       2016   \n",
       "82181        9.601365                  Soorarai Pottru       2020   \n",
       "122214       9.213333                      Mirror Game       2016   \n",
       "87396        9.728000                           Jeeudo       2020   \n",
       "\n",
       "       runtimeMinutes  numReviews      tconst  averageRating  numVotes  \\\n",
       "90901             100         219  tt13423846            1.0      9376   \n",
       "131466            133         699   tt7886848            1.1     93196   \n",
       "134869             90         441   tt9165634            1.2      3530   \n",
       "115921             79         158   tt4009460            1.4     15596   \n",
       "58860              91         118   tt0249516            1.6     10501   \n",
       "...               ...         ...         ...            ...       ...   \n",
       "75352             152        6668   tt0468569            9.0   2442962   \n",
       "123222             86         268   tt5624252            9.1       954   \n",
       "82181             153        1465  tt10189514            9.1     99814   \n",
       "122214            147         150   tt5354160            9.1     25223   \n",
       "87396             150         125  tt11976170            9.2       166   \n",
       "\n",
       "        diffRating first_review  first_review_month  \n",
       "90901    -0.196347   2020-11-09                  11  \n",
       "131466   -0.669671   2020-08-28                   8  \n",
       "134869   -0.087982   2018-11-11                  11  \n",
       "115921   -1.859494   2014-11-13                  11  \n",
       "58860    -0.637288   2012-06-17                   6  \n",
       "...            ...          ...                 ...  \n",
       "75352     0.329634   2008-07-06                   7  \n",
       "123222   -0.661194   2017-03-22                   3  \n",
       "82181    -0.501365   2020-11-12                  11  \n",
       "122214   -0.113333   2016-09-28                   9  \n",
       "87396    -0.528000   2020-03-22                   3  \n",
       "\n",
       "[3530 rows x 11 columns]"
      ]
     },
     "execution_count": 179,
     "metadata": {},
     "output_type": "execute_result"
    }
   ],
   "source": [
    "clean_movies.sort_values(\"averageRating\")"
   ]
  },
  {
   "cell_type": "markdown",
   "id": "tough-cambridge",
   "metadata": {},
   "source": [
    "How are number of reviews distributed over the months following release? Clearly there is a steep decline in the number of reviews as time wears on."
   ]
  },
  {
   "cell_type": "code",
   "execution_count": 203,
   "id": "facial-masters",
   "metadata": {},
   "outputs": [
    {
     "data": {
      "image/png": "[encoded data removed]",
      "text/plain": [
       "<Figure size 432x288 with 1 Axes>"
      ]
     },
     "metadata": {
      "needs_background": "light"
     },
     "output_type": "display_data"
    }
   ],
   "source": [
    "panel[panel[\"first_review_month_offset\"] <= 6].groupby(\"first_review_month_offset\")[\"num_reviews\"].mean().plot(title=\"Mean Number of Reviews Over First Six Months Following Release\", ylabel=\"Mean Number of Reviews\");"
   ]
  },
  {
   "cell_type": "markdown",
   "id": "growing-entertainment",
   "metadata": {},
   "source": [
    "Question: would our results change much if we group the first and second months together? (if the first month sometimes has very few data points due to movies being released near the end of the month, doing this would give more precise estimates)"
   ]
  }
 ],
 "metadata": {
  "kernelspec": {
   "display_name": "Python 3",
   "language": "python",
   "name": "python3"
  },
  "language_info": {
   "codemirror_mode": {
    "name": "ipython",
    "version": 3
   },
   "file_extension": ".py",
   "mimetype": "text/x-python",
   "name": "python",
   "nbconvert_exporter": "python",
   "pygments_lexer": "ipython3",
   "version": "3.8.5"
  }
 },
 "nbformat": 4,
 "nbformat_minor": 5
}
